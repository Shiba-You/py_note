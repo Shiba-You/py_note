{
 "cells": [
  {
   "cell_type": "code",
   "execution_count": null,
   "metadata": {},
   "outputs": [],
   "source": [
    "# 入力処理\n",
    "def init():\n",
    "  A, B, N = list(map(int, input().split()))\n",
    "  P = [0 if i == \"G\" else int(i) for i in list(input().split())]\n",
    "  S = 0\n",
    "  return A, B, N, P, S\n",
    "\n",
    "def init_test():\n",
    "  A, B, N = 10, 10, 18\n",
    "  P = [3, 4, 0, 1, 8, 2, 6, 2, 10, 2, 7, 0, 10, 10, 10, 9, 1, 3]\n",
    "  S = 0\n",
    "  return A, B, N, P, S\n",
    "\n",
    "# スコア計算\n",
    "def game(B, P, S):\n",
    "  i = -1\n",
    "  flag = 0\n",
    "  # 各フレーム1投目は，0(mod2)\n",
    "  for idx, p in enumerate(P):\n",
    "    i += 1\n",
    "    # ストライク時\n",
    "    if i % 2 == 0:\n",
    "      if p == B and not(idx == len(P)):\n",
    "        S += P[idx+1] + P[idx+2]\n",
    "        i += 1  \n",
    "      # 最初の投球\n",
    "      elif i % 2 == 0:\n",
    "        pre = p\n",
    "    # 2回目の投球でスペアが出たとき\n",
    "    elif pre + p == B and i % 2 == 1:\n",
    "      S += P[idx+1]\n",
    "    # 普通の投球\n",
    "    S += p\n",
    "  return S\n",
    "\n",
    "# 主要関数\n",
    "def main():\n",
    "  A, B, N, P, S = init()\n",
    "  # A, B, N, P, S = init_test()\n",
    "  S = game(B, P, S)\n",
    "  print(S)\n",
    "\n",
    "\n",
    "if __name__ == '__main__':\n",
    "  main()"
   ]
  }
 ],
 "metadata": {
  "interpreter": {
   "hash": "52ce370d13d9f3e7fec0c208e08f00abccec8be27c64f36722ecec456d801487"
  },
  "kernelspec": {
   "display_name": "Python 3.8.6 64-bit ('.venv_pn': venv)",
   "name": "python3"
  },
  "language_info": {
   "name": "python",
   "version": "3.8.6"
  },
  "orig_nbformat": 4
 },
 "nbformat": 4,
 "nbformat_minor": 2
}
