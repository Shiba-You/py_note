{
 "cells": [
  {
   "cell_type": "code",
   "execution_count": 1,
   "metadata": {
    "tags": []
   },
   "outputs": [
    {
     "output_type": "stream",
     "name": "stdout",
     "text": "1884\n"
    }
   ],
   "source": [
    "a = int(input())\n",
    "print(a + a**2 + a**3)"
   ]
  },
  {
   "cell_type": "code",
   "execution_count": 7,
   "metadata": {
    "tags": []
   },
   "outputs": [
    {
     "output_type": "stream",
     "name": "stdout",
     "text": "0\n"
    }
   ],
   "source": [
    "S = input()\n",
    "T = input()\n",
    "ans = 0\n",
    "for s,t in zip(S, T):\n",
    "    if s == t:\n",
    "        continue\n",
    "    else:\n",
    "        ans += 1\n",
    "print(ans)"
   ]
  },
  {
   "cell_type": "code",
   "execution_count": 28,
   "metadata": {
    "tags": []
   },
   "outputs": [
    {
     "output_type": "stream",
     "name": "stdout",
     "text": "[1000000000, 1000000000, 1000000000, 1000000000, 1000000000] [1000000000, 1000000000, 1000000000, 1000000000, 1000000000]\nk: 1000000000, K: 1, k > K :True, ans: 1\n0\n"
    }
   ],
   "source": [
    "N, M, K = list(map(int, input().split()))\n",
    "A = list(map(int, input().split()))\n",
    "B = list(map(int, input().split()))\n",
    "k = 0\n",
    "ans = 0\n",
    "\n",
    "while True:\n",
    "    print(A, B)\n",
    "    if B == []:\n",
    "        k += A[0]\n",
    "        A.pop(0)\n",
    "    elif A == []:\n",
    "        k += B[0]\n",
    "        B.pop(0)\n",
    "    else:\n",
    "        if A[0] <= B[0]:\n",
    "            k += A[0]\n",
    "            A.pop(0)\n",
    "        elif B[0] <= A[0]:\n",
    "            k += B[0]\n",
    "            B.pop(0)\n",
    "    ans += 1\n",
    "    print(\"k: {0}, K: {1}, k > K :{2}, ans: {3}\".format(k, K, k > K, ans))\n",
    "    if k > K:\n",
    "        ans -= 1\n",
    "        break\n",
    "    elif k == K or (A == [] and B == []):\n",
    "        break\n",
    "print(ans)"
   ]
  },
  {
   "cell_type": "code",
   "execution_count": 35,
   "metadata": {
    "tags": []
   },
   "outputs": [
    {
     "output_type": "stream",
     "name": "stdout",
     "text": "[60, 90, 120]\n[0, 60, 0, 0]\n[0, 60, 150, 0]\n[0, 60, 150, 270]\n[80, 150, 80, 150]\n[0, 80, 0, 0, 0]\n[0, 80, 230, 0, 0]\n[0, 80, 230, 310, 0]\n[0, 80, 230, 310, 460]\ni: 0, j: 4\ni: 0, j: 3\ni: 1, j: 2\n3\n"
    }
   ],
   "source": [
    "n, m, k = map(int, input().split())\n",
    "a = [int(x) for x in input().split()]\n",
    "b = [int(x) for x in input().split()]\n",
    "\n",
    "acum = [0] * (n + 1)\n",
    "bcum = [0] * (m + 1)\n",
    "# print(a)\n",
    "for i in range(n):\n",
    "    acum[i + 1] = acum[i] + a[i]\n",
    "    # print(acum)\n",
    "\n",
    "# print(b)\n",
    "for j in range(m):\n",
    "    bcum[j + 1] = bcum[j] + b[j]\n",
    "    # print(bcum)\n",
    "\n",
    "max_ans = 0\n",
    "j = m\n",
    "for i in range(n + 1):\n",
    "    if acum[i] > k:\n",
    "        # print(\"break\")\n",
    "        break\n",
    "    while acum[i] + bcum[j] > k:\n",
    "        # print(\"i: {0}, j: {1}\".format(i, j))\n",
    "        j -= 1\n",
    "    max_ans = max(max_ans, i + j)\n",
    "\n",
    "print(max_ans)"
   ]
  },
  {
   "cell_type": "code",
   "execution_count": 54,
   "metadata": {
    "tags": []
   },
   "outputs": [
    {
     "output_type": "stream",
     "name": "stdout",
     "text": "1 1\n2 2\n3 2\n4 3\n5 2\n6 4\n7 2\n8 4\n9 3\n10 4\n11 2\n12 6\n13 2\n14 4\n15 4\n16 5\n17 2\n18 6\n19 2\n20 6\n21 4\n22 4\n23 2\n24 8\n25 3\n26 4\n27 4\n28 6\n29 2\n30 8\n31 2\n32 6\n33 4\n34 4\n35 4\n36 9\n37 2\n38 4\n39 4\n40 8\n41 2\n42 8\n43 2\n44 6\n45 6\n46 4\n47 2\n48 10\n49 3\n50 6\n51 4\n52 6\n53 2\n54 8\n55 4\n56 8\n57 4\n58 4\n59 2\n60 12\n61 2\n62 4\n63 6\n64 7\n65 4\n66 8\n67 2\n68 6\n69 4\n70 8\n71 2\n72 12\n73 2\n74 4\n75 6\n76 6\n77 4\n78 8\n79 2\n80 10\n81 5\n82 4\n83 2\n84 12\n85 4\n86 4\n87 4\n88 8\n89 2\n90 12\n91 4\n92 6\n93 4\n94 4\n95 4\n96 12\n97 2\n98 6\n99 6\n100 9\n26879\n"
    }
   ],
   "source": [
    "N = int(input())\n",
    "\n",
    "def make_divisors(n):\n",
    "    lower_divisors , upper_divisors = [], []\n",
    "    i = 1\n",
    "    while i*i <= n:\n",
    "        if n % i == 0:\n",
    "            lower_divisors.append(i)\n",
    "            if i != n // i:\n",
    "                upper_divisors.append(n//i)\n",
    "        i += 1\n",
    "    return len(lower_divisors + upper_divisors[::-1])\n",
    "\n",
    "ans = 0\n",
    "for i in range(1, N+1):\n",
    "    # print(i , make_divisors(i))\n",
    "    ans += i * make_divisors(i)\n",
    "print(ans)"
   ]
  },
  {
   "cell_type": "code",
   "execution_count": 13,
   "metadata": {
    "tags": []
   },
   "outputs": [
    {
     "output_type": "error",
     "ename": "KeyboardInterrupt",
     "evalue": "",
     "traceback": [
      "\u001b[0;31m---------------------------------------------------------------------------\u001b[0m",
      "\u001b[0;31mKeyboardInterrupt\u001b[0m                         Traceback (most recent call last)",
      "\u001b[0;32m<ipython-input-13-624c37e1b09f>\u001b[0m in \u001b[0;36m<module>\u001b[0;34m\u001b[0m\n\u001b[1;32m      4\u001b[0m \u001b[0mans\u001b[0m \u001b[0;34m=\u001b[0m \u001b[0;36m0\u001b[0m\u001b[0;34m\u001b[0m\u001b[0;34m\u001b[0m\u001b[0m\n\u001b[1;32m      5\u001b[0m \u001b[0;32mfor\u001b[0m \u001b[0mi\u001b[0m \u001b[0;32min\u001b[0m \u001b[0mrange\u001b[0m\u001b[0;34m(\u001b[0m\u001b[0;36m1\u001b[0m\u001b[0;34m,\u001b[0m \u001b[0mK\u001b[0m\u001b[0;34m+\u001b[0m\u001b[0;36m1\u001b[0m\u001b[0;34m)\u001b[0m\u001b[0;34m:\u001b[0m\u001b[0;34m\u001b[0m\u001b[0;34m\u001b[0m\u001b[0m\n\u001b[0;32m----> 6\u001b[0;31m     \u001b[0mans\u001b[0m \u001b[0;34m+=\u001b[0m \u001b[0mi\u001b[0m \u001b[0;34m*\u001b[0m \u001b[0msympy\u001b[0m\u001b[0;34m.\u001b[0m\u001b[0mdivisor_count\u001b[0m\u001b[0;34m(\u001b[0m\u001b[0mi\u001b[0m\u001b[0;34m)\u001b[0m\u001b[0;34m\u001b[0m\u001b[0;34m\u001b[0m\u001b[0m\n\u001b[0m\u001b[1;32m      7\u001b[0m \u001b[0mprint\u001b[0m\u001b[0;34m(\u001b[0m\u001b[0mans\u001b[0m\u001b[0;34m)\u001b[0m\u001b[0;34m\u001b[0m\u001b[0;34m\u001b[0m\u001b[0m\n",
      "\u001b[0;32m~/Pythos_Notes/venv/lib/python3.7/site-packages/sympy/ntheory/factor_.py\u001b[0m in \u001b[0;36mdivisor_count\u001b[0;34m(n, modulus, proper)\u001b[0m\n\u001b[1;32m   1598\u001b[0m     \u001b[0;32mif\u001b[0m \u001b[0mn\u001b[0m \u001b[0;34m==\u001b[0m \u001b[0;36m0\u001b[0m\u001b[0;34m:\u001b[0m\u001b[0;34m\u001b[0m\u001b[0;34m\u001b[0m\u001b[0m\n\u001b[1;32m   1599\u001b[0m         \u001b[0;32mreturn\u001b[0m \u001b[0;36m0\u001b[0m\u001b[0;34m\u001b[0m\u001b[0;34m\u001b[0m\u001b[0m\n\u001b[0;32m-> 1600\u001b[0;31m     \u001b[0mn\u001b[0m \u001b[0;34m=\u001b[0m \u001b[0mMul\u001b[0m\u001b[0;34m(\u001b[0m\u001b[0;34m*\u001b[0m\u001b[0;34m[\u001b[0m\u001b[0mv\u001b[0m \u001b[0;34m+\u001b[0m \u001b[0;36m1\u001b[0m \u001b[0;32mfor\u001b[0m \u001b[0mk\u001b[0m\u001b[0;34m,\u001b[0m \u001b[0mv\u001b[0m \u001b[0;32min\u001b[0m \u001b[0mfactorint\u001b[0m\u001b[0;34m(\u001b[0m\u001b[0mn\u001b[0m\u001b[0;34m)\u001b[0m\u001b[0;34m.\u001b[0m\u001b[0mitems\u001b[0m\u001b[0;34m(\u001b[0m\u001b[0;34m)\u001b[0m \u001b[0;32mif\u001b[0m \u001b[0mk\u001b[0m \u001b[0;34m>\u001b[0m \u001b[0;36m1\u001b[0m\u001b[0;34m]\u001b[0m\u001b[0;34m)\u001b[0m\u001b[0;34m\u001b[0m\u001b[0;34m\u001b[0m\u001b[0m\n\u001b[0m\u001b[1;32m   1601\u001b[0m     \u001b[0;32mif\u001b[0m \u001b[0mn\u001b[0m \u001b[0;32mand\u001b[0m \u001b[0mproper\u001b[0m\u001b[0;34m:\u001b[0m\u001b[0;34m\u001b[0m\u001b[0;34m\u001b[0m\u001b[0m\n\u001b[1;32m   1602\u001b[0m         \u001b[0mn\u001b[0m \u001b[0;34m-=\u001b[0m \u001b[0;36m1\u001b[0m\u001b[0;34m\u001b[0m\u001b[0;34m\u001b[0m\u001b[0m\n",
      "\u001b[0;32m~/Pythos_Notes/venv/lib/python3.7/site-packages/sympy/ntheory/factor_.py\u001b[0m in \u001b[0;36mfactorint\u001b[0;34m(n, limit, use_trial, use_rho, use_pm1, verbose, visual, multiple)\u001b[0m\n\u001b[1;32m   1238\u001b[0m         \u001b[0;32mif\u001b[0m \u001b[0mverbose\u001b[0m\u001b[0;34m:\u001b[0m\u001b[0;34m\u001b[0m\u001b[0;34m\u001b[0m\u001b[0m\n\u001b[1;32m   1239\u001b[0m             \u001b[0mprint\u001b[0m\u001b[0;34m(\u001b[0m\u001b[0mtrial_int_msg\u001b[0m \u001b[0;34m%\u001b[0m \u001b[0;34m(\u001b[0m\u001b[0;36m2\u001b[0m\u001b[0;34m,\u001b[0m \u001b[0msmall\u001b[0m\u001b[0;34m,\u001b[0m \u001b[0mfail_max\u001b[0m\u001b[0;34m)\u001b[0m\u001b[0;34m)\u001b[0m\u001b[0;34m\u001b[0m\u001b[0;34m\u001b[0m\u001b[0m\n\u001b[0;32m-> 1240\u001b[0;31m         \u001b[0mn\u001b[0m\u001b[0;34m,\u001b[0m \u001b[0mnext_p\u001b[0m \u001b[0;34m=\u001b[0m \u001b[0m_factorint_small\u001b[0m\u001b[0;34m(\u001b[0m\u001b[0mfactors\u001b[0m\u001b[0;34m,\u001b[0m \u001b[0mn\u001b[0m\u001b[0;34m,\u001b[0m \u001b[0msmall\u001b[0m\u001b[0;34m,\u001b[0m \u001b[0mfail_max\u001b[0m\u001b[0;34m)\u001b[0m\u001b[0;34m\u001b[0m\u001b[0;34m\u001b[0m\u001b[0m\n\u001b[0m\u001b[1;32m   1241\u001b[0m     \u001b[0;32melse\u001b[0m\u001b[0;34m:\u001b[0m\u001b[0;34m\u001b[0m\u001b[0;34m\u001b[0m\u001b[0m\n\u001b[1;32m   1242\u001b[0m         \u001b[0mnext_p\u001b[0m \u001b[0;34m=\u001b[0m \u001b[0;36m2\u001b[0m\u001b[0;34m\u001b[0m\u001b[0;34m\u001b[0m\u001b[0m\n",
      "\u001b[0;32m~/Pythos_Notes/venv/lib/python3.7/site-packages/sympy/ntheory/factor_.py\u001b[0m in \u001b[0;36m_factorint_small\u001b[0;34m(factors, n, limit, fail_max)\u001b[0m\n\u001b[1;32m    929\u001b[0m     \u001b[0mfails\u001b[0m \u001b[0;34m=\u001b[0m \u001b[0;36m0\u001b[0m\u001b[0;34m\u001b[0m\u001b[0;34m\u001b[0m\u001b[0m\n\u001b[1;32m    930\u001b[0m     \u001b[0;32mwhile\u001b[0m \u001b[0mfails\u001b[0m \u001b[0;34m<\u001b[0m \u001b[0mfail_max\u001b[0m\u001b[0;34m:\u001b[0m\u001b[0;34m\u001b[0m\u001b[0;34m\u001b[0m\u001b[0m\n\u001b[0;32m--> 931\u001b[0;31m         \u001b[0;32mif\u001b[0m \u001b[0md\u001b[0m\u001b[0;34m*\u001b[0m\u001b[0md\u001b[0m \u001b[0;34m>\u001b[0m \u001b[0mdd\u001b[0m\u001b[0;34m:\u001b[0m\u001b[0;34m\u001b[0m\u001b[0;34m\u001b[0m\u001b[0m\n\u001b[0m\u001b[1;32m    932\u001b[0m             \u001b[0;32mbreak\u001b[0m\u001b[0;34m\u001b[0m\u001b[0;34m\u001b[0m\u001b[0m\n\u001b[1;32m    933\u001b[0m         \u001b[0;31m# d = 6*i - 1\u001b[0m\u001b[0;34m\u001b[0m\u001b[0;34m\u001b[0m\u001b[0;34m\u001b[0m\u001b[0m\n",
      "\u001b[0;31mKeyboardInterrupt\u001b[0m: "
     ]
    }
   ],
   "source": [
    "import sympy\n",
    "\n",
    "K = int(input())\n",
    "ans = 0\n",
    "for i in range(1, K+1):\n",
    "    ans += i * sympy.divisor_count(i)\n",
    "print(ans)"
   ]
  },
  {
   "cell_type": "code",
   "execution_count": 14,
   "metadata": {
    "tags": []
   },
   "outputs": [
    {
     "output_type": "stream",
     "name": "stdout",
     "text": "**** i:  1\ny:  4\ns:  10\nres:  10\n**** i:  2\ny:  2\ns:  3\nres:  16\n**** i:  3\ny:  1\ns:  1\nres:  19\n**** i:  4\ny:  1\ns:  1\nres:  23\n23\n"
    }
   ],
   "source": [
    "N = int(input())\n",
    " \n",
    "res = 0\n",
    "for i in range(1,N+1):\n",
    "    print(\"**** i: \",i)\n",
    "    y = N // i\n",
    "    print(\"y: \", y)\n",
    "    s = y * (y+1) // 2\n",
    "    print(\"s: \", s)\n",
    "    res += s * i\n",
    "    print(\"res: \", res)\n",
    " \n",
    "print(res)"
   ]
  }
 ],
 "metadata": {
  "language_info": {
   "codemirror_mode": {
    "name": "ipython",
    "version": 3
   },
   "file_extension": ".py",
   "mimetype": "text/x-python",
   "name": "python",
   "nbconvert_exporter": "python",
   "pygments_lexer": "ipython3",
   "version": "3.7.3-final"
  },
  "orig_nbformat": 2,
  "kernelspec": {
   "name": "python37364bitbc5cd0ee8a024af2b9473cdcdb65b71b",
   "display_name": "Python 3.7.3 64-bit"
  }
 },
 "nbformat": 4,
 "nbformat_minor": 2
}