{
 "cells": [
  {
   "cell_type": "code",
   "execution_count": 3,
   "metadata": {
    "tags": []
   },
   "outputs": [
    {
     "output_type": "stream",
     "name": "stdout",
     "text": "a\n"
    }
   ],
   "source": [
    "alfa = input()\n",
    "if alfa.isupper() == True:\n",
    "    print(\"A\")\n",
    "elif alfa.islower() ==  True:\n",
    "    print(\"a\")"
   ]
  },
  {
   "cell_type": "code",
   "execution_count": 20,
   "metadata": {
    "tags": []
   },
   "outputs": [
    {
     "output_type": "stream",
     "name": "stdout",
     "text": "3\n50\n80\n80\n210\n"
    }
   ],
   "source": [
    "k_n = list(map(int, input().split()))\n",
    "p = list(map(int, input().split()))\n",
    "p = sorted(p, reverse=False)\n",
    "sum = 0\n",
    "for i in range(k_n[1]):\n",
    "    sum += p[i]\n",
    "print(sum)"
   ]
  },
  {
   "cell_type": "code",
   "execution_count": 31,
   "metadata": {
    "tags": []
   },
   "outputs": [
    {
     "output_type": "stream",
     "name": "stdout",
     "text": "aa\n"
    }
   ],
   "source": [
    "N = int(input())\n",
    "chars = \"Xabcdefghijklmnopqrstuvwxyz\"\n",
    "ans = \"\"\n",
    "while True:\n",
    "    la = N // 26\n",
    "    sm = N % 26\n",
    "    if sm == 0:\n",
    "        sm = 26\n",
    "        la -= 1\n",
    "    ans += chars[sm]\n",
    "    N = la\n",
    "    if N < 1:\n",
    "        break\n",
    "print(ans[::-1])"
   ]
  },
  {
   "cell_type": "code",
   "execution_count": 59,
   "metadata": {
    "tags": []
   },
   "outputs": [
    {
     "output_type": "stream",
     "name": "stdout",
     "text": "['2', '2', '3', '4']\n11\n['3', '3', '3', '4']\n13\n['4', '4', '4', '4']\n16\n"
    }
   ],
   "source": [
    "N = int(input())\n",
    "A = input().split()\n",
    "Q = int(input())\n",
    "b_c = [input().split() for i in range(Q)]\n",
    "\n",
    "for i in range(Q):\n",
    "    sum = 0\n",
    "    A = [j.replace(b_c[i][0], b_c[i][1]) for j in A]\n",
    "    for j in range(len(A)):\n",
    "        sum += int(A[j])\n",
    "    print(sum)"
   ]
  },
  {
   "cell_type": "code",
   "execution_count": 103,
   "metadata": {
    "tags": []
   },
   "outputs": [
    {
     "output_type": "stream",
     "name": "stdout",
     "text": "11\n13\n16\n"
    }
   ],
   "source": [
    "from collections import Counter\n",
    "\n",
    "N = int(input())\n",
    "A = list(map(int, input().split()))\n",
    "Q = int(input())\n",
    "b_c = [list(map(int, input().split())) for i in range(Q)]\n",
    "\n",
    "ans = sum(A)\n",
    "l = Counter(A)\n",
    "for i in range(Q):\n",
    "    ans += l[b_c[i][0]] * (b_c[i][1] - b_c[i][0])\n",
    "    l[b_c[i][1]] += l[b_c[i][0]]\n",
    "    l[b_c[i][0]] = 0\n",
    "    print(ans)"
   ]
  },
  {
   "cell_type": "code",
   "execution_count": 105,
   "metadata": {
    "tags": []
   },
   "outputs": [
    {
     "output_type": "stream",
     "name": "stdout",
     "text": "繰り返し\n3\n3\n繰り返し\n5\n6\n繰り返し\n8\n14\n[13]\n[13, 11]\n[13, 11, 6]\n13 11 6\n"
    }
   ],
   "source": [
    "n = int(input())\n",
    "a = list(map(int,input().split()))\n",
    "S = 0\n",
    " \n",
    "for i in a:\n",
    "  S = S^i\n",
    "  print(\"繰り返し\")\n",
    "  print(i)\n",
    "  print(S)\n",
    "  \n",
    "ans = []\n",
    " \n",
    "for i in a:\n",
    "  ans.append(S^i)\n",
    "  print(ans)\n",
    "  \n",
    "print(*ans)"
   ]
  }
 ],
 "metadata": {
  "language_info": {
   "codemirror_mode": {
    "name": "ipython",
    "version": 3
   },
   "file_extension": ".py",
   "mimetype": "text/x-python",
   "name": "python",
   "nbconvert_exporter": "python",
   "pygments_lexer": "ipython3",
   "version": "3.7.3-final"
  },
  "orig_nbformat": 2,
  "kernelspec": {
   "name": "python37364bitbc5cd0ee8a024af2b9473cdcdb65b71b",
   "display_name": "Python 3.7.3 64-bit"
  }
 },
 "nbformat": 4,
 "nbformat_minor": 2
}