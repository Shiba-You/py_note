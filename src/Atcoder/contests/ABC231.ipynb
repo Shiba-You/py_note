{
 "cells": [
  {
   "cell_type": "markdown",
   "metadata": {},
   "source": [
    "## A"
   ]
  },
  {
   "cell_type": "markdown",
   "metadata": {},
   "source": [
    "水圧は水深のみに依存し、水深 x [m] の場所では  \n",
    "x/100[MPa] になるものとします。\n",
    "水深 D [m] の場所の水圧は何 [MPa] ですか？"
   ]
  },
  {
   "cell_type": "markdown",
   "metadata": {},
   "source": [
    "Ex1:\n",
    "Input: 1000\n",
    "Output: 10\n",
    "\n",
    "Ex2:\n",
    "Input: 50\n",
    "Output: 0.5\n",
    "\n",
    "Ex3:\n",
    "Input: 3141\n",
    "Output: 31.41"
   ]
  },
  {
   "cell_type": "code",
   "execution_count": null,
   "metadata": {},
   "outputs": [],
   "source": [
    "def calc_pressure():\n",
    "  d = int(input())\n",
    "  print(d/100)\n",
    "\n",
    "\n",
    "if __name__ == \"__main__\":\n",
    "  calc_pressure()"
   ]
  },
  {
   "cell_type": "markdown",
   "metadata": {},
   "source": [
    "## B"
   ]
  },
  {
   "cell_type": "markdown",
   "metadata": {},
   "source": [
    "選挙が行われています。\n",
    "N 人が投票を行い、i(1≤i≤N) 番目の人は S_iという名前の候補者に投票しました。\n",
    "得票数が最大の候補者の名前を答えてください。なお、与えられる入力では得票数が最大の候補者は一意に定まります。"
   ]
  },
  {
   "cell_type": "markdown",
   "metadata": {},
   "source": [
    "Ex1:\n",
    "Input:  5\n",
    "        snuke\n",
    "        snuke\n",
    "        takahashi\n",
    "        takahashi\n",
    "        takahashi\n",
    "Output: takahashi\n",
    "\n",
    "Ex2:\n",
    "Input:  5\n",
    "        takahashi\n",
    "        takahashi\n",
    "        aoki\n",
    "        takahashi\n",
    "        snuke\n",
    "Output: takahashi\n",
    "\n",
    "Ex3:\n",
    "Input:  1\n",
    "        a\n",
    "Output: a"
   ]
  },
  {
   "cell_type": "code",
   "execution_count": 11,
   "metadata": {},
   "outputs": [
    {
     "name": "stdout",
     "output_type": "stream",
     "text": [
      "b\n"
     ]
    }
   ],
   "source": [
    "from collections import defaultdict\n",
    "def selection():\n",
    "  d = defaultdict(int)\n",
    "  ans_val, ans = 0, \"\"\n",
    "  n = int(input())\n",
    "  for _ in range(n):\n",
    "    s = input()\n",
    "    if d[s] is None:\n",
    "      d[s] = 1\n",
    "    else:\n",
    "      d[s] += 1\n",
    "  for key, val in d.items():\n",
    "    if ans_val < val:\n",
    "      ans_val = val\n",
    "      ans = key\n",
    "  print(ans)\n",
    "\n",
    "if __name__ == \"__main__\":\n",
    "  selection()"
   ]
  },
  {
   "cell_type": "markdown",
   "metadata": {},
   "source": [
    "## C"
   ]
  },
  {
   "cell_type": "markdown",
   "metadata": {},
   "source": [
    "N 人の生徒からなるクラスがあり、i(1≤i≤N) 番目の生徒の身長は A_iです。\n",
    "j=1,2,…,Q について、以下の質問に答えてください。\n",
    "\n",
    "N 人のうち、身長が x_j 以上の生徒は何人か？"
   ]
  },
  {
   "cell_type": "markdown",
   "metadata": {},
   "source": [
    "Ex1:\n",
    "Input:  3 1\n",
    "        100 160 130\n",
    "        120\n",
    "Output: 2\n",
    "\n",
    "Ex2:\n",
    "Input:  5 5\n",
    "        1 2 3 4 5\n",
    "        6\n",
    "        5\n",
    "        4\n",
    "        3\n",
    "        2\n",
    "OutPut: 0\n",
    "        1\n",
    "        2\n",
    "        3\n",
    "        4\n",
    "\n",
    "Ex3:\n",
    "Input:  5 5\n",
    "        804289384 846930887 681692778 714636916 957747794\n",
    "        424238336\n",
    "        719885387\n",
    "        649760493\n",
    "        596516650\n",
    "        189641422\n",
    "OutPut: 5\n",
    "        3\n",
    "        5\n",
    "        5\n",
    "        5"
   ]
  },
  {
   "cell_type": "code",
   "execution_count": 40,
   "metadata": {},
   "outputs": [
    {
     "name": "stdout",
     "output_type": "stream",
     "text": [
      "1\n"
     ]
    }
   ],
   "source": [
    "def init():\n",
    "  n, q = list(map(int, input().split()))\n",
    "  a = sorted(list(map(int, input().split())))\n",
    "  return q, a\n",
    "\n",
    "def judge_heihgt(a):\n",
    "  target = int(input())\n",
    "  l  = 0\n",
    "  r = len(a)\n",
    "  while l < r:\n",
    "    mid = (l + r)//2\n",
    "    guess = a[mid]\n",
    "    if guess == target:\n",
    "      while mid+1<len(a) and a[mid] == a[mid+1]:\n",
    "        mid += 1\n",
    "      return len(a) - mid\n",
    "    elif guess < target:\n",
    "      l = mid + 1\n",
    "    elif guess > target:\n",
    "      r = mid\n",
    "  return len(a) - l\n",
    "\n",
    "if __name__ == \"__main__\":\n",
    "  q, a = init()\n",
    "  for _ in range(q):\n",
    "    print(judge_heihgt(a))"
   ]
  },
  {
   "cell_type": "markdown",
   "metadata": {},
   "source": [
    "## D"
   ]
  },
  {
   "cell_type": "markdown",
   "metadata": {},
   "source": [
    "1 から N の番号がついた N 人を横一列に並べる方法のうち、以下の形式の M 個の条件全てを満たすものが存在するか判定してください。\n",
    "条件：人 A_iと人 B_iは隣り合っている"
   ]
  },
  {
   "cell_type": "markdown",
   "metadata": {},
   "source": [
    "Ex1:\n",
    "Input:  4 2\n",
    "        1 3\n",
    "        2 3\n",
    "Output: Yes\n",
    "\n",
    "Ex2:\n",
    "Input:  4 3\n",
    "        1 4\n",
    "        2 4\n",
    "        3 4\n",
    "Output: No"
   ]
  },
  {
   "cell_type": "code",
   "execution_count": null,
   "metadata": {},
   "outputs": [],
   "source": [
    "from collections import defaultdict\n",
    "def permutation():\n",
    "  n, m = list(map(int, input().split()))\n",
    "  d = defaultdict(int)\n",
    "  for i in range(m):\n",
    "    a, b = list(map(int, input().split()))\n",
    "    d[a] += 1; d[b] += 1\n",
    "    if d[a] > 2 or d[b] > 2:\n",
    "      print(\"No\")\n",
    "      break\n",
    "  print(\"Yes\")\n",
    "\n",
    "if __name__ == \"__main__\":\n",
    "  permutation()"
   ]
  }
 ],
 "metadata": {
  "interpreter": {
   "hash": "52ce370d13d9f3e7fec0c208e08f00abccec8be27c64f36722ecec456d801487"
  },
  "kernelspec": {
   "display_name": "Python 3.8.6 64-bit ('.venv_pn': venv)",
   "language": "python",
   "name": "python3"
  },
  "language_info": {
   "codemirror_mode": {
    "name": "ipython",
    "version": 3
   },
   "file_extension": ".py",
   "mimetype": "text/x-python",
   "name": "python",
   "nbconvert_exporter": "python",
   "pygments_lexer": "ipython3",
   "version": "3.8.6"
  },
  "orig_nbformat": 4
 },
 "nbformat": 4,
 "nbformat_minor": 2
}
