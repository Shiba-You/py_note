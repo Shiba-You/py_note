{
 "metadata": {
  "language_info": {
   "codemirror_mode": {
    "name": "ipython",
    "version": 3
   },
   "file_extension": ".py",
   "mimetype": "text/x-python",
   "name": "python",
   "nbconvert_exporter": "python",
   "pygments_lexer": "ipython3",
   "version": "3.7.5-final"
  },
  "orig_nbformat": 2,
  "kernelspec": {
   "name": "Python 3.7.5 64-bit ('venv')",
   "display_name": "Python 3.7.5 64-bit ('venv')",
   "metadata": {
    "interpreter": {
     "hash": "d3b549a90ff13e3bcd0a177f150ee978495834378fc9eb8a6b56d4b4e90fd3a7"
    }
   }
  }
 },
 "nbformat": 4,
 "nbformat_minor": 2,
 "cells": [
  {
   "cell_type": "code",
   "execution_count": 6,
   "metadata": {
    "tags": []
   },
   "outputs": [
    {
     "output_type": "stream",
     "name": "stdout",
     "text": "ACLACLACL\n"
    }
   ],
   "source": [
    "K = int(input())\n",
    "s = \"\"\n",
    "for _ in range(K):\n",
    "    s += \"ACL\" \n",
    "print(s)"
   ]
  },
  {
   "cell_type": "code",
   "execution_count": 5,
   "metadata": {
    "tags": []
   },
   "outputs": [
    {
     "output_type": "stream",
     "name": "stdout",
     "text": "Yes1\n"
    }
   ],
   "source": [
    "A, B, C, D = list(map(int, input().split()))\n",
    "\n",
    "if (A <= D) and (C <= B):\n",
    "    print(\"Yes\")\n",
    "elif (C <= B) and (A <= D):\n",
    "    print(\"Yes\")\n",
    "else:\n",
    "    print(\"No\")"
   ]
  },
  {
   "cell_type": "code",
   "execution_count": 34,
   "metadata": {
    "tags": []
   },
   "outputs": [
    {
     "output_type": "stream",
     "name": "stdout",
     "text": "2\n[False, True, True, False]\n3\n[False, True, True, True]\nsa\n1\n"
    }
   ],
   "source": [
    "def _main():\n",
    "    N, M = list(map(int, input().split()))\n",
    "    ab = [list(map(int, input().split())) for i in range(M)]\n",
    "    _N = [False]*N\n",
    "    ab.sort()\n",
    "    _N[ab[0][0]] = True\n",
    "    _N[ab[0][1]] = True\n",
    "    for i in range(M):\n",
    "        if _N[ab[i][0]] == True:\n",
    "            _N[ab[i][1]] = True\n",
    "            print(_N)\n",
    "        elif _N[ab[i][1]] == True:\n",
    "            _N[ab[i][0]] = True\n",
    "            print(_N)\n",
    "    fc = _N.count(False)\n",
    "    while True:\n",
    "        \n",
    "\n",
    "    print(\"sa\")\n",
    "    print(_N.count(False))\n",
    "_main()"
   ]
  },
  {
   "cell_type": "code",
   "execution_count": 42,
   "metadata": {
    "tags": []
   },
   "outputs": [
    {
     "output_type": "stream",
     "name": "stdout",
     "text": "a: 1, b: 2\nx : 0, self.p: [0, 1, 2, 3, 4]\nx : 1, self.p: [0, 1, 2, 3, 4]\nx : 0, y : 1, self.p: [1, 1, 2, 3, 4]\na: 2, b: 3\nx : 1, self.p: [1, 1, 2, 3, 4]\nx : 2, self.p: [1, 1, 2, 3, 4]\nx : 1, y : 2, self.p: [1, 2, 2, 3, 4]\na: 3, b: 1\nx : 2, self.p: [1, 2, 2, 3, 4]\nx : 0, self.p: [1, 2, 2, 3, 4]\nx : 1, self.p: [1, 2, 2, 3, 4]\nx : 2, self.p: [1, 2, 2, 3, 4]\nx : 1, self.p: [1, 2, 2, 3, 4]\nx : 0, self.p: [2, 2, 2, 3, 4]\nx : 2, y : 2, self.p: [2, 2, 2, 3, 4]\nx : 0, self.p: [2, 2, 2, 3, 4]\nx : 2, self.p: [2, 2, 2, 3, 4]\nx : 0, self.p: [2, 2, 2, 3, 4]\nx : 1, self.p: [2, 2, 2, 3, 4]\nx : 2, self.p: [2, 2, 2, 3, 4]\nx : 1, self.p: [2, 2, 2, 3, 4]\nx : 0, self.p: [2, 2, 2, 3, 4]\nx : 2, self.p: [2, 2, 2, 3, 4]\nx : 0, self.p: [2, 2, 2, 3, 4]\nx : 2, self.p: [2, 2, 2, 3, 4]\nx : 0, self.p: [2, 2, 2, 3, 4]\nx : 2, self.p: [2, 2, 2, 3, 4]\nx : 0, self.p: [2, 2, 2, 3, 4]\nx : 3, self.p: [2, 2, 2, 3, 4]\nx : 0, self.p: [2, 2, 2, 3, 4]\nx : 2, self.p: [2, 2, 2, 3, 4]\nx : 0, self.p: [2, 2, 2, 3, 4]\nx : 3, self.p: [2, 2, 2, 3, 4]\nx : 2, y : 3, self.p: [2, 2, 3, 3, 4]\nx : 0, self.p: [2, 2, 3, 3, 4]\nx : 2, self.p: [2, 2, 3, 3, 4]\nx : 3, self.p: [2, 2, 3, 3, 4]\nx : 2, self.p: [2, 2, 3, 3, 4]\nx : 0, self.p: [3, 2, 3, 3, 4]\nx : 4, self.p: [3, 2, 3, 3, 4]\nx : 0, self.p: [3, 2, 3, 3, 4]\nx : 3, self.p: [3, 2, 3, 3, 4]\nx : 0, self.p: [3, 2, 3, 3, 4]\nx : 4, self.p: [3, 2, 3, 3, 4]\nx : 3, y : 4, self.p: [3, 2, 3, 4, 4]\n2\n"
    }
   ],
   "source": [
    "import sys\n",
    "sys.setrecursionlimit(int(1e9))\n",
    " \n",
    "class UnionFind():\n",
    "    def __init__(self, n):\n",
    "        self.p = list(range(n)) #街の数だけ self.p として空配列形成 \n",
    "    \n",
    "    def find(self, x):\n",
    "        if self.p[x] == x:  return x\n",
    "        self.p[x] = self.find(self.p[x])\n",
    "        return self.p[x]\n",
    " \n",
    "    def unite(self, x, y):\n",
    "        x, y = self.find(x), self.find(y)\n",
    "        if x != y:  self.p[x] = y\n",
    " \n",
    "N,M = map(int, input().split())\n",
    "uf = UnionFind(N) \n",
    "for i in range(M):\n",
    "    a,b = map(int, input().split())\n",
    "    uf.unite(a-1, b-1)\n",
    " \n",
    "ans = 0\n",
    "for i in range(1, N):\n",
    "    if uf.find(0) != uf.find(i):\n",
    "        uf.unite(0, i)\n",
    "        ans += 1\n",
    " \n",
    "print(ans)\n",
    "\n",
    "# N = 5, M = 3\n",
    "# 1 2\n",
    "# 2 3\n",
    "# 3 1"
   ]
  },
  {
   "cell_type": "code",
   "execution_count": null,
   "metadata": {},
   "outputs": [],
   "source": [
    "import sys\n",
    "sys.setrecursionlimit(int(1e9))\n",
    "\n",
    "class UnionFind():\n",
    "    def __init__(self, N):\n",
    "        self.p = list(range(N))\n",
    "    \n",
    "    def find(self, k):\n",
    "        if self.p[k] == k: return k\n",
    "        self.p[k] = self.find(self.p[k])\n",
    "        return self.p[k]\n",
    "    \n",
    "    def merge(self, x, y):\n",
    "        x, y = self.find(x), self.find(y)\n",
    "        if x != y: self.p[x] = y\n",
    "\n",
    "N, M = map(int, input().split())\n",
    "uf = UnionFind(N)\n",
    "for i in range(M):\n",
    "    a, b = map(int, input().split())\n",
    "    uf.merge(a-1, b-1)\n",
    "\n",
    "ans = 0\n",
    "for i in range(N):\n",
    "    if uf.find(0) != uf.find(i):\n",
    "        uf.find(0, i)\n",
    "        ans += 1\n",
    "print(ans)\n"
   ]
  },
  {
   "cell_type": "code",
   "execution_count": 19,
   "metadata": {
    "tags": []
   },
   "outputs": [
    {
     "output_type": "stream",
     "name": "stdout",
     "text": "['1', '3', '5', '2', '4']\n['1', '2', '3', '4', '5']\n"
    }
   ],
   "source": [
    "def main():\n",
    "    N, K = list(map(int, input().split()))\n",
    "    a = [input() for i in range(N)]\n",
    "    for i in range(N):\n",
    "        for j in range(N - i):\n",
    "            if abs(a[i] - a[i + j]) < K:\n",
    "                \n",
    "\n",
    "    print(a)\n",
    "main()"
   ]
  },
  {
   "cell_type": "code",
   "execution_count": 11,
   "metadata": {
    "tags": []
   },
   "outputs": [
    {
     "output_type": "stream",
     "name": "stdout",
     "text": "3\n"
    }
   ],
   "source": [
    "print(ab[1][1])"
   ]
  },
  {
   "cell_type": "code",
   "execution_count": 12,
   "metadata": {
    "tags": []
   },
   "outputs": [
    {
     "output_type": "stream",
     "name": "stdout",
     "text": "[False, False, False, False, False]\n"
    }
   ],
   "source": [
    "_N = [False]*N\n",
    "print(_N)"
   ]
  }
 ]
}