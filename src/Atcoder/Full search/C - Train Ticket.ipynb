{
 "cells": [
  {
   "cell_type": "markdown",
   "metadata": {},
   "source": [
    "駅の待合室に座っているjoisinoお姉ちゃんは、切符を眺めています。\n",
    "切符には 4 つの 0 以上 9 以下の整数 A,B,C,D が整理番号としてこの順に書かれています。\n",
    "A op1 B op2 C op3 D = 7 \n",
    "となるように、op1,op2,op3 に + か - を入れて式を作って下さい。\n",
    "なお、答えが存在しない入力は与えられず、また答えが複数存在する場合はどれを出力してもよいものとします。"
   ]
  },
  {
   "cell_type": "markdown",
   "metadata": {},
   "source": [
    "https://atcoder.jp/contests/abc079/tasks/abc079_c"
   ]
  },
  {
   "cell_type": "markdown",
   "metadata": {},
   "source": [
    "Ex1:\n",
    "In  :1222\n",
    "Out :1+2+2+2=7\n",
    "\n",
    "Ex2:\n",
    "In  :0290\n",
    "Out :0-2+9+0=7\n",
    "\n",
    "Ex3:\n",
    "In  :3242\n",
    "Out :3+2+4-2=7"
   ]
  },
  {
   "cell_type": "code",
   "execution_count": 9,
   "metadata": {},
   "outputs": [
    {
     "name": "stdout",
     "output_type": "stream",
     "text": [
      "1+2+2+2=7\n"
     ]
    }
   ],
   "source": [
    "def init():\n",
    "  s = list(map(int, input()))\n",
    "  return s\n",
    "\n",
    "def full_search(s):\n",
    "  for bit in range(1 << 2**(len(s)-1)):\n",
    "    ops = []\n",
    "    for i in range(len(s)):\n",
    "      if i == 0:\n",
    "        crt = s[i]\n",
    "      elif ((1 << i) & bit):\n",
    "        crt += s[i]\n",
    "        ops.append(\"+\")\n",
    "      else:\n",
    "        crt -= s[i]\n",
    "        ops.append(\"-\")\n",
    "    if crt == 7:\n",
    "      ans = str(s[0])\n",
    "      for j in range(len(s)-1):\n",
    "        ans += str(ops[j]) + str(s[j+1])\n",
    "      ans += \"=7\"\n",
    "      print(ans)\n",
    "      break\n",
    "\n",
    "\n",
    "if __name__ == \"__main__\":\n",
    "  s = init()\n",
    "  full_search(s)"
   ]
  },
  {
   "cell_type": "code",
   "execution_count": null,
   "metadata": {},
   "outputs": [],
   "source": []
  }
 ],
 "metadata": {
  "interpreter": {
   "hash": "52ce370d13d9f3e7fec0c208e08f00abccec8be27c64f36722ecec456d801487"
  },
  "kernelspec": {
   "display_name": "Python 3.8.6 64-bit ('.venv_pn': venv)",
   "language": "python",
   "name": "python3"
  },
  "language_info": {
   "codemirror_mode": {
    "name": "ipython",
    "version": 3
   },
   "file_extension": ".py",
   "mimetype": "text/x-python",
   "name": "python",
   "nbconvert_exporter": "python",
   "pygments_lexer": "ipython3",
   "version": "3.8.6"
  },
  "orig_nbformat": 4
 },
 "nbformat": 4,
 "nbformat_minor": 2
}
