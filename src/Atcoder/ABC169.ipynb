{
 "cells": [
  {
   "cell_type": "code",
   "execution_count": null,
   "metadata": {},
   "outputs": [],
   "source": [
    "A, B = list(map(int, input().split()))\n",
    "print(A * B)"
   ]
  },
  {
   "cell_type": "code",
   "execution_count": 1,
   "metadata": {
    "tags": []
   },
   "outputs": [
    {
     "output_type": "stream",
     "name": "stdout",
     "text": "0\n"
    },
    {
     "output_type": "error",
     "ename": "SystemExit",
     "evalue": "",
     "traceback": [
      "An exception has occurred, use %tb to see the full traceback.\n",
      "\u001b[0;31mSystemExit\u001b[0m\n"
     ]
    }
   ],
   "source": [
    "import sys\n",
    "N = int(input())\n",
    "A = list(map(int, input().split()))\n",
    "ans = 1\n",
    "if 0 in A:\n",
    "    print(0)\n",
    "    sys.exit()\n",
    "for a in A:\n",
    "    ans *= a\n",
    "    if ans > 10**18:\n",
    "        print(-1)\n",
    "        sys.exit()\n",
    "print(ans)"
   ]
  },
  {
   "cell_type": "code",
   "execution_count": 7,
   "metadata": {
    "tags": []
   },
   "outputs": [
    {
     "output_type": "stream",
     "name": "stdout",
     "text": "217\n"
    }
   ],
   "source": [
    "from decimal import *\n",
    "\n",
    "A, B = list(map(Decimal, input().split()))\n",
    "print(int(A * B // 1))"
   ]
  },
  {
   "cell_type": "code",
   "execution_count": 39,
   "metadata": {
    "tags": []
   },
   "outputs": [
    {
     "output_type": "stream",
     "name": "stdout",
     "text": "0\ni: 2, j: 1, cnt: 3, rt: 1 \nelse 1\ni: 2, j: 2, cnt: 3, rt: 2 \nelse 2\ni: 2, j: 3, cnt: 3, rt: 4 \ncnt < rt 3\n3\ni: 3, j: 1, cnt: 4, rt: 1 \nelse 1\ni: 3, j: 2, cnt: 4, rt: 2 \nelse 2\ni: 3, j: 3, cnt: 4, rt: 4 \ncnt == rt 7\n7\ni: 5, j: 1, cnt: 6, rt: 1 \nelse 1\ni: 5, j: 2, cnt: 6, rt: 2 \nelse 2\ni: 5, j: 3, cnt: 6, rt: 4 \nelse 4\ni: 5, j: 4, cnt: 6, rt: 7 \ncnt < rt 13\n13\n"
    }
   ],
   "source": [
    "import sys\n",
    "\n",
    "n = int(input())\n",
    "temp = n\n",
    "ans = 0\n",
    "if temp == 1:\n",
    "    print(\"0\")\n",
    "    sys.exit()\n",
    "for i in range(2, int(-(-n**0.5 // 1)) + 1):\n",
    "    if temp % i == 0:\n",
    "        print(ans)\n",
    "        cnt = 0\n",
    "        while temp % i == 0:\n",
    "            cnt += 1\n",
    "            temp //= i\n",
    "        rt = 1\n",
    "        for j in range(1, int(-(-n**0.5 // 1)) + 1):\n",
    "            print(\"i: {3}, j: {0}, cnt: {1}, rt: {2} \".format(j, cnt, rt, i))\n",
    "            if cnt == rt:\n",
    "                ans += rt\n",
    "                print(\"cnt == rt\", ans)\n",
    "                break\n",
    "            elif cnt < rt:\n",
    "                ans += rt - 1\n",
    "                print(\"cnt < rt\", ans)\n",
    "                break\n",
    "            else:\n",
    "                print(\"else\", rt)\n",
    "                rt += j\n",
    "if temp != 1:\n",
    "    print(1)\n",
    "    sys.exit()\n",
    "print(ans)"
   ]
  },
  {
   "cell_type": "code",
   "execution_count": 32,
   "metadata": {
    "tags": []
   },
   "outputs": [
    {
     "output_type": "stream",
     "name": "stdout",
     "text": "10125000.0\n"
    }
   ],
   "source": [
    "10125000"
   ]
  },
  {
   "cell_type": "code",
   "execution_count": 41,
   "metadata": {
    "tags": []
   },
   "outputs": [
    {
     "output_type": "stream",
     "name": "stdout",
     "text": "[[2, 3], [3, 4], [5, 6]]\nwhile\n1\n3\n2\nwhile\n1\n3\nwhile\n1\n3\n2\nwhile\n1\n3\nwhile\n1\n3\nwhile\n2\n6\n3\nwhile\n1\n3\nwhile\n2\n6\nans : 7\n"
    }
   ],
   "source": [
    "import numpy as np\n",
    "\n",
    "n=int(input())\n",
    "if n==1:\n",
    "  print(0)\n",
    "else:\n",
    "  def factorization(n):\n",
    "      arr = []\n",
    "      temp = n\n",
    "      for i in range(2, int(-(-n**0.5//1))+1):\n",
    "          if temp%i==0:\n",
    "              cnt=0\n",
    "              while temp%i==0:\n",
    "                  cnt+=1\n",
    "                  temp //= i\n",
    "              arr.append([i, cnt])\n",
    " \n",
    "      if temp!=1:\n",
    "          arr.append([temp, 1])\n",
    " \n",
    "      if arr==[]:\n",
    "          arr.append([n, 1])\n",
    " \n",
    "      return arr\n",
    " \n",
    "  y=factorization(n)\n",
    "  def judge(y):\n",
    "    i=1\n",
    "    while np.arange(i+2).sum()<=y:\n",
    "      i+=1\n",
    "    return i\n",
    "  ans=0\n",
    "  for i in range(len(y)):\n",
    "    ans+=judge(y[i][1])\n",
    "  print(ans)\n"
   ]
  },
  {
   "cell_type": "code",
   "execution_count": 53,
   "metadata": {
    "tags": []
   },
   "outputs": [
    {
     "output_type": "stream",
     "name": "stdout",
     "text": "7\n"
    }
   ],
   "source": [
    "import sys\n",
    "import numpy as np\n",
    "\n",
    "n = int(input())\n",
    "temp = n\n",
    "ans = 0\n",
    "if temp == 1:\n",
    "    print(0)\n",
    "    sys.exit()\n",
    "for i in range(2, int(-(-n**0.5 // 1)) + 1):\n",
    "    if temp % i == 0:\n",
    "        cnt = 0\n",
    "        while temp % i == 0:\n",
    "            cnt += 1\n",
    "            temp //= i\n",
    "        j = 1\n",
    "        while np.arange(j + 2).sum() <= cnt:\n",
    "            j += 1\n",
    "        ans += j\n",
    "if temp != 1:\n",
    "    print(1)\n",
    "    sys.exit()\n",
    "print(ans)"
   ]
  },
  {
   "cell_type": "code",
   "execution_count": 15,
   "metadata": {
    "tags": []
   },
   "outputs": [
    {
     "output_type": "stream",
     "name": "stdout",
     "text": "1\n"
    }
   ],
   "source": [
    "import statistics\n",
    "\n",
    "N = int(input())\n",
    "A = []\n",
    "B = []\n",
    "for i in range(N):\n",
    "    a, b = list(map(int, input().split()))\n",
    "    A.append(a)\n",
    "    B.append(b)\n",
    "Am = statistics.median(A)\n",
    "Bm = statistics.median(B)\n",
    "\n",
    "if N % 2 == 0:\n",
    "    print(round(2 * (Bm - Am) + 1))\n",
    "else:\n",
    "    print(Bm - Am + 1)"
   ]
  }
 ],
 "metadata": {
  "language_info": {
   "codemirror_mode": {
    "name": "ipython",
    "version": 3
   },
   "file_extension": ".py",
   "mimetype": "text/x-python",
   "name": "python",
   "nbconvert_exporter": "python",
   "pygments_lexer": "ipython3",
   "version": "3.7.3-final"
  },
  "orig_nbformat": 2,
  "kernelspec": {
   "name": "python37364bitbc5cd0ee8a024af2b9473cdcdb65b71b",
   "display_name": "Python 3.7.3 64-bit"
  }
 },
 "nbformat": 4,
 "nbformat_minor": 2
}