{
 "cells": [
  {
   "cell_type": "markdown",
   "metadata": {},
   "source": [
    "Given the head of a sorted linked list, delete all nodes that have duplicate numbers, leaving only distinct numbers from the original list. Return the linked list sorted as well.\n",
    "\n",
    "ソートされたリンクリストの先頭が与えられると、重複した番号を持つすべてのノードを削除し、元のリストから明確な番号だけを残します。同様にソートされたリンクリストを返す。"
   ]
  },
  {
   "cell_type": "code",
   "execution_count": 1,
   "metadata": {},
   "outputs": [
    {
     "data": {
      "text/html": [
       "<img src=\"https://assets.leetcode.com/uploads/2021/01/04/linkedlist1.jpg\"/>"
      ],
      "text/plain": [
       "<IPython.core.display.Image object>"
      ]
     },
     "execution_count": 1,
     "metadata": {},
     "output_type": "execute_result"
    }
   ],
   "source": [
    "from IPython.display import Image\n",
    "Image(url=\"https://assets.leetcode.com/uploads/2021/01/04/linkedlist1.jpg\")"
   ]
  },
  {
   "cell_type": "markdown",
   "metadata": {},
   "source": [
    "Ex1:\n",
    "Input: head = [1,2,3,3,4,4,5]\n",
    "Output: [1,2,5]"
   ]
  },
  {
   "cell_type": "code",
   "execution_count": 2,
   "metadata": {},
   "outputs": [
    {
     "data": {
      "text/html": [
       "<img src=\"https://assets.leetcode.com/uploads/2021/01/04/linkedlist2.jpg\"/>"
      ],
      "text/plain": [
       "<IPython.core.display.Image object>"
      ]
     },
     "execution_count": 2,
     "metadata": {},
     "output_type": "execute_result"
    }
   ],
   "source": [
    "Image(url=\"https://assets.leetcode.com/uploads/2021/01/04/linkedlist2.jpg\")"
   ]
  },
  {
   "cell_type": "markdown",
   "metadata": {},
   "source": [
    "Ex2:\n",
    "Input: head = [1,1,1,2,3]\n",
    "Output: [2,3]"
   ]
  },
  {
   "cell_type": "code",
   "execution_count": 1,
   "metadata": {},
   "outputs": [],
   "source": [
    "# Definition for singly-linked list.\n",
    "class ListNode:\n",
    "  def __init__(self, val=0, next=None):\n",
    "    self.val = val\n",
    "    self.next = next\n",
    "\n",
    "class Solution:\n",
    "  def deleteDuplicates(self, head):\n",
    "    '''\n",
    "    :type     head    : Optional[ListNode]\n",
    "    :rtype            : Optional[ListNode]\n",
    "    '''\n",
    "    dummy = ListNode(0)\n",
    "    dummy.next = head\n",
    "    curr = dummy\n",
    "    while curr:\n",
    "      dup_p = False\n",
    "      while curr.next and curr.next.next and curr.next.val == curr.next.next.val:\n",
    "        curr.next = curr.next.next\n",
    "        dup_p = True\n",
    "      if dup_p:\n",
    "        curr.next = curr.next.next\n",
    "      else:\n",
    "        curr = curr.next\n",
    "      print(\"curr :\", curr)\n",
    "      print(\"curr :\", curr)      \n",
    "    return dummy.next"
   ]
  },
  {
   "cell_type": "code",
   "execution_count": 2,
   "metadata": {},
   "outputs": [
    {
     "ename": "SyntaxError",
     "evalue": "invalid syntax (3723659810.py, line 7)",
     "output_type": "error",
     "traceback": [
      "\u001b[0;36m  File \u001b[0;32m\"/var/folders/l7/dnzbj6q943sgblf4l8v6kmfc0000gn/T/ipykernel_2483/3723659810.py\"\u001b[0;36m, line \u001b[0;32m7\u001b[0m\n\u001b[0;31m    dummy = ListNode[]\u001b[0m\n\u001b[0m                     ^\u001b[0m\n\u001b[0;31mSyntaxError\u001b[0m\u001b[0;31m:\u001b[0m invalid syntax\n"
     ]
    }
   ],
   "source": [
    "class Solution:\n",
    "  def deleteDuplicates(self, head):\n",
    "    '''\n",
    "    :type     head    : Optional[ListNode]\n",
    "    :rtype            : Optional[ListNode]\n",
    "    '''\n",
    "    dummy = ListNode[0]\n",
    "    dummy.next = head\n",
    "    curr = dummy\n",
    "    while curr:\n",
    "      dup = False\n",
    "      while curr.next and curr.next.next and curr.next.val == curr.next.next.val:\n",
    "        curr.next = curr.next.next\n",
    "        dup = True\n",
    "      if dup:\n",
    "        curr.next = curr.next.next\n",
    "      else:\n",
    "        curr = curr.next\n",
    "    return dummy.next"
   ]
  },
  {
   "cell_type": "code",
   "execution_count": null,
   "metadata": {},
   "outputs": [],
   "source": []
  }
 ],
 "metadata": {
  "interpreter": {
   "hash": "52ce370d13d9f3e7fec0c208e08f00abccec8be27c64f36722ecec456d801487"
  },
  "kernelspec": {
   "display_name": "Python 3.8.6 64-bit ('.venv_pn': venv)",
   "language": "python",
   "name": "python3"
  },
  "language_info": {
   "codemirror_mode": {
    "name": "ipython",
    "version": 3
   },
   "file_extension": ".py",
   "mimetype": "text/x-python",
   "name": "python",
   "nbconvert_exporter": "python",
   "pygments_lexer": "ipython3",
   "version": "3.8.6"
  },
  "orig_nbformat": 4
 },
 "nbformat": 4,
 "nbformat_minor": 2
}
