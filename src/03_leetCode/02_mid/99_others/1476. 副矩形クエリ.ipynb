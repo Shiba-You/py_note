{
 "cells": [
  {
   "cell_type": "markdown",
   "metadata": {},
   "source": [
    "[\"SubrectangleQueries\",\"getValue\",\"updateSubrectangle\",\"getValue\",\"getValue\",\"updateSubrectangle\",\"getValue\",\"getValue\"]\n",
    "[\n",
    "  # SubrectangleQueries\n",
    "  [\n",
    "    [\n",
    "      [1,2,1],\n",
    "      [4,3,4],\n",
    "      [3,2,1],\n",
    "      [1,1,1]\n",
    "    ]\n",
    "  ],\n",
    "  # getValue\n",
    "  [0,2],\n",
    "  # updateSubrectangle\n",
    "  [0,0,3,2,5],\n",
    "  # getValue\n",
    "  [0,2],\n",
    "  # getValue\n",
    "  [3,1],\n",
    "  # updateSubrectangle\n",
    "  [3,0,3,2,10],\n",
    "  # getValue\n",
    "  [3,1],\n",
    "  # getValue\n",
    "  [0,2]\n",
    "]\n",
    "\n",
    "Output\n",
    "[null,1,null,5,5,null,10,5]"
   ]
  },
  {
   "cell_type": "code",
   "execution_count": 20,
   "metadata": {},
   "outputs": [],
   "source": [
    "class SubrectangleQueries:\n",
    "  def __init__(self, rectangle):\n",
    "    self.rec = rectangle\n",
    "\n",
    "  def updateSubrectangle(self, row1, col1, row2, col2, newValue):\n",
    "    for i in range(row1, row2+1):\n",
    "      for j in range(col1, col2+1):\n",
    "        self.rec[i][j] = newValue\n",
    "\n",
    "  def getValue(self, row, col):\n",
    "    return self.rec[row][col]"
   ]
  }
 ],
 "metadata": {
  "interpreter": {
   "hash": "52ce370d13d9f3e7fec0c208e08f00abccec8be27c64f36722ecec456d801487"
  },
  "kernelspec": {
   "display_name": "Python 3.8.6 64-bit ('.venv_pn': venv)",
   "name": "python3"
  },
  "language_info": {
   "codemirror_mode": {
    "name": "ipython",
    "version": 3
   },
   "file_extension": ".py",
   "mimetype": "text/x-python",
   "name": "python",
   "nbconvert_exporter": "python",
   "pygments_lexer": "ipython3",
   "version": "3.8.6"
  },
  "orig_nbformat": 4
 },
 "nbformat": 4,
 "nbformat_minor": 2
}
