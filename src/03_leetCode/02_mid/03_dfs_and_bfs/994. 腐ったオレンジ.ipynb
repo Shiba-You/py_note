{
 "cells": [
  {
   "cell_type": "markdown",
   "metadata": {},
   "source": [
    "You are given an m x n grid where each cell can have one of three values:\n",
    "\n",
    "0 representing an empty cell,\n",
    "1 representing a fresh orange, or\n",
    "2 representing a rotten orange.\n",
    "Every minute, any fresh orange that is 4-directionally adjacent to a rotten orange becomes rotten.\n",
    "\n",
    "Return the minimum number of minutes that must elapse until no cell has a fresh orange. If this is impossible, return -1.\n",
    "\n",
    "m×nのグリッドが与えられ、各セルは3つの値のいずれかを持ちます。\n",
    "\n",
    "0 は空のマスを表します。\n",
    "1は新鮮なオレンジ、または\n",
    "2 は腐ったオレンジを表します。\n",
    "毎分，腐ったオレンジと4方向に隣接する新鮮なオレンジが腐っていく．\n",
    "\n",
    "どのセルにも新鮮なオレンジがない状態になるまでに経過しなければならない最小の分数を返す。不可能な場合は-1を返す。"
   ]
  },
  {
   "cell_type": "code",
   "execution_count": 1,
   "metadata": {},
   "outputs": [
    {
     "data": {
      "text/html": [
       "<img src=\"https://assets.leetcode.com/uploads/2019/02/16/oranges.png\"/>"
      ],
      "text/plain": [
       "<IPython.core.display.Image object>"
      ]
     },
     "execution_count": 1,
     "metadata": {},
     "output_type": "execute_result"
    }
   ],
   "source": [
    "from IPython.display import Image\n",
    "Image(url=\"https://assets.leetcode.com/uploads/2019/02/16/oranges.png\")"
   ]
  },
  {
   "cell_type": "markdown",
   "metadata": {},
   "source": [
    "Ex1:\n",
    "Input: grid = [[2,1,1],[1,1,0],[0,1,1]]\n",
    "Output: 4\n",
    "\n",
    "Ex2:\n",
    "Input: grid = [[2,1,1],[0,1,1],[1,0,1]]\n",
    "Output: -1\n",
    "Explanation: The orange in the bottom left corner (row 2, column 0) is never rotten, because rotting only happens 4-directionally.\n",
    "\n",
    "Ex3:\n",
    "Input: grid = [[0,2]]\n",
    "Output: 0\n",
    "Explanation: Since there are already no fresh oranges at minute 0, the answer is just 0."
   ]
  },
  {
   "cell_type": "code",
   "execution_count": 17,
   "metadata": {},
   "outputs": [],
   "source": [
    "from collections import deque\n",
    "\n",
    "class Solution:\n",
    "  def orangesRotting(self, grid):\n",
    "    '''\n",
    "    :type     grid  : List[List[int]]\n",
    "    rtype           : int\n",
    "    '''\n",
    "    q = deque([]) \n",
    "    h, w, t = len(grid), len(grid[0]), 0\n",
    "    dirs = [[-1,0],[1,0],[0,-1],[0,1]]\n",
    "\n",
    "    for i in range(h):\n",
    "      for j in range(w):\n",
    "        if grid[i][j] == 2:\n",
    "          q.append((i, j, 0))\n",
    "    \n",
    "    while q:\n",
    "      cr, cc, ct = q.popleft()\n",
    "      for dirI, dirJ in dirs:\n",
    "        nr, nc = cr+dirI, cc+dirJ\n",
    "        if (0<=nr<h) and (0<=nc<w) and (grid[nr][nc]==1):\n",
    "          grid[nr][nc] = 2\n",
    "          q.append((nr, nc, ct+1))\n",
    "          t = max(t, ct+1)\n",
    "    \n",
    "    for g in grid:\n",
    "      if 1 in g:\n",
    "        return -1\n",
    "\n",
    "    return t"
   ]
  },
  {
   "cell_type": "code",
   "execution_count": null,
   "metadata": {},
   "outputs": [],
   "source": []
  }
 ],
 "metadata": {
  "interpreter": {
   "hash": "52ce370d13d9f3e7fec0c208e08f00abccec8be27c64f36722ecec456d801487"
  },
  "kernelspec": {
   "display_name": "Python 3.8.6 64-bit ('.venv_pn': venv)",
   "language": "python",
   "name": "python3"
  },
  "language_info": {
   "codemirror_mode": {
    "name": "ipython",
    "version": 3
   },
   "file_extension": ".py",
   "mimetype": "text/x-python",
   "name": "python",
   "nbconvert_exporter": "python",
   "pygments_lexer": "ipython3",
   "version": "3.8.6"
  },
  "orig_nbformat": 4
 },
 "nbformat": 4,
 "nbformat_minor": 2
}
