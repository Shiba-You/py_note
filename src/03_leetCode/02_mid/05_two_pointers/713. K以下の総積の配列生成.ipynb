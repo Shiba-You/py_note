{
 "cells": [
  {
   "cell_type": "markdown",
   "metadata": {},
   "source": [
    "Given an array of integers nums and an integer k, return the number of contiguous subarrays where the product of all the elements in the subarray is strictly less than k.\n",
    "\n",
    "整数numsの配列と整数kが与えられたとき、副配列のすべての要素の積が厳密にkより小さい連続した副配列の数を返す。"
   ]
  },
  {
   "cell_type": "markdown",
   "metadata": {},
   "source": [
    "Ex1:\n",
    "Input: nums = [10,5,2,6], k = 100\n",
    "Output: 8\n",
    "Explanation: The 8 subarrays that have product less than 100 are:\n",
    "[10], [5], [2], [6], [10, 5], [5, 2], [2, 6], [5, 2, 6]\n",
    "Note that [10, 5, 2] is not included as the product of 100 is not strictly less than k.\n",
    "\n",
    "Ex2:\n",
    "Input: nums = [1,2,3], k = 0\n",
    "Output: 0"
   ]
  },
  {
   "cell_type": "code",
   "execution_count": null,
   "metadata": {},
   "outputs": [],
   "source": [
    "class Solution:\n",
    "  def numSubarrayProductLessThanK(self, nums, k):\n",
    "    '''\n",
    "    :type     nums  : List[int] \n",
    "    :type     k     : int\n",
    "    :rtype          : int\n",
    "    '''  \n",
    "    left = 0\n",
    "    ans = 0\n",
    "    ref = 1\n",
    "    for right in range(len(nums)):\n",
    "      ref *= nums[right]\n",
    "      if k <= ref:\n",
    "        while k <= ref and left <= right:\n",
    "          ref /= nums[left]\n",
    "          left += 1\n",
    "      ans += right - left + 1\n",
    "    return ans"
   ]
  },
  {
   "cell_type": "markdown",
   "metadata": {},
   "source": [
    "## Other Solution"
   ]
  },
  {
   "cell_type": "code",
   "execution_count": 7,
   "metadata": {},
   "outputs": [],
   "source": [
    "class Solution():\n",
    "  def numSubarrayProductLessThanK(self, nums, k):\n",
    "    \"\"\"\n",
    "    :type nums: List[int]\n",
    "    :type k: int\n",
    "    :rtype: int\n",
    "    \"\"\"\n",
    "    if not nums:\n",
    "      return 0\n",
    "    j = 0\n",
    "    res = 1\n",
    "    count = 0\n",
    "    for i in range(len(nums)):\n",
    "      res *= nums[i]\n",
    "      if res >= k:\n",
    "        while j <= i and res >= k:\n",
    "          res /= nums[j]\n",
    "          j += 1\n",
    "          print(\"res : {}, j : {}\".format(res, j))\n",
    "      count += i - j + 1\n",
    "      print(\"res : {}, i : {}, j : {}, count : {}\".format(res, i, j, count))\n",
    "    return count"
   ]
  },
  {
   "cell_type": "code",
   "execution_count": 8,
   "metadata": {},
   "outputs": [
    {
     "name": "stdout",
     "output_type": "stream",
     "text": [
      "res : 10, i : 0, j : 0, count : 1\n",
      "res : 50, i : 1, j : 0, count : 3\n",
      "res : 10.0, j : 1\n",
      "res : 10.0, i : 2, j : 1, count : 5\n",
      "res : 60.0, i : 3, j : 1, count : 8\n"
     ]
    },
    {
     "data": {
      "text/plain": [
       "8"
      ]
     },
     "execution_count": 8,
     "metadata": {},
     "output_type": "execute_result"
    }
   ],
   "source": [
    "s = Solution()\n",
    "s.numSubarrayProductLessThanK(nums = [10,5,2,6], k = 100)"
   ]
  },
  {
   "cell_type": "code",
   "execution_count": null,
   "metadata": {},
   "outputs": [],
   "source": []
  }
 ],
 "metadata": {
  "interpreter": {
   "hash": "52ce370d13d9f3e7fec0c208e08f00abccec8be27c64f36722ecec456d801487"
  },
  "kernelspec": {
   "display_name": "Python 3.8.6 64-bit ('.venv_pn': venv)",
   "language": "python",
   "name": "python3"
  },
  "language_info": {
   "codemirror_mode": {
    "name": "ipython",
    "version": 3
   },
   "file_extension": ".py",
   "mimetype": "text/x-python",
   "name": "python",
   "nbconvert_exporter": "python",
   "pygments_lexer": "ipython3",
   "version": "3.8.6"
  },
  "orig_nbformat": 4
 },
 "nbformat": 4,
 "nbformat_minor": 2
}
