{
 "cells": [
  {
   "cell_type": "markdown",
   "metadata": {},
   "source": [
    "Given two strings s and p, return an array of all the start indices of p's anagrams in s. You may return the answer in any order.\n",
    "An Anagram is a word or phrase formed by rearranging the letters of a different word or phrase, typically using all the original letters exactly once.\n",
    "\n",
    "2つの文字列sとpが与えられたとき、sにおけるpのアナグラムのすべての開始インデックスの配列を返します。答えはどのような順序でも返せます。\n",
    "アナグラムとは、別の単語やフレーズの文字を並べ替えてできた単語やフレーズのことで、通常は元の文字をすべて一度だけ使用します。"
   ]
  },
  {
   "cell_type": "markdown",
   "metadata": {},
   "source": [
    "Ex1:\n",
    "Input: s = \"cbaebabacd\", p = \"abc\"\n",
    "Output: [0,6]\n",
    "Explanation:\n",
    "The substring with start index = 0 is \"cba\", which is an anagram of \"abc\".\n",
    "The substring with start index = 6 is \"bac\", which is an anagram of \"abc\".\n",
    "\n",
    "Ex2:\n",
    "Input: s = \"abab\", p = \"ab\"\n",
    "Output: [0,1,2]\n",
    "Explanation:\n",
    "The substring with start index = 0 is \"ab\", which is an anagram of \"ab\".\n",
    "The substring with start index = 1 is \"ba\", which is an anagram of \"ab\".\n",
    "The substring with start index = 2 is \"ab\", which is an anagram of \"ab\"."
   ]
  },
  {
   "cell_type": "code",
   "execution_count": 28,
   "metadata": {},
   "outputs": [],
   "source": [
    "class Solution:\n",
    "  def findAnagrams(self, s, p):\n",
    "    '''\n",
    "    :type     s : str\n",
    "    :type     p : str\n",
    "    :rtype      : List[int]\n",
    "    '''\n",
    "    S = [ord(x) - ord('a') for x in s]   # ここでローマ字を　Unicode（数字）　に変換\n",
    "    P = [ord(x) - ord('a') for x in p]   # ここでローマ字を　Unicode（数字）　に変換\n",
    "    N = len(P)\n",
    "\n",
    "    ans = []\n",
    "\n",
    "    target = [0] * 26\n",
    "    for x in P:\n",
    "      target[x] += 1\n",
    "\n",
    "    window = [0] * 26\n",
    "    for i in range(len(S)):\n",
    "      print(i)\n",
    "      print(\"target   :\", target)\n",
    "      print(\"window   :\", window)\n",
    "      if i < N:\n",
    "        window[S[i]] += 1\n",
    "      else:\n",
    "        window[S[i-N]] -= 1\n",
    "        window[S[i]] += 1\n",
    "      if window == target:\n",
    "        ans.append(i-(N-1))\n",
    "    return ans"
   ]
  },
  {
   "cell_type": "code",
   "execution_count": 29,
   "metadata": {},
   "outputs": [
    {
     "name": "stdout",
     "output_type": "stream",
     "text": [
      "0\n",
      "target   : [1, 1, 0, 0, 0, 0, 0, 0, 0, 0, 0, 0, 0, 0, 0, 0, 0, 0, 0, 0, 0, 0, 0, 0, 0, 0]\n",
      "window   : [0, 0, 0, 0, 0, 0, 0, 0, 0, 0, 0, 0, 0, 0, 0, 0, 0, 0, 0, 0, 0, 0, 0, 0, 0, 0]\n",
      "1\n",
      "target   : [1, 1, 0, 0, 0, 0, 0, 0, 0, 0, 0, 0, 0, 0, 0, 0, 0, 0, 0, 0, 0, 0, 0, 0, 0, 0]\n",
      "window   : [1, 0, 0, 0, 0, 0, 0, 0, 0, 0, 0, 0, 0, 0, 0, 0, 0, 0, 0, 0, 0, 0, 0, 0, 0, 0]\n",
      "2\n",
      "target   : [1, 1, 0, 0, 0, 0, 0, 0, 0, 0, 0, 0, 0, 0, 0, 0, 0, 0, 0, 0, 0, 0, 0, 0, 0, 0]\n",
      "window   : [1, 1, 0, 0, 0, 0, 0, 0, 0, 0, 0, 0, 0, 0, 0, 0, 0, 0, 0, 0, 0, 0, 0, 0, 0, 0]\n",
      "3\n",
      "target   : [1, 1, 0, 0, 0, 0, 0, 0, 0, 0, 0, 0, 0, 0, 0, 0, 0, 0, 0, 0, 0, 0, 0, 0, 0, 0]\n",
      "window   : [1, 1, 0, 0, 0, 0, 0, 0, 0, 0, 0, 0, 0, 0, 0, 0, 0, 0, 0, 0, 0, 0, 0, 0, 0, 0]\n"
     ]
    },
    {
     "data": {
      "text/plain": [
       "[0, 1, 2]"
      ]
     },
     "execution_count": 29,
     "metadata": {},
     "output_type": "execute_result"
    }
   ],
   "source": [
    "s = Solution()\n",
    "s.findAnagrams(s = \"abab\", p = \"ab\")"
   ]
  },
  {
   "cell_type": "code",
   "execution_count": null,
   "metadata": {},
   "outputs": [],
   "source": []
  }
 ],
 "metadata": {
  "interpreter": {
   "hash": "52ce370d13d9f3e7fec0c208e08f00abccec8be27c64f36722ecec456d801487"
  },
  "kernelspec": {
   "display_name": "Python 3.8.6 64-bit ('.venv_pn': venv)",
   "language": "python",
   "name": "python3"
  },
  "language_info": {
   "codemirror_mode": {
    "name": "ipython",
    "version": 3
   },
   "file_extension": ".py",
   "mimetype": "text/x-python",
   "name": "python",
   "nbconvert_exporter": "python",
   "pygments_lexer": "ipython3",
   "version": "3.8.6"
  },
  "orig_nbformat": 4
 },
 "nbformat": 4,
 "nbformat_minor": 2
}
