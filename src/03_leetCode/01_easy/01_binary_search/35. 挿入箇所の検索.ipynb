{
 "cells": [
  {
   "cell_type": "markdown",
   "metadata": {},
   "source": [
    "Given a sorted array of distinct integers and a target value, return the index if the target is found. If not, return the index where it would be if it were inserted in order.\n",
    "\n",
    "You must write an algorithm with O(log n) runtime complexity.\n",
    "\n",
    "別々の整数でソートされた配列と目標値が与えられたとき、目標値が見つかった場合はそのインデックスを返します。見つからない場合は，順番に挿入された場合にあるであろうインデックスを返す。\n",
    "\n",
    "実行時の複雑さがO(log n)のアルゴリズムを書かなければならない。"
   ]
  },
  {
   "cell_type": "markdown",
   "metadata": {},
   "source": [
    "Ex1:\n",
    "Input: nums = [1,3,5,6], target = 5\n",
    "Output: 2\n",
    "\n",
    "Ex2:\n",
    "Input: nums = [1,3,5,6], target = 2\n",
    "Output: 1\n",
    "\n",
    "Ex3:\n",
    "Input: nums = [1,3,5,6], target = 7\n",
    "Output: 4\n",
    "\n",
    "Ex4:\n",
    "Input: nums = [1,3,5,6], target = 0\n",
    "Output: 0"
   ]
  },
  {
   "cell_type": "code",
   "execution_count": null,
   "metadata": {},
   "outputs": [],
   "source": [
    "class Solution:\n",
    "  def searchInsert(self, nums, target):\n",
    "    '''\n",
    "    :type   nums  : List[int]\n",
    "    :type   target: int\n",
    "    rtype  int\n",
    "    '''\n",
    "    low  = 0\n",
    "    high = len(nums)-1\n",
    "    while low <= high:\n",
    "      mid = (low + high)//2\n",
    "      guess = nums[mid]\n",
    "      if guess == target:\n",
    "        return mid\n",
    "      elif guess < target:\n",
    "        low = mid + 1\n",
    "      elif guess > target:\n",
    "        high = mid - 1\n",
    "    return low"
   ]
  }
 ],
 "metadata": {
  "language_info": {
   "name": "python"
  },
  "orig_nbformat": 4
 },
 "nbformat": 4,
 "nbformat_minor": 2
}
