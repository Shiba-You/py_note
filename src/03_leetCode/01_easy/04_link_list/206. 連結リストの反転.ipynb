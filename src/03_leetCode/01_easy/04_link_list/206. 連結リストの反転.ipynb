{
 "cells": [
  {
   "cell_type": "markdown",
   "metadata": {},
   "source": [
    "Given the head of a singly linked list, reverse the list, and return the reversed list.\n",
    "\n",
    "単結合リストの先頭が与えられると，そのリストを反転させ，反転したリストを返します。"
   ]
  },
  {
   "cell_type": "code",
   "execution_count": 1,
   "metadata": {},
   "outputs": [
    {
     "data": {
      "text/html": [
       "<img src=\"https://assets.leetcode.com/uploads/2021/02/19/rev1ex1.jpg\"/>"
      ],
      "text/plain": [
       "<IPython.core.display.Image object>"
      ]
     },
     "execution_count": 1,
     "metadata": {},
     "output_type": "execute_result"
    }
   ],
   "source": [
    "from IPython.display import Image\n",
    "Image(url=\"https://assets.leetcode.com/uploads/2021/02/19/rev1ex1.jpg\")"
   ]
  },
  {
   "cell_type": "markdown",
   "metadata": {},
   "source": [
    "Ex1:\n",
    "Input: head = [1,2,3,4,5]\n",
    "Output: [5,4,3,2,1]\n",
    "\n",
    "Ex2:\n",
    "Input: head = [1,2]\n",
    "Output: [2,1]\n",
    "\n",
    "Ex3:\n",
    "Input: head = []\n",
    "Output: []"
   ]
  },
  {
   "cell_type": "code",
   "execution_count": null,
   "metadata": {},
   "outputs": [],
   "source": [
    "# Definition for singly-linked list.\n",
    "# class ListNode:\n",
    "#   def __init__(self, val=0, next=None):\n",
    "#     self.val = val\n",
    "#     self.next = next\n",
    "class Solution:\n",
    "  def reverseList(self, head):\n",
    "    '''\n",
    "    :type     head  : Optional[ListNode]\n",
    "    :rtype          : Optional[ListNode]\n",
    "    '''\n",
    "    current_node = head\n",
    "    previous_node = None\n",
    "    while current_node:\n",
    "      next = current_node.next\n",
    "      current_node.next = previous_node\n",
    "      previous_node = current_node\n",
    "      current_node = next\n",
    "    return previous_node\n",
    "    "
   ]
  },
  {
   "cell_type": "code",
   "execution_count": null,
   "metadata": {},
   "outputs": [],
   "source": []
  }
 ],
 "metadata": {
  "interpreter": {
   "hash": "52ce370d13d9f3e7fec0c208e08f00abccec8be27c64f36722ecec456d801487"
  },
  "kernelspec": {
   "display_name": "Python 3.8.6 64-bit ('.venv_pn': venv)",
   "language": "python",
   "name": "python3"
  },
  "language_info": {
   "codemirror_mode": {
    "name": "ipython",
    "version": 3
   },
   "file_extension": ".py",
   "mimetype": "text/x-python",
   "name": "python",
   "nbconvert_exporter": "python",
   "pygments_lexer": "ipython3",
   "version": "3.8.6"
  },
  "orig_nbformat": 4
 },
 "nbformat": 4,
 "nbformat_minor": 2
}
