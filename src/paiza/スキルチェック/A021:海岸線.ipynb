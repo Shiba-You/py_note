{
 "cells": [
  {
   "cell_type": "markdown",
   "source": [
    "あなたは宇宙探索の果てに海の惑星 PAIZA に到達しました。\n",
    "あなたは惑星 PAIZA の調査の一環として、惑星 PAIZA の海に浮かぶ島の計測をすることにしました。\n",
    "計測には、上空からの写真、俯瞰図を用います。\n",
    "俯瞰図の例を以下に示します。\n",
    "\n",
    "俯瞰図は上のように白線で区切られた格子状の図となっており、各格子は正方形で、面積はすべて等しくなっています。\n",
    "俯瞰図における緑の部分が陸地、青の部分が海を示します。\n",
    "縦方向あるいは横方向に連続した陸地をひとくくりに島と呼びます。 この俯瞰図には、6 個の島があるのが見てとれます。\n",
    "\n",
    "図 2 のように、対角線上に陸地が隣接していても縦方向や横方向に連続していない場合には 2 つの島として扱います。\n",
    "\n",
    "一番左の島の計測の様子を下図に示します。\n",
    "左側が海岸線の長さの計測、右側が面積の計測です。\n",
    "海岸線の長さは 20、面積は 10 となります。\n",
    "\n",
    "俯瞰図上に N 個の島があるとします。\n",
    "N 個の島それぞれの面積、海岸線の長さを求め、島の面積が大きい順に出力してください。\n",
    "なお、島の面積が同じものについては海岸線の長いほうを先に出力してください。\n",
    "また、俯瞰図の外は海で囲まれているものとします。"
   ],
   "metadata": {}
  },
  {
   "cell_type": "code",
   "execution_count": 47,
   "source": [
    "h,w = list(map(int, input().split()))\n",
    "s = [list(input()) for _ in range(h)]"
   ],
   "outputs": [],
   "metadata": {}
  },
  {
   "cell_type": "code",
   "execution_count": 49,
   "source": [
    "# h,w = 4,4\n",
    "# s = [['.', '.', '.', '.'], ['.', '#', '.', '.'], ['.', '.', '#', '.'], ['.', '.', '.', '.']]\n",
    "\n",
    "# h,w = 4,5\n",
    "# s = [['#', '.', '.', '.', '.'], ['#', '.', '#', '.', '#'], ['#', '.', '.', '#', '.'], ['#', '.', '#', '#', '.']]\n",
    "\n",
    "h,w = 3,5\n",
    "s = [['#', '#', '.', '.', '#'], ['#', '#', '.', '.', '#'], ['.', '.', '.', '#', '#']]"
   ],
   "outputs": [],
   "metadata": {}
  },
  {
   "cell_type": "code",
   "execution_count": 57,
   "source": [
    "from collections import deque\n",
    "\n",
    "q = deque([])\n",
    "\n",
    "for i in range(h):\n",
    "  for j in range(w):\n",
    "    if s[i][j] == \"#\":\n",
    "      q.append((i,j))\n",
    "\n",
    "ilas = []\n",
    "flag = False\n",
    "\n",
    "while q:\n",
    "  flag = False\n",
    "  cy, cx = q.popleft()\n",
    "  # print(cy,cx)\n",
    "  for n, ila in enumerate(ilas):\n",
    "    print(cy,cx)\n",
    "    for y,x in ila:\n",
    "      # print(cy,cx, y,x)\n",
    "      if ((cy == y+1 or cy == y-1) and cx == x) or (cy == y and (cx == x+1 or cx == x-1)):\n",
    "        print(\"here\")\n",
    "        ilas[n].append((cy,cx))\n",
    "        flag = True\n",
    "        break\n",
    "    if flag:\n",
    "      break\n",
    "  if not flag:\n",
    "    ilas.append([(cy,cx)])\n",
    "\n",
    "print(ilas)\n",
    "  \n",
    "#   if (0 <= iy-1 < h) and (s[iy-1][ix] == \".\"):\n",
    "#     q.append((iy-1, ix))\n",
    "#   if (0 <= iy+1 < h) and (s[iy+1][ix] == \".\"):\n",
    "#     q.append((iy+1, ix))\n",
    "#   if (0 <= ix-1 < w) and (s[iy][ix-1] == \".\"):\n",
    "#     q.append((iy, ix-1))\n",
    "#   if (0 <= ix+1 < w) and (s[iy][ix+1] == \".\"):\n",
    "#     q.append((iy, ix+1))\n",
    "\n",
    "\n",
    "# for i in range(len(s)):\n",
    "#   print(''.join(map(str, s[i])))"
   ],
   "outputs": [
    {
     "output_type": "stream",
     "name": "stdout",
     "text": [
      "0 1\n",
      "here\n",
      "0 4\n",
      "1 0\n",
      "here\n",
      "1 1\n",
      "here\n",
      "1 4\n",
      "1 4\n",
      "here\n",
      "2 3\n",
      "2 3\n",
      "2 4\n",
      "2 4\n",
      "here\n",
      "[[(0, 0), (0, 1), (1, 0), (1, 1)], [(0, 4), (1, 4), (2, 4)], [(2, 3)]]\n"
     ]
    }
   ],
   "metadata": {}
  },
  {
   "cell_type": "code",
   "execution_count": 62,
   "source": [
    "h, w = map(int, input().split())\n",
    "map_list = [[\".\"]* (w+2)]\n",
    "for _ in range(h):\n",
    "  map_list.append([\".\"] + list(input()) + [\".\"])\n",
    "map_list.append(map_list[0])\n",
    "ls = []"
   ],
   "outputs": [],
   "metadata": {}
  },
  {
   "cell_type": "code",
   "execution_count": 86,
   "source": [
    "h, w = 4,5\n",
    "map_list = \\\n",
    " [['.', '.', '.', '.', '.', '.', '.'],\\\n",
    "  ['.', '#', '.', '.', '.', '.', '.'],\\\n",
    "  ['.', '#', '.', '#', '.', '#', '.'],\\\n",
    "  ['.', '#', '.', '.', '#', '.', '.'],\\\n",
    "  ['.', '#', '.', '#', '#', '.', '.'],\\\n",
    "  ['.', '.', '.', '.', '.', '.', '.']]"
   ],
   "outputs": [],
   "metadata": {}
  },
  {
   "cell_type": "code",
   "execution_count": 87,
   "source": [
    "\n",
    "def check(x, y):\n",
    "  cl = [[x,y]]\n",
    "  l = [[x,y]]\n",
    "  n = 0\n",
    "\n",
    "  while cl:\n",
    "    x, y = cl.pop()\n",
    "    map_list[y][x] = \".\"\n",
    "    # down \n",
    "    if map_list[y+1][x] == \"#\":\n",
    "      map_list[y+1][x] = \"*\"\n",
    "      cl.append([x, y+1])\n",
    "      l.append([x, y+1])\n",
    "      n +=1\n",
    "    # right\n",
    "    if map_list[y][x+1] == \"#\":\n",
    "      map_list[y+1][x] = \"*\"\n",
    "      cl.append([x+1, y])\n",
    "      l.append([x+1, y])\n",
    "      n +=1\n",
    "    # up\n",
    "    if map_list[y-1][x] == \"#\":\n",
    "      map_list[y+1][x] = \"*\"\n",
    "      cl.append([x, y-1])\n",
    "      l.append([x, y-1])\n",
    "      n +=1\n",
    "    # left\n",
    "    if map_list[y][x-1] == \"#\":\n",
    "      map_list[y+1][x] = \"*\"\n",
    "      cl.append([x-1, y])\n",
    "      l.append([x-1, y])\n",
    "      n +=1\n",
    "    \n",
    "    if map_list[y+1][x] == \"*\" or map_list[y][x+1] == \"*\" or map_list[y-1][x] == \"*\" or map_list[y][x-1] == \"*\":\n",
    "      n += 1\n",
    "  s = len(l)\n",
    "  return s, n\n",
    "\n",
    "count = 0\n",
    "for r in range(1, w+1):\n",
    "  for c in range(1, h+1):\n",
    "    if map_list[r][c] == \"#\":\n",
    "      s,n = check(c, r)\n",
    "      ls.append([s,n])\n",
    "\n",
    "print(ls)\n",
    "for l in ls:\n",
    "  print(s,n)"
   ],
   "outputs": [
    {
     "output_type": "stream",
     "name": "stdout",
     "text": [
      "[[[1, 1], [1, 2], [1, 3], [1, 4]], [[3, 2]], [[4, 3], [4, 4], [3, 4]], [[1, 1], [1, 2], [1, 3], [1, 4]], [[3, 2]], [[4, 3], [4, 4], [3, 4]], [[1, 1], [1, 2], [1, 3], [1, 4]], [[3, 2]], [[4, 3], [4, 4], [3, 4]], [[1, 1], [1, 2], [1, 3], [1, 4]], [[3, 2]], [[4, 3], [4, 4], [3, 4]], [[1, 1], [1, 2], [1, 3], [1, 4]], [[3, 2]], [[4, 3], [4, 4], [3, 4]], [[1, 1], [1, 2], [1, 3], [1, 4]], [[3, 2]], [[4, 3], [4, 4], [3, 4]], [4, 6], [1, 0], [3, 4], [4, 6], [1, 0], [3, 4]]\n",
      "3 4\n",
      "3 4\n",
      "3 4\n",
      "3 4\n",
      "3 4\n",
      "3 4\n",
      "3 4\n",
      "3 4\n",
      "3 4\n",
      "3 4\n",
      "3 4\n",
      "3 4\n",
      "3 4\n",
      "3 4\n",
      "3 4\n",
      "3 4\n",
      "3 4\n",
      "3 4\n",
      "3 4\n",
      "3 4\n",
      "3 4\n",
      "3 4\n",
      "3 4\n",
      "3 4\n"
     ]
    }
   ],
   "metadata": {}
  },
  {
   "cell_type": "code",
   "execution_count": null,
   "source": [],
   "outputs": [],
   "metadata": {}
  }
 ],
 "metadata": {
  "orig_nbformat": 4,
  "language_info": {
   "name": "python",
   "version": "3.8.6",
   "mimetype": "text/x-python",
   "codemirror_mode": {
    "name": "ipython",
    "version": 3
   },
   "pygments_lexer": "ipython3",
   "nbconvert_exporter": "python",
   "file_extension": ".py"
  },
  "kernelspec": {
   "name": "python3",
   "display_name": "Python 3.8.6 64-bit ('.venv_pn': venv)"
  },
  "interpreter": {
   "hash": "b8d03bcec018b7435948b94e52deb3af8023643e69f263ff8688b007108bcdb9"
  }
 },
 "nbformat": 4,
 "nbformat_minor": 2
}