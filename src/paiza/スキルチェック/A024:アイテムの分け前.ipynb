{
 "cells": [
  {
   "cell_type": "code",
   "execution_count": 1,
   "source": [
    "import sys\n",
    "input = sys.stdin.readline\n",
    "n,k = list(map(int, input().split()))"
   ],
   "outputs": [],
   "metadata": {}
  },
  {
   "cell_type": "code",
   "execution_count": 37,
   "source": [
    "import itertools\n",
    "ans = 0\n",
    "\n",
    "for A in itertools.combinations(list(range(2*n)), n):\n",
    "  flag = True\n",
    "  A = list(A)\n",
    "  B = list(range(2*n))\n",
    "  s = 0\n",
    "  for a in A:\n",
    "    B.remove(a)\n",
    "  for a,b in zip(A,B):\n",
    "    s += abs(a - b)\n",
    "    if s > k:\n",
    "      flag = False\n",
    "      break\n",
    "  if flag:\n",
    "    ans += 1\n",
    "\n",
    "print(ans)"
   ],
   "outputs": [
    {
     "output_type": "stream",
     "name": "stdout",
     "text": [
      "6\n"
     ]
    }
   ],
   "metadata": {}
  },
  {
   "cell_type": "code",
   "execution_count": null,
   "source": [],
   "outputs": [],
   "metadata": {}
  }
 ],
 "metadata": {
  "orig_nbformat": 4,
  "language_info": {
   "name": "python",
   "version": "3.8.6",
   "mimetype": "text/x-python",
   "codemirror_mode": {
    "name": "ipython",
    "version": 3
   },
   "pygments_lexer": "ipython3",
   "nbconvert_exporter": "python",
   "file_extension": ".py"
  },
  "kernelspec": {
   "name": "python3",
   "display_name": "Python 3.8.6 64-bit ('.venv_pn': venv)"
  },
  "interpreter": {
   "hash": "b8d03bcec018b7435948b94e52deb3af8023643e69f263ff8688b007108bcdb9"
  }
 },
 "nbformat": 4,
 "nbformat_minor": 2
}