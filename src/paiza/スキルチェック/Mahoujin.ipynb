{
 "cells": [
  {
   "cell_type": "code",
   "execution_count": null,
   "source": [
    "# 3\n",
    "# 6 1 8\n",
    "# 7 5 3\n",
    "# 2 0 0"
   ],
   "outputs": [],
   "metadata": {}
  },
  {
   "cell_type": "code",
   "execution_count": 20,
   "source": [
    "n = int(input())\n",
    "square = [[int(m) for m in input().split()] for _ in range(n)]\n",
    "s = n * (n ** 2 + 1) // 2\n"
   ],
   "outputs": [],
   "metadata": {}
  },
  {
   "cell_type": "code",
   "execution_count": 26,
   "source": [
    "z = []\n",
    "for i, i_v in enumerate(square):\n",
    "  for j , j_v in enumerate(i_v):\n",
    "    if j_v == 0:\n",
    "      z.append((i, j))\n",
    "\n",
    "zi1, zj1 = z[0]\n",
    "zi2, zj2 = z[1]"
   ],
   "outputs": [],
   "metadata": {}
  },
  {
   "cell_type": "code",
   "execution_count": 40,
   "source": [
    "print(zi1, zj1, zi2, zj2)\n",
    "\n",
    "print(sum([col[zj2] for col in square]))\n",
    "print(square[0])"
   ],
   "outputs": [
    {
     "output_type": "stream",
     "name": "stdout",
     "text": [
      "2 1 2 2\n",
      "15\n",
      "[6, 1, 8]\n"
     ]
    }
   ],
   "metadata": {}
  },
  {
   "cell_type": "code",
   "execution_count": 37,
   "source": [
    "if zi1 != zi2:\n",
    "  square[zi1][zj1] = s - sum(square[:][zi1])\n",
    "  square[zi2][zj2] = s - sum(square[:][zi2])\n",
    "elif zi1 == zi2:\n",
    "  square[zi1][zj1] = s - sum([col[zj1] for col in square])\n",
    "  square[zi2][zj2] = s - sum([col[zj2] for col in square])\n"
   ],
   "outputs": [],
   "metadata": {}
  },
  {
   "cell_type": "code",
   "execution_count": 44,
   "source": [
    "# KKK = [6, 1, 8]\n",
    "for i in range(n):\n",
    "  print(' '.join(map(str, square[i])))"
   ],
   "outputs": [
    {
     "output_type": "stream",
     "name": "stdout",
     "text": [
      "6 1 8\n",
      "7 5 3\n",
      "2 9 4\n"
     ]
    }
   ],
   "metadata": {}
  },
  {
   "cell_type": "code",
   "execution_count": null,
   "source": [],
   "outputs": [],
   "metadata": {}
  }
 ],
 "metadata": {
  "orig_nbformat": 4,
  "language_info": {
   "name": "python"
  }
 },
 "nbformat": 4,
 "nbformat_minor": 2
}