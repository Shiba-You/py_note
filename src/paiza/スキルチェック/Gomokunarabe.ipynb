{
 "cells": [
  {
   "cell_type": "code",
   "execution_count": null,
   "source": [
    "# 入力１\n",
    "# XXOXO\n",
    "# OXOXX\n",
    "# OOOOO\n",
    "# OXOX.\n",
    "# XOXXO\n",
    "\n",
    "# 入力2\n",
    "# XXOXO\n",
    "# OXOXX\n",
    "# .OXXO\n",
    "# OXOO.\n",
    "# XXXXX\n",
    "\n",
    "# 入力3\n",
    "# O.OOO\n",
    "# OO.OX\n",
    "# O.O.O\n",
    "# XXXO.\n",
    "# OOXXO"
   ],
   "outputs": [],
   "metadata": {}
  },
  {
   "cell_type": "code",
   "execution_count": 7,
   "source": [
    "field = []\n",
    "for i in range(5):\n",
    "  row = input()\n",
    "  if (\"X\" not in row) and (\".\" not in row):\n",
    "    print(\"O\")\n",
    "    break\n",
    "  elif (\"O\" not in row) and (\".\" not in row):\n",
    "    print(\"X\")\n",
    "    break\n",
    "  if i == 4:\n",
    "    print(\"D\")"
   ],
   "outputs": [],
   "metadata": {}
  },
  {
   "cell_type": "code",
   "execution_count": null,
   "source": [
    "# 入力例1\n",
    "# XXOXO\n",
    "# OXOXX\n",
    "# OOOOO\n",
    "# OXOX.\n",
    "# XOXXO"
   ],
   "outputs": [],
   "metadata": {}
  },
  {
   "cell_type": "code",
   "execution_count": 20,
   "source": [
    "field = []\n",
    "for i in range(5):\n",
    "  row = list(input())\n",
    "  field.append(row)\n",
    "\n",
    "for i in range(5):\n",
    "  A = [row[i] for row in field]\n",
    "  if (\"X\" not in A) and (\".\" not in A):\n",
    "    print(\"O\")\n",
    "    break\n",
    "  elif (\"O\" not in A) and (\".\" not in A):\n",
    "    print(\"X\")\n",
    "    break\n",
    "  if i == 4:\n",
    "    print(\"D\")"
   ],
   "outputs": [],
   "metadata": {}
  },
  {
   "cell_type": "code",
   "execution_count": null,
   "source": [
    "field = []\n",
    "for i in range(5):\n",
    "  row = list(input())\n",
    "  field.append(row)"
   ],
   "outputs": [],
   "metadata": {}
  },
  {
   "cell_type": "code",
   "execution_count": null,
   "source": [],
   "outputs": [],
   "metadata": {}
  }
 ],
 "metadata": {
  "orig_nbformat": 4,
  "language_info": {
   "name": "python"
  }
 },
 "nbformat": 4,
 "nbformat_minor": 2
}