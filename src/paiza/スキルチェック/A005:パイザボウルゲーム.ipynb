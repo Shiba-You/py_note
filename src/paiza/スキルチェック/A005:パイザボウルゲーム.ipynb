{
 "cells": [
  {
   "cell_type": "markdown",
   "metadata": {},
   "source": [
    "パイザボールはボールを投げてピンを沢山倒すゲームです。倒したピンの数によって得点が得られます。\n",
    "1回のゲームはa回のフレームから成ります。各フレームにおいて、プレイヤーは以下の行為を行います。\n",
    "立っているb本のピンに向かってボールを投げます。\n",
    "1フレームにつき2回までボールを投げられます。二投目を投げる時には一投目で倒れなかったピンのみが立っています。\n",
    "二回投げて倒れたピンの合計本数がそのフレームにおける得点となります。\n",
    "一投目でb本全てのピンを倒すことを「ストライク」と呼びます。ストライクを取った場合、そのフレームの得点はb点に加え、その次の二投で倒した本数が加算されます（従って、そのフレームの終了時にはまだフレームの得点が確定しません）。\n",
    "ストライクを取った場合、そのフレームの二投目は存在しません。\n",
    "二投目で全てのピンを倒すことを「スペア」と呼びます。スペアを取った場合、そのフレームの得点はb点に加え、その次の一投で倒した本数が加算されます（従って、そのフレームの終了時にはまだフレームの得点が確定しません）。\n",
    "\n",
    "ただし、最終フレームについては以下のルールが適用されます。\n",
    "\n",
    "最終フレームでスペアを取った場合、新たにb本ピンが立った状態で三投目を投げることが出来ます。この場合、三投目で倒した本数は、三投目の得点になると同時に二投目（スペア）の得点としても加算されるので、三投目で倒した本数は最終フレームの得点として二回足されることになります。\n",
    "最終フレームでストライクを取った場合、新たにb本ピンが立った状態で二投目を投げることができます。この場合、二投目で倒した本数は、二投目の得点になると同時に一投目（ストライク）の得点としても加算されるので、二投目で倒した本数は最終フレームの得点として二回足されることになります。\n",
    "上記に加え、さらに二投目でも全てのピンを倒すことが出来た場合（すなわちスペア）、また新たにb本ピンが立った状態で三投目を投げることが出来ます。この場合、三投目で倒した本数は、三投目の得点になると同時に一投目（ストライク）及び二投目（スペア）の得点としても加算されるので、三投目で倒した本数は最終フレームの得点として三回足されることになります。\n",
    "上記に加え、二投目で全てのピンを倒すことが出来なかった場合、倒れなかったピンのみが立っている状態で三投目を投げることができます。この場合、三投目で倒した本数は、三投目の得点になると同時に一投目（ストライク）の得点としても加算されるので、三投目で倒した本数は最終フレームの得点として二回足されることになります。"
   ]
  },
  {
   "cell_type": "code",
   "execution_count": 25,
   "metadata": {},
   "outputs": [
    {
     "name": "stdout",
     "output_type": "stream",
     "text": [
      "15\n",
      "29\n",
      "38\n",
      "42\n",
      "42\n",
      "43\n",
      "43\n",
      "53\n",
      "56\n",
      "59\n",
      "60\n",
      "68\n",
      "72\n",
      "72\n",
      "72\n",
      "73\n",
      "88\n",
      "100\n",
      "108\n",
      "110\n",
      "111\n",
      "120\n",
      "123\n",
      "124\n",
      "124\n"
     ]
    }
   ],
   "source": [
    "# 入力処理\n",
    "def init():\n",
    "  A, B, N = list(map(int, input().split()))\n",
    "  P = [0 if i == \"G\" else int(i) for i in list(input().split())]\n",
    "  S = 0\n",
    "  return A, B, N, P, S\n",
    "\n",
    "def init_test():\n",
    "  A, B, N = 10, 10, 18\n",
    "  P = [3, 4, 0, 1, 8, 2, 6, 2, 10, 2, 7, 0, 10, 10, 10, 9, 1, 3]\n",
    "  S = 0\n",
    "  return A, B, N, P, S\n",
    "\n",
    "# スコア計算\n",
    "def game(B, P, S):\n",
    "  i = -1\n",
    "  flag = 0\n",
    "  # 各フレーム1投目は，0(mod2)\n",
    "  for idx, p in enumerate(P):\n",
    "    i += 1\n",
    "    # ストライク時\n",
    "    if i % 2 == 0:\n",
    "      if p == B and not(idx == len(P)):\n",
    "        S += P[idx+1] + P[idx+2]\n",
    "        i += 1  \n",
    "      # 最初の投球\n",
    "      elif i % 2 == 0:\n",
    "        pre = p\n",
    "    # 2回目の投球でスペアが出たとき\n",
    "    elif pre + p == B and i % 2 == 1:\n",
    "      S += P[idx+1]\n",
    "    # 普通の投球\n",
    "    S += p\n",
    "  return S\n",
    "\n",
    "# 主要関数\n",
    "def main():\n",
    "  A, B, N, P, S = init()\n",
    "  # A, B, N, P, S = init_test()\n",
    "  S = game(B, P, S)\n",
    "  print(S)\n",
    "\n",
    "\n",
    "if __name__ == '__main__':\n",
    "  main()"
   ]
  },
  {
   "cell_type": "code",
   "execution_count": 28,
   "metadata": {},
   "outputs": [
    {
     "name": "stdout",
     "output_type": "stream",
     "text": [
      "88\n"
     ]
    }
   ],
   "source": [
    "# 入力処理\n",
    "def init():\n",
    "  A, B, N = list(map(int, input().split()))\n",
    "  P = [0 if i == \"G\" else int(i) for i in list(input().split())]\n",
    "  S = 0\n",
    "  return A, B, N, P, S\n",
    "\n",
    "def init_test():\n",
    "  A, B, N = 10, 10, 18\n",
    "  P = [3, 4, 0, 1, 8, 2, 6, 2, 10, 2, 7, 0, 10, 10, 10, 9, 1, 3]\n",
    "  S = 0\n",
    "  return A, B, N, P, S\n",
    "\n",
    "# スコア計算\n",
    "def game(B, P, S):\n",
    "  S = sum(P)\n",
    "  L = len(P)\n",
    "  i = 0\n",
    "  for idx, p in enumerate(P):\n",
    "    if idx+i % 2 == 0:\n",
    "      if p == B  and not(idx == L):\n",
    "        S += p + P[idx+1] + P[idx+2]\n",
    "        i += 1\n",
    "      else:\n",
    "        pre = p\n",
    "    elif pre + p == B and i % 2 == 1:\n",
    "      S += p + P[idx+1]\n",
    "  return S\n",
    "\n",
    "# 主要関数\n",
    "def main():\n",
    "  # A, B, N, P, S = init()\n",
    "  A, B, N, P, S = init_test()\n",
    "  S = game(B, P, S)\n",
    "  print(S)\n",
    "\n",
    "\n",
    "if __name__ == '__main__':\n",
    "  main()"
   ]
  },
  {
   "cell_type": "code",
   "execution_count": null,
   "metadata": {},
   "outputs": [],
   "source": []
  }
 ],
 "metadata": {
  "interpreter": {
   "hash": "52ce370d13d9f3e7fec0c208e08f00abccec8be27c64f36722ecec456d801487"
  },
  "kernelspec": {
   "display_name": "Python 3.8.6 64-bit ('.venv_pn': venv)",
   "name": "python3"
  },
  "language_info": {
   "codemirror_mode": {
    "name": "ipython",
    "version": 3
   },
   "file_extension": ".py",
   "mimetype": "text/x-python",
   "name": "python",
   "nbconvert_exporter": "python",
   "pygments_lexer": "ipython3",
   "version": "3.8.6"
  },
  "orig_nbformat": 4
 },
 "nbformat": 4,
 "nbformat_minor": 2
}
