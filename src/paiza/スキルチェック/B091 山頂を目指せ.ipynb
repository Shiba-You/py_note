{
 "cells": [
  {
   "cell_type": "markdown",
   "source": [
    "あなたは友達の地理学者にプログラムの作成を頼まれました。曰く、地図の中から山頂を見つけて、高い順にその標高を出力してほしい、とのことです。\n",
    "渡された地図は、格子状に区切られており、それぞれのマスに標高が書かれています。\n",
    "その地理学者によると、どうやら山頂とは周りの上下左右のマスよりも標高の高いマスと定義できるようです。\n",
    "それぞれのマスの標高が与えられるので、山頂を標高の高い順に標高を出力してください。\n",
    "\n",
    "ただし、地図の外の標高は 0 とみなします。\n",
    "\n",
    "以下は入力例 1 を図示したものです。\n"
   ],
   "metadata": {}
  },
  {
   "cell_type": "code",
   "execution_count": 1,
   "source": [
    "N = int(input())\n",
    "a = [list(map(int, input().split())) for i in range(N)]"
   ],
   "outputs": [],
   "metadata": {}
  },
  {
   "cell_type": "code",
   "execution_count": 11,
   "source": [
    "print(N)"
   ],
   "outputs": [
    {
     "output_type": "stream",
     "name": "stdout",
     "text": [
      "3\n"
     ]
    }
   ],
   "metadata": {}
  },
  {
   "cell_type": "code",
   "execution_count": 20,
   "source": [
    "ans = []\n",
    "for i in range(N):\n",
    "  for j in range(N):\n",
    "    cw = a[i][j]\n",
    "    tmp = [] # 上 左 右 下\n",
    "    if i == 0:\n",
    "      tmp.append(cw - 0)\n",
    "      if j == 0:\n",
    "        tmp.append(cw - 0)\n",
    "        tmp.append(cw - a[i][j+1])\n",
    "      elif j == N-1:\n",
    "        tmp.append(cw - a[i][j-1])\n",
    "        tmp.append(cw - 0)\n",
    "      else:\n",
    "        tmp.append(cw - a[i][j-1])\n",
    "        tmp.append(cw - a[i][j+1])\n",
    "      tmp.append(cw - a[i+1][j])\n",
    "    elif i == N-1:\n",
    "      tmp.append(cw - a[i-1][j])\n",
    "      if j == 0:\n",
    "        tmp.append(cw - 0)\n",
    "        tmp.append(cw - a[i][j+1])\n",
    "      elif j == N-1:\n",
    "        tmp.append(cw - a[i][j-1])\n",
    "        tmp.append(cw - 0)\n",
    "      else:\n",
    "        tmp.append(cw - a[i][j-1])\n",
    "        tmp.append(cw - a[i][j+1])\n",
    "      tmp.append(cw - 0)\n",
    "    else:\n",
    "      tmp.append(cw - a[i-1][j])\n",
    "      if j == 0:\n",
    "        tmp.append(cw - 0)\n",
    "        tmp.append(cw - a[i][j+1])\n",
    "      elif j == N-1:\n",
    "        tmp.append(cw - a[i][j-1])\n",
    "        tmp.append(cw - 0)\n",
    "      else:\n",
    "        tmp.append(cw - a[i][j-1])\n",
    "        tmp.append(cw - a[i][j+1])\n",
    "      tmp.append(cw - a[i+1][j])\n",
    "    if min(tmp) > 0:\n",
    "      ans.append(cw)\n",
    "\n",
    "ans = sorted(ans, reverse=True)\n",
    "for i in range(len(ans)):\n",
    "  print(ans[i])\n",
    "    "
   ],
   "outputs": [
    {
     "output_type": "stream",
     "name": "stdout",
     "text": [
      "90\n",
      "30\n"
     ]
    }
   ],
   "metadata": {}
  },
  {
   "cell_type": "code",
   "execution_count": 19,
   "source": [
    "descans = sorted(ans, reverse=True)\n",
    "print(descans)"
   ],
   "outputs": [
    {
     "output_type": "stream",
     "name": "stdout",
     "text": [
      "[90, 30]\n"
     ]
    }
   ],
   "metadata": {}
  },
  {
   "cell_type": "code",
   "execution_count": null,
   "source": [],
   "outputs": [],
   "metadata": {}
  }
 ],
 "metadata": {
  "orig_nbformat": 4,
  "language_info": {
   "name": "python",
   "version": "3.6.10",
   "mimetype": "text/x-python",
   "codemirror_mode": {
    "name": "ipython",
    "version": 3
   },
   "pygments_lexer": "ipython3",
   "nbconvert_exporter": "python",
   "file_extension": ".py"
  },
  "kernelspec": {
   "name": "python3",
   "display_name": "Python 3.6.10 64-bit ('3.6.10': pyenv)"
  },
  "interpreter": {
   "hash": "f3dd5439508917ac8dfdfb3b9d1a34752de309c813e0a39edad908e490b802ed"
  }
 },
 "nbformat": 4,
 "nbformat_minor": 2
}