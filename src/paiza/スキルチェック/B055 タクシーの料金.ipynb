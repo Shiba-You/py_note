{
 "cells": [
  {
   "cell_type": "markdown",
   "source": [
    "PAIZAタウンでは、公共交通の手段としてタクシーが発達しています。\n",
    "様々な料金のタクシーがあるため、初乗りが安くても最終的な運賃が高いタクシーを拾ってしまうかもしれません。\n",
    "\n",
    "タクシーの運賃は初乗り距離と初乗り運賃、加算距離、加算運賃で決まります。\n",
    "タクシーの乗車距離が初乗り距離未満の場合は、初乗り運賃だけで移動することができます。\n",
    "初乗り距離と同じ距離だけ乗車した段階で、運賃に加算運賃が追加され、以後加算距離を移動する毎に加算運賃が追加されていきます。\n",
    "\n",
    "あなたは今いる場所から X メートル離れた場所へ、 1 台のタクシーで移動しようとしています。\n",
    "利用可能なタクシー N 台の料金のパラメータが与えられるので、タクシーで X メートル移動した際の最安値と最高値を計算してください。\n",
    "\n",
    "例えば、 入力例 1 の場合は以下のように 600円 が最安値となり、 800円 が最高値となります。\n",
    "1 番目のタクシーは初乗り距離以上なので加算距離 1 つ分が追加され 600円 かかります。\n",
    "2 番目のタクシーは初乗り距離までで到着するので、初乗り運賃のみで 800円 かかります"
   ],
   "metadata": {}
  },
  {
   "cell_type": "code",
   "execution_count": 17,
   "source": [
    "N, X = list(map(int, input().split()))\n",
    "a = [list(map(int, input().split())) for i in range(N)]\n"
   ],
   "outputs": [],
   "metadata": {}
  },
  {
   "cell_type": "code",
   "execution_count": 14,
   "source": [
    "print(N, X)\n",
    "print(a)"
   ],
   "outputs": [
    {
     "output_type": "stream",
     "name": "stdout",
     "text": [
      "2 700\n",
      "[[600, 200, 200, 400], [900, 800, 400, 500]]\n"
     ]
    }
   ],
   "metadata": {}
  },
  {
   "cell_type": "code",
   "execution_count": 21,
   "source": [
    "ans = []\n",
    "for i in a:\n",
    "  temp = i[0]\n",
    "  money = i[1]\n",
    "  while temp <= X:\n",
    "    temp += i[2]\n",
    "    money += i[3]\n",
    "  ans.append(money)\n",
    "print(min(ans), max(ans))"
   ],
   "outputs": [
    {
     "output_type": "stream",
     "name": "stdout",
     "text": [
      "600 200\n",
      "========\n",
      "800 600\n",
      "900 800\n",
      "========\n",
      "200 200\n",
      "========\n",
      "400 500\n",
      "600 800\n",
      "800 1100\n",
      "---------\n",
      "[600, 800, 1100]\n",
      "600 1100\n"
     ]
    }
   ],
   "metadata": {}
  },
  {
   "cell_type": "code",
   "execution_count": null,
   "source": [],
   "outputs": [],
   "metadata": {}
  }
 ],
 "metadata": {
  "orig_nbformat": 4,
  "language_info": {
   "name": "python",
   "version": "3.6.10",
   "mimetype": "text/x-python",
   "codemirror_mode": {
    "name": "ipython",
    "version": 3
   },
   "pygments_lexer": "ipython3",
   "nbconvert_exporter": "python",
   "file_extension": ".py"
  },
  "kernelspec": {
   "name": "python3",
   "display_name": "Python 3.6.10 64-bit ('3.6.10': pyenv)"
  },
  "interpreter": {
   "hash": "f3dd5439508917ac8dfdfb3b9d1a34752de309c813e0a39edad908e490b802ed"
  }
 },
 "nbformat": 4,
 "nbformat_minor": 2
}