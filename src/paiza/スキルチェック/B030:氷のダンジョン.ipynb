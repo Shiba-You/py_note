{
 "cells": [
  {
   "cell_type": "markdown",
   "metadata": {},
   "source": [
    "H × W の格子形状で表されるダンジョンを探検しましょう。\n",
    "\n",
    "このダンジョンの各マスには、氷の床または土の床が存在し、周囲は壁で囲まれています。 あなたは初めに土の床のあるマスにいて、これから N 回の移動を試みることになりました。\n",
    "\n",
    "このダンジョンでは氷の床に足を踏み入れると、 土の床のマスにくるか壁にぶつかるまで、足を出した方向に滑り続けてしまいます。 N 回の各移動の方向が与えられるので、 N 回の移動を終えた後にあなたがいるマスの座標を答えてください。\n",
    "\n",
    "なお、 座標値の y が大きくなる方向を下、 x が大きくなる方向を右であるとします。\n",
    "\n",
    "入力例1は以下のようになります。"
   ]
  },
  {
   "cell_type": "code",
   "execution_count": 24,
   "metadata": {},
   "outputs": [
    {
     "name": "stdout",
     "output_type": "stream",
     "text": [
      "2 2\n",
      "x, y:  0 -1\n",
      "ride\n",
      "2 0\n",
      "x, y:  1 0\n",
      "ride\n",
      "4 0\n",
      "x, y:  0 1\n",
      "4 1\n",
      "x, y:  0 1\n",
      "4 2\n",
      "x, y:  0 1\n",
      "ride\n",
      "4 4\n",
      "x, y:  -1 0\n",
      "3 4\n",
      "x, y:  -1 0\n",
      "ride\n",
      "1 4\n",
      "x, y:  0 -1\n",
      "1 3\n",
      "x, y:  0 -1\n",
      "1 2\n",
      "x, y:  0 -1\n",
      "ride\n",
      "1 0\n"
     ]
    }
   ],
   "source": [
    "# 入力処理\n",
    "def init():\n",
    "  H, W = list(map(int, input().split()))\n",
    "  g = [list(input()) for _ in range(H)]\n",
    "  s_x, s_y = list(map(int, input().split()))\n",
    "  N = int(input())\n",
    "  d = [input() for _ in range(N)]\n",
    "  return H, W, g, s_x, s_y, N, d\n",
    "\n",
    "def init_test():\n",
    "  H, W = 5, 5\n",
    "  g = [['.', '#', '#', '#', '.'], ['#', '.', '#', '.', '#'], ['#', '#', '.', '.', '#'], ['.', '.', '#', '#', '.'], ['#', '#', '.', '.', '#']]\n",
    "  s_x, s_y = 2,2\n",
    "  N = 5\n",
    "  d = ['U', 'R', 'D', 'L', 'U']\n",
    "  return H, W, g, s_x, s_y, N, d\n",
    "\n",
    "# 移動処理\n",
    "def move(H, W, g, s_x, s_y, d):\n",
    "  while True:\n",
    "    x, y = 0, 0\n",
    "    if d == \"U\":\n",
    "      y -= 1\n",
    "    elif d == \"R\":\n",
    "      x += 1\n",
    "    elif d == \"L\":\n",
    "      x -= 1\n",
    "    elif d == \"D\":\n",
    "      y += 1\n",
    "    if not(0 <= (s_x+x) < W) or not(0 <= (s_y+y) < H):\n",
    "      print(\"over\")\n",
    "      break\n",
    "    elif g[s_x*x][s_y+y] == \".\":\n",
    "      print(\"ride\")\n",
    "      s_x += x\n",
    "      s_y += y\n",
    "      break\n",
    "    print(s_x, s_y)\n",
    "    print(\"x, y: \",x, y)\n",
    "    s_x += x\n",
    "    s_y += y\n",
    "  return s_x, s_y\n",
    "\n",
    "# 主要関数\n",
    "def main():\n",
    "  # H, W, g, s_x, s_y, N, d = init()\n",
    "  H, W, g, s_x, s_y, N, d = init_test()\n",
    "  for dr in d:\n",
    "    s_x, s_y = move(H, W, g, s_x, s_y, dr)\n",
    "    # print(s_x, s_y)\n",
    "  print(s_x, s_y)\n",
    "\n",
    "\n",
    "if __name__ == '__main__':\n",
    "  main()"
   ]
  },
  {
   "cell_type": "code",
   "execution_count": 23,
   "metadata": {},
   "outputs": [
    {
     "name": "stdout",
     "output_type": "stream",
     "text": [
      ".\n"
     ]
    }
   ],
   "source": [
    "g = [['.', '#', '#', '#', '.'], \\\n",
    "     ['#', '.', '#', '.', '#'], \\\n",
    "     ['#', '#', '.', '.', '#'], \\\n",
    "     ['.', '.', '#', '#', '.'], \\\n",
    "     ['#', '#', '.', '.', '#']]\n",
    "print(g[0][4])"
   ]
  },
  {
   "cell_type": "code",
   "execution_count": null,
   "metadata": {},
   "outputs": [],
   "source": []
  }
 ],
 "metadata": {
  "interpreter": {
   "hash": "52ce370d13d9f3e7fec0c208e08f00abccec8be27c64f36722ecec456d801487"
  },
  "kernelspec": {
   "display_name": "Python 3.8.6 64-bit ('.venv_pn': venv)",
   "name": "python3"
  },
  "language_info": {
   "codemirror_mode": {
    "name": "ipython",
    "version": 3
   },
   "file_extension": ".py",
   "mimetype": "text/x-python",
   "name": "python",
   "nbconvert_exporter": "python",
   "pygments_lexer": "ipython3",
   "version": "3.8.6"
  },
  "orig_nbformat": 4
 },
 "nbformat": 4,
 "nbformat_minor": 2
}
