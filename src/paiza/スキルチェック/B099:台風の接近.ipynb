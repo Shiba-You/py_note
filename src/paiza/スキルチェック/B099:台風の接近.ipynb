{
 "cells": [
  {
   "cell_type": "markdown",
   "metadata": {},
   "source": [
    "今年も台風の季節がやってきました。天気が悪いときはできれば、家から出たくないものです。\n",
    "\n",
    "あなたはそれでも会社に行かなければいけないかもしれません。\n",
    "しかし、あなたが勤めている会社は、あまりに天気が悪く会社に行くことができない場合、自宅待機するよう決められています。\n",
    "\n",
    "自宅から会社までの道で、降水量が一定値以上の箇所が一箇所でもある場合、その道は通れないとし、会社に行くことができません。\n",
    "しかし、自宅から会社に行くことのできる道は複数あるので、どれか一つでも通行できる道がある場合は、その道を使って会社にいかなければなりません。\n",
    "あなたには、複数の道と降水量の情報が以下のような地図として与えられます。\n",
    "\n",
    "自宅を上側、会社を下側におきます。自宅から会社の間を N × N マス目で区切り、各マスの地区には降水量を表す整数が書かれています。"
   ]
  },
  {
   "cell_type": "code",
   "execution_count": null,
   "metadata": {},
   "outputs": [],
   "source": [
    "# 入力処理\n",
    "def init():\n",
    "  N, M = list(map(int, input().split()))\n",
    "  r = [True] * N\n",
    "  return N, M, r\n",
    "\n",
    "def check_root(M, l, r):\n",
    "  for i, m in enumerate(l):\n",
    "    if m >= M:\n",
    "      r[i] = False\n",
    "  return r\n",
    "\n",
    "# 主要関数\n",
    "def main():\n",
    "  N, M, r = init()\n",
    "  for _ in range(N):\n",
    "    l = list(map(int, input().split()))\n",
    "    r = check_root(M, l, r)\n",
    "  ar = [i+1 for i, x in enumerate(r) if x]\n",
    "  if not ar:\n",
    "    print(\"wait\")\n",
    "  else:\n",
    "    print(\" \".join(map(str, ar)))\n",
    "\n",
    "if __name__ == '__main__':\n",
    "  main()"
   ]
  },
  {
   "cell_type": "code",
   "execution_count": 34,
   "metadata": {},
   "outputs": [
    {
     "name": "stdout",
     "output_type": "stream",
     "text": [
      "3\n"
     ]
    }
   ],
   "source": [
    "# 入力処理\n",
    "def init():\n",
    "  N, M = list(map(int, input().split()))\n",
    "  r = list(range(N+1))\n",
    "  del r[0]\n",
    "  return N, M, r\n",
    "\n",
    "def check_root(M, l, r):\n",
    "  for i, m in enumerate(l):\n",
    "    if m >= M:\n",
    "      del r[i]\n",
    "  return r\n",
    "\n",
    "# 主要関数\n",
    "def main():\n",
    "  N, M, r = init()\n",
    "  for _ in range(N):\n",
    "    l = list(map(int, input().split()))\n",
    "    r = check_root(M, l, r)\n",
    "  print(\" \".join(map(str, r)))\n",
    "\n",
    "if __name__ == '__main__':\n",
    "  main()"
   ]
  },
  {
   "cell_type": "code",
   "execution_count": 33,
   "metadata": {},
   "outputs": [
    {
     "ename": "TypeError",
     "evalue": "can only concatenate list (not \"int\") to list",
     "output_type": "error",
     "traceback": [
      "\u001b[0;31m---------------------------------------------------------------------------\u001b[0m",
      "\u001b[0;31mTypeError\u001b[0m                                 Traceback (most recent call last)",
      "\u001b[0;32m/var/folders/l7/dnzbj6q943sgblf4l8v6kmfc0000gn/T/ipykernel_5823/3501214748.py\u001b[0m in \u001b[0;36m<module>\u001b[0;34m\u001b[0m\n\u001b[1;32m      1\u001b[0m \u001b[0mr\u001b[0m \u001b[0;34m=\u001b[0m \u001b[0mlist\u001b[0m\u001b[0;34m(\u001b[0m\u001b[0mrange\u001b[0m\u001b[0;34m(\u001b[0m\u001b[0;36m10\u001b[0m\u001b[0;34m)\u001b[0m\u001b[0;34m)\u001b[0m\u001b[0;34m\u001b[0m\u001b[0;34m\u001b[0m\u001b[0m\n\u001b[0;32m----> 2\u001b[0;31m \u001b[0mprint\u001b[0m\u001b[0;34m(\u001b[0m\u001b[0mr\u001b[0m\u001b[0;34m+\u001b[0m\u001b[0;36m1\u001b[0m\u001b[0;34m)\u001b[0m\u001b[0;34m\u001b[0m\u001b[0;34m\u001b[0m\u001b[0m\n\u001b[0m",
      "\u001b[0;31mTypeError\u001b[0m: can only concatenate list (not \"int\") to list"
     ]
    }
   ],
   "source": [
    "r = list(range(10))\n",
    "del r[0]\n",
    "print(r)"
   ]
  },
  {
   "cell_type": "code",
   "execution_count": null,
   "metadata": {},
   "outputs": [],
   "source": []
  }
 ],
 "metadata": {
  "interpreter": {
   "hash": "52ce370d13d9f3e7fec0c208e08f00abccec8be27c64f36722ecec456d801487"
  },
  "kernelspec": {
   "display_name": "Python 3.8.6 64-bit ('.venv_pn': venv)",
   "name": "python3"
  },
  "language_info": {
   "codemirror_mode": {
    "name": "ipython",
    "version": 3
   },
   "file_extension": ".py",
   "mimetype": "text/x-python",
   "name": "python",
   "nbconvert_exporter": "python",
   "pygments_lexer": "ipython3",
   "version": "3.8.6"
  },
  "orig_nbformat": 4
 },
 "nbformat": 4,
 "nbformat_minor": 2
}
