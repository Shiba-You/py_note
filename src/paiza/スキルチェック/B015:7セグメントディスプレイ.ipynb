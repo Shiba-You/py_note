{
 "cells": [
  {
   "cell_type": "markdown",
   "metadata": {},
   "source": [
    "7セグメントディスプレイは、7つのセグメントの点灯と消灯の状態を組み合わせて、0～9の数字を表示する装置です。\n",
    "ある7セグメントディスプレイ s の i 番目のセグメント s_i が点灯しているならばs_i=1と表し、消灯しているならば s_i=0 と表します。 s_1～s_7 を並べることで、7セグメントディスプレイの状態を表現することができます。\n",
    "\n",
    "下の表は各数字に対応する7セグメントディスプレイの状態の一覧です。\n",
    "あなたは趣味の電子工作で、2つの7セグメントディスプレイを横に並べて00～99の2桁の数字を表示する装置を作りました。 ところが、配線を間違ってしまったのか、意図しないセグメントが点灯・消灯してしまいます。\n",
    "\n",
    "この装置をよく観察すると、どうやら装置を対称移動したり回転移動すれば、正しく2桁の数字を表示することができるようです。\n",
    "\n",
    "・対称移動とは、装置の左右の端から等しい距離にある対称軸を基準に装置全体を奥行方向に180度回転させて、裏返す操作のことです。\n",
    "・回転移動とは、装置の中央にある中心点を中心に装置全体を平面的に180度回転させて、逆さまにする操作のことです。\n",
    "\n",
    "入力として装置の2つの7セグメントディスプレイ a と b の状態が与えられるので、次の各条件を満たすかどうか判定するプログラムを作成してください。\n",
    "\n",
    "1. 装置が正しく2桁の数字を表す\n",
    "2. 装置を対称移動すると正しく2桁の数字を表す\n",
    "3. 装置を回転移動すると正しく2桁の数字を表す\n",
    "\n",
    "それぞれの条件を満たすかどうか調べるプログラムを書いてください。"
   ]
  },
  {
   "cell_type": "markdown",
   "metadata": {},
   "source": [
    "str_0\t= \"1111110\"\n",
    "str_1\t= \"0110000\"\n",
    "str_2\t= \"1101101\"\n",
    "str_3\t= \"1111001\"\n",
    "str_4\t= \"0110011\"\n",
    "str_5\t= \"1011011\"\n",
    "str_6\t= \"1011111\"\n",
    "str_7\t= \"1110010\"\n",
    "str_8\t= \"1111111\"\n",
    "str_9\t= \"1111011\"\n",
    "\n",
    "\n",
    "91 Yes No No\n",
    "1 1 1 1 0 1 1\n",
    "0 1 1 0 0 0 0\n",
    "\n",
    "?? No Yes No\n",
    "0 0 0 0 1 1 0\n",
    "1 1 0 1 1 1 1\n"
   ]
  },
  {
   "cell_type": "code",
   "execution_count": 46,
   "metadata": {},
   "outputs": [
    {
     "name": "stdout",
     "output_type": "stream",
     "text": [
      " \n",
      "No\n"
     ]
    },
    {
     "ename": "IndexError",
     "evalue": "pop from empty list",
     "output_type": "error",
     "traceback": [
      "\u001b[0;31m---------------------------------------------------------------------------\u001b[0m",
      "\u001b[0;31mIndexError\u001b[0m                                Traceback (most recent call last)",
      "\u001b[0;32m/var/folders/l7/dnzbj6q943sgblf4l8v6kmfc0000gn/T/ipykernel_9065/3751472829.py\u001b[0m in \u001b[0;36m<module>\u001b[0;34m\u001b[0m\n\u001b[1;32m     42\u001b[0m \u001b[0;34m\u001b[0m\u001b[0m\n\u001b[1;32m     43\u001b[0m \u001b[0;32mif\u001b[0m \u001b[0m__name__\u001b[0m \u001b[0;34m==\u001b[0m \u001b[0;34m\"__main__\"\u001b[0m\u001b[0;34m:\u001b[0m\u001b[0;34m\u001b[0m\u001b[0;34m\u001b[0m\u001b[0m\n\u001b[0;32m---> 44\u001b[0;31m   \u001b[0mmain\u001b[0m\u001b[0;34m(\u001b[0m\u001b[0;34m)\u001b[0m\u001b[0;34m\u001b[0m\u001b[0;34m\u001b[0m\u001b[0m\n\u001b[0m",
      "\u001b[0;32m/var/folders/l7/dnzbj6q943sgblf4l8v6kmfc0000gn/T/ipykernel_9065/3751472829.py\u001b[0m in \u001b[0;36mmain\u001b[0;34m()\u001b[0m\n\u001b[1;32m     38\u001b[0m   \u001b[0ma\u001b[0m\u001b[0;34m,\u001b[0m \u001b[0mb\u001b[0m \u001b[0;34m=\u001b[0m \u001b[0minit\u001b[0m\u001b[0;34m(\u001b[0m\u001b[0;34m)\u001b[0m\u001b[0;34m\u001b[0m\u001b[0;34m\u001b[0m\u001b[0m\n\u001b[1;32m     39\u001b[0m   \u001b[0mcheck\u001b[0m\u001b[0;34m(\u001b[0m\u001b[0ma\u001b[0m\u001b[0;34m,\u001b[0m\u001b[0mb\u001b[0m\u001b[0;34m)\u001b[0m\u001b[0;34m\u001b[0m\u001b[0;34m\u001b[0m\u001b[0m\n\u001b[0;32m---> 40\u001b[0;31m   \u001b[0mcheck_symt\u001b[0m\u001b[0;34m(\u001b[0m\u001b[0ma\u001b[0m\u001b[0;34m,\u001b[0m\u001b[0mb\u001b[0m\u001b[0;34m)\u001b[0m\u001b[0;34m\u001b[0m\u001b[0;34m\u001b[0m\u001b[0m\n\u001b[0m\u001b[1;32m     41\u001b[0m   \u001b[0mcheck_rota\u001b[0m\u001b[0;34m(\u001b[0m\u001b[0ma\u001b[0m\u001b[0;34m,\u001b[0m\u001b[0mb\u001b[0m\u001b[0;34m)\u001b[0m\u001b[0;34m\u001b[0m\u001b[0;34m\u001b[0m\u001b[0m\n\u001b[1;32m     42\u001b[0m \u001b[0;34m\u001b[0m\u001b[0m\n",
      "\u001b[0;32m/var/folders/l7/dnzbj6q943sgblf4l8v6kmfc0000gn/T/ipykernel_9065/3751472829.py\u001b[0m in \u001b[0;36mcheck_symt\u001b[0;34m(a, b)\u001b[0m\n\u001b[1;32m     18\u001b[0m \u001b[0;32mdef\u001b[0m \u001b[0mcheck_symt\u001b[0m\u001b[0;34m(\u001b[0m\u001b[0ma\u001b[0m\u001b[0;34m,\u001b[0m \u001b[0mb\u001b[0m\u001b[0;34m)\u001b[0m\u001b[0;34m:\u001b[0m\u001b[0;34m\u001b[0m\u001b[0;34m\u001b[0m\u001b[0m\n\u001b[1;32m     19\u001b[0m   \u001b[0ma_d\u001b[0m \u001b[0;34m=\u001b[0m \u001b[0mlist\u001b[0m\u001b[0;34m(\u001b[0m\u001b[0mreversed\u001b[0m\u001b[0;34m(\u001b[0m\u001b[0mb\u001b[0m\u001b[0;34m)\u001b[0m\u001b[0;34m)\u001b[0m\u001b[0;34m\u001b[0m\u001b[0;34m\u001b[0m\u001b[0m\n\u001b[0;32m---> 20\u001b[0;31m   \u001b[0mh\u001b[0m \u001b[0;34m=\u001b[0m \u001b[0;34m[\u001b[0m\u001b[0ma_d\u001b[0m\u001b[0;34m.\u001b[0m\u001b[0mpop\u001b[0m\u001b[0;34m(\u001b[0m\u001b[0;34m-\u001b[0m\u001b[0;36m1\u001b[0m\u001b[0;34m)\u001b[0m\u001b[0;34m]\u001b[0m\u001b[0;34m\u001b[0m\u001b[0;34m\u001b[0m\u001b[0m\n\u001b[0m\u001b[1;32m     21\u001b[0m   \u001b[0mf\u001b[0m \u001b[0;34m=\u001b[0m \u001b[0;34m[\u001b[0m\u001b[0ma_d\u001b[0m\u001b[0;34m.\u001b[0m\u001b[0mpop\u001b[0m\u001b[0;34m(\u001b[0m\u001b[0;36m0\u001b[0m\u001b[0;34m)\u001b[0m\u001b[0;34m]\u001b[0m\u001b[0;34m\u001b[0m\u001b[0;34m\u001b[0m\u001b[0m\n\u001b[1;32m     22\u001b[0m   \u001b[0ma_d\u001b[0m \u001b[0;34m=\u001b[0m \u001b[0mh\u001b[0m \u001b[0;34m+\u001b[0m \u001b[0ma_d\u001b[0m \u001b[0;34m+\u001b[0m \u001b[0mf\u001b[0m\u001b[0;34m\u001b[0m\u001b[0;34m\u001b[0m\u001b[0m\n",
      "\u001b[0;31mIndexError\u001b[0m: pop from empty list"
     ]
    }
   ],
   "source": [
    "# 入力処理\n",
    "def init():\n",
    "  a = list(map(int, input().split()))\n",
    "  b = list(map(int, input().split()))\n",
    "  return a, b\n",
    "\n",
    "# 数値成立の確認\n",
    "def check(a, b):\n",
    "  a = \"\".join(map(str, a))\n",
    "  b = \"\".join(map(str, b))\n",
    "  l\t= [\"1111110\", \"0110000\", \"1101101\", \"1111001\", \"0110011\", \"1011011\", \"1011111\", \"1110010\", \"1111111\", \"1111011\"]\n",
    "  if (a in l) and (b in l):\n",
    "    print(\"Yes\")\n",
    "  else:\n",
    "    print(\"No\")\n",
    "\n",
    "# 対称の確認\n",
    "def check_symt(a, b):\n",
    "  a_d = list(reversed(b))\n",
    "  h = [a_d.pop(-1)]\n",
    "  f = [a_d.pop(0)]\n",
    "  a_d = h + a_d + f\n",
    "  b_d = list(reversed(a))\n",
    "  h = [b_d.pop(-1)]\n",
    "  f = [b_d.pop(0)]\n",
    "  b_d = h + b_d + f\n",
    "  check(a_d, b_d)\n",
    "\n",
    "# 回転の確認\n",
    "def check_rota(a, b):\n",
    "  a_d = b[3:6] + b[:3] + [b[-1]]\n",
    "  b_d = a[3:6] + a[:3] + [a[-1]]\n",
    "  check(a_d, b_d)\n",
    "\n",
    "# 主要関数\n",
    "def main():\n",
    "  a, b = init()\n",
    "  check(a,b)\n",
    "  check_symt(a,b)\n",
    "  check_rota(a,b)\n",
    "\n",
    "if __name__ == \"__main__\":\n",
    "  main()"
   ]
  },
  {
   "cell_type": "code",
   "execution_count": null,
   "metadata": {},
   "outputs": [],
   "source": []
  }
 ],
 "metadata": {
  "interpreter": {
   "hash": "52ce370d13d9f3e7fec0c208e08f00abccec8be27c64f36722ecec456d801487"
  },
  "kernelspec": {
   "display_name": "Python 3.8.6 64-bit ('.venv_pn': venv)",
   "name": "python3"
  },
  "language_info": {
   "codemirror_mode": {
    "name": "ipython",
    "version": 3
   },
   "file_extension": ".py",
   "mimetype": "text/x-python",
   "name": "python",
   "nbconvert_exporter": "python",
   "pygments_lexer": "ipython3",
   "version": "3.8.6"
  },
  "orig_nbformat": 4
 },
 "nbformat": 4,
 "nbformat_minor": 2
}
