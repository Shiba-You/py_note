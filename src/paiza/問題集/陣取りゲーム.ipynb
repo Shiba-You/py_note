{
 "cells": [
  {
   "cell_type": "markdown",
   "source": [
    "# 1. 1マスの陣取り"
   ],
   "metadata": {}
  },
  {
   "cell_type": "markdown",
   "source": [
    "盤面の情報が与えられます。現在プレイヤーのいるマスは '*' になっており、そのマスはプレイヤーの陣地です。\n",
    "\n",
    "プレイヤーは現在の陣地から上下左右に 1 マス移動することで到達できるマスをプレイヤーの陣地にします。\n",
    "\n",
    "プレイヤーの陣地を '*' にした盤面を出力してください。"
   ],
   "metadata": {}
  },
  {
   "cell_type": "code",
   "execution_count": 16,
   "source": [
    "h, w = list(map(int, input().split()))\n",
    "s = [list(input()) for _ in range(h)]"
   ],
   "outputs": [],
   "metadata": {}
  },
  {
   "cell_type": "code",
   "execution_count": 19,
   "source": [
    "# h, w = 3, 3\n",
    "# s = [['.', '.', '.'],\\\n",
    "#   ['.', '*', '.'],\\\n",
    "#   ['.', '.', '.']]\n",
    "\n",
    "# h, w = 10, 10\n",
    "# s = [['*', '.', '.', '.', '.', '.', '.', '.', '.', '.'],\\\n",
    "#   ['.', '.', '.', '.', '.', '.', '.', '.', '.', '.'],\\\n",
    "#   ['.', '.', '.', '.', '.', '.', '.', '.', '.', '.'],\\\n",
    "#   ['.', '.', '.', '.', '.', '.', '.', '.', '.', '.'],\\\n",
    "#   ['.', '.', '.', '.', '.', '.', '.', '.', '.', '.'],\\\n",
    "#   ['.', '.', '.', '.', '.', '.', '.', '.', '.', '.'],\\\n",
    "#   ['.', '.', '.', '.', '.', '.', '.', '.', '.', '.'],\\\n",
    "#   ['.', '.', '.', '.', '.', '.', '.', '.', '.', '.'],\\\n",
    "#   ['.', '.', '.', '.', '.', '.', '.', '.', '.', '.'],\\\n",
    "#   ['.', '.', '.', '.', '.', '.', '.', '.', '.', '.']]"
   ],
   "outputs": [],
   "metadata": {}
  },
  {
   "cell_type": "code",
   "execution_count": 17,
   "source": [
    "flag = False\n",
    "\n",
    "for i in range(h):\n",
    "  for j in range(w):\n",
    "    if s[i][j] == \"*\":\n",
    "      if 0 <= i-1 < h:\n",
    "        s[i-1][j] = \"*\"\n",
    "      if 0 <= i+1 < h:\n",
    "        s[i+1][j] = \"*\"\n",
    "      if 0 <= j-1 < w:\n",
    "        s[i][j-1] = \"*\"\n",
    "      if 0 <= j+1 < w:\n",
    "        s[i][j+1] = \"*\"\n",
    "      flag = True\n",
    "      break\n",
    "  if flag:\n",
    "    break\n",
    "\n",
    "for i in range(len(s)):\n",
    "  print(''.join(map(str, s[i])))"
   ],
   "outputs": [
    {
     "output_type": "stream",
     "name": "stdout",
     "text": [
      "**........\n",
      "*.........\n",
      "..........\n",
      "..........\n",
      "..........\n",
      "..........\n",
      "..........\n",
      "..........\n",
      "..........\n",
      "..........\n"
     ]
    }
   ],
   "metadata": {}
  },
  {
   "cell_type": "markdown",
   "source": [
    "# 2. 1マスの陣取り2"
   ],
   "metadata": {}
  },
  {
   "cell_type": "markdown",
   "source": [
    "盤面の情報が与えられます。現在プレイヤーのいるマスは '*' になっており、そのマスはプレイヤーの陣地です。\n",
    "\n",
    "プレイヤーは現在の陣地から上下左右に 1 マス移動することで到達できるマスをプレイヤーの陣地にします。\n",
    "ただし、障害物( '#' ) のあるマスは陣地にできません。\n",
    "\n",
    "プレイヤーの陣地を '*' にした盤面を出力してください。"
   ],
   "metadata": {}
  },
  {
   "cell_type": "code",
   "execution_count": 8,
   "source": [
    "h, w = list(map(int, input().split()))\n",
    "s = [list(input()) for _ in range(h)]"
   ],
   "outputs": [],
   "metadata": {}
  },
  {
   "cell_type": "code",
   "execution_count": 10,
   "source": [
    "# h, w = 3, 3\n",
    "# s = [['.', '.', '.'],\\\n",
    "#   ['.', '*', '.'],\\\n",
    "#   ['.', '.', '.']]\n",
    "\n",
    "h, w = 6, 6\n",
    "s = [['.', '.', '.', '.', '.', '.'],\\\n",
    "  ['.', '.', '.', '#', '.', '.'],\\\n",
    "  ['.', '.', '#', '*', '#', '.'],\\\n",
    "  ['.', '.', '.', '.', '.', '.'],\\\n",
    "  ['.', '.', '.', '.', '.', '.'],\\\n",
    "  ['.', '.', '.', '.', '.', '.']]"
   ],
   "outputs": [],
   "metadata": {}
  },
  {
   "cell_type": "code",
   "execution_count": 11,
   "source": [
    "flag = False\n",
    "for i in range(h):\n",
    "  for j in range(w):\n",
    "    if s[i][j] == \"*\":\n",
    "      if (0 <= i-1 < h) and not(s[i-1][j] == \"#\"):\n",
    "        s[i-1][j] = \"*\"\n",
    "      if (0 <= i+1 < h) and not(s[i+1][j] == \"#\"):\n",
    "        s[i+1][j] = \"*\"\n",
    "      if (0 <= j-1 < w) and not(s[i][j-1] == \"#\"):\n",
    "        s[i][j-1] = \"*\"\n",
    "      if (0 <= j+1 < w) and not(s[i][j+1] == \"#\"):\n",
    "        s[i][j+1] = \"*\"\n",
    "      flag = True\n",
    "      break\n",
    "  if flag:\n",
    "    break  \n",
    "for i in range(len(s)):\n",
    "  print(''.join(map(str, s[i])))"
   ],
   "outputs": [
    {
     "output_type": "stream",
     "name": "stdout",
     "text": [
      "......\n",
      "...#..\n",
      "..#*#.\n",
      "...*..\n",
      "......\n",
      "......\n"
     ]
    }
   ],
   "metadata": {}
  },
  {
   "cell_type": "markdown",
   "source": [
    "# 3. 陣取りの結果"
   ],
   "metadata": {}
  },
  {
   "cell_type": "markdown",
   "source": [
    "盤面の情報が与えられます。\n",
    "現在プレイヤーのいるマスは '*' になっており、そのマスはプレイヤーの陣地です。\n",
    "\n",
    "プレイヤーは次の操作をできなくなるまで続けます。\n",
    "\n",
    "・ プレイヤーは現在の陣地から上下左右に 1 マス移動することで到達できるマスをプレイヤーの陣地にする。ただし障害物( '#' )のマスは陣地にできない。\n",
    "\n",
    "操作を終えた後のプレイヤーの陣地を '*' にした盤面を出力してください。"
   ],
   "metadata": {}
  },
  {
   "cell_type": "code",
   "execution_count": 14,
   "source": [
    "from collections import deque\n",
    "h, w = list(map(int, input().split()))\n",
    "s = [list(input()) for _ in range(h)]"
   ],
   "outputs": [],
   "metadata": {}
  },
  {
   "cell_type": "code",
   "execution_count": 20,
   "source": [
    "# h, w = 3, 3\n",
    "# s = [['*', '.', '.'],\\\n",
    "#   ['.', '.', '.'],\\\n",
    "#   ['.', '.', '.']]\n",
    "\n",
    "h, w = 3, 3\n",
    "s = [['*', '.', '#'],\\\n",
    "  ['.', '.', '#'],\\\n",
    "  ['#', '#', '.']]"
   ],
   "outputs": [],
   "metadata": {}
  },
  {
   "cell_type": "code",
   "execution_count": 21,
   "source": [
    "q = deque([]) \n",
    "\n",
    "for i in range(h):\n",
    "  for j in range(w):\n",
    "    if s[i][j] == '*':\n",
    "      sy, sx = i, j\n",
    "\n",
    "q.append((sy,sx))\n",
    "\n",
    "while q:\n",
    "  cy, cx = q.popleft()\n",
    "\n",
    "  if (0 <= cy-1 < h) and (s[cy-1][cx] == \".\"):\n",
    "    s[cy-1][cx] = \"*\"\n",
    "    q.append((cy-1, cx))\n",
    "  if (0 <= cy+1 < h) and (s[cy+1][cx] == \".\"):\n",
    "    s[cy+1][cx] = \"*\"\n",
    "    q.append((cy+1, cx))\n",
    "  if (0 <= cx-1 < w) and (s[cy][cx-1] == \".\"):\n",
    "    s[cy][cx-1] = \"*\"\n",
    "    q.append((cy, cx-1))\n",
    "  if (0 <= cx+1 < w) and (s[cy][cx+1] == \".\"):\n",
    "    s[cy][cx+1] = \"*\"\n",
    "    q.append((cy, cx+1))\n",
    "\n",
    "for i in range(len(s)):\n",
    "  print(''.join(map(str, s[i])))"
   ],
   "outputs": [
    {
     "output_type": "stream",
     "name": "stdout",
     "text": [
      "**#\n",
      "**#\n",
      "##.\n"
     ]
    }
   ],
   "metadata": {}
  },
  {
   "cell_type": "markdown",
   "source": [
    "# 4. 陣取りの手間"
   ],
   "metadata": {}
  },
  {
   "cell_type": "markdown",
   "source": [
    "盤面の情報が与えられます。\n",
    "現在プレイヤーのいるマスは '*' になっており、そのマスはプレイヤーの陣地です。\n",
    "\n",
    "プレイヤーは次の操作をできなくなるまで続けます。\n",
    "\n",
    "・ プレイヤーは現在の陣地から上下左右に 1 マス移動することで到達できるマスをプレイヤーの陣地にする。ただし、障害物( '#' )のマスは陣地にできない。\n",
    "\n",
    "操作を終えた後のプレイヤーの陣地のマスを、陣地にするまでの操作回数にしたマップを出力してください。\n",
    "なお、はじめにプレイヤーのいるマスの操作回数は 0 とします。"
   ],
   "metadata": {}
  },
  {
   "cell_type": "code",
   "execution_count": 30,
   "source": [
    "from collections import deque\n",
    "h, w = list(map(int, input().split()))\n",
    "s = [list(input()) for _ in range(h)]"
   ],
   "outputs": [],
   "metadata": {}
  },
  {
   "cell_type": "code",
   "execution_count": 32,
   "source": [
    "# h, w = 3, 3\n",
    "# s = [['*', '.', '.'],\\\n",
    "#   ['.', '.', '.'],\\\n",
    "#   ['.', '.', '.']]\n",
    "\n",
    "h, w = 5, 2\n",
    "s = [['.', '*'],\\\n",
    "  ['.', '#'],\\\n",
    "  ['.', '.'],\\\n",
    "  ['#', '.'],\\\n",
    "  ['.', '.']]"
   ],
   "outputs": [],
   "metadata": {}
  },
  {
   "cell_type": "code",
   "execution_count": 33,
   "source": [
    "q = deque([])\n",
    "\n",
    "for i in range(h):\n",
    "  for j in range(w):\n",
    "    if s[i][j] == \"*\":\n",
    "      s[i][j] = 0\n",
    "      q.append((i,j,0))\n",
    "\n",
    "while q:\n",
    "  cy, cx, t = q.popleft()\n",
    "  \n",
    "  if (0 <= cy-1 < h) and (s[cy-1][cx] == \".\"):\n",
    "    s[cy-1][cx] = t+1\n",
    "    q.append((cy-1, cx, t+1))\n",
    "  if (0 <= cy+1 < h) and (s[cy+1][cx] == \".\"):\n",
    "    s[cy+1][cx] = t+1\n",
    "    q.append((cy+1, cx, t+1))\n",
    "  if (0 <= cx-1 < w) and (s[cy][cx-1] == \".\"):\n",
    "    s[cy][cx-1] = t+1\n",
    "    q.append((cy, cx-1, t+1))\n",
    "  if (0 <= cx+1 < w) and (s[cy][cx+1] == \".\"):\n",
    "    s[cy][cx+1] = t+1\n",
    "    q.append((cy, cx+1, t+1))\n",
    "\n",
    "\n",
    "for i in range(len(s)):\n",
    "  print(''.join(map(str, s[i])))"
   ],
   "outputs": [
    {
     "output_type": "stream",
     "name": "stdout",
     "text": [
      "10\n",
      "2#\n",
      "34\n",
      "#5\n",
      "76\n"
     ]
    }
   ],
   "metadata": {}
  },
  {
   "cell_type": "markdown",
   "source": [
    "# 5. 陣取りのターン数"
   ],
   "metadata": {}
  },
  {
   "cell_type": "markdown",
   "source": [
    "盤面の情報とマスを '?' にする距離の個数 N, マスを '?' にするときの距離 l_i が与えられます。\n",
    "\n",
    "現在プレイヤーのいるマスは '*' になっており、そのマスはプレイヤーの陣地です。\n",
    "\n",
    "プレイヤーは次の操作をできなくなるまで続けます。\n",
    "\n",
    "・ 現在の陣地から 1 マス移動することで到達できるマスをプレイヤーの陣地にして、'*' にする。\n",
    "ただし、障害物( '#' )のマスは陣地にできない。また、プレイヤーの開始時の位置からの距離が l_i であるとき、'*' の代わりに '?' にする。\n",
    "\n",
    "なお、はじめにプレイヤーのいるマスの開始時の位置からの距離は 0 とします。"
   ],
   "metadata": {}
  },
  {
   "cell_type": "code",
   "execution_count": 46,
   "source": [
    "from collections import deque\n",
    "# h, w, n = list(map(int, input().split()))\n",
    "s = [list(input()) for _ in range(h)]\n",
    "# l = [int(input()) for _ in range(n)]"
   ],
   "outputs": [],
   "metadata": {}
  },
  {
   "cell_type": "code",
   "execution_count": 47,
   "source": [
    "# h,w,n = 3,3,2\n",
    "# s = [['*', '.', '.'],\\\n",
    "#   ['.', '.', '.'],\\\n",
    "#   ['.', '.', '.']]\n",
    "# l = [1, 3]\n",
    "\n",
    "h,w,n = 10,10,5\n",
    "s = [['#', '#', '*', '#', '#', '#', '#', '#', '.', '.'],\\\n",
    "['.', '.', '.', '.', '.', '.', '.', '.', '.', '.'],\\\n",
    "['.', '#', '.', '#', '.', '.', '.', '.', '.', '.'],\\\n",
    "['#', '#', '.', '.', '#', '.', '.', '.', '.', '.'],\\\n",
    "['#', '#', '#', '#', '#', '#', '#', '#', '#', '.'],\\\n",
    "['.', '.', '.', '.', '.', '.', '.', '.', '.', '.'],\\\n",
    "['.', '.', '.', '.', '.', '.', '.', '.', '.', '.'],\\\n",
    "['#', '#', '#', '#', '#', '#', '#', '#', '#', '#'],\\\n",
    "['.', '.', '.', '.', '.', '.', '.', '.', '.', '.'],\\\n",
    "['.', '.', '.', '.', '.', '.', '.', '.', '.', '.']]\n",
    "l = [1,5,4,7,9]"
   ],
   "outputs": [
    {
     "output_type": "stream",
     "name": "stdout",
     "text": [
      "[['#', '#', '*', '#', '#', '#', '#', '#', '.', '.'], ['.', '.', '.', '.', '.', '.', '.', '.', '.', '.'], ['.', '#', '.', '#', '.', '.', '.', '.', '.', '.'], ['#', '#', '.', '.', '#', '.', '.', '.', '.', '.'], ['#', '#', '#', '#', '#', '#', '#', '#', '#', '.'], ['.', '.', '.', '.', '.', '.', '.', '.', '.', '.'], ['.', '.', '.', '.', '.', '.', '.', '.', '.', '.'], ['#', '#', '#', '#', '#', '#', '#', '#', '#', '#'], ['.', '.', '.', '.', '.', '.', '.', '.', '.', '.'], ['.', '.', '.', '.', '.', '.', '.', '.', '.', '.']]\n"
     ]
    }
   ],
   "metadata": {}
  },
  {
   "cell_type": "code",
   "execution_count": 43,
   "source": [
    "q = deque([])\n",
    "\n",
    "for i in range(h):\n",
    "  for j in range(w):\n",
    "    if s[i][j] == \"*\":\n",
    "      q.append((i,j,0))\n",
    "\n",
    "while q:\n",
    "  cy, cx, t = q.popleft()\n",
    "\n",
    "  if (0 <= cy-1 < h) and (s[cy-1][cx] == \".\"):\n",
    "    if t+1 in l:\n",
    "      s[cy-1][cx] = \"?\"\n",
    "    else:\n",
    "      s[cy-1][cx] = \"*\"\n",
    "    q.append((cy-1, cx, t+1))\n",
    "  if (0 <= cy+1 < h) and (s[cy+1][cx] == \".\"):\n",
    "    if t+1 in l:\n",
    "      s[cy+1][cx] = \"?\"\n",
    "    else:\n",
    "      s[cy+1][cx] = \"*\"\n",
    "    q.append((cy+1, cx, t+1))\n",
    "  if (0 <= cx-1 < w) and (s[cy][cx-1] == \".\"):\n",
    "    if t+1 in l:\n",
    "      s[cy][cx-1] = \"?\"\n",
    "    else:\n",
    "      s[cy][cx-1] = \"*\"\n",
    "    q.append((cy, cx-1, t+1))\n",
    "  if (0 <= cx+1 < w) and (s[cy][cx+1] == \".\"):\n",
    "    if t+1 in l:\n",
    "      s[cy][cx+1] = \"?\"\n",
    "    else:\n",
    "      s[cy][cx+1] = \"*\"\n",
    "    q.append((cy, cx+1, t+1))\n",
    "\n",
    "for i in range(len(s)):\n",
    "  print(\"\".join(map(str, s[i])))\n"
   ],
   "outputs": [
    {
     "output_type": "stream",
     "name": "stdout",
     "text": [
      "*?*\n",
      "?*?\n",
      "*?*\n"
     ]
    }
   ],
   "metadata": {}
  },
  {
   "cell_type": "code",
   "execution_count": null,
   "source": [],
   "outputs": [],
   "metadata": {}
  }
 ],
 "metadata": {
  "orig_nbformat": 4,
  "language_info": {
   "name": "python",
   "version": "3.8.6",
   "mimetype": "text/x-python",
   "codemirror_mode": {
    "name": "ipython",
    "version": 3
   },
   "pygments_lexer": "ipython3",
   "nbconvert_exporter": "python",
   "file_extension": ".py"
  },
  "kernelspec": {
   "name": "python3",
   "display_name": "Python 3.8.6 64-bit ('.venv_pn': venv)"
  },
  "interpreter": {
   "hash": "b8d03bcec018b7435948b94e52deb3af8023643e69f263ff8688b007108bcdb9"
  }
 },
 "nbformat": 4,
 "nbformat_minor": 2
}