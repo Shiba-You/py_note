{
 "cells": [
  {
   "cell_type": "markdown",
   "source": [
    "# 1. マップからの座標取得 "
   ],
   "metadata": {}
  },
  {
   "cell_type": "markdown",
   "source": [
    "マップの行数 H と列数 W とマップを表す H 行 W 列の文字列 S_1 ...S_H が与えられます。\n",
    "要素が '#' になっているマスが 1 つあるので、その y , x 座標 を答えてください。\n",
    "\n",
    "なお、マスの座標系は左上端のマスの座標を ( y , x ) = ( 0 , 0 ) とし、\n",
    "下方向が y 座標の正の向き、右方向が x 座標の正の向きとします。"
   ],
   "metadata": {}
  },
  {
   "cell_type": "markdown",
   "source": [
    "入力例1\n",
    "1 1\n",
    "#\n",
    "\n",
    "出力例1\n",
    "0 0\n",
    "\n",
    "入力例2\n",
    "3 3\n",
    ".#.\n",
    "...\n",
    "...\n",
    "\n",
    "出力例2\n",
    "0 1"
   ],
   "metadata": {}
  },
  {
   "cell_type": "code",
   "execution_count": 4,
   "source": [
    "h, w = list(map(int, input().split()))\n",
    "a = [list(input()) for i in range(h)]\n",
    "\n",
    "for i, val in enumerate(a):\n",
    "  if \"#\" in val:\n",
    "    print(i, val.index(\"#\"))\n",
    "    break"
   ],
   "outputs": [
    {
     "output_type": "stream",
     "name": "stdout",
     "text": [
      "0 1\n"
     ]
    }
   ],
   "metadata": {}
  },
  {
   "cell_type": "markdown",
   "source": [
    "# 2. 座標系での移動・方角"
   ],
   "metadata": {}
  },
  {
   "cell_type": "markdown",
   "source": [
    "開始時点の y , x 座標 と移動の回数 N が与えられます。\n",
    "続く N 行で移動の方角 d_1 ... d_N が与えられるので、与えられた順に移動をしたときの各移動後の y , x 座標 を答えてください。\n",
    "\n",
    "ただし、図の通り、上側（ y 軸の負の向き）を北とします。\n",
    "\n",
    "なお、マスの座標系は左上端のマスの座標を ( y , x ) = ( 0 , 0 ) とし、\n",
    "下方向が y 座標の正の向き、右方向が x 座標の正の向きとします。"
   ],
   "metadata": {}
  },
  {
   "cell_type": "markdown",
   "source": [
    "入力例1\n",
    "0 0 1\n",
    "N\n",
    "\n",
    "出力例1\n",
    "-1 0\n",
    "\n",
    "入力例2\n",
    "5 10 4\n",
    "N\n",
    "W\n",
    "E\n",
    "S\n",
    "\n",
    "出力例2\n",
    "4 10\n",
    "4 9\n",
    "4 10\n",
    "5 10"
   ],
   "metadata": {}
  },
  {
   "cell_type": "code",
   "execution_count": 5,
   "source": [
    "x, y, n = list(map(int, input().split()))\n",
    "a = [input() for _ in range(n)]"
   ],
   "outputs": [],
   "metadata": {}
  },
  {
   "cell_type": "code",
   "execution_count": 6,
   "source": [
    "here = [x, y]\n",
    "\n",
    "for val in a:\n",
    "  if val == \"N\":\n",
    "    \n",
    "  elif val == \"W\":\n",
    "  elif val == \"E\":\n",
    "  elif val == \"S\":"
   ],
   "outputs": [
    {
     "output_type": "stream",
     "name": "stdout",
     "text": [
      "['N', 'W']\n"
     ]
    }
   ],
   "metadata": {}
  },
  {
   "cell_type": "markdown",
   "source": [
    "# 3. 座標系での移動・向き"
   ],
   "metadata": {}
  },
  {
   "cell_type": "markdown",
   "source": [
    "開始時点の y , x 座標 と向いている方角 D が与えられます。\n",
    "続く 1 行で移動の向き d が与えられるので、その向きに移動した後の y , x 座標 を答えてください。\n",
    "移動前に向いている方角によって同じ移動の向きでも座標の変化が違うことに気をつけてください。\n",
    "\n",
    "なお、マスの座標系は左上端のマスの座標を ( y , x ) = ( 0 , 0 ) とし、\n",
    "下方向が y 座標の正の向き、右方向が x 座標の正の向きとします。\n",
    "以下の図を参考にしてみてください。"
   ],
   "metadata": {}
  },
  {
   "cell_type": "markdown",
   "source": [
    "入力例1\n",
    "4 2 N\n",
    "R\n",
    "\n",
    "出力例1\n",
    "4 3\n",
    "\n",
    "入力例2\n",
    "6 9 E\n",
    "R\n",
    "\n",
    "出力例2\n",
    "7 9"
   ],
   "metadata": {}
  },
  {
   "cell_type": "code",
   "execution_count": 11,
   "source": [
    "y, x, d = list(input().split())\n",
    "c = input()\n",
    "\n",
    "x, y = int(x), int(y)\n",
    "if d == \"N\":\n",
    "  if c == \"R\":\n",
    "    print(y, x+1)\n",
    "  elif c == \"L\":\n",
    "    print(y, x-1)\n",
    "elif d == \"E\":\n",
    "  if c == \"R\":\n",
    "    print(y+1, x)\n",
    "  elif c == \"L\":\n",
    "    print(y-1, x)\n",
    "elif d == \"S\":\n",
    "  if c == \"R\":\n",
    "    print(y, x-1)\n",
    "  elif c == \"L\":\n",
    "    print(y, x+1)\n",
    "elif d == \"W\":\n",
    "  if c == \"R\":\n",
    "    print(y-1, x)\n",
    "  elif c == \"L\":\n",
    "    print(y+1, x)"
   ],
   "outputs": [],
   "metadata": {}
  },
  {
   "cell_type": "markdown",
   "source": [
    "## 模範コード"
   ],
   "metadata": {}
  },
  {
   "cell_type": "code",
   "execution_count": null,
   "source": [
    "y, x, now_direction = input().split()\n",
    "y = int(y)\n",
    "x = int(x)\n",
    "d = input()\n",
    "lr = 1\n",
    "\n",
    "if d == \"L\":\n",
    "  lr = -1\n",
    "\n",
    "if now_direction == \"N\":\n",
    "  x += lr\n",
    "elif now_direction == \"E\":\n",
    "  y += lr\n",
    "elif now_direction == \"S\":\n",
    "  x -= lr\n",
    "elif now_direction == \"W\":\n",
    "  y -= lr\n",
    "\n",
    "print(y, x)"
   ],
   "outputs": [],
   "metadata": {}
  },
  {
   "cell_type": "markdown",
   "source": [
    "# 4. 座標系での規則的な移動"
   ],
   "metadata": {}
  },
  {
   "cell_type": "markdown",
   "source": [
    "開始時点の x , y 座標と移動の歩数 N が与えられます。\n",
    "以下の図のように時計回りに渦を巻くように移動を N 歩行った後の x , y 座標 を答えてください。\n",
    "\n",
    "なお、マスの座標系は下方向が y 座標の正の向き、右方向が x 座標の正の向きとします。"
   ],
   "metadata": {}
  },
  {
   "cell_type": "code",
   "execution_count": null,
   "source": [
    "\n",
    "20 21 22 23 24\n",
    "19  6  7  8  9\n",
    "18  5  0  1 10\n",
    "17  4  3  2 11\n",
    "16 15 14 13 12\n",
    "\n",
    "こんな感じ"
   ],
   "outputs": [],
   "metadata": {}
  },
  {
   "cell_type": "code",
   "execution_count": null,
   "source": [
    "入力例1\n",
    "0 0 3\n",
    "\n",
    "出力例1\n",
    "0 1\n",
    "\n",
    "入力例2\n",
    "38 47 27\n",
    "\n",
    "出力例2\n",
    "41 47"
   ],
   "outputs": [],
   "metadata": {}
  },
  {
   "cell_type": "code",
   "execution_count": 30,
   "source": [
    "x, y, step = list(map(int, input().split()))\n",
    "\n",
    "ks = [0, 3, 5, 7, 9, 11]\n",
    "\n",
    "for i, k in enumerate(ks):\n",
    "  if (k-2)**2 < step < (k**2-1):\n",
    "    step -= (k-2)**2 - 1\n",
    "    e = step // (k-1)\n",
    "    p = step % (k-1)\n",
    "    print(i, k, e, p)\n",
    "    if e == 0:\n",
    "      x += i\n",
    "      y += p - (i-2)\n",
    "    elif e == 1:\n",
    "      x -= p - (i-2)\n",
    "      y += i\n",
    "    elif e == 2:\n",
    "      x -= i\n",
    "      y -= p - (i-2)\n",
    "    elif e == 3:\n",
    "      x += p - (i-2)\n",
    "      y -= i\n",
    "  else:\n",
    "    continue\n",
    "print(x, y)"
   ],
   "outputs": [
    {
     "output_type": "stream",
     "name": "stdout",
     "text": [
      "3 7 1 3\n",
      "21 13\n"
     ]
    }
   ],
   "metadata": {}
  },
  {
   "cell_type": "markdown",
   "source": [
    "# 5. 座標系での向きの変わる移動"
   ],
   "metadata": {}
  },
  {
   "cell_type": "markdown",
   "source": [
    "開始時点の x , y 座標、移動の回数 N が与えられます。\n",
    "続くN行で移動の向き d1 ... dN が与えられるので、与えられた順に移動をしたときの各移動後の x , y 座標 を答えてください。\n",
    "移動者ははじめ北を向いています。\n",
    "\n",
    "なお、マスの座標系は下方向が y 座標の正の向き、右方向が x 座標の正の向きとします。\n",
    "\n",
    "・ 移動をするごとに向く方角が変わること\n",
    "・ 移動前に向いている方角によって同じ移動の向きでも座標の変化が違うこと\n",
    "の 2 点に気をつけてください。\n",
    "例えば、上の図の状態から右に移動を行った場合、下の図のような状態になります。\n"
   ],
   "metadata": {}
  },
  {
   "cell_type": "markdown",
   "source": [
    "入力例1\n",
    "3 5 1\n",
    "L\n",
    "\n",
    "出力例1\n",
    "2 5\n",
    "\n",
    "入力例2\n",
    "-18 45 6\n",
    "L\n",
    "L\n",
    "R\n",
    "R\n",
    "L\n",
    "R\n",
    "\n",
    "出力例2\n",
    "-19 45\n",
    "-19 46\n",
    "-20 46\n",
    "-20 45\n",
    "-21 45\n",
    "-21 44"
   ],
   "metadata": {}
  },
  {
   "cell_type": "code",
   "execution_count": 2,
   "source": [
    "x, y, step = list(map(int, input().split()))\n",
    "ds = [input() for _ in range(step)]\n",
    "\n",
    "cd = \"N\"\n",
    "\n",
    "for d in ds:\n",
    "  \n",
    "  if d == \"L\":\n",
    "    dd = -1\n",
    "  elif d == \"R\":\n",
    "    dd = 1\n",
    "  \n",
    "  if cd == \"N\":\n",
    "    x += dd\n",
    "    cd = \"E\"\n",
    "    if dd < 0:\n",
    "      cd = \"W\"\n",
    "  elif cd == \"E\":\n",
    "    y += dd\n",
    "    cd = \"S\"\n",
    "    if dd < 0:\n",
    "      cd = \"N\"\n",
    "  elif cd == \"S\":\n",
    "    x -= dd\n",
    "    cd = \"W\"\n",
    "    if dd < 0:\n",
    "      cd = \"E\"\n",
    "  elif cd == \"W\":\n",
    "    y -= dd\n",
    "    cd = \"N\"\n",
    "    if dd < 0:\n",
    "      cd = \"S\"\n",
    "  print(x, y)\n"
   ],
   "outputs": [
    {
     "output_type": "stream",
     "name": "stdout",
     "text": [
      "-19 45\n",
      "-19 46\n",
      "-20 46\n",
      "-20 45\n",
      "-21 45\n",
      "-21 44\n"
     ]
    }
   ],
   "metadata": {}
  }
 ],
 "metadata": {
  "orig_nbformat": 4,
  "language_info": {
   "name": "python",
   "version": "3.8.6",
   "mimetype": "text/x-python",
   "codemirror_mode": {
    "name": "ipython",
    "version": 3
   },
   "pygments_lexer": "ipython3",
   "nbconvert_exporter": "python",
   "file_extension": ".py"
  },
  "kernelspec": {
   "name": "python3",
   "display_name": "Python 3.8.6 64-bit ('.venv_pn': venv)"
  },
  "interpreter": {
   "hash": "b8d03bcec018b7435948b94e52deb3af8023643e69f263ff8688b007108bcdb9"
  }
 },
 "nbformat": 4,
 "nbformat_minor": 2
}