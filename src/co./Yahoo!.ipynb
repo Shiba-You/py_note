{
 "cells": [
  {
   "cell_type": "code",
   "execution_count": 1,
   "metadata": {
    "tags": []
   },
   "outputs": [
    {
     "output_type": "stream",
     "name": "stdout",
     "text": "25\n"
    }
   ],
   "source": [
    "x = int(input())\n",
    "print(x**2)"
   ]
  },
  {
   "cell_type": "code",
   "execution_count": 8,
   "metadata": {
    "tags": []
   },
   "outputs": [
    {
     "output_type": "stream",
     "name": "stdout",
     "text": "32\n"
    }
   ],
   "source": [
    "import numpy as np\n",
    "\n",
    "t = list(map(int, input().split()))\n",
    "t = sorted(t)\n",
    "l = t[1:6]\n",
    "print(int(np.mean(l)))"
   ]
  },
  {
   "cell_type": "code",
   "execution_count": 10,
   "metadata": {
    "tags": []
   },
   "outputs": [
    {
     "output_type": "stream",
     "name": "stdout",
     "text": "5\n[0, 1, 2, 3, 4]\n"
    }
   ],
   "source": [
    "p = [0,1,2,3,4,5]\n",
    "print(p[-1])\n",
    "p.pop(-1)\n",
    "print(p)"
   ]
  },
  {
   "cell_type": "code",
   "execution_count": 11,
   "metadata": {},
   "outputs": [
    {
     "output_type": "error",
     "ename": "ValueError",
     "evalue": "invalid literal for int() with base 10: ''",
     "traceback": [
      "\u001b[0;31m---------------------------------------------------------------------------\u001b[0m",
      "\u001b[0;31mValueError\u001b[0m                                Traceback (most recent call last)",
      "\u001b[0;32m<ipython-input-11-74652602b247>\u001b[0m in \u001b[0;36m<module>\u001b[0;34m\u001b[0m\n\u001b[1;32m      3\u001b[0m \u001b[0;31m#    print(line, end=\"\")\u001b[0m\u001b[0;34m\u001b[0m\u001b[0;34m\u001b[0m\u001b[0;34m\u001b[0m\u001b[0m\n\u001b[1;32m      4\u001b[0m \u001b[0;34m\u001b[0m\u001b[0m\n\u001b[0;32m----> 5\u001b[0;31m \u001b[0mN\u001b[0m \u001b[0;34m=\u001b[0m \u001b[0mint\u001b[0m\u001b[0;34m(\u001b[0m\u001b[0minput\u001b[0m\u001b[0;34m(\u001b[0m\u001b[0;34m)\u001b[0m\u001b[0;34m)\u001b[0m\u001b[0;34m\u001b[0m\u001b[0;34m\u001b[0m\u001b[0m\n\u001b[0m\u001b[1;32m      6\u001b[0m \u001b[0mnum\u001b[0m \u001b[0;34m=\u001b[0m \u001b[0;36m0\u001b[0m\u001b[0;34m\u001b[0m\u001b[0;34m\u001b[0m\u001b[0m\n\u001b[1;32m      7\u001b[0m \u001b[0morder\u001b[0m \u001b[0;34m=\u001b[0m \u001b[0;34m[\u001b[0m\u001b[0;34m]\u001b[0m\u001b[0;34m\u001b[0m\u001b[0;34m\u001b[0m\u001b[0m\n",
      "\u001b[0;31mValueError\u001b[0m: invalid literal for int() with base 10: ''"
     ]
    }
   ],
   "source": [
    "#import sys\n",
    "#for line in sys.stdin:\n",
    "#    print(line, end=\"\")\n",
    "\n",
    "N = int(input())\n",
    "num = 0\n",
    "order = []\n",
    "pinnum = []\n",
    "for _ in N:\n",
    "    q = input()\n",
    "    order.append(q)\n",
    "\n",
    "for i in N:\n",
    "    if order[i] == \"print\":\n",
    "        print(num)\n",
    "    elif order[i] == \"pin\":\n",
    "        pinnum.append(num)\n",
    "    elif order[i] == \"add\":\n",
    "        num += 1\n",
    "    elif order[i] == \"rollback\":\n",
    "        num = pinnum[-1]\n",
    "        pinnum.pop(-1)"
   ]
  },
  {
   "cell_type": "code",
   "execution_count": 32,
   "metadata": {
    "tags": []
   },
   "outputs": [
    {
     "output_type": "stream",
     "name": "stdout",
     "text": "[[[0, 3]], [[4, 10]], [[7, 5]], [[0, 3], [4, 10]], [[0, 3], [7, 5]], [[4, 10], [7, 5]], [[0, 3], [4, 10], [7, 5]]]\n"
    }
   ],
   "source": [
    "import itertools\n",
    "\n",
    "N, H, R = list(map(int, input().split()))\n",
    "H = []\n",
    "C = []\n",
    "HC = []\n",
    "result = []\n",
    "for _ in range(N):\n",
    "    hc_i = list(map(int, input().split()))\n",
    "    H.append(hc_i[0])\n",
    "    C.append(hc_i[1])\n",
    "    HC.append(hc_i)\n",
    "\n",
    "for n in range(1,len(HC)+1):\n",
    "    for conb in itertools.combinations(HC, n):\n",
    "        result.append(list(conb)) \n",
    "print(result)"
   ]
  },
  {
   "cell_type": "code",
   "execution_count": 29,
   "metadata": {
    "tags": []
   },
   "outputs": [
    {
     "output_type": "stream",
     "name": "stdout",
     "text": "<class 'list'>\n"
    }
   ],
   "source": [
    "print(type(result[1]))"
   ]
  }
 ],
 "metadata": {
  "language_info": {
   "codemirror_mode": {
    "name": "ipython",
    "version": 3
   },
   "file_extension": ".py",
   "mimetype": "text/x-python",
   "name": "python",
   "nbconvert_exporter": "python",
   "pygments_lexer": "ipython3",
   "version": 3
  },
  "orig_nbformat": 2,
  "kernelspec": {
   "name": "python_defaultSpec_1593746444073",
   "display_name": "Python 3.7.5 64-bit ('venv': venv)"
  }
 },
 "nbformat": 4,
 "nbformat_minor": 2
}