{
 "cells": [
  {
   "cell_type": "code",
   "execution_count": null,
   "metadata": {},
   "outputs": [],
   "source": [
    "# 入力処理\n",
    "def init():\n",
    "  L, R = [], []\n",
    "  n, q = list(map(int, input().split()))\n",
    "  for _ in range(n):\n",
    "    l, r = list(map(int, input().split()))\n",
    "    L.append(l); R.append(r)\n",
    "  return q, L, R\n",
    "\n",
    "def first_query(L, R, x, l, r):\n",
    "  L[x], R[x] = l, r\n",
    "  return L, R\n",
    "\n",
    "def second_query(L, R, x):\n",
    "  high, low, count = max(R), max(R), 0\n",
    "  rankersUpperScore = sorted(set(R), reverse=True)[:x]\n",
    "  for idx, score in enumerate(rankersUpperScore):\n",
    "    ranker = [i for i, x in enumerate(R) if x == score]\n",
    "    if len(ranker) > 1 and idx == len(rankersUpperScore)-1:\n",
    "      count -= len(ranker) - 1\n",
    "    for r in ranker:\n",
    "      low = min(L[r], low)\n",
    "  for r, l in zip(R, L):\n",
    "    if low <= r and l <= high:\n",
    "      count += 1\n",
    "  print(count)\n",
    "\n",
    "\n",
    "def main():    \n",
    "  q, L, R = init()\n",
    "  for _ in range(q):\n",
    "    Q = list(map(int, input().split()))\n",
    "    if Q[0] == 1:\n",
    "      L, R = first_query(L, R, Q[1], Q[2], Q[3])\n",
    "    else:\n",
    "      second_query(L, R, Q[1])\n",
    "      \n",
    "\n",
    "if __name__ == '__main__':\n",
    "    main()\n"
   ]
  },
  {
   "cell_type": "code",
   "execution_count": 27,
   "metadata": {},
   "outputs": [
    {
     "name": "stdout",
     "output_type": "stream",
     "text": [
      "[100, 30]\n"
     ]
    }
   ],
   "source": [
    "p = [[5, 7], [4, 5], [2, 5], [6, 7]]\n",
    "L, R = [0, 20], [10, 50]\n",
    "_L = sorted(L, reverse=True)\n",
    "print(L[:2])"
   ]
  },
  {
   "cell_type": "code",
   "execution_count": null,
   "metadata": {},
   "outputs": [],
   "source": []
  }
 ],
 "metadata": {
  "interpreter": {
   "hash": "52ce370d13d9f3e7fec0c208e08f00abccec8be27c64f36722ecec456d801487"
  },
  "kernelspec": {
   "display_name": "Python 3.8.6 64-bit ('.venv_pn': venv)",
   "language": "python",
   "name": "python3"
  },
  "language_info": {
   "codemirror_mode": {
    "name": "ipython",
    "version": 3
   },
   "file_extension": ".py",
   "mimetype": "text/x-python",
   "name": "python",
   "nbconvert_exporter": "python",
   "pygments_lexer": "ipython3",
   "version": "3.8.6"
  },
  "orig_nbformat": 4
 },
 "nbformat": 4,
 "nbformat_minor": 2
}
