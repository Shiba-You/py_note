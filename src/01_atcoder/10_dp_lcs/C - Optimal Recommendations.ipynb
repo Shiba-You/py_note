{
 "cells": [
  {
   "cell_type": "markdown",
   "metadata": {},
   "source": [
    "求職者と求人会社のマッチングを手助けしている Indeed 社は、求職者に最適な求人を提示するサービスを開発することにした。\n",
    "Indeed 社のデータベースには、独自テストで得られた、各求職者の技術力、語学力、コミュニケーション力が保存されている。\n",
    "またそのデータベースには、各求人会社が応募条件として要求した、それら 3 つの力の最低限必要な値とその会社の年収も保存されている。\n",
    "データベースのデータがすべて与えられるので、各求職者ごとに、その人が応募可能な会社の中で一番高い年収を示しなさい。"
   ]
  },
  {
   "cell_type": "markdown",
   "metadata": {},
   "source": [
    "https://atcoder.jp/contests/indeednow-finala-open/tasks/indeednow_2015_finala_c"
   ]
  },
  {
   "cell_type": "markdown",
   "metadata": {},
   "source": [
    "Ex1:\n",
    "In  : 3 6\n",
    "      1 2 3 3\n",
    "      3 3 3 6\n",
    "      4 4 4 8\n",
    "      3 4 3\n",
    "      4 4 4\n",
    "      100 100 1\n",
    "      2 3 4\n",
    "      0 0 0\n",
    "      100 100 100\n",
    "Out : 6\n",
    "      8\n",
    "      0\n",
    "      3\n",
    "      0\n",
    "      8"
   ]
  },
  {
   "cell_type": "code",
   "execution_count": 3,
   "metadata": {},
   "outputs": [
    {
     "name": "stdout",
     "output_type": "stream",
     "text": [
      "6\n",
      "8\n",
      "0\n",
      "3\n",
      "0\n",
      "8\n"
     ]
    }
   ],
   "source": [
    "def init():\n",
    "  N, M = map(int, input().split())\n",
    "  compaies = [list(map(int, input().split())) for _ in range(N)]\n",
    "  seekers = [list(map(int, input().split())) for _ in range(M)]\n",
    "  # N, M = 3, 6\n",
    "  # compaies = [[1, 2, 3, 3], [3, 3, 3, 6], [4, 4, 4, 8]]\n",
    "  # seekers = [[3, 4, 3], [4, 4, 4], [100, 100, 1], [2, 3, 4], [0, 0, 0], [100, 100, 100]]\n",
    "  return N, M, compaies, seekers\n",
    "\n",
    "def dp_lcs():\n",
    "  N, M, compaies, seekers = init()\n",
    "  PARAM_LIMIT = 100\n",
    "  grid = [[[0 for _ in range(PARAM_LIMIT+1)] for _ in range(PARAM_LIMIT+1)] for _ in range(PARAM_LIMIT+1)]\n",
    "\n",
    "  # 初期値を設定\n",
    "  for a, b, c, w in compaies:\n",
    "    grid[a][b][c] = max(grid[a][b][c], w)\n",
    "  \n",
    "  # gridの小さい方から走査して，各軸で小さい方向に隣接しているセルと比較して，現時点の座標が劣っているとき，塗り替える\n",
    "  # ここで出来上がった grid は能力値を持った人の最大年収のマップ\n",
    "  for i in range(PARAM_LIMIT+1):\n",
    "    for j in range(PARAM_LIMIT+1):\n",
    "      for k in range(PARAM_LIMIT+1):\n",
    "        grid[i][j][k] = max(grid[i][j][k], grid[max(0, i-1)][j][k], grid[i][max(0, j-1)][k], grid[i][j][max(0, k-1)])\n",
    "\n",
    "  # seekers の該当する grid の値をよむだけでOK\n",
    "  for x, y, z in seekers:\n",
    "    print(grid[x][y][z])\n",
    "  return\n",
    "\n",
    "if __name__ == \"__main__\":\n",
    "  dp_lcs()"
   ]
  },
  {
   "cell_type": "code",
   "execution_count": null,
   "metadata": {},
   "outputs": [],
   "source": []
  }
 ],
 "metadata": {
  "interpreter": {
   "hash": "52ce370d13d9f3e7fec0c208e08f00abccec8be27c64f36722ecec456d801487"
  },
  "kernelspec": {
   "display_name": "Python 3.8.6 64-bit ('.venv_pn': venv)",
   "language": "python",
   "name": "python3"
  },
  "language_info": {
   "codemirror_mode": {
    "name": "ipython",
    "version": 3
   },
   "file_extension": ".py",
   "mimetype": "text/x-python",
   "name": "python",
   "nbconvert_exporter": "python",
   "pygments_lexer": "ipython3",
   "version": "3.8.6"
  },
  "orig_nbformat": 4
 },
 "nbformat": 4,
 "nbformat_minor": 2
}
