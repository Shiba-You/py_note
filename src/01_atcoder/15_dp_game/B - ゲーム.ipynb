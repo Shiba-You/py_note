{
 "cells": [
  {
   "cell_type": "markdown",
   "metadata": {},
   "source": [
    "すぬけ君とすめけ君がゲームをしている。最初に、二つの山がある。左の山には A 個の物が積まれており、上から i 番目のものの価値は a_i である。左の山には B 個の物が積まれており、上から i 番目のものの価値は b_i である。すぬけ君とすめけ君は、すぬけ君からはじめて交互に次の操作を繰り返す。\n",
    "両方の山が空であれば、ゲームを終了する。\n",
    "片方の山が空であれば、空でないほうの山の一番上のものをとる。\n",
    "両方の山が空でなければ、好きなほうの山を選び、一番上のものをとる。\n",
    "両者が最善を尽くしたとき、すぬけ君の取るものの価値の合計を求めよ。"
   ]
  },
  {
   "cell_type": "markdown",
   "metadata": {},
   "source": [
    "https://atcoder.jp/contests/tdpc/tasks/tdpc_game\n",
    "参考：https://www.creativ.xyz/tdpc-b-684/"
   ]
  },
  {
   "cell_type": "markdown",
   "metadata": {},
   "source": [
    "Ex1:\n",
    "In  : 1 2\n",
    "      1\n",
    "      2 10\n",
    "Out : 11\n",
    "\n",
    "Ex2:\n",
    "In  : 5 5\n",
    "      2 4 5 4 2\n",
    "      2 8 3 4 5\n",
    "Out : 21"
   ]
  },
  {
   "cell_type": "code",
   "execution_count": 44,
   "metadata": {},
   "outputs": [
    {
     "name": "stdout",
     "output_type": "stream",
     "text": [
      "[0, 2, 2]\n",
      "[1, 3, 2]\n",
      "2\n"
     ]
    }
   ],
   "source": [
    "def init():\n",
    "  # len_a, len_b = map(int, input().split())\n",
    "  # A = list(map(int, input().split()))\n",
    "  # B = list(map(int, input().split()))\n",
    "  # len_a, len_b, A, B = 5, 5, [2, 4, 5, 4, 2], [2, 8, 3, 4, 5]\n",
    "  len_a, len_b, A, B = 1, 2, [1,2], [2, 10]\n",
    "  # len_a, len_b, A, B = 2, 2, [1, 5], [4, 10]\n",
    "  return len_a, len_b, A, B\n",
    "\n",
    "def game_dp():\n",
    "  len_a, len_b, A, B = init()\n",
    "  grid = [[0 for _ in range(len_b+1)] for _ in range(len_a+1)]\n",
    "  for i in range(len_a+1):\n",
    "    for j in range(len_b+1):\n",
    "      #! グリッドの一番左上は除外\n",
    "      if i==0 and j==0:\n",
    "        continue\n",
    "      #! グリッドでいう一番上の行の時の処理　（参考URL参照）\n",
    "      elif i == 0:\n",
    "        if j%2 == 0: \n",
    "          grid[0][j] = grid[0][j-1]\n",
    "        else:\n",
    "          grid[0][j] = grid[0][j-1] + B[j-1]\n",
    "      #! グリッドでいう一番左の列\n",
    "      elif j == 0:\n",
    "        if i%2 == 0: \n",
    "          grid[i][0] = grid[i-1][0]\n",
    "        else:\n",
    "          grid[i][0] = grid[i-1][0] + A[i-1]\n",
    "      #! グリッドの中身\n",
    "      else:\n",
    "        #! 偶数 つまり，先攻の手番の時\n",
    "        if (i+j)%2 == 0: \n",
    "          grid[i][j] = max(grid[i-1][j]+A[i-1], grid[i][j-1]+B[j-1])\n",
    "        #! 奇数 つまり，後攻の手番の時\n",
    "        else:\n",
    "          grid[i][j] = min(grid[i-1][j], grid[i][j-1])\n",
    "  print(*grid, sep=\"\\n\")\n",
    "  return grid[-1][-1]\n",
    "\n",
    "if __name__ == \"__main__\":\n",
    "  ans = game_dp()\n",
    "  print(ans)"
   ]
  },
  {
   "cell_type": "code",
   "execution_count": 57,
   "metadata": {},
   "outputs": [
    {
     "name": "stdout",
     "output_type": "stream",
     "text": [
      "[21, 15, 15, 12, 13, 8]\n",
      "[19, 20, 12, 12, 8, 8]\n",
      "[19, 12, 12, 8, 9, 4]\n",
      "[14, 15, 7, 8, 4, 4]\n",
      "[14, 7, 7, 4, 5, 0]\n",
      "[12, 12, 4, 4, 0, 0]\n",
      "21\n"
     ]
    }
   ],
   "source": [
    "def init():\n",
    "  len_a, len_b = map(int, input().split())\n",
    "  A = list(map(int, input().split()))\n",
    "  B = list(map(int, input().split()))\n",
    "  return len_a, len_b, A, B\n",
    "\n",
    "def game_dp():\n",
    "  len_a, len_b, A, B = init()\n",
    "  grid = [[0 for _ in range(len_b+1)] for _ in range(len_a+1)]\n",
    "  #! 逆順に辿る\n",
    "  for i in range(len_a+1)[::-1]:\n",
    "    for j in range(len_b+1)[::-1]:\n",
    "      #! 最初は何もしない\n",
    "      if i==len_a and j==len_b:\n",
    "        continue\n",
    "      #! 手番がすぬけ君（自分）の時\n",
    "      if (i+j)%2 == 0:\n",
    "        if i == len_a:\n",
    "          grid[i][j] = grid[i][j+1] + B[j]\n",
    "        elif j == len_b:\n",
    "          grid[i][j] = grid[i+1][j] + A[i]\n",
    "        else:\n",
    "          grid[i][j] = max(grid[i+1][j]+A[i], grid[i][j+1]+B[j])\n",
    "      #! 手番が相手の時\n",
    "      else:\n",
    "        if i == len_a:\n",
    "          grid[i][j] = grid[i][j+1]\n",
    "        elif j == len_b:\n",
    "          grid[i][j] = grid[i+1][j]\n",
    "        else:\n",
    "          #! 相手は自分の得点が小さくなるように取る\n",
    "          grid[i][j] = min(grid[i+1][j], grid[i][j+1])\n",
    "  print(*grid, sep=\"\\n\")\n",
    "  return grid[0][0]\n",
    "\n",
    "if __name__ == \"__main__\":\n",
    "  ans = game_dp()\n",
    "  print(ans)"
   ]
  },
  {
   "cell_type": "code",
   "execution_count": null,
   "metadata": {},
   "outputs": [],
   "source": []
  }
 ],
 "metadata": {
  "interpreter": {
   "hash": "4489a261b7a5b6598107f36a73574c6d46e8484a461ff141e656d1076672ceaf"
  },
  "kernelspec": {
   "display_name": "Python 3.8.6 64-bit ('.venv_pc': venv)",
   "language": "python",
   "name": "python3"
  },
  "language_info": {
   "name": "python",
   "version": "3.8.6"
  },
  "orig_nbformat": 4
 },
 "nbformat": 4,
 "nbformat_minor": 2
}
