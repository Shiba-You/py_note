{
 "cells": [
  {
   "cell_type": "markdown",
   "metadata": {},
   "source": [
    "文字列の辞書式順序による比較についてはご存知だろうか？知らない場合は ABC007 の B 問題にその定義が載っているので読むとよいだろう。\n",
    "今回は、この辞書式順序が重要な役割を果たす問題を解いてもらいたいと思う。\n",
    "まず、英小文字（a-z）のみからなる N 文字の文字列 S が与えられる。S=S_1,S_2,...,S_N の文字を並び替えて作れるような文字列 T=T_1,T_2,...,T_N のうち、辞書順で最小になるようなものを求めてほしい。\n",
    "ただし、並び替え方には 1 つだけ制限がある。別に整数 K が与えられ、元から位置の変わった文字の個数を K 以下にしなければならない。つまり、S_i≠T_i となるような（文字が不一致となるような） i （1≦i≦N）の個数が K 以下であるような並び替え方しかできない。"
   ]
  },
  {
   "cell_type": "markdown",
   "metadata": {},
   "source": [
    "https://atcoder.jp/contests/abc009/tasks/abc009_3"
   ]
  },
  {
   "cell_type": "markdown",
   "metadata": {},
   "source": [
    "Ex1:\n",
    "Int : 3 2\n",
    "      abc\n",
    "Out : abc\n",
    "\n",
    "Ex2:\n",
    "Int : 7 2\n",
    "      atcoder\n",
    "Out : actoder\n",
    "\n",
    "Ex3:\n",
    "Int : 7 7\n",
    "      atcoder\n",
    "Out : acdeort\n",
    "\n",
    "\n",
    "Ex4:\n",
    "Int : 10 3\n",
    "      helloworld\n",
    "Out : dehloworll"
   ]
  },
  {
   "cell_type": "code",
   "execution_count": 32,
   "metadata": {},
   "outputs": [
    {
     "name": "stdout",
     "output_type": "stream",
     "text": [
      "acdeort\n"
     ]
    }
   ],
   "source": [
    "def init():\n",
    "  n, k = map(int, input().split())\n",
    "  s = input()\n",
    "  return n, k, s\n",
    "\n",
    "def greedy_best_cow_line():\n",
    "  n, k, s = init()\n",
    "  ans = []\n",
    "  s_win = [0] * 26\n",
    "  t_win = [0] * 26\n",
    "  for x in s:\n",
    "    s_win[ord(x) - ord('a')] += 1\n",
    "    t_win[ord(x) - ord('a')] += 1\n",
    "\n",
    "  for i in range(n):\n",
    "    s_win[ord(s[i]) - ord('a')] -= 1\n",
    "    for j in range(26):\n",
    "      if t_win[j] == 0:\n",
    "        continue\n",
    "      t_win[j] -= 1\n",
    "      match = 0\n",
    "      for t in range(26):\n",
    "        match += min(t_win[t], s_win[t])\n",
    "      if ord(s[i]) - ord('a') == j:\n",
    "        if n-i-1-match <= k:\n",
    "          ans.append(chr(j+ord('a')))\n",
    "          break\n",
    "      else:\n",
    "        if n-i-1-match <= k-1:\n",
    "          k -= 1\n",
    "          ans.append(chr(j+ord('a')))\n",
    "          break\n",
    "      t_win[j] += 1\n",
    "  return ans\n",
    "\n",
    "if __name__ == \"__main__\":\n",
    "  ans = greedy_best_cow_line()\n",
    "  print(\"\".join(ans))"
   ]
  },
  {
   "cell_type": "code",
   "execution_count": 31,
   "metadata": {},
   "outputs": [
    {
     "name": "stdout",
     "output_type": "stream",
     "text": [
      "acbd\n"
     ]
    }
   ],
   "source": [
    "# n,k = map(int,input().split())\n",
    "# s = list(input())\n",
    "n, k = 4, 3\n",
    "s = \"dcab\"\n",
    "t = []\n",
    "al_s = [0]*26\n",
    "al_t = [0]*26\n",
    "for i in s:\n",
    "\tal_s[ord(i)-ord('a')] += 1\n",
    "\tal_t[ord(i)-ord('a')] += 1\n",
    "\n",
    "for i in range(n):\n",
    "\t# al_s から 現在見ている s を削る\n",
    "\tal_s[ord(s[i])-ord('a')] -= 1\n",
    "\n",
    "\tfor j in range(26):\n",
    "\t\tif al_t[j]==0: continue\n",
    "\t\tal_t[j] -= 1\n",
    "\t\tl = 0\n",
    "\t\t# l: 共通部分\n",
    "\t\tfor x in range(26):\n",
    "\t\t\tl += min(al_s[x],al_t[x])\n",
    "\t\tif ord(s[i])-ord('a')==j:\t\t\t# s と t が一致している場合\n",
    "\t\t\tif n-i-1-l<=k:\n",
    "\t\t\t\tt.append(chr(j+ord('a')))\n",
    "\t\t\t\tbreak\n",
    "\t\telse:\t\t\t\t\t\t\t\t\t\t\t\t\t# s と t が一致していない場合\n",
    "\t\t\tif n-i-1-l<=k-1:\n",
    "\t\t\t\tk -= 1\n",
    "\t\t\t\tt.append(chr(j+ord('a')))\n",
    "\t\t\t\tbreak\n",
    "\t\tal_t[j] += 1\n",
    "print(''.join(t))\n"
   ]
  },
  {
   "cell_type": "code",
   "execution_count": 27,
   "metadata": {},
   "outputs": [
    {
     "name": "stdout",
     "output_type": "stream",
     "text": [
      "[1, 2, 3, 4, 5]\n"
     ]
    }
   ],
   "source": [
    "r = [1, 2, 3, 4, 5]\n",
    "print(r[::])"
   ]
  },
  {
   "cell_type": "code",
   "execution_count": null,
   "metadata": {},
   "outputs": [],
   "source": []
  }
 ],
 "metadata": {
  "interpreter": {
   "hash": "52ce370d13d9f3e7fec0c208e08f00abccec8be27c64f36722ecec456d801487"
  },
  "kernelspec": {
   "display_name": "Python 3.8.6 64-bit ('.venv_pn': venv)",
   "language": "python",
   "name": "python3"
  },
  "language_info": {
   "codemirror_mode": {
    "name": "ipython",
    "version": 3
   },
   "file_extension": ".py",
   "mimetype": "text/x-python",
   "name": "python",
   "nbconvert_exporter": "python",
   "pygments_lexer": "ipython3",
   "version": "3.8.6"
  },
  "orig_nbformat": 4
 },
 "nbformat": 4,
 "nbformat_minor": 2
}
