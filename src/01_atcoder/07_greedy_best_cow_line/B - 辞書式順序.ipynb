{
 "cells": [
  {
   "cell_type": "markdown",
   "metadata": {},
   "source": [
    "文字列 A が与えられる。小文字アルファベット(a-z)のみを使って辞書順比較したとき文字列 A より小さいものを1つ何でも良いので出力せよ。ただし、文字列は 1 文字以上 100 文字以下でなければならない。もし存在しない場合は \"-1\" を出力せよ。\n",
    "ただし、ある文字列 S=S_1 S_2 ...S_n と T=T_1 T_2 ...T_m について、辞書順比較した際に S＜T であるとは、次のどちらか一方の状態が成り立っていることを言う。\n",
    "ある整数 i(1≦i≦min(n,m)) に関して、 1≦j≦i−1 を満たすどの整数 j に関しても S_j =T_j が成立し、かつ S_i ＜ T_i が成立する\n",
    "任意の整数 i(1≦i≦min(n,m)) に関して、常に S_i = T_i が成立し、かつ ∣S∣＜∣T∣ である。ただし ∣X∣ は文字列 X の長さを表すものとする。\n",
    "なにやら頭が痛くなる記述だが、言い換えると次の通りである。\n",
    "それぞれの文字列の同じ位置同士を先頭から比較していって、初めて不一致になったら、その文字同士の(アルファベットでの)比較結果が文字列の全体の比較結果である。 例えば、\"abcd\" と \"ax\" を比較すると、2 文字目で， b < x となるので、\"abcd\"<\"ax\" である。\n",
    "もし、比較している途中で片方の文字列が尽きてしまったら、文字列の長さが短い方が小さい。例えば \"ab\"<\"abc\"である。"
   ]
  },
  {
   "cell_type": "markdown",
   "metadata": {},
   "source": [
    "https://atcoder.jp/contests/abc007/tasks/abc007_2"
   ]
  },
  {
   "cell_type": "markdown",
   "metadata": {},
   "source": [
    "Ex1:\n",
    "In  : xyz\n",
    "Out : xy\n",
    "\n",
    "Ex2:\n",
    "In  : c\n",
    "Out : b\n",
    "\n",
    "Ex3:\n",
    "In  : a\n",
    "Out : -1\n",
    "\n",
    "Ex4:\n",
    "In  : aaaaa\n",
    "Out : aaaa"
   ]
  },
  {
   "cell_type": "code",
   "execution_count": 3,
   "metadata": {},
   "outputs": [
    {
     "name": "stdout",
     "output_type": "stream",
     "text": [
      "aaaa\n"
     ]
    }
   ],
   "source": [
    "def init():\n",
    "  s = input()\n",
    "  return s\n",
    "\n",
    "def greedy():\n",
    "  s = init()\n",
    "  n_s = len(s)\n",
    "  if s == \"a\":\n",
    "    ans = -1\n",
    "  elif n_s == 1:\n",
    "    ans = \"a\"\n",
    "  else:\n",
    "    ans = \"a\"*(n_s-1)\n",
    "  return ans\n",
    "\n",
    "if __name__ == \"__main__\":\n",
    "  ans = greedy()\n",
    "  print(ans)"
   ]
  },
  {
   "cell_type": "code",
   "execution_count": null,
   "metadata": {},
   "outputs": [],
   "source": []
  }
 ],
 "metadata": {
  "interpreter": {
   "hash": "52ce370d13d9f3e7fec0c208e08f00abccec8be27c64f36722ecec456d801487"
  },
  "kernelspec": {
   "display_name": "Python 3.8.6 64-bit ('.venv_pn': venv)",
   "language": "python",
   "name": "python3"
  },
  "language_info": {
   "codemirror_mode": {
    "name": "ipython",
    "version": 3
   },
   "file_extension": ".py",
   "mimetype": "text/x-python",
   "name": "python",
   "nbconvert_exporter": "python",
   "pygments_lexer": "ipython3",
   "version": "3.8.6"
  },
  "orig_nbformat": 4
 },
 "nbformat": 4,
 "nbformat_minor": 2
}
