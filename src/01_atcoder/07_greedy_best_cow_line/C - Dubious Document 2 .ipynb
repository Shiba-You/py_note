{
 "cells": [
  {
   "cell_type": "markdown",
   "metadata": {},
   "source": [
    "E869120 は、宝物が入ってそうな箱を見つけました。\n",
    "しかし、これには鍵がかかっており、鍵を開けるためには英小文字からなる文字列 S が必要です。\n",
    "彼は文字列 S' を見つけ、これは文字列 S の 0 個以上 ∣S∣ 個以内の文字が ? に置き換わった文字列であることも分かりました。\n",
    "ただし、文字列 A に対して、∣A∣ を「文字列 A の長さ」とします。\n",
    "そこで、E869120 はヒントとなる紙を見つけました。\n",
    "条件1：文字列 S の中に連続する部分文字列として英小文字から成る文字列 T が含まれている。\n",
    "条件2：S は、条件1を満たす文字列の中で辞書順最小の文字列である。\n",
    "そのとき、鍵となる文字列 S を出力しなさい。\n",
    "ただし、そのような文字列 S が存在しない場合は代わりに UNRESTORABLE と出力しなさい。"
   ]
  },
  {
   "cell_type": "markdown",
   "metadata": {},
   "source": [
    "https://atcoder.jp/contests/abc076/tasks/abc076_c"
   ]
  },
  {
   "cell_type": "markdown",
   "metadata": {},
   "source": [
    "Ex1:\n",
    "In  : ?tc????\n",
    "      coder\n",
    "Out : atcoder\n",
    "\n",
    "Ex2:\n",
    "In  : ??p??d??\n",
    "      abc\n",
    "Out : UNRESTORABLE"
   ]
  },
  {
   "cell_type": "code",
   "execution_count": 24,
   "metadata": {},
   "outputs": [
    {
     "name": "stdout",
     "output_type": "stream",
     "text": [
      "7 5\n",
      "0\n",
      "i: 0, j: 0, i+j: 0\n",
      "continue\n",
      "i: 0, j: 1, i+j: 1\n",
      "break\n",
      "1\n",
      "i: 1, j: 0, i+j: 1\n",
      "break\n",
      "2\n",
      "i: 2, j: 0, i+j: 2\n",
      "i: 2, j: 1, i+j: 3\n",
      "continue\n",
      "i: 2, j: 2, i+j: 4\n",
      "continue\n",
      "i: 2, j: 3, i+j: 5\n",
      "continue\n",
      "i: 2, j: 4, i+j: 6\n",
      "continue\n",
      "['atcoder']\n",
      "atcoder\n"
     ]
    }
   ],
   "source": [
    "def init():\n",
    "  s = input()\n",
    "  t = input()\n",
    "  return s, t\n",
    "\n",
    "def greedy():\n",
    "  s, t = init()\n",
    "  n_s = len(s)\n",
    "  n_t = len(t)\n",
    "  g = []\n",
    "  for i in range(n_s - n_t + 1):\n",
    "    for j in range(n_t):\n",
    "      if s[i+j] == \"?\":\n",
    "        continue\n",
    "      if s[i+j] != t[j]:\n",
    "        break\n",
    "    else:\n",
    "      tmp = s[:i] + t + s[i+n_t:] \n",
    "      tmp = tmp.replace(\"?\", \"a\")\n",
    "      g.append(tmp)\n",
    "  if len(g) == 0:\n",
    "    ans = \"UNRESTORABLE\"\n",
    "  else:\n",
    "    g.sort()\n",
    "    ans = g[0]\n",
    "  return ans\n",
    "\n",
    "if __name__ == \"__main__\":\n",
    "  ans = greedy()\n",
    "  print(ans)"
   ]
  },
  {
   "cell_type": "code",
   "execution_count": 20,
   "metadata": {},
   "outputs": [
    {
     "name": "stdout",
     "output_type": "stream",
     "text": [
      "i: 0, j: 0, i+j: 0\n",
      "i: 0, j: 1, i+j: 1\n",
      "i: 1, j: 0, i+j: 1\n",
      "i: 2, j: 0, i+j: 2\n",
      "i: 2, j: 1, i+j: 3\n",
      "i: 2, j: 2, i+j: 4\n",
      "i: 2, j: 3, i+j: 5\n",
      "i: 2, j: 4, i+j: 6\n",
      "{'atcoder'}\n",
      "atcoder\n"
     ]
    }
   ],
   "source": [
    "# S = input()\n",
    "# T = input()\n",
    "S = \"?tc????\"\n",
    "T = \"coder\"\n",
    "# S = \"??p??d??\"\n",
    "# T = \"abc\"\n",
    "n = len(S)\n",
    "g = set()\n",
    "for i in range(n - len(T) + 1):\n",
    "    for j in range(len(T)):\n",
    "        print(\"i: {}, j: {}, i+j: {}\".format(i, j, i+j))\n",
    "        if S[i+j] == \"?\":\n",
    "            continue\n",
    "        if S[i+j] != T[j]:\n",
    "            break\n",
    "    else:\n",
    "        tmp = S[:i] + T + S[i+len(T):]\n",
    "        tmp = tmp.replace(\"?\",\"a\")\n",
    "        g.add(tmp)\n",
    "        print(g)\n",
    "if len(g) == 0:\n",
    "    print(\"UNRESTORABLE\")\n",
    "else:\n",
    "    # print(g)\n",
    "    g = sorted(g)\n",
    "    print(g[0])"
   ]
  },
  {
   "cell_type": "code",
   "execution_count": 15,
   "metadata": {},
   "outputs": [
    {
     "name": "stdout",
     "output_type": "stream",
     "text": [
      "['as', 'b', 'c', 'd', 'e', 'fw', 'ga', 'gb']\n"
     ]
    }
   ],
   "source": [
    "l = [\"as\", \"fw\", \"gb\", \"ga\", \"d\", \"e\", \"c\", \"b\"]\n",
    "l.sort()\n",
    "print(l)"
   ]
  },
  {
   "cell_type": "code",
   "execution_count": null,
   "metadata": {},
   "outputs": [],
   "source": []
  }
 ],
 "metadata": {
  "interpreter": {
   "hash": "52ce370d13d9f3e7fec0c208e08f00abccec8be27c64f36722ecec456d801487"
  },
  "kernelspec": {
   "display_name": "Python 3.8.6 64-bit ('.venv_pn': venv)",
   "language": "python",
   "name": "python3"
  },
  "language_info": {
   "codemirror_mode": {
    "name": "ipython",
    "version": 3
   },
   "file_extension": ".py",
   "mimetype": "text/x-python",
   "name": "python",
   "nbconvert_exporter": "python",
   "pygments_lexer": "ipython3",
   "version": "3.8.6"
  },
  "orig_nbformat": 4
 },
 "nbformat": 4,
 "nbformat_minor": 2
}
