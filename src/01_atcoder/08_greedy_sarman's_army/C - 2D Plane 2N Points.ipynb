{
 "cells": [
  {
   "cell_type": "markdown",
   "metadata": {},
   "source": [
    "二次元平面に，赤い点と青い点が N 個ずつあります。 i 個目の赤い点の座標は (a_i ,b_i ) で，i 個目の青い点の座標は (c_i ,d_i ) です。\n",
    "赤い点と青い点は，赤い点の x 座標が青い点の x 座標より小さく， また赤い点の y 座標も青い点の y 座標より小さいとき，仲良しペアになれます。\n",
    "あなたは最大で何個の仲良しペアを作ることができますか？ ただし，1 つの点が複数のペアに所属することはできません。"
   ]
  },
  {
   "cell_type": "markdown",
   "metadata": {},
   "source": [
    "https://atcoder.jp/contests/abc091/tasks/arc092_a"
   ]
  },
  {
   "cell_type": "markdown",
   "metadata": {},
   "source": [
    "Ex1:\n",
    "In  : 3\n",
    "      2 0\n",
    "      3 1\n",
    "      1 3\n",
    "      4 2\n",
    "      0 4\n",
    "      5 5\n",
    "Out : 2\n",
    "\n",
    "Ex2:\n",
    "In  : 3\n",
    "      0 0\n",
    "      1 1\n",
    "      5 2\n",
    "      2 3\n",
    "      3 4\n",
    "      4 5\n",
    "Out : 2\n",
    "\n",
    "Ex3:\n",
    "In  : 2\n",
    "      2 2\n",
    "      3 3\n",
    "      0 0\n",
    "      1 1\n",
    "Out : 0\n",
    "\n",
    "Ex4:\n",
    "In  : 5\n",
    "      0 0\n",
    "      7 3\n",
    "      2 2\n",
    "      4 8\n",
    "      1 6\n",
    "      8 5\n",
    "      6 9\n",
    "      5 4\n",
    "      9 1\n",
    "      3 7\n",
    "Out : 5\n",
    "\n",
    "Ex5:\n",
    "In  : 5\n",
    "      0 0\n",
    "      1 1\n",
    "      5 5\n",
    "      6 6\n",
    "      7 7\n",
    "      2 2\n",
    "      3 3\n",
    "      4 4\n",
    "      8 8\n",
    "      9 9\n",
    "Out : 4"
   ]
  },
  {
   "cell_type": "code",
   "execution_count": 9,
   "metadata": {},
   "outputs": [
    {
     "name": "stdout",
     "output_type": "stream",
     "text": [
      "5\n"
     ]
    }
   ],
   "source": [
    "def init():\n",
    "  n = int(input()) \n",
    "  R = [list(map(int, input().split())) for _ in range(n)]\n",
    "  B = [list(map(int, input().split())) for _ in range(n)]\n",
    "  R.sort(key=lambda x: x[1], reverse=True)\n",
    "  B.sort()\n",
    "  return n, R, B\n",
    "\n",
    "def greedy_sarmans_army():\n",
    "  n, R, B = init()\n",
    "  ans = 0\n",
    "  for rx, ry in R:\n",
    "    for bx, by in B:\n",
    "      if 0 < bx - rx and 0 < by - ry:\n",
    "        B.remove([bx, by])\n",
    "        ans += 1\n",
    "        break\n",
    "  return ans\n",
    "\n",
    "if __name__ == \"__main__\":\n",
    "  ans = greedy_sarmans_army()\n",
    "  print(ans)"
   ]
  },
  {
   "cell_type": "code",
   "execution_count": 7,
   "metadata": {},
   "outputs": [
    {
     "name": "stdout",
     "output_type": "stream",
     "text": [
      "[[4, 8], [1, 6], [7, 3], [2, 2], [0, 0]]\n",
      "[[3, 7], [5, 4], [6, 9], [8, 5], [9, 1]]\n"
     ]
    }
   ],
   "source": [
    "# n = int(input()) \n",
    "# R = [list(map(int, input().split())) for _ in range(n)]\n",
    "# B = [list(map(int, input().split())) for _ in range(n)]\n",
    "R = [[0, 0], [7, 3], [2, 2], [4, 8], [1, 6]]\n",
    "B = [[8, 5], [6, 9], [5, 4], [9, 1], [3, 7]]\n",
    "R.sort(key=lambda x:x[1], reverse=True)\n",
    "B = sorted(B)\n",
    "# B.sort()\n",
    "print(R)\n",
    "print(B)"
   ]
  },
  {
   "cell_type": "code",
   "execution_count": null,
   "metadata": {},
   "outputs": [],
   "source": []
  }
 ],
 "metadata": {
  "interpreter": {
   "hash": "52ce370d13d9f3e7fec0c208e08f00abccec8be27c64f36722ecec456d801487"
  },
  "kernelspec": {
   "display_name": "Python 3.8.6 64-bit ('.venv_pn': venv)",
   "language": "python",
   "name": "python3"
  },
  "language_info": {
   "codemirror_mode": {
    "name": "ipython",
    "version": 3
   },
   "file_extension": ".py",
   "mimetype": "text/x-python",
   "name": "python",
   "nbconvert_exporter": "python",
   "pygments_lexer": "ipython3",
   "version": "3.8.6"
  },
  "orig_nbformat": 4
 },
 "nbformat": 4,
 "nbformat_minor": 2
}
