{
 "cells": [
  {
   "cell_type": "markdown",
   "metadata": {},
   "source": [
    "高橋君は、日頃の感謝を込めて、お母さんに数列をプレゼントすることにしました。 お母さんにプレゼントする数列 A は、以下の条件を満たす必要があります。\n",
    "A は X 以上 Y 以下の整数からなる\n",
    "すべての 1≤i≤∣A∣−1 に対し、A_i+1 は A_i の倍数であり、かつ A_i+1 は A_i より真に大きい\n",
    "高橋君がお母さんにプレゼントできる数列の長さの最大値を求めてください。"
   ]
  },
  {
   "cell_type": "markdown",
   "metadata": {},
   "source": [
    "https://atcoder.jp/contests/abc083/tasks/arc088_a"
   ]
  },
  {
   "cell_type": "markdown",
   "metadata": {},
   "source": [
    "Ex1:\n",
    "In  : 3 20\n",
    "Out : 3\n",
    "\n",
    "Ex2:\n",
    "In  : 25 100\n",
    "Out : 3\n",
    "\n",
    "Ex3:\n",
    "In  : 314159265 358979323846264338\n",
    "Out : 31"
   ]
  },
  {
   "cell_type": "code",
   "execution_count": 10,
   "metadata": {},
   "outputs": [
    {
     "name": "stdout",
     "output_type": "stream",
     "text": [
      "628318530\n",
      "1256637060\n",
      "2513274120\n",
      "5026548240\n",
      "10053096480\n",
      "20106192960\n",
      "40212385920\n",
      "80424771840\n",
      "160849543680\n",
      "321699087360\n",
      "643398174720\n",
      "1286796349440\n",
      "2573592698880\n",
      "5147185397760\n",
      "10294370795520\n",
      "20588741591040\n",
      "41177483182080\n",
      "82354966364160\n",
      "164709932728320\n",
      "329419865456640\n",
      "658839730913280\n",
      "1317679461826560\n",
      "2635358923653120\n",
      "5270717847306240\n",
      "10541435694612480\n",
      "21082871389224960\n",
      "42165742778449920\n",
      "84331485556899840\n",
      "168662971113799680\n",
      "337325942227599360\n",
      "674651884455198720\n",
      "31\n"
     ]
    }
   ],
   "source": [
    "def init():\n",
    "  x, y = map(int, input().split())\n",
    "  return x, y\n",
    "\n",
    "def greedy_sarmans_army():\n",
    "  x, y = init()\n",
    "  ans = 1\n",
    "  crt = x\n",
    "  while True:\n",
    "    crt *= 2\n",
    "    if crt <= y:\n",
    "      ans += 1\n",
    "    else:\n",
    "      break\n",
    "  return ans\n",
    "\n",
    "if __name__ == \"__main__\":\n",
    "  ans = greedy_sarmans_army()\n",
    "  print(ans)"
   ]
  },
  {
   "cell_type": "code",
   "execution_count": null,
   "metadata": {},
   "outputs": [],
   "source": []
  }
 ],
 "metadata": {
  "interpreter": {
   "hash": "52ce370d13d9f3e7fec0c208e08f00abccec8be27c64f36722ecec456d801487"
  },
  "kernelspec": {
   "display_name": "Python 3.8.6 64-bit ('.venv_pn': venv)",
   "language": "python",
   "name": "python3"
  },
  "language_info": {
   "codemirror_mode": {
    "name": "ipython",
    "version": 3
   },
   "file_extension": ".py",
   "mimetype": "text/x-python",
   "name": "python",
   "nbconvert_exporter": "python",
   "pygments_lexer": "ipython3",
   "version": "3.8.6"
  },
  "orig_nbformat": 4
 },
 "nbformat": 4,
 "nbformat_minor": 2
}
