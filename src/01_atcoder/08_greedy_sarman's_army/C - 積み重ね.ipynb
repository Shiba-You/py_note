{
 "cells": [
  {
   "cell_type": "markdown",
   "metadata": {},
   "source": [
    "高橋君はもう大人なので、親元を離れて一人暮らしをすることにしました。トラックから引越し先の部屋へと荷物のダンボールを運びたいのですが、部屋の床がダンボールで埋まってしまうと、今日高橋君が寝るための布団がひけません。\n",
    "そこで、1 箱ずつ広げて置くのではなく、ある程度ダンボールを積み重ねた山を作ることにしました。しかし、ダンボールには重さが決まっており、下にあるダンボールよりも重いダンボールを上に積み重ねると下のダンボールが潰れてしまいます。\n",
    "トラックから運ぶ順にダンボールの重さが与えられるので、ダンボールを潰さないような積み重ね方を考えなさい。そして、その積み重ねた山の個数が最小となる場合の山の個数を求めなさい。"
   ]
  },
  {
   "cell_type": "markdown",
   "metadata": {},
   "source": [
    "https://atcoder.jp/contests/arc006/tasks/arc006_3"
   ]
  },
  {
   "cell_type": "markdown",
   "metadata": {},
   "source": [
    "Ex1:\n",
    "In  : 5\n",
    "      4\n",
    "      3\n",
    "      1\n",
    "      2\n",
    "      1\n",
    "Out : 2\n",
    "\n",
    "Ex2:\n",
    "In  : 7\n",
    "      93\n",
    "      249\n",
    "      150\n",
    "      958\n",
    "      442\n",
    "      391\n",
    "      25\n",
    "Out : 3\n",
    "\n",
    "Ex3:\n",
    "In  : 4\n",
    "      100\n",
    "      100\n",
    "      100\n",
    "      100\n",
    "Out : 1"
   ]
  },
  {
   "cell_type": "code",
   "execution_count": 9,
   "metadata": {},
   "outputs": [
    {
     "name": "stdout",
     "output_type": "stream",
     "text": [
      "1\n"
     ]
    }
   ],
   "source": [
    "def init():\n",
    "  n = int(input())\n",
    "  w = [int(input()) for _ in range(n)]\n",
    "  return  n, w\n",
    "\n",
    "def greedy_sarmans_army():\n",
    "  n, w = init()\n",
    "  area = []\n",
    "  for _w in w:\n",
    "    flag = True\n",
    "    for a in range(len(area)):\n",
    "      if _w <= area[a][-1]:\n",
    "        area[a].append(_w)\n",
    "        flag = False\n",
    "        break\n",
    "    if flag:\n",
    "      area.append([_w])\n",
    "  return len(area)\n",
    "\n",
    "if __name__ == \"__main__\":\n",
    "  ans = greedy_sarmans_army()\n",
    "  print(ans)"
   ]
  },
  {
   "cell_type": "code",
   "execution_count": 5,
   "metadata": {},
   "outputs": [
    {
     "name": "stdout",
     "output_type": "stream",
     "text": [
      "[[1]]\n",
      "[[1], [2]]\n",
      "[[1, 3], [2]]\n"
     ]
    }
   ],
   "source": [
    "# w = [int(input()) for _ in range(3)]\n",
    "A = []\n",
    "for i in range(len(A)):\n",
    "  print(\"a\")\n",
    "A.append([1])\n",
    "print(A)\n",
    "A.append([2])\n",
    "print(A)\n",
    "A[0].append(3)\n",
    "print(A)"
   ]
  },
  {
   "cell_type": "code",
   "execution_count": null,
   "metadata": {},
   "outputs": [],
   "source": []
  }
 ],
 "metadata": {
  "interpreter": {
   "hash": "52ce370d13d9f3e7fec0c208e08f00abccec8be27c64f36722ecec456d801487"
  },
  "kernelspec": {
   "display_name": "Python 3.8.6 64-bit ('.venv_pn': venv)",
   "language": "python",
   "name": "python3"
  },
  "language_info": {
   "codemirror_mode": {
    "name": "ipython",
    "version": 3
   },
   "file_extension": ".py",
   "mimetype": "text/x-python",
   "name": "python",
   "nbconvert_exporter": "python",
   "pygments_lexer": "ipython3",
   "version": "3.8.6"
  },
  "orig_nbformat": 4
 },
 "nbformat": 4,
 "nbformat_minor": 2
}
