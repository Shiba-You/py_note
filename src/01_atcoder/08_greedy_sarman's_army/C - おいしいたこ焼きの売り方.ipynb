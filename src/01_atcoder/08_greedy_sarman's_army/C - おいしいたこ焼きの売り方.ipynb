{
 "cells": [
  {
   "cell_type": "markdown",
   "metadata": {},
   "source": [
    "高橋君は、たこ焼きをどの順番で売るか悩んでいました。というのも、作り置きされたたこ焼きは美味しくないとわかっているので、高橋君はそのようなたこ焼きを売りたくないのですが、できたてばかり売ってしまうと売れるたこ焼きの数が減ってしまいます。\n",
    "また、お客さんを待たせてばかりだと、次第にお客さんが離れてしまうだろうと高橋君は考えています。\n",
    "そこで、彼は T 秒以内に作成されたたこ焼きを売り続けることで、お客さんを捌ききれるかどうかを調べることにしました。\n",
    "たこ焼きは A_1、A_2、…、A_N 秒後に焼きあがります。\n",
    "お客さんは B_1、B_2、…、B_M 秒後にやってきます。\n",
    "1 人のお客さんに対して、たこ焼きを 1 つ売るとします。すべてのお客さんにたこ焼きを売れるならyes、売れないならnoを出力して下さい。"
   ]
  },
  {
   "cell_type": "markdown",
   "metadata": {},
   "source": [
    "https://atcoder.jp/contests/abc005/tasks/abc005_3"
   ]
  },
  {
   "cell_type": "markdown",
   "metadata": {},
   "source": [
    "Ex1:\n",
    "In  ; 1\n",
    "      3\n",
    "      1 2 3\n",
    "      3\n",
    "      2 3 4\n",
    "Out : yes\n",
    "\n",
    "Ex2:\n",
    "In  ; 1\n",
    "      3\n",
    "      1 2 3\n",
    "      3\n",
    "      2 3 5\n",
    "Out : no\n",
    "\n",
    "Ex3:\n",
    "In  ; 1\n",
    "      3\n",
    "      1 2 3\n",
    "      10\n",
    "      1 2 3 4 5 6 7 8 9 10\n",
    "Out : no\n",
    "\n",
    "Ex4:\n",
    "In  ; 1\n",
    "      3\n",
    "      1 2 3\n",
    "      3\n",
    "      1 2 2\n",
    "Out : no\n",
    "\n",
    "Ex5:\n",
    "In  : 2\n",
    "      5\n",
    "      1 3 6 10 15\n",
    "      3\n",
    "      4 8 16\n",
    "Out : yes"
   ]
  },
  {
   "cell_type": "code",
   "execution_count": 11,
   "metadata": {},
   "outputs": [
    {
     "name": "stdout",
     "output_type": "stream",
     "text": [
      "yes\n"
     ]
    }
   ],
   "source": [
    "def init():\n",
    "  t = int(input())\n",
    "  tako_n = int(input())\n",
    "  tako = list(map(int, input().split()))\n",
    "  p_n = int(input())\n",
    "  p = list(map(int, input().split()))\n",
    "  return t, tako_n, tako, p_n, p\n",
    "\n",
    "def greedy_sarmans_army():\n",
    "  t, tako_n, tako, p_n, p = init()\n",
    "  crt_t = 0\n",
    "  crt_p = 0\n",
    "  if tako_n < p_n:\n",
    "    return \"no\"\n",
    "  while True:\n",
    "    if not(tako[crt_t] <= p[crt_p] <= tako[crt_t]+t):\n",
    "      crt_t += 1\n",
    "      if tako_n <= crt_t:\n",
    "        return \"no\"\n",
    "      continue\n",
    "    crt_t += 1\n",
    "    crt_p += 1\n",
    "    if p_n <= crt_p:\n",
    "      return \"yes\"\n",
    "\n",
    "if __name__ == \"__main__\":\n",
    "  ans = greedy_sarmans_army()\n",
    "  print(ans)"
   ]
  },
  {
   "cell_type": "code",
   "execution_count": null,
   "metadata": {},
   "outputs": [],
   "source": []
  }
 ],
 "metadata": {
  "interpreter": {
   "hash": "52ce370d13d9f3e7fec0c208e08f00abccec8be27c64f36722ecec456d801487"
  },
  "kernelspec": {
   "display_name": "Python 3.8.6 64-bit ('.venv_pn': venv)",
   "language": "python",
   "name": "python3"
  },
  "language_info": {
   "codemirror_mode": {
    "name": "ipython",
    "version": 3
   },
   "file_extension": ".py",
   "mimetype": "text/x-python",
   "name": "python",
   "nbconvert_exporter": "python",
   "pygments_lexer": "ipython3",
   "version": "3.8.6"
  },
  "orig_nbformat": 4
 },
 "nbformat": 4,
 "nbformat_minor": 2
}
