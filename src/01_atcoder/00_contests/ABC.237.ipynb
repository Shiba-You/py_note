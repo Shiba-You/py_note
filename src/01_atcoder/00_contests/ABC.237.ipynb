{
 "cells": [
  {
   "cell_type": "markdown",
   "metadata": {},
   "source": [
    "# A - Not Overflow "
   ]
  },
  {
   "cell_type": "markdown",
   "metadata": {},
   "source": [
    "https://atcoder.jp/contests/abc237/tasks/abc237_a"
   ]
  },
  {
   "cell_type": "code",
   "execution_count": 3,
   "metadata": {},
   "outputs": [
    {
     "name": "stdout",
     "output_type": "stream",
     "text": [
      "No\n"
     ]
    }
   ],
   "source": [
    "def init():\n",
    "  N = int(input())\n",
    "  return N\n",
    "\n",
    "def main():\n",
    "  N = init()\n",
    "  thr = pow(2,31)\n",
    "  if -thr <= N < thr:\n",
    "    return \"Yes\"\n",
    "  return \"No\"\n",
    "\n",
    "if __name__ == \"__main__\":\n",
    "  ans = main()\n",
    "  print(ans)"
   ]
  },
  {
   "cell_type": "markdown",
   "metadata": {},
   "source": [
    "# B - Matrix Transposition"
   ]
  },
  {
   "cell_type": "markdown",
   "metadata": {},
   "source": [
    "https://atcoder.jp/contests/abc237/tasks/abc237_b"
   ]
  },
  {
   "cell_type": "code",
   "execution_count": 14,
   "metadata": {},
   "outputs": [
    {
     "name": "stdout",
     "output_type": "stream",
     "text": [
      "1 4 7 10\n",
      "2 5 8 11\n",
      "3 6 9 12\n"
     ]
    }
   ],
   "source": [
    "def init():\n",
    "  H, W = map(int, input().split())\n",
    "  A = [list(map(int, input().split())) for _ in range(H)]\n",
    "  return H, W, A\n",
    "\n",
    "def main():\n",
    "  H, W, A = init()\n",
    "  B = [[0 for _ in range(H)] for _ in range(W)]\n",
    "  for i in range(W):\n",
    "    for j in range(H):\n",
    "      B[i][j] = A[j][i]\n",
    "  return B\n",
    "\n",
    "if __name__ == \"__main__\":\n",
    "  ans = main()\n",
    "  for i in range(len(ans)):\n",
    "    print(\" \".join([str(n) for n in ans[i]]))\n"
   ]
  },
  {
   "cell_type": "markdown",
   "metadata": {},
   "source": [
    "# C - kasaka"
   ]
  },
  {
   "cell_type": "markdown",
   "metadata": {},
   "source": [
    "https://atcoder.jp/contests/abc237/tasks/abc237_c"
   ]
  },
  {
   "cell_type": "code",
   "execution_count": null,
   "metadata": {},
   "outputs": [],
   "source": [
    "def init():\n",
    "  S = list(input())\n",
    "  return S\n",
    "\n",
    "def count_a(S):\n",
    "  a = 0\n",
    "  for s in S:\n",
    "    if s == \"a\":\n",
    "      a += 1\n",
    "    else:\n",
    "      break\n",
    "  return a\n",
    "\n",
    "def judge(S):\n",
    "  if S == S[::-1]:\n",
    "    return True\n",
    "  else:\n",
    "    return False\n",
    "\n",
    "def main():\n",
    "  S = init()\n",
    "  l = count_a(S)\n",
    "  r = count_a(S[::-1])\n",
    "  if l <= r and judge([\"a\"]*(r-l) + S):\n",
    "    return \"Yes\"\n",
    "  return \"No\"\n",
    "\n",
    "if __name__ == \"__main__\":\n",
    "  ans = main()\n",
    "  print(ans)\n"
   ]
  },
  {
   "cell_type": "markdown",
   "metadata": {},
   "source": [
    "# D - LR insertion"
   ]
  },
  {
   "cell_type": "markdown",
   "metadata": {},
   "source": [
    "https://atcoder.jp/contests/abc237/tasks/abc237_d"
   ]
  },
  {
   "cell_type": "code",
   "execution_count": 22,
   "metadata": {},
   "outputs": [
    {
     "name": "stdout",
     "output_type": "stream",
     "text": [
      "deque([4, 5])\n",
      "deque([4, 5, 3])\n",
      "deque([2, 4, 5, 3])\n",
      "deque([1, 2, 4, 5, 3])\n",
      "deque([1, 2, 4, 5, 3, 0])\n",
      "1 2 4 5 3 0\n"
     ]
    }
   ],
   "source": [
    "from collections import deque\n",
    "\n",
    "def init():\n",
    "  N = int(input())\n",
    "  S = list(input())\n",
    "  return N, S\n",
    "\n",
    "def main():\n",
    "  N, S = init()\n",
    "  reversed_S = S[::-1]\n",
    "  A = deque([N])\n",
    "  crt = 0\n",
    "  for i, s in enumerate(reversed_S):\n",
    "    crt = N - i - 1\n",
    "    if s == \"L\":\n",
    "      A.append(crt)\n",
    "    elif s == \"R\":\n",
    "      A.appendleft(crt)\n",
    "  return A\n",
    "\n",
    "if __name__ == \"__main__\":\n",
    "  ans = main()\n",
    "  print(*ans)"
   ]
  },
  {
   "cell_type": "code",
   "execution_count": 18,
   "metadata": {},
   "outputs": [
    {
     "name": "stdout",
     "output_type": "stream",
     "text": [
      "0 1\n",
      "1 2\n",
      "2 3\n"
     ]
    }
   ],
   "source": [
    "a = [1,2,3]\n",
    "for i, _a in enumerate(a):\n",
    "  print(i, _a)"
   ]
  },
  {
   "cell_type": "code",
   "execution_count": null,
   "metadata": {},
   "outputs": [],
   "source": []
  }
 ],
 "metadata": {
  "interpreter": {
   "hash": "4489a261b7a5b6598107f36a73574c6d46e8484a461ff141e656d1076672ceaf"
  },
  "kernelspec": {
   "display_name": "Python 3.8.6 64-bit ('.venv_pc': venv)",
   "language": "python",
   "name": "python3"
  },
  "language_info": {
   "codemirror_mode": {
    "name": "ipython",
    "version": 3
   },
   "file_extension": ".py",
   "mimetype": "text/x-python",
   "name": "python",
   "nbconvert_exporter": "python",
   "pygments_lexer": "ipython3",
   "version": "3.8.6"
  },
  "orig_nbformat": 4
 },
 "nbformat": 4,
 "nbformat_minor": 2
}
