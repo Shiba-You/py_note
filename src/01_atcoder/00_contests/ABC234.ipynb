{
 "cells": [
  {
   "cell_type": "markdown",
   "metadata": {},
   "source": [
    "https://atcoder.jp/contests/abc234/tasks/abc234_a"
   ]
  },
  {
   "cell_type": "markdown",
   "metadata": {},
   "source": [
    "## A - Weird Function"
   ]
  },
  {
   "cell_type": "markdown",
   "metadata": {},
   "source": [
    "関数 f を f(x)=x^2+2x+3 と定義します。\n",
    "整数 t が入力されるので、 f(f(f(t)+t)+f(f(t))) を求めてください。\n",
    "ただし、答えは 2×10^9 以下の整数であることが保証されます。"
   ]
  },
  {
   "cell_type": "code",
   "execution_count": 10,
   "metadata": {},
   "outputs": [
    {
     "name": "stdout",
     "output_type": "stream",
     "text": [
      "0\n",
      "3\n",
      "3\n",
      "18\n",
      "0\n",
      "3\n",
      "3\n",
      "18\n",
      "36\n",
      "1371\n",
      "1371\n"
     ]
    }
   ],
   "source": [
    "def init():\n",
    "  t = int(input())\n",
    "  return t\n",
    "\n",
    "def f(x):\n",
    "  ref = x**2 + 2*x + 3\n",
    "  return ref\n",
    "\n",
    "def main():\n",
    "  t = init()\n",
    "  ans = f(f(f(t)+t) + f(f(t)))\n",
    "  return ans\n",
    "\n",
    "if __name__ == \"__main__\":\n",
    "  ans = main()\n",
    "  print(ans)"
   ]
  },
  {
   "cell_type": "markdown",
   "metadata": {},
   "source": [
    "## B - Longest Segment"
   ]
  },
  {
   "cell_type": "markdown",
   "metadata": {},
   "source": [
    "二次元平面上に N 個の点があります。i 個目の点の座標は (x_i ,y_i ) です。\n",
    "この中から 2 個の点を選ぶとき、それらを結ぶ線分の長さの最大値を求めてください。"
   ]
  },
  {
   "cell_type": "code",
   "execution_count": 14,
   "metadata": {},
   "outputs": [
    {
     "name": "stdout",
     "output_type": "stream",
     "text": [
      "1.4142135623730951\n"
     ]
    }
   ],
   "source": [
    "import itertools\n",
    "import math\n",
    "\n",
    "def init():\n",
    "  n = int(input())\n",
    "  L = [list(map(int, input().split())) for _ in range(n)]\n",
    "  return n, L\n",
    "\n",
    "def main():\n",
    "  n, L = init()\n",
    "  ans = 0\n",
    "  for A, B in itertools.combinations(L, 2):\n",
    "    crt = math.sqrt((A[0]-B[0])**2 + (A[1]-B[1])**2)\n",
    "    ans = max(crt, ans)  \n",
    "  return ans\n",
    "\n",
    "if __name__ == \"__main__\":\n",
    "  ans = main()\n",
    "  print(ans)"
   ]
  },
  {
   "cell_type": "markdown",
   "metadata": {},
   "source": [
    "## C - Happy New Year!"
   ]
  },
  {
   "cell_type": "markdown",
   "metadata": {},
   "source": [
    "10 進法で表記したときに 0,2 のみからなる正整数のうち、 K 番目に小さいものを求めてください。"
   ]
  },
  {
   "cell_type": "code",
   "execution_count": 21,
   "metadata": {},
   "outputs": [
    {
     "name": "stdout",
     "output_type": "stream",
     "text": [
      "2200200\n"
     ]
    }
   ],
   "source": [
    "def init():\n",
    "  k = int(input())\n",
    "  return k\n",
    "\n",
    "def main():\n",
    "  k = init()\n",
    "  k = int(str(bin(k))[2:])*2\n",
    "  return k\n",
    "\n",
    "if __name__ == \"__main__\":\n",
    "  ans = main()\n",
    "  print(ans)"
   ]
  },
  {
   "cell_type": "markdown",
   "metadata": {},
   "source": [
    "## D - Prefix K-th Max\n",
    "### 不正解"
   ]
  },
  {
   "cell_type": "markdown",
   "metadata": {},
   "source": [
    "(1,2,…,N) の順列 P=(P_1 ,P_2 ,…,P_N )、および正整数 K が与えられます。\n",
    "i=K,K+1,…,N について、以下を求めてください。\n",
    "P の先頭 i 項のうち、K 番目に大きい値"
   ]
  },
  {
   "cell_type": "code",
   "execution_count": null,
   "metadata": {},
   "outputs": [],
   "source": [
    "def init():\n",
    "  n, k = map(int, input().split())\n",
    "  p = list(map(int, input().split()))\n",
    "  return n, k, p\n",
    "\n",
    "def main():\n",
    "  n, k, p = init()\n",
    "  wind = p[:k].sort()\n",
    "  print(wind)\n",
    "  for i in range(k, n):\n",
    "    if wind[0] < p[i]:\n",
    "      \n",
    "  return\n",
    "\n",
    "if __name__ == \"__main__\":\n",
    "  ans = main()\n",
    "  print(ans)"
   ]
  },
  {
   "cell_type": "markdown",
   "metadata": {},
   "source": [
    "### 正解"
   ]
  },
  {
   "cell_type": "code",
   "execution_count": 7,
   "metadata": {},
   "outputs": [
    {
     "name": "stdout",
     "output_type": "stream",
     "text": [
      "2\n",
      "3\n",
      "3\n",
      "5\n",
      "6\n",
      "7\n",
      "7\n"
     ]
    }
   ],
   "source": [
    "import heapq\n",
    "\n",
    "def init():\n",
    "  n, k = map(int, input().split())\n",
    "  p = list(map(int, input().split()))\n",
    "  return n, k, p\n",
    "\n",
    "def main():\n",
    "  n, k, p = init()\n",
    "  pk = p[:k]\n",
    "  heapq.heapify(pk)\n",
    "  print(pk[0])\n",
    "  for i in range(k, n):\n",
    "    heapq.heappush(pk, p[i])\n",
    "    heapq.heappop(pk)\n",
    "    print(pk[0])\n",
    "  return\n",
    "\n",
    "if __name__ == \"__main__\":\n",
    "  main()"
   ]
  },
  {
   "cell_type": "markdown",
   "metadata": {},
   "source": [
    "## E - Arithmetic Number"
   ]
  },
  {
   "cell_type": "markdown",
   "metadata": {},
   "source": [
    "### 不正解"
   ]
  },
  {
   "cell_type": "markdown",
   "metadata": {},
   "source": [
    "以下の条件を満たす正の整数 n を、 等差数 と呼びます。\n",
    "(n を先頭に余計な 0 を付けずに 10 進法で表記した際、) n の上から i 桁目を d_i とする。このとき、 n が k 桁の整数であったとすると、 (d_2−d_1 )=(d_3−d_2 )=⋯=(d_k−d_{k−1} ) が成立する。\n",
    "この条件は、「 数列 (d_1 ,d_2 ,…,d_k ) が等差数列である」と言い換えることができる。\n",
    "但し、 n が 1 桁の整数である時、 n は等差数であるものとする。\n",
    "たとえば、 234,369,86420,17,95,8,11,777 は等差数ですが、 751,919,2022,246810,2356 は等差数ではありません。\n",
    "等差数のうち、 X 以上で最小のものを求めてください。"
   ]
  },
  {
   "cell_type": "code",
   "execution_count": null,
   "metadata": {},
   "outputs": [],
   "source": [
    "def init():\n",
    "  x = int(input())\n",
    "  return x\n",
    "\n",
    "def arrange_same(X, l):\n",
    "  top = X[0]\n",
    "  for i in range(1, l):\n",
    "    X[i] = top\n",
    "  return X\n",
    "\n",
    "def main():\n",
    "  # x = init()\n",
    "  x = 152\n",
    "  X = [int(a) for a in list(str(x))]\n",
    "  l = len(X)\n",
    "  if 10<l and l[0]!=l[1]:       # 10桁より大きく，　等差が 0 になる時\n",
    "    X = arrange_same(X, l)\n",
    "    return X\n",
    "  elif l<=1:                    # 1桁の時\n",
    "    return X\n",
    "  init_dif = X[1] - X[0]\n",
    "  for dif in range(init_dif, -1, -1):\n",
    "    tmp_X = X[:]\n",
    "    for i in range(1, len(X)-1):\n",
    "      print(i)\n",
    "      print(X[i+1] - X[i])\n",
    "      print(dif)\n",
    "      if X[i+1] - X[i] < dif:\n",
    "        break\n",
    "      tmp_X[i+1] = tmp_X[i] + dif\n",
    "      if tmp_X[i+1] < 0:\n",
    "        break\n",
    "  return tmp_X\n",
    "\n",
    "if __name__ == \"__main__\":\n",
    "  ans = main()\n",
    "  print(\"\".join([str(n) for n in ans]))"
   ]
  },
  {
   "cell_type": "markdown",
   "metadata": {},
   "source": [
    "### 正解"
   ]
  },
  {
   "cell_type": "code",
   "execution_count": 19,
   "metadata": {},
   "outputs": [
    {
     "name": "stdout",
     "output_type": "stream",
     "text": [
      "159\n"
     ]
    }
   ],
   "source": [
    "def init():\n",
    "  X = input()\n",
    "  return X\n",
    "\n",
    "def make_nums():\n",
    "  X = init()\n",
    "  nums = []\n",
    "  for d0 in range(1, 10):\n",
    "    for dd in range(-9, 9):\n",
    "      n = str(d0)\n",
    "      flag = True\n",
    "      for di in range(len(X)-1):\n",
    "        dn = int(n[-1]) + dd\n",
    "        if dn<0 or 9<dn:\n",
    "          flag = False\n",
    "          break\n",
    "        n += str(dn)\n",
    "      if flag:\n",
    "        nums.append(int(n))\n",
    "  return int(X), sorted(nums)\n",
    "\n",
    "if __name__ == \"__main__\":\n",
    "  X, nums = make_nums()\n",
    "  for num in nums:\n",
    "    if X <= num:\n",
    "      print(num)\n",
    "      break"
   ]
  },
  {
   "cell_type": "code",
   "execution_count": null,
   "metadata": {},
   "outputs": [],
   "source": [
    "def init():\n",
    "  return\n",
    "\n",
    "def main():\n",
    "  return\n",
    "\n",
    "if __name__ == \"__main__\":\n",
    "  ans = main()\n",
    "  print(ans)"
   ]
  }
 ],
 "metadata": {
  "interpreter": {
   "hash": "52ce370d13d9f3e7fec0c208e08f00abccec8be27c64f36722ecec456d801487"
  },
  "kernelspec": {
   "display_name": "Python 3.8.6 64-bit ('.venv_pn': venv)",
   "language": "python",
   "name": "python3"
  },
  "language_info": {
   "codemirror_mode": {
    "name": "ipython",
    "version": 3
   },
   "file_extension": ".py",
   "mimetype": "text/x-python",
   "name": "python",
   "nbconvert_exporter": "python",
   "pygments_lexer": "ipython3",
   "version": "3.8.6"
  },
  "orig_nbformat": 4
 },
 "nbformat": 4,
 "nbformat_minor": 2
}
