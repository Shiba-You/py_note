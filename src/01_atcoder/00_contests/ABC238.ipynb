{
 "cells": [
  {
   "cell_type": "markdown",
   "metadata": {},
   "source": [
    "# C - digitnum "
   ]
  },
  {
   "cell_type": "markdown",
   "metadata": {},
   "source": [
    "https://atcoder.jp/contests/abc238/tasks/abc238_c"
   ]
  },
  {
   "cell_type": "markdown",
   "metadata": {},
   "source": [
    "整数 N が与えられるので、以下の問題を解いてください。\n",
    "\n",
    "f(x)= ( x 以下の正整数で、 x と桁数が同じものの数) とします。\n",
    "f(1)+f(2)+⋯+f(N) を 998244353 で割った余りを求めてください。"
   ]
  },
  {
   "cell_type": "markdown",
   "metadata": {},
   "source": [
    "Ex1:\n",
    "In  : 16\n",
    "Out : 73\n",
    "\n",
    "Ex2:\n",
    "In  : 238\n",
    "Out : 13870\n",
    "\n",
    "Ex3:\n",
    "In  : 999999999999999999\n",
    "Out : 762062362"
   ]
  },
  {
   "cell_type": "code",
   "execution_count": 50,
   "metadata": {},
   "outputs": [
    {
     "name": "stdout",
     "output_type": "stream",
     "text": [
      "852909599\n"
     ]
    }
   ],
   "source": [
    "def init():\n",
    "  N = int(input())\n",
    "  return N\n",
    "\n",
    "def main():\n",
    "  N = init()\n",
    "  d = len(str(N)) - 1\n",
    "  ans = 0\n",
    "  if d > 0:\n",
    "    for _d in range(d+1):\n",
    "      f = 1\n",
    "      if _d < 1:\n",
    "        l = 9\n",
    "      elif _d < d:\n",
    "        l = int(\"9\"+\"0\"*(_d))\n",
    "      elif _d == d:\n",
    "        l = N - int(\"9\"*(_d))\n",
    "      ans += int((l**2+l)/2)\n",
    "  return ans\n",
    "\n",
    "if __name__ == \"__main__\":\n",
    "  ans = main()\n",
    "  MOD = 998244353\n",
    "  print(ans%MOD)"
   ]
  },
  {
   "cell_type": "code",
   "execution_count": null,
   "metadata": {},
   "outputs": [],
   "source": []
  }
 ],
 "metadata": {
  "interpreter": {
   "hash": "4489a261b7a5b6598107f36a73574c6d46e8484a461ff141e656d1076672ceaf"
  },
  "kernelspec": {
   "display_name": "Python 3.8.6 ('.venv_pc': venv)",
   "language": "python",
   "name": "python3"
  },
  "language_info": {
   "codemirror_mode": {
    "name": "ipython",
    "version": 3
   },
   "file_extension": ".py",
   "mimetype": "text/x-python",
   "name": "python",
   "nbconvert_exporter": "python",
   "pygments_lexer": "ipython3",
   "version": "3.8.6"
  },
  "orig_nbformat": 4
 },
 "nbformat": 4,
 "nbformat_minor": 2
}
