{
 "cells": [
  {
   "cell_type": "markdown",
   "metadata": {},
   "source": [
    "# D - Weak Takahashi"
   ]
  },
  {
   "cell_type": "markdown",
   "metadata": {},
   "source": [
    "https://atcoder.jp/contests/abc232/tasks/abc232_d"
   ]
  },
  {
   "cell_type": "markdown",
   "metadata": {},
   "source": [
    "縦 H 行、横 W 行の H×W マスからなるグリッドがあります。上から i 行目、左から j 列目のマスを (i,j) と表します。\n",
    "各マスの状態は文字 C_{i,j} で表され、C_{i,j} = . ならばマス (i,j) は空きマスであり、C_{i,j} = # ならばマス (i,j) は壁です。\n",
    "高橋君がグリッド上を歩こうとしています。彼がマス (i,j) にいるとき、マス (i,j+1) またはマス (i+1,j) に移動することができます。ただし、グリッドの外に出るような移動や、壁のマスへの移動を行うことはできません。高橋君は、移動することのできるマスが無くなった時点で立ち止まります。\n",
    "高橋君がマス (1,1) から歩き始めるとき、彼が立ち止まるまでに通ることのできるマスは最大で何マスですか？"
   ]
  },
  {
   "cell_type": "markdown",
   "metadata": {},
   "source": [
    "Ex1:\n",
    "In  : 3 4\n",
    "      .#..\n",
    "      ..#.\n",
    "      ..##\n",
    "Out : 4\n",
    "\n",
    "Ex2:\n",
    "In  : 1 1\n",
    "      .\n",
    "Out : 1\n",
    "\n",
    "Ex3:\n",
    "In  : 5 5\n",
    "      .....\n",
    "      .....\n",
    "      .....\n",
    "      .....\n",
    "      .....\n",
    "Out : 9"
   ]
  },
  {
   "cell_type": "code",
   "execution_count": 8,
   "metadata": {},
   "outputs": [
    {
     "name": "stdout",
     "output_type": "stream",
     "text": [
      "4\n"
     ]
    }
   ],
   "source": [
    "from collections import deque\n",
    "\n",
    "def init():\n",
    "  H, W = map(int, input().split())\n",
    "  grid = [list(input()) for _ in range(H)]\n",
    "  return H, W, grid\n",
    "\n",
    "def bfs():\n",
    "  H, W, grid = init()\n",
    "  ds = [[1, 0], [0, 1]]\n",
    "  ans = 1\n",
    "  q = deque([[0, 0, ans]])\n",
    "  while q:\n",
    "    y, x, t = q.pop()\n",
    "    for d in ds:\n",
    "      if (0<=y+d[0]<H) and (0<=x+d[1]<W) and grid[y+d[0]][x+d[1]]==\".\":\n",
    "        ans = max(ans, t+1)\n",
    "        grid[y+d[0]][x+d[1]]=\"#\"\n",
    "        q.append([y+d[0], x+d[1], t+1])\n",
    "  return ans\n",
    "\n",
    "if __name__ == \"__main__\":\n",
    "  ans = bfs()\n",
    "  print(ans)"
   ]
  },
  {
   "cell_type": "code",
   "execution_count": null,
   "metadata": {},
   "outputs": [],
   "source": []
  }
 ],
 "metadata": {
  "interpreter": {
   "hash": "4489a261b7a5b6598107f36a73574c6d46e8484a461ff141e656d1076672ceaf"
  },
  "kernelspec": {
   "display_name": "Python 3.8.6 64-bit ('.venv_pc': venv)",
   "language": "python",
   "name": "python3"
  },
  "language_info": {
   "codemirror_mode": {
    "name": "ipython",
    "version": 3
   },
   "file_extension": ".py",
   "mimetype": "text/x-python",
   "name": "python",
   "nbconvert_exporter": "python",
   "pygments_lexer": "ipython3",
   "version": "3.8.6"
  },
  "orig_nbformat": 4
 },
 "nbformat": 4,
 "nbformat_minor": 2
}
