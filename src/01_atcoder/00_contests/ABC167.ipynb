{
 "cells": [
  {
   "cell_type": "code",
   "execution_count": 1,
   "metadata": {
    "tags": []
   },
   "outputs": [
    {
     "output_type": "stream",
     "name": "stdout",
     "text": "No\n"
    }
   ],
   "source": [
    "S = input()\n",
    "K = input()\n",
    "\n",
    "if S == K[:-1]:\n",
    "    print('Yes')\n",
    "else:\n",
    "    print('No')"
   ]
  },
  {
   "cell_type": "code",
   "execution_count": 16,
   "metadata": {
    "tags": []
   },
   "outputs": [
    {
     "output_type": "stream",
     "name": "stdout",
     "text": "２番目\n3\n３番目\n"
    },
    {
     "output_type": "error",
     "ename": "SystemExit",
     "evalue": "",
     "traceback": [
      "An exception has occurred, use %tb to see the full traceback.\n",
      "\u001b[0;31mSystemExit\u001b[0m\n"
     ]
    }
   ],
   "source": [
    "import sys\n",
    "\n",
    "A, B, C, K = list(map(int, input().split()))\n",
    "ans = 0\n",
    "\n",
    "if A > K:\n",
    "    print(K)\n",
    "    sys.exit()\n",
    "ans += A\n",
    "K -= A\n",
    "if B > K:\n",
    "    print(ans)\n",
    "    sys.exit()\n",
    "K -= B\n",
    "if C > K:\n",
    "    print(ans - K)\n",
    "    sys.exit()\n",
    "else:\n",
    "    print(ans - C)"
   ]
  },
  {
   "cell_type": "code",
   "execution_count": 22,
   "metadata": {
    "tags": [
     "outputPrepend"
    ]
   },
   "outputs": [
    {
     "output_type": "stream",
     "name": "stdout",
     "text": "lls: [11, 7, 9, 9, 17]\ntotal: 732, skills: [15, 14, 11, 17, 19]\ntotal: 1273, skills: [20, 18, 14, 20, 25]\ntotal: 2145, skills: [28, 22, 17, 27, 27]\ntotal: 100, skills: [3, 7, 5, 3, 1]\ntotal: 264, skills: [7, 12, 7, 10, 9]\ntotal: 598, skills: [14, 14, 14, 12, 18]\ntotal: 832, skills: [18, 21, 16, 20, 20]\ntotal: 1373, skills: [23, 25, 19, 23, 26]\ntotal: 2245, skills: [31, 29, 22, 30, 28]\nskills:  [31, 29, 22, 30, 28]\ntotal: 235, skills: [4, 8, 6, 9, 7]\ntotal: 1107, skills: [12, 12, 9, 16, 9]\ntotal: 100, skills: [3, 7, 5, 3, 1]\ntotal: 335, skills: [7, 15, 11, 12, 8]\ntotal: 1207, skills: [15, 19, 14, 19, 10]\ntotal: 164, skills: [4, 5, 2, 7, 8]\ntotal: 399, skills: [8, 13, 8, 16, 15]\ntotal: 1271, skills: [16, 17, 11, 23, 17]\ntotal: 100, skills: [3, 7, 5, 3, 1]\ntotal: 264, skills: [7, 12, 7, 10, 9]\ntotal: 499, skills: [11, 20, 13, 19, 16]\ntotal: 1371, skills: [19, 24, 16, 26, 18]\ntotal: 334, skills: [7, 2, 7, 2, 9]\ntotal: 569, skills: [11, 10, 13, 11, 16]\ntotal: 1441, skills: [19, 14, 16, 18, 18]\ntotal: 100, skills: [3, 7, 5, 3, 1]\ntotal: 434, skills: [10, 9, 12, 5, 10]\ntotal: 669, skills: [14, 17, 18, 14, 17]\ntotal: 1541, skills: [22, 21, 21, 21, 19]\ntotal: 164, skills: [4, 5, 2, 7, 8]\ntotal: 498, skills: [11, 7, 9, 9, 17]\ntotal: 733, skills: [15, 15, 15, 18, 24]\ntotal: 1605, skills: [23, 19, 18, 25, 26]\ntotal: 100, skills: [3, 7, 5, 3, 1]\ntotal: 264, skills: [7, 12, 7, 10, 9]\ntotal: 598, skills: [14, 14, 14, 12, 18]\ntotal: 833, skills: [18, 22, 20, 21, 25]\ntotal: 1705, skills: [26, 26, 23, 28, 27]\nskills:  [26, 26, 23, 28, 27]\ntotal: 234, skills: [4, 7, 2, 8, 2]\ntotal: 469, skills: [8, 15, 8, 17, 9]\ntotal: 1341, skills: [16, 19, 11, 24, 11]\ntotal: 100, skills: [3, 7, 5, 3, 1]\ntotal: 334, skills: [7, 14, 7, 11, 3]\ntotal: 569, skills: [11, 22, 13, 20, 10]\ntotal: 1441, skills: [19, 26, 16, 27, 12]\ntotal: 164, skills: [4, 5, 2, 7, 8]\ntotal: 398, skills: [8, 12, 4, 15, 10]\ntotal: 633, skills: [12, 20, 10, 24, 17]\ntotal: 1505, skills: [20, 24, 13, 31, 19]\ntotal: 100, skills: [3, 7, 5, 3, 1]\ntotal: 264, skills: [7, 12, 7, 10, 9]\ntotal: 498, skills: [11, 19, 9, 18, 11]\ntotal: 733, skills: [15, 27, 15, 27, 18]\ntotal: 1605, skills: [23, 31, 18, 34, 20]\ntotal: 334, skills: [7, 2, 7, 2, 9]\ntotal: 568, skills: [11, 9, 9, 10, 11]\ntotal: 803, skills: [15, 17, 15, 19, 18]\ntotal: 1675, skills: [23, 21, 18, 26, 20]\ntotal: 100, skills: [3, 7, 5, 3, 1]\ntotal: 434, skills: [10, 9, 12, 5, 10]\ntotal: 668, skills: [14, 16, 14, 13, 12]\ntotal: 903, skills: [18, 24, 20, 22, 19]\ntotal: 1775, skills: [26, 28, 23, 29, 21]\ntotal: 164, skills: [4, 5, 2, 7, 8]\ntotal: 498, skills: [11, 7, 9, 9, 17]\ntotal: 732, skills: [15, 14, 11, 17, 19]\ntotal: 967, skills: [19, 22, 17, 26, 26]\ntotal: 1839, skills: [27, 26, 20, 33, 28]\ntotal: 100, skills: [3, 7, 5, 3, 1]\ntotal: 264, skills: [7, 12, 7, 10, 9]\ntotal: 598, skills: [14, 14, 14, 12, 18]\ntotal: 832, skills: [18, 21, 16, 20, 20]\ntotal: 1067, skills: [22, 29, 22, 29, 27]\ntotal: 1939, skills: [30, 33, 25, 36, 29]\nskills:  [30, 33, 25, 36, 29]\ntotal: 541, skills: [5, 4, 3, 3, 6]\ntotal: 776, skills: [9, 12, 9, 12, 13]\ntotal: 1648, skills: [17, 16, 12, 19, 15]\ntotal: 100, skills: [3, 7, 5, 3, 1]\ntotal: 641, skills: [8, 11, 8, 6, 7]\ntotal: 876, skills: [12, 19, 14, 15, 14]\ntotal: 1748, skills: [20, 23, 17, 22, 16]\ntotal: 164, skills: [4, 5, 2, 7, 8]\ntotal: 705, skills: [9, 9, 5, 10, 14]\ntotal: 940, skills: [13, 17, 11, 19, 21]\ntotal: 1812, skills: [21, 21, 14, 26, 23]\ntotal: 100, skills: [3, 7, 5, 3, 1]\ntotal: 264, skills: [7, 12, 7, 10, 9]\ntotal: 805, skills: [12, 16, 10, 13, 15]\ntotal: 1040, skills: [16, 24, 16, 22, 22]\ntotal: 1912, skills: [24, 28, 19, 29, 24]\ntotal: 334, skills: [7, 2, 7, 2, 9]\ntotal: 875, skills: [12, 6, 10, 5, 15]\ntotal: 1110, skills: [16, 14, 16, 14, 22]\ntotal: 1982, skills: [24, 18, 19, 21, 24]\ntotal: 100, skills: [3, 7, 5, 3, 1]\ntotal: 434, skills: [10, 9, 12, 5, 10]\ntotal: 975, skills: [15, 13, 15, 8, 16]\ntotal: 1210, skills: [19, 21, 21, 17, 23]\ntotal: 2082, skills: [27, 25, 24, 24, 25]\nskills:  [27, 25, 24, 24, 25]\ntotal: 164, skills: [4, 5, 2, 7, 8]\ntotal: 498, skills: [11, 7, 9, 9, 17]\ntotal: 1039, skills: [16, 11, 12, 12, 23]\ntotal: 1274, skills: [20, 19, 18, 21, 30]\ntotal: 2146, skills: [28, 23, 21, 28, 32]\ntotal: 100, skills: [3, 7, 5, 3, 1]\ntotal: 264, skills: [7, 12, 7, 10, 9]\ntotal: 598, skills: [14, 14, 14, 12, 18]\ntotal: 1139, skills: [19, 18, 17, 15, 24]\ntotal: 1374, skills: [23, 26, 23, 24, 31]\ntotal: 2246, skills: [31, 30, 26, 31, 33]\nskills:  [31, 30, 26, 31, 33]\ntotal: 234, skills: [4, 7, 2, 8, 2]\ntotal: 775, skills: [9, 11, 5, 11, 8]\ntotal: 1010, skills: [13, 19, 11, 20, 15]\ntotal: 1882, skills: [21, 23, 14, 27, 17]\ntotal: 100, skills: [3, 7, 5, 3, 1]\ntotal: 334, skills: [7, 14, 7, 11, 3]\ntotal: 875, skills: [12, 18, 10, 14, 9]\ntotal: 1110, skills: [16, 26, 16, 23, 16]\ntotal: 1982, skills: [24, 30, 19, 30, 18]\ntotal: 164, skills: [4, 5, 2, 7, 8]\ntotal: 398, skills: [8, 12, 4, 15, 10]\ntotal: 939, skills: [13, 16, 7, 18, 16]\ntotal: 1174, skills: [17, 24, 13, 27, 23]\ntotal: 2046, skills: [25, 28, 16, 34, 25]\ntotal: 100, skills: [3, 7, 5, 3, 1]\ntotal: 264, skills: [7, 12, 7, 10, 9]\ntotal: 498, skills: [11, 19, 9, 18, 11]\ntotal: 1039, skills: [16, 23, 12, 21, 17]\ntotal: 1274, skills: [20, 31, 18, 30, 24]\ntotal: 2146, skills: [28, 35, 21, 37, 26]\ntotal: 334, skills: [7, 2, 7, 2, 9]\ntotal: 568, skills: [11, 9, 9, 10, 11]\ntotal: 1109, skills: [16, 13, 12, 13, 17]\ntotal: 1344, skills: [20, 21, 18, 22, 24]\ntotal: 2216, skills: [28, 25, 21, 29, 26]\ntotal: 100, skills: [3, 7, 5, 3, 1]\ntotal: 434, skills: [10, 9, 12, 5, 10]\ntotal: 668, skills: [14, 16, 14, 13, 12]\ntotal: 1209, skills: [19, 20, 17, 16, 18]\ntotal: 1444, skills: [23, 28, 23, 25, 25]\ntotal: 2316, skills: [31, 32, 26, 32, 27]\nskills:  [31, 32, 26, 32, 27]\ntotal: 164, skills: [4, 5, 2, 7, 8]\ntotal: 498, skills: [11, 7, 9, 9, 17]\ntotal: 732, skills: [15, 14, 11, 17, 19]\ntotal: 1273, skills: [20, 18, 14, 20, 25]\ntotal: 1508, skills: [24, 26, 20, 29, 32]\ntotal: 2380, skills: [32, 30, 23, 36, 34]\nskills:  [32, 30, 23, 36, 34]\ntotal: 100, skills: [3, 7, 5, 3, 1]\ntotal: 264, skills: [7, 12, 7, 10, 9]\ntotal: 598, skills: [14, 14, 14, 12, 18]\ntotal: 832, skills: [18, 21, 16, 20, 20]\ntotal: 1373, skills: [23, 25, 19, 23, 26]\ntotal: 1608, skills: [27, 33, 25, 32, 33]\ntotal: 2480, skills: [35, 37, 28, 39, 35]\nskills:  [35, 37, 28, 39, 35]\ntotal: 235, skills: [4, 8, 6, 9, 7]\ntotal: 1107, skills: [12, 12, 9, 16, 9]\ntotal: 100, skills: [3, 7, 5, 3, 1]\ntotal: 335, skills: [7, 15, 11, 12, 8]\ntotal: 1207, skills: [15, 19, 14, 19, 10]\ntotal: 164, skills: [4, 5, 2, 7, 8]\ntotal: 399, skills: [8, 13, 8, 16, 15]\ntotal: 1271, skills: [16, 17, 11, 23, 17]\ntotal: 100, skills: [3, 7, 5, 3, 1]\ntotal: 264, skills: [7, 12, 7, 10, 9]\ntotal: 499, skills: [11, 20, 13, 19, 16]\ntotal: 1371, skills: [19, 24, 16, 26, 18]\ntotal: 334, skills: [7, 2, 7, 2, 9]\ntotal: 569, skills: [11, 10, 13, 11, 16]\ntotal: 1441, skills: [19, 14, 16, 18, 18]\ntotal: 100, skills: [3, 7, 5, 3, 1]\ntotal: 434, skills: [10, 9, 12, 5, 10]\ntotal: 669, skills: [14, 17, 18, 14, 17]\ntotal: 1541, skills: [22, 21, 21, 21, 19]\ntotal: 164, skills: [4, 5, 2, 7, 8]\ntotal: 498, skills: [11, 7, 9, 9, 17]\ntotal: 733, skills: [15, 15, 15, 18, 24]\ntotal: 1605, skills: [23, 19, 18, 25, 26]\ntotal: 100, skills: [3, 7, 5, 3, 1]\ntotal: 264, skills: [7, 12, 7, 10, 9]\ntotal: 598, skills: [14, 14, 14, 12, 18]\ntotal: 833, skills: [18, 22, 20, 21, 25]\ntotal: 1705, skills: [26, 26, 23, 28, 27]\nskills:  [26, 26, 23, 28, 27]\ntotal: 234, skills: [4, 7, 2, 8, 2]\ntotal: 469, skills: [8, 15, 8, 17, 9]\ntotal: 1341, skills: [16, 19, 11, 24, 11]\ntotal: 100, skills: [3, 7, 5, 3, 1]\ntotal: 334, skills: [7, 14, 7, 11, 3]\ntotal: 569, skills: [11, 22, 13, 20, 10]\ntotal: 1441, skills: [19, 26, 16, 27, 12]\ntotal: 164, skills: [4, 5, 2, 7, 8]\ntotal: 398, skills: [8, 12, 4, 15, 10]\ntotal: 633, skills: [12, 20, 10, 24, 17]\ntotal: 1505, skills: [20, 24, 13, 31, 19]\ntotal: 100, skills: [3, 7, 5, 3, 1]\ntotal: 264, skills: [7, 12, 7, 10, 9]\ntotal: 498, skills: [11, 19, 9, 18, 11]\ntotal: 733, skills: [15, 27, 15, 27, 18]\ntotal: 1605, skills: [23, 31, 18, 34, 20]\ntotal: 334, skills: [7, 2, 7, 2, 9]\ntotal: 568, skills: [11, 9, 9, 10, 11]\ntotal: 803, skills: [15, 17, 15, 19, 18]\ntotal: 1675, skills: [23, 21, 18, 26, 20]\ntotal: 100, skills: [3, 7, 5, 3, 1]\ntotal: 434, skills: [10, 9, 12, 5, 10]\ntotal: 668, skills: [14, 16, 14, 13, 12]\ntotal: 903, skills: [18, 24, 20, 22, 19]\ntotal: 1775, skills: [26, 28, 23, 29, 21]\ntotal: 164, skills: [4, 5, 2, 7, 8]\ntotal: 498, skills: [11, 7, 9, 9, 17]\ntotal: 732, skills: [15, 14, 11, 17, 19]\ntotal: 967, skills: [19, 22, 17, 26, 26]\ntotal: 1839, skills: [27, 26, 20, 33, 28]\ntotal: 100, skills: [3, 7, 5, 3, 1]\ntotal: 264, skills: [7, 12, 7, 10, 9]\ntotal: 598, skills: [14, 14, 14, 12, 18]\ntotal: 832, skills: [18, 21, 16, 20, 20]\ntotal: 1067, skills: [22, 29, 22, 29, 27]\ntotal: 1939, skills: [30, 33, 25, 36, 29]\nskills:  [30, 33, 25, 36, 29]\ntotal: 541, skills: [5, 4, 3, 3, 6]\ntotal: 776, skills: [9, 12, 9, 12, 13]\ntotal: 1648, skills: [17, 16, 12, 19, 15]\ntotal: 100, skills: [3, 7, 5, 3, 1]\ntotal: 641, skills: [8, 11, 8, 6, 7]\ntotal: 876, skills: [12, 19, 14, 15, 14]\ntotal: 1748, skills: [20, 23, 17, 22, 16]\ntotal: 164, skills: [4, 5, 2, 7, 8]\ntotal: 705, skills: [9, 9, 5, 10, 14]\ntotal: 940, skills: [13, 17, 11, 19, 21]\ntotal: 1812, skills: [21, 21, 14, 26, 23]\ntotal: 100, skills: [3, 7, 5, 3, 1]\ntotal: 264, skills: [7, 12, 7, 10, 9]\ntotal: 805, skills: [12, 16, 10, 13, 15]\ntotal: 1040, skills: [16, 24, 16, 22, 22]\ntotal: 1912, skills: [24, 28, 19, 29, 24]\ntotal: 334, skills: [7, 2, 7, 2, 9]\ntotal: 875, skills: [12, 6, 10, 5, 15]\ntotal: 1110, skills: [16, 14, 16, 14, 22]\ntotal: 1982, skills: [24, 18, 19, 21, 24]\ntotal: 100, skills: [3, 7, 5, 3, 1]\ntotal: 434, skills: [10, 9, 12, 5, 10]\ntotal: 975, skills: [15, 13, 15, 8, 16]\ntotal: 1210, skills: [19, 21, 21, 17, 23]\ntotal: 2082, skills: [27, 25, 24, 24, 25]\nskills:  [27, 25, 24, 24, 25]\ntotal: 164, skills: [4, 5, 2, 7, 8]\ntotal: 498, skills: [11, 7, 9, 9, 17]\ntotal: 1039, skills: [16, 11, 12, 12, 23]\ntotal: 1274, skills: [20, 19, 18, 21, 30]\ntotal: 2146, skills: [28, 23, 21, 28, 32]\ntotal: 100, skills: [3, 7, 5, 3, 1]\ntotal: 264, skills: [7, 12, 7, 10, 9]\ntotal: 598, skills: [14, 14, 14, 12, 18]\ntotal: 1139, skills: [19, 18, 17, 15, 24]\ntotal: 1374, skills: [23, 26, 23, 24, 31]\ntotal: 2246, skills: [31, 30, 26, 31, 33]\nskills:  [31, 30, 26, 31, 33]\ntotal: 234, skills: [4, 7, 2, 8, 2]\ntotal: 775, skills: [9, 11, 5, 11, 8]\ntotal: 1010, skills: [13, 19, 11, 20, 15]\ntotal: 1882, skills: [21, 23, 14, 27, 17]\ntotal: 100, skills: [3, 7, 5, 3, 1]\ntotal: 334, skills: [7, 14, 7, 11, 3]\ntotal: 875, skills: [12, 18, 10, 14, 9]\ntotal: 1110, skills: [16, 26, 16, 23, 16]\ntotal: 1982, skills: [24, 30, 19, 30, 18]\ntotal: 164, skills: [4, 5, 2, 7, 8]\ntotal: 398, skills: [8, 12, 4, 15, 10]\ntotal: 939, skills: [13, 16, 7, 18, 16]\ntotal: 1174, skills: [17, 24, 13, 27, 23]\ntotal: 2046, skills: [25, 28, 16, 34, 25]\ntotal: 100, skills: [3, 7, 5, 3, 1]\ntotal: 264, skills: [7, 12, 7, 10, 9]\ntotal: 498, skills: [11, 19, 9, 18, 11]\ntotal: 1039, skills: [16, 23, 12, 21, 17]\ntotal: 1274, skills: [20, 31, 18, 30, 24]\ntotal: 2146, skills: [28, 35, 21, 37, 26]\ntotal: 334, skills: [7, 2, 7, 2, 9]\ntotal: 568, skills: [11, 9, 9, 10, 11]\ntotal: 1109, skills: [16, 13, 12, 13, 17]\ntotal: 1344, skills: [20, 21, 18, 22, 24]\ntotal: 2216, skills: [28, 25, 21, 29, 26]\ntotal: 100, skills: [3, 7, 5, 3, 1]\ntotal: 434, skills: [10, 9, 12, 5, 10]\ntotal: 668, skills: [14, 16, 14, 13, 12]\ntotal: 1209, skills: [19, 20, 17, 16, 18]\ntotal: 1444, skills: [23, 28, 23, 25, 25]\ntotal: 2316, skills: [31, 32, 26, 32, 27]\nskills:  [31, 32, 26, 32, 27]\ntotal: 164, skills: [4, 5, 2, 7, 8]\ntotal: 498, skills: [11, 7, 9, 9, 17]\ntotal: 732, skills: [15, 14, 11, 17, 19]\ntotal: 1273, skills: [20, 18, 14, 20, 25]\ntotal: 1508, skills: [24, 26, 20, 29, 32]\ntotal: 2380, skills: [32, 30, 23, 36, 34]\nskills:  [32, 30, 23, 36, 34]\ntotal: 100, skills: [3, 7, 5, 3, 1]\ntotal: 264, skills: [7, 12, 7, 10, 9]\ntotal: 598, skills: [14, 14, 14, 12, 18]\ntotal: 832, skills: [18, 21, 16, 20, 20]\ntotal: 1373, skills: [23, 25, 19, 23, 26]\ntotal: 1608, skills: [27, 33, 25, 32, 33]\ntotal: 2480, skills: [35, 37, 28, 39, 35]\nskills:  [35, 37, 28, 39, 35]\ntotal: 235, skills: [4, 8, 6, 9, 7]\ntotal: 470, skills: [8, 16, 12, 18, 14]\ntotal: 1342, skills: [16, 20, 15, 25, 16]\ntotal: 100, skills: [3, 7, 5, 3, 1]\ntotal: 335, skills: [7, 15, 11, 12, 8]\ntotal: 570, skills: [11, 23, 17, 21, 15]\ntotal: 1442, skills: [19, 27, 20, 28, 17]\ntotal: 164, skills: [4, 5, 2, 7, 8]\ntotal: 399, skills: [8, 13, 8, 16, 15]\ntotal: 634, skills: [12, 21, 14, 25, 22]\ntotal: 1506, skills: [20, 25, 17, 32, 24]\ntotal: 100, skills: [3, 7, 5, 3, 1]\ntotal: 264, skills: [7, 12, 7, 10, 9]\ntotal: 499, skills: [11, 20, 13, 19, 16]\ntotal: 734, skills: [15, 28, 19, 28, 23]\ntotal: 1606, skills: [23, 32, 22, 35, 25]\nskills:  [23, 32, 22, 35, 25]\ntotal: 334, skills: [7, 2, 7, 2, 9]\ntotal: 569, skills: [11, 10, 13, 11, 16]\ntotal: 804, skills: [15, 18, 19, 20, 23]\ntotal: 1676, skills: [23, 22, 22, 27, 25]\nskills:  [23, 22, 22, 27, 25]\ntotal: 100, skills: [3, 7, 5, 3, 1]\ntotal: 434, skills: [10, 9, 12, 5, 10]\ntotal: 669, skills: [14, 17, 18, 14, 17]\ntotal: 904, skills: [18, 25, 24, 23, 24]\ntotal: 1776, skills: [26, 29, 27, 30, 26]\nskills:  [26, 29, 27, 30, 26]\ntotal: 164, skills: [4, 5, 2, 7, 8]\ntotal: 498, skills: [11, 7, 9, 9, 17]\ntotal: 733, skills: [15, 15, 15, 18, 24]\ntotal: 968, skills: [19, 23, 21, 27, 31]\ntotal: 1840, skills: [27, 27, 24, 34, 33]\nskills:  [27, 27, 24, 34, 33]\ntotal: 100, skills: [3, 7, 5, 3, 1]\ntotal: 264, skills: [7, 12, 7, 10, 9]\ntotal: 598, skills: [14, 14, 14, 12, 18]\ntotal: 833, skills: [18, 22, 20, 21, 25]\ntotal: 1068, skills: [22, 30, 26, 30, 32]\ntotal: 1940, skills: [30, 34, 29, 37, 34]\nskills:  [30, 34, 29, 37, 34]\ntotal: 234, skills: [4, 7, 2, 8, 2]\ntotal: 469, skills: [8, 15, 8, 17, 9]\ntotal: 704, skills: [12, 23, 14, 26, 16]\ntotal: 1576, skills: [20, 27, 17, 33, 18]\ntotal: 100, skills: [3, 7, 5, 3, 1]\ntotal: 334, skills: [7, 14, 7, 11, 3]\ntotal: 569, skills: [11, 22, 13, 20, 10]\ntotal: 804, skills: [15, 30, 19, 29, 17]\ntotal: 1676, skills: [23, 34, 22, 36, 19]\ntotal: 164, skills: [4, 5, 2, 7, 8]\ntotal: 398, skills: [8, 12, 4, 15, 10]\ntotal: 633, skills: [12, 20, 10, 24, 17]\ntotal: 868, skills: [16, 28, 16, 33, 24]\ntotal: 1740, skills: [24, 32, 19, 40, 26]\ntotal: 100, skills: [3, 7, 5, 3, 1]\ntotal: 264, skills: [7, 12, 7, 10, 9]\ntotal: 498, skills: [11, 19, 9, 18, 11]\ntotal: 733, skills: [15, 27, 15, 27, 18]\ntotal: 968, skills: [19, 35, 21, 36, 25]\ntotal: 1840, skills: [27, 39, 24, 43, 27]\nskills:  [27, 39, 24, 43, 27]\ntotal: 334, skills: [7, 2, 7, 2, 9]\ntotal: 568, skills: [11, 9, 9, 10, 11]\ntotal: 803, skills: [15, 17, 15, 19, 18]\ntotal: 1038, skills: [19, 25, 21, 28, 25]\ntotal: 1910, skills: [27, 29, 24, 35, 27]\nskills:  [27, 29, 24, 35, 27]\ntotal: 100, skills: [3, 7, 5, 3, 1]\ntotal: 434, skills: [10, 9, 12, 5, 10]\ntotal: 668, skills: [14, 16, 14, 13, 12]\ntotal: 903, skills: [18, 24, 20, 22, 19]\ntotal: 1138, skills: [22, 32, 26, 31, 26]\ntotal: 2010, skills: [30, 36, 29, 38, 28]\nskills:  [30, 36, 29, 38, 28]\ntotal: 164, skills: [4, 5, 2, 7, 8]\ntotal: 498, skills: [11, 7, 9, 9, 17]\ntotal: 732, skills: [15, 14, 11, 17, 19]\ntotal: 967, skills: [19, 22, 17, 26, 26]\ntotal: 1202, skills: [23, 30, 23, 35, 33]\ntotal: 2074, skills: [31, 34, 26, 42, 35]\nskills:  [31, 34, 26, 42, 35]\ntotal: 100, skills: [3, 7, 5, 3, 1]\ntotal: 264, skills: [7, 12, 7, 10, 9]\ntotal: 598, skills: [14, 14, 14, 12, 18]\ntotal: 832, skills: [18, 21, 16, 20, 20]\ntotal: 1067, skills: [22, 29, 22, 29, 27]\ntotal: 1302, skills: [26, 37, 28, 38, 34]\ntotal: 2174, skills: [34, 41, 31, 45, 36]\nskills:  [34, 41, 31, 45, 36]\ntotal: 541, skills: [5, 4, 3, 3, 6]\ntotal: 776, skills: [9, 12, 9, 12, 13]\ntotal: 1011, skills: [13, 20, 15, 21, 20]\ntotal: 1883, skills: [21, 24, 18, 28, 22]\ntotal: 100, skills: [3, 7, 5, 3, 1]\ntotal: 641, skills: [8, 11, 8, 6, 7]\ntotal: 876, skills: [12, 19, 14, 15, 14]\ntotal: 1111, skills: [16, 27, 20, 24, 21]\ntotal: 1983, skills: [24, 31, 23, 31, 23]\nskills:  [24, 31, 23, 31, 23]\ntotal: 164, skills: [4, 5, 2, 7, 8]\ntotal: 705, skills: [9, 9, 5, 10, 14]\ntotal: 940, skills: [13, 17, 11, 19, 21]\ntotal: 1175, skills: [17, 25, 17, 28, 28]\ntotal: 2047, skills: [25, 29, 20, 35, 30]\ntotal: 100, skills: [3, 7, 5, 3, 1]\ntotal: 264, skills: [7, 12, 7, 10, 9]\ntotal: 805, skills: [12, 16, 10, 13, 15]\ntotal: 1040, skills: [16, 24, 16, 22, 22]\ntotal: 1275, skills: [20, 32, 22, 31, 29]\ntotal: 2147, skills: [28, 36, 25, 38, 31]\nskills:  [28, 36, 25, 38, 31]\ntotal: 334, skills: [7, 2, 7, 2, 9]\ntotal: 875, skills: [12, 6, 10, 5, 15]\ntotal: 1110, skills: [16, 14, 16, 14, 22]\ntotal: 1345, skills: [20, 22, 22, 23, 29]\ntotal: 2217, skills: [28, 26, 25, 30, 31]\nskills:  [28, 26, 25, 30, 31]\ntotal: 100, skills: [3, 7, 5, 3, 1]\ntotal: 434, skills: [10, 9, 12, 5, 10]\ntotal: 975, skills: [15, 13, 15, 8, 16]\ntotal: 1210, skills: [19, 21, 21, 17, 23]\ntotal: 1445, skills: [23, 29, 27, 26, 30]\ntotal: 2317, skills: [31, 33, 30, 33, 32]\nskills:  [31, 33, 30, 33, 32]\ntotal: 164, skills: [4, 5, 2, 7, 8]\ntotal: 498, skills: [11, 7, 9, 9, 17]\ntotal: 1039, skills: [16, 11, 12, 12, 23]\ntotal: 1274, skills: [20, 19, 18, 21, 30]\ntotal: 1509, skills: [24, 27, 24, 30, 37]\ntotal: 2381, skills: [32, 31, 27, 37, 39]\nskills:  [32, 31, 27, 37, 39]\ntotal: 100, skills: [3, 7, 5, 3, 1]\ntotal: 264, skills: [7, 12, 7, 10, 9]\ntotal: 598, skills: [14, 14, 14, 12, 18]\ntotal: 1139, skills: [19, 18, 17, 15, 24]\ntotal: 1374, skills: [23, 26, 23, 24, 31]\ntotal: 1609, skills: [27, 34, 29, 33, 38]\ntotal: 2481, skills: [35, 38, 32, 40, 40]\nskills:  [35, 38, 32, 40, 40]\ntotal: 234, skills: [4, 7, 2, 8, 2]\ntotal: 775, skills: [9, 11, 5, 11, 8]\ntotal: 1010, skills: [13, 19, 11, 20, 15]\ntotal: 1245, skills: [17, 27, 17, 29, 22]\ntotal: 2117, skills: [25, 31, 20, 36, 24]\ntotal: 100, skills: [3, 7, 5, 3, 1]\ntotal: 334, skills: [7, 14, 7, 11, 3]\ntotal: 875, skills: [12, 18, 10, 14, 9]\ntotal: 1110, skills: [16, 26, 16, 23, 16]\ntotal: 1345, skills: [20, 34, 22, 32, 23]\ntotal: 2217, skills: [28, 38, 25, 39, 25]\nskills:  [28, 38, 25, 39, 25]\ntotal: 164, skills: [4, 5, 2, 7, 8]\ntotal: 398, skills: [8, 12, 4, 15, 10]\ntotal: 939, skills: [13, 16, 7, 18, 16]\ntotal: 1174, skills: [17, 24, 13, 27, 23]\ntotal: 1409, skills: [21, 32, 19, 36, 30]\ntotal: 2281, skills: [29, 36, 22, 43, 32]\nskills:  [29, 36, 22, 43, 32]\ntotal: 100, skills: [3, 7, 5, 3, 1]\ntotal: 264, skills: [7, 12, 7, 10, 9]\ntotal: 498, skills: [11, 19, 9, 18, 11]\ntotal: 1039, skills: [16, 23, 12, 21, 17]\ntotal: 1274, skills: [20, 31, 18, 30, 24]\ntotal: 1509, skills: [24, 39, 24, 39, 31]\ntotal: 2381, skills: [32, 43, 27, 46, 33]\nskills:  [32, 43, 27, 46, 33]\ntotal: 334, skills: [7, 2, 7, 2, 9]\ntotal: 568, skills: [11, 9, 9, 10, 11]\ntotal: 1109, skills: [16, 13, 12, 13, 17]\ntotal: 1344, skills: [20, 21, 18, 22, 24]\ntotal: 1579, skills: [24, 29, 24, 31, 31]\ntotal: 2451, skills: [32, 33, 27, 38, 33]\nskills:  [32, 33, 27, 38, 33]\ntotal: 100, skills: [3, 7, 5, 3, 1]\ntotal: 434, skills: [10, 9, 12, 5, 10]\ntotal: 668, skills: [14, 16, 14, 13, 12]\ntotal: 1209, skills: [19, 20, 17, 16, 18]\ntotal: 1444, skills: [23, 28, 23, 25, 25]\ntotal: 1679, skills: [27, 36, 29, 34, 32]\ntotal: 2551, skills: [35, 40, 32, 41, 34]\nskills:  [35, 40, 32, 41, 34]\ntotal: 164, skills: [4, 5, 2, 7, 8]\ntotal: 498, skills: [11, 7, 9, 9, 17]\ntotal: 732, skills: [15, 14, 11, 17, 19]\ntotal: 1273, skills: [20, 18, 14, 20, 25]\ntotal: 1508, skills: [24, 26, 20, 29, 32]\ntotal: 1743, skills: [28, 34, 26, 38, 39]\ntotal: 2615, skills: [36, 38, 29, 45, 41]\nskills:  [36, 38, 29, 45, 41]\ntotal: 100, skills: [3, 7, 5, 3, 1]\ntotal: 264, skills: [7, 12, 7, 10, 9]\ntotal: 598, skills: [14, 14, 14, 12, 18]\ntotal: 832, skills: [18, 21, 16, 20, 20]\ntotal: 1373, skills: [23, 25, 19, 23, 26]\ntotal: 1608, skills: [27, 33, 25, 32, 33]\ntotal: 1843, skills: [31, 41, 31, 41, 40]\ntotal: 2715, skills: [39, 45, 34, 48, 42]\nskills:  [39, 45, 34, 48, 42]\n1067\n"
    }
   ],
   "source": [
    "N, M, X = list(map(int, input().split()))\n",
    "ca_list = [list(map(int, input().split())) for _ in range(N)]\n",
    "c = [ca_list[i][0] for i in range(N)]\n",
    "a = [ca_list[i][1:] for i in range(N)]\n",
    "ans = sum(c)\n",
    "check = False\n",
    "\n",
    "for i in range(2**N):\n",
    "    total = 0\n",
    "    skills = [0] * M\n",
    "    for j in range(N):\n",
    "        if (i >> j) & 1:\n",
    "            total += c[j]\n",
    "            skills = [k + l for k, l in zip(a[j], skills)]\n",
    "    if all([z >= X for z in skills]):\n",
    "        ans = min(total, ans)\n",
    "        check = True\n",
    "\n",
    "if check:\n",
    "    print(ans)\n",
    "else:\n",
    "    print(-1)"
   ]
  },
  {
   "cell_type": "code",
   "execution_count": 38,
   "metadata": {
    "tags": []
   },
   "outputs": [
    {
     "output_type": "stream",
     "name": "stdout",
     "text": "past_city:  [1, 6]\npast_city:  [1, 6, 2]\npast_city:  [1, 6, 2, 5]\npast_city:  [1, 6, 2, 5, 3]\nチェック入る\nrem: 1, past_city[rem]: 6, past_city: [1, 6, 2, 5, 3]\n6\n"
    }
   ],
   "source": [
    "import sys\n",
    "\n",
    "N, K = list(map(int, input().split()))\n",
    "A = list(map(int, input().split()))\n",
    "past_city = [1]\n",
    "n = 0\n",
    "\n",
    "for i in range(K):\n",
    "    if len(past_city) == len(A) or i == K:\n",
    "        print(\"オーバー\")\n",
    "        print(past_city[-1])\n",
    "        sys.exit()\n",
    "    if A[past_city[i] - 1] in past_city:\n",
    "        print(\"チェック入る\")\n",
    "        n = i + 1\n",
    "        break\n",
    "    past_city.append(A[past_city[i] - 1])\n",
    "    print(\"past_city: \", past_city)\n",
    "rem = K % n\n",
    "print(\"rem: {}, past_city[rem]: {}, past_city: {}\".format(rem, past_city[rem], past_city))\n",
    "print(past_city[rem])"
   ]
  },
  {
   "cell_type": "code",
   "execution_count": 54,
   "metadata": {
    "tags": []
   },
   "outputs": [
    {
     "output_type": "stream",
     "name": "stdout",
     "text": "2\n"
    }
   ],
   "source": [
    "import sys\n",
    "\n",
    "N, K = list(map(int, input().split()))\n",
    "A = list(map(int, input().split()))\n",
    "A = [0] + A\n",
    "town = 1\n",
    "visited = [0]*(N+1)\n",
    "\n",
    "for i in range(1, K+1):\n",
    "    town = A[town]\n",
    "    if visited[town] == 0:\n",
    "        visited[town] = i\n",
    "    else:\n",
    "        loop = i - visited[town]\n",
    "        place = (K - visited[town]) % loop + visited[town]\n",
    "        print(visited.index(place))\n",
    "        sys.exit()\n",
    "print(town)"
   ]
  }
 ],
 "metadata": {
  "language_info": {
   "codemirror_mode": {
    "name": "ipython",
    "version": 3
   },
   "file_extension": ".py",
   "mimetype": "text/x-python",
   "name": "python",
   "nbconvert_exporter": "python",
   "pygments_lexer": "ipython3",
   "version": 3
  },
  "orig_nbformat": 2,
  "kernelspec": {
   "name": "python_defaultSpec_1593452567747",
   "display_name": "Python 3.7.5 64-bit ('venv': venv)"
  }
 },
 "nbformat": 4,
 "nbformat_minor": 2
}