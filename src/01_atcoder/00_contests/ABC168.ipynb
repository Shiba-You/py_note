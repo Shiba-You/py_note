{
 "cells": [
  {
   "cell_type": "code",
   "execution_count": 4,
   "metadata": {
    "tags": []
   },
   "outputs": [
    {
     "output_type": "stream",
     "name": "stdout",
     "text": "3\nbon\n"
    }
   ],
   "source": [
    "N = input()\n",
    "Nl = int(N[-1])\n",
    "\n",
    "H = [2, 4, 5, 7, 9]\n",
    "P = [0, 1, 6, 8]\n",
    "B = [3]\n",
    "\n",
    "if Nl in H:\n",
    "    print(\"hon\") \n",
    "elif Nl in P:\n",
    "    print(\"pon\")\n",
    "elif Nl in B:\n",
    "    print(\"bon\")"
   ]
  },
  {
   "cell_type": "code",
   "execution_count": 13,
   "metadata": {
    "tags": []
   },
   "outputs": [
    {
     "output_type": "stream",
     "name": "stdout",
     "text": "asd...\n"
    }
   ],
   "source": [
    "K = int(input())\n",
    "S = input()\n",
    "\n",
    "if len(S) <= K:\n",
    "    print(S)\n",
    "else:\n",
    "    reS = S[0:K] + \"...\"\n",
    "    print(reS)"
   ]
  },
  {
   "cell_type": "code",
   "execution_count": 33,
   "metadata": {
    "tags": []
   },
   "outputs": [
    {
     "output_type": "stream",
     "name": "stdout",
     "text": "4.564257194330056\n"
    }
   ],
   "source": [
    "import math\n",
    "\n",
    "A, B, H, M = map(int, input().split())\n",
    "thita = math.radians(abs(M*360/60 - (H*360/12 + M*360/12/60)))\n",
    "\n",
    "ans = math.sqrt(A**2 + B**2 - 2*A*B*math.cos(thita))\n",
    "print(ans)"
   ]
  }
 ],
 "metadata": {
  "language_info": {
   "codemirror_mode": {
    "name": "ipython",
    "version": 3
   },
   "file_extension": ".py",
   "mimetype": "text/x-python",
   "name": "python",
   "nbconvert_exporter": "python",
   "pygments_lexer": "ipython3",
   "version": "3.7.3-final"
  },
  "orig_nbformat": 2,
  "kernelspec": {
   "name": "python37364bitbc5cd0ee8a024af2b9473cdcdb65b71b",
   "display_name": "Python 3.7.3 64-bit"
  }
 },
 "nbformat": 4,
 "nbformat_minor": 2
}