{
 "cells": [
  {
   "cell_type": "code",
   "execution_count": 3,
   "metadata": {
    "tags": []
   },
   "outputs": [
    {
     "output_type": "stream",
     "name": "stdout",
     "text": "1\n"
    }
   ],
   "source": [
    "a = list(map(int, input().split()))\n",
    "print(a.index(0)+1)"
   ]
  },
  {
   "cell_type": "code",
   "execution_count": 8,
   "metadata": {
    "tags": []
   },
   "outputs": [
    {
     "output_type": "stream",
     "name": "stdout",
     "text": "No1\n"
    }
   ],
   "source": [
    "X, Y = list(map(int, input().split()))\n",
    "if Y % 2 == 0:\n",
    "    if 2*X <= Y and 4*X >= Y:\n",
    "        print(\"Yes\")\n",
    "    else:\n",
    "        print(\"No\")\n",
    "else:\n",
    "    print(\"No\")"
   ]
  },
  {
   "cell_type": "code",
   "execution_count": 15,
   "metadata": {
    "tags": []
   },
   "outputs": [
    {
     "output_type": "stream",
     "name": "stdout",
     "text": "100\n"
    }
   ],
   "source": [
    "X, N = list(map(int, input().split()))\n",
    "if N != 0:\n",
    "    p = list(map(int, input().split()))\n",
    "if N == 0:\n",
    "    p = []\n",
    "if X in p:\n",
    "    Xp = X + 1\n",
    "    Xm = X - 1\n",
    "    while True:\n",
    "        if Xm in p:\n",
    "            Xm -= 1\n",
    "        else:\n",
    "            print(Xm)\n",
    "            break\n",
    "        if Xp in p:\n",
    "            Xp += 1\n",
    "        else:\n",
    "            print(Xp)\n",
    "            break\n",
    "else:\n",
    "    print(X)\n"
   ]
  },
  {
   "cell_type": "code",
   "execution_count": 23,
   "metadata": {
    "tags": []
   },
   "outputs": [
    {
     "output_type": "stream",
     "name": "stdout",
     "text": "5\n"
    }
   ],
   "source": [
    "N = int(input())\n",
    "A = list(map(int, input().split()))\n",
    "f = 0\n",
    "for i in range(len(A)):\n",
    "    check = False\n",
    "    for j in range(len(A)):\n",
    "        if i == j:\n",
    "            continue\n",
    "        else:\n",
    "            if A[i] % A[j] == 0:\n",
    "                check = True\n",
    "                break\n",
    "    if check == True:\n",
    "        f += 1\n",
    "ans = len(A) - f\n",
    "print(ans)"
   ]
  },
  {
   "cell_type": "code",
   "execution_count": 34,
   "metadata": {
    "tags": []
   },
   "outputs": [
    {
     "output_type": "stream",
     "name": "stdout",
     "text": "繰り返し開始\ni:0, j:0, sortedA[i]:5, sortedA[j]:5\ncontinue\n繰り返し開始\nbreak\nf:  1\n繰り返し開始\ni:1, j:0, sortedA[i]:5, sortedA[j]:5\ncontinue\n繰り返し開始\ni:1, j:1, sortedA[i]:5, sortedA[j]:5\ncontinue\n繰り返し開始\nbreak\nf:  2\n繰り返し開始\ni:2, j:0, sortedA[i]:5, sortedA[j]:5\ncontinue\n繰り返し開始\ni:2, j:1, sortedA[i]:5, sortedA[j]:5\ncontinue\n繰り返し開始\ni:2, j:2, sortedA[i]:5, sortedA[j]:5\ncontinue\n繰り返し開始\nbreak\nf:  3\n繰り返し開始\ni:3, j:0, sortedA[i]:5, sortedA[j]:5\ncontinue\n繰り返し開始\ni:3, j:1, sortedA[i]:5, sortedA[j]:5\ncontinue\n繰り返し開始\ni:3, j:2, sortedA[i]:5, sortedA[j]:5\ncontinue\n繰り返し開始\ni:3, j:3, sortedA[i]:5, sortedA[j]:5\ncontinue\n0\n"
    }
   ],
   "source": [
    "N = int(input())\n",
    "A = list(map(int, input().split()))\n",
    "f = 0\n",
    "sortedA = sorted(A, reverse=True)\n",
    "\n",
    "for i in range(len(sortedA)):\n",
    "    check = False\n",
    "    for j in range(len(sortedA)):\n",
    "        if i >= j:\n",
    "            continue\n",
    "        else:\n",
    "            if sortedA[i] % sortedA[j] == 0:\n",
    "                check = True\n",
    "                break\n",
    "    if check == True:\n",
    "        f += 1\n",
    "if len(A) - f == 1:\n",
    "    ans = 0\n",
    "else:\n",
    "    ans = len(A) - f\n",
    "print(ans)"
   ]
  },
  {
   "cell_type": "code",
   "execution_count": 45,
   "metadata": {
    "tags": []
   },
   "outputs": [
    {
     "output_type": "stream",
     "name": "stdout",
     "text": "[5, 5, 5, 5]\n{5}\n5\n繰り返し開始\n5\n第二 if 開始\n10\n繰り返し開始\n5\n第一 if 開始\nset()\n繰り返し開始\n5\n第一 if 開始\nset()\n繰り返し開始\n5\n第一 if 開始\nset()\n0\n"
    }
   ],
   "source": [
    "N = int(input())\n",
    "A = list(map(int, input().split()))\n",
    "S = set(A) #setは重複を許さない配列\n",
    "M = max(A)\n",
    "A.sort()\n",
    "\n",
    "pre_a = 0\n",
    "for a in A:\n",
    "    if a == pre_a:\n",
    "        S.discard(a)\n",
    "    if a in S:\n",
    "        j = a * 2\n",
    "        while j <= M:\n",
    "            S.discard(j)\n",
    "            j += a\n",
    "    pre_a = a\n",
    " \n",
    "print(len(S))"
   ]
  },
  {
   "cell_type": "code",
   "execution_count": 53,
   "metadata": {
    "tags": []
   },
   "outputs": [
    {
     "output_type": "stream",
     "name": "stdout",
     "text": "3\n"
    }
   ],
   "source": [
    "N = int(input())\n",
    "A = list(map(int, input().split()))\n",
    "S = set(A)\n",
    "M = max(S)\n",
    "A.sort()\n",
    "\n",
    "pre_a = 0\n",
    "for a in A:\n",
    "    if a == pre_a:\n",
    "        S.discard(a)\n",
    "    if a in S:\n",
    "        j = a * 2\n",
    "        while j <= M:\n",
    "            S.discard(j)\n",
    "            j += a\n",
    "    pre_a = a\n",
    "print(len(S))"
   ]
  },
  {
   "cell_type": "code",
   "execution_count": null,
   "metadata": {},
   "outputs": [],
   "source": [
    "# import sys\n",
    "# import heapq\n",
    " \n",
    "# sys.setrecursionlimit(10 ** 8) #改行を伴う入力の時これをしとくと少し早くなる可能性あり\n",
    " \n",
    "# input = sys.stdin.readline　#改行を伴う入力の時これをしとくと少し早くなる可能性あり\n",
    " \n",
    " \n",
    "# def main():\n",
    "#     N, Q = [int(x) for x in input().split()]\n",
    "#     AB = [[int(x) for x in input().split()] for _ in range(N)]\n",
    " \n",
    "#     hsize = 2 * 10 ** 5 + 1\n",
    " \n",
    "#     h = [[] for _ in range(hsize)]\n",
    " \n",
    "#     # 園児が現在所属している幼稚園を保存\n",
    "#     C = [0] * N\n",
    "#     for i, (a, b) in enumerate(AB):\n",
    "#         print(\"優先度つきキュー\")\n",
    "#         print(a, i, h[b])\n",
    "#         heapq.heappush(h[b], (-a, i))\n",
    "#         C[i] = b\n",
    " \n",
    "#     byodo = []\n",
    " \n",
    "#     for i in range(1, hsize):\n",
    "#         if len(h[i]) == 0:\n",
    "#             continue\n",
    "#         # 各幼稚園の最大値をbyodoに入れる\n",
    "#         x = h[i][0]\n",
    "#         byodo.append((-x[0], x[1]))\n",
    " \n",
    "#     heapq.heapify(byodo)\n",
    " \n",
    "#     for _ in range(Q):\n",
    "#         c, d = [int(x) for x in input().split()]\n",
    "#         c -= 1\n",
    " \n",
    "#         # 移動元最大値チェック\n",
    "#         cfrom = C[c]\n",
    "#         # c園児の現在時をdに更新\n",
    "#         C[c] = d\n",
    "#         while h[cfrom]:\n",
    "#             x = h[cfrom][0]\n",
    "#             # 最大値の園児の現在の所属幼稚園がC[c]と異なればpopしたままにする\n",
    "#             if C[x[1]] != cfrom:\n",
    "#                 heapq.heappop(h[cfrom])\n",
    "#                 continue\n",
    " \n",
    "#             # 現在の最大値を平等にpush\n",
    "#             heapq.heappush(byodo, (-x[0], x[1]))\n",
    "#             break\n",
    " \n",
    "#         # c園児をd幼稚園にpush\n",
    "#         heapq.heappush(h[d], (-AB[c][0], c))\n",
    " \n",
    "#         # 移動先最大値チェック\n",
    "#         while h[d]:\n",
    "#             x = h[d][0]\n",
    "#             # 最大値の園児の現在の所属幼稚園がdと異なればpopしたままにする\n",
    "#             if C[x[1]] != d:\n",
    "#                 heapq.heappop(h[d])\n",
    "#                 continue\n",
    " \n",
    "#             # 現在の最大値をbyodoにpush\n",
    "#             heapq.heappush(byodo, (-x[0], x[1]))\n",
    "#             break\n",
    " \n",
    "#         # 平等の最少値を取得\n",
    "#         while byodo:\n",
    "#             x = byodo[0]\n",
    " \n",
    "#             # 最小値が所属する幼稚園の最大値が異なっていればpopしたままにする\n",
    "#             y = h[C[x[1]]][0]\n",
    "#             if -y[0] != x[0]:\n",
    "#                 heapq.heappop(byodo)\n",
    "#                 continue\n",
    " \n",
    "#             print(x[0])\n",
    "#             break\n",
    " \n",
    " \n",
    "# if __name__ == '__main__':\n",
    "#     main()"
   ]
  }
 ],
 "metadata": {
  "language_info": {
   "codemirror_mode": {
    "name": "ipython",
    "version": 3
   },
   "file_extension": ".py",
   "mimetype": "text/x-python",
   "name": "python",
   "nbconvert_exporter": "python",
   "pygments_lexer": "ipython3",
   "version": "3.7.3-final"
  },
  "orig_nbformat": 2,
  "kernelspec": {
   "name": "python37364bitbc5cd0ee8a024af2b9473cdcdb65b71b",
   "display_name": "Python 3.7.3 64-bit"
  }
 },
 "nbformat": 4,
 "nbformat_minor": 2
}