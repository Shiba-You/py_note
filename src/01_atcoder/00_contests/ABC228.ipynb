{
 "cells": [
  {
   "cell_type": "markdown",
   "metadata": {},
   "source": [
    "# C - Final Day"
   ]
  },
  {
   "cell_type": "markdown",
   "metadata": {},
   "source": [
    "https://atcoder.jp/contests/abc228/tasks/abc228_c"
   ]
  },
  {
   "cell_type": "markdown",
   "metadata": {},
   "source": [
    "N 人の生徒が 4 日間にわたる試験を受けています。\n",
    "それぞれの日に行われる試験は 300 点満点です。すなわち、4 日間を通した試験の満点は 1200 点です。\n",
    "現在 3 日目までの試験が終わり、これから 4 日目の試験が行われようとしています。i(1≤i≤N) 番目の生徒は j(1≤j≤3) 日目の試験で P_{i,j} 点獲得しました。\n",
    "それぞれの生徒について、4 日目の試験後に上位 K 位以内に入っていることがあり得るかどうか判定してください。\n",
    "ただし、4 日目の試験後の生徒の順位は、その生徒よりも 4 日間の合計点が高い生徒の人数に 1 を加えた値として定めます。"
   ]
  },
  {
   "cell_type": "markdown",
   "metadata": {},
   "source": [
    "Ex1:\n",
    "In  : 3 1\n",
    "      178 205 132\n",
    "      112 220 96\n",
    "      36 64 20\n",
    "Out : Yes\n",
    "      Yes\n",
    "      No\n",
    "\n",
    "Ex2:\n",
    "In  : 2 1\n",
    "      300 300 300\n",
    "      200 200 200\n",
    "Out : Yes\n",
    "      Yes\n",
    "\n",
    "Ex3:\n",
    "In  : 4 2\n",
    "      127 235 78\n",
    "      192 134 298\n",
    "      28 56 42\n",
    "      96 120 250\n",
    "Out : Yes\n",
    "      Yes\n",
    "      No\n",
    "      Yes"
   ]
  },
  {
   "cell_type": "code",
   "execution_count": 4,
   "metadata": {},
   "outputs": [
    {
     "name": "stdout",
     "output_type": "stream",
     "text": [
      "Yes\n",
      "Yes\n",
      "No\n",
      "Yes\n"
     ]
    }
   ],
   "source": [
    "def init():\n",
    "  N, K = map(int, input().split())\n",
    "  P = [sum(list(map(int, input().split()))) for _ in range(N)]\n",
    "  return N, K, P\n",
    "\n",
    "def main():\n",
    "  N, K, P = init()\n",
    "  sorted_P = sorted(P, reverse=True)\n",
    "  for p in P:\n",
    "    if sorted_P[K-1]-300 <= p:\n",
    "      print(\"Yes\")\n",
    "    else:\n",
    "      print(\"No\")\n",
    "  return\n",
    "\n",
    "if __name__ == \"__main__\":\n",
    "  main()"
   ]
  },
  {
   "cell_type": "code",
   "execution_count": null,
   "metadata": {},
   "outputs": [],
   "source": []
  }
 ],
 "metadata": {
  "interpreter": {
   "hash": "4489a261b7a5b6598107f36a73574c6d46e8484a461ff141e656d1076672ceaf"
  },
  "kernelspec": {
   "display_name": "Python 3.8.6 ('.venv_pc': venv)",
   "language": "python",
   "name": "python3"
  },
  "language_info": {
   "codemirror_mode": {
    "name": "ipython",
    "version": 3
   },
   "file_extension": ".py",
   "mimetype": "text/x-python",
   "name": "python",
   "nbconvert_exporter": "python",
   "pygments_lexer": "ipython3",
   "version": "3.8.6"
  },
  "orig_nbformat": 4
 },
 "nbformat": 4,
 "nbformat_minor": 2
}
