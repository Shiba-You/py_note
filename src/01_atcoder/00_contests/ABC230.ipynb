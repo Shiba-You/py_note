{
 "cells": [
  {
   "cell_type": "markdown",
   "metadata": {},
   "source": [
    "# C - X drawing"
   ]
  },
  {
   "cell_type": "markdown",
   "metadata": {},
   "source": [
    "https://atcoder.jp/contests/abc230/tasks/abc230_c"
   ]
  },
  {
   "cell_type": "markdown",
   "metadata": {},
   "source": [
    "上下左右に広がる N×N のマス目があり、最初全てのマスは白く塗られています。このマス目の上から i 行目、左から j 列目のマスを (i,j) で表します。\n",
    "\n",
    "高橋君は 1 以上 N 以下の整数 A, B を持っており、次のような操作を行います。\n",
    "\n",
    "max(1−A,1−B)≤k≤min(N−A,N−B) をみたす全ての整数 k について、(A+k,B+k) を黒く塗る。\n",
    "max(1−A,B−N)≤k≤min(N−A,B−1) をみたす全ての整数 k について、(A+k,B−k) を黒く塗る。\n",
    "この操作を行った後のマス目について、P≤i≤Q かつ R≤j≤S をみたす各マス (i,j) がそれぞれ何色で塗られているか求めてください。"
   ]
  },
  {
   "cell_type": "markdown",
   "metadata": {},
   "source": [
    "Ex1:\n",
    "In  : 5 3 2\n",
    "      1 5 1 5\n",
    "Out : ...#.\n",
    "      #.#..\n",
    "      .#...\n",
    "      #.#..\n",
    "      ...#.\n",
    "\n",
    "Ex2:\n",
    "In  : 5 3 3\n",
    "      4 5 2 5\n",
    "Out : #.#.\n",
    "      ...#\n",
    "\n",
    "Ex3:\n",
    "In  : 1000000000000000000 999999999999999999 999999999999999999\n",
    "      999999999999999998 1000000000000000000 999999999999999998 1000000000000000000\n",
    "Out : #.#\n",
    "      .#.\n",
    "      #.#"
   ]
  },
  {
   "cell_type": "code",
   "execution_count": 1,
   "metadata": {},
   "outputs": [
    {
     "name": "stdout",
     "output_type": "stream",
     "text": [
      "...#.\n",
      "#.#..\n",
      ".#...\n",
      "#.#..\n",
      "...#.\n"
     ]
    }
   ],
   "source": [
    "def init():\n",
    "  N, A, B = map(int, input().split())\n",
    "  P, Q, R, S = map(int, input().split())\n",
    "  return N, A, B, P, Q, R, S\n",
    "\n",
    "def main():\n",
    "  N, A, B, P, Q, R, S = init()\n",
    "  for i in range(P, Q+1):\n",
    "    for j in range(R, S+1):\n",
    "      if (i-j==A-B) or (i+j==A+B):\n",
    "        print(\"#\", end=\"\")\n",
    "      else:\n",
    "        print(\".\", end=\"\")\n",
    "    print()\n",
    "  return\n",
    "\n",
    "if __name__ == \"__main__\":\n",
    "  main()"
   ]
  },
  {
   "cell_type": "code",
   "execution_count": null,
   "metadata": {},
   "outputs": [],
   "source": []
  }
 ],
 "metadata": {
  "interpreter": {
   "hash": "4489a261b7a5b6598107f36a73574c6d46e8484a461ff141e656d1076672ceaf"
  },
  "kernelspec": {
   "display_name": "Python 3.8.6 ('.venv_pc': venv)",
   "language": "python",
   "name": "python3"
  },
  "language_info": {
   "codemirror_mode": {
    "name": "ipython",
    "version": 3
   },
   "file_extension": ".py",
   "mimetype": "text/x-python",
   "name": "python",
   "nbconvert_exporter": "python",
   "pygments_lexer": "ipython3",
   "version": "3.8.6"
  },
  "orig_nbformat": 4
 },
 "nbformat": 4,
 "nbformat_minor": 2
}
