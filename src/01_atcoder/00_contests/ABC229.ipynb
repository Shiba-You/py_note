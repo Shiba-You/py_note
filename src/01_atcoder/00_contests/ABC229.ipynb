{
 "cells": [
  {
   "cell_type": "markdown",
   "metadata": {},
   "source": [
    "# C - Cheese "
   ]
  },
  {
   "cell_type": "markdown",
   "metadata": {},
   "source": [
    "https://atcoder.jp/contests/abc229/tasks/abc229_c"
   ]
  },
  {
   "cell_type": "markdown",
   "metadata": {},
   "source": [
    "ピザ屋で働く高橋くんは、まかないとして美味しいチーズピザを作ることにしました。\n",
    "今、高橋くんの目の前に N 種類のチーズがあります。\n",
    "i 種類目のチーズは 1[g] あたりのおいしさが A_i で、 B_i[g] あります。\n",
    "ピザのおいしさは、ピザに乗せたチーズのおいしさの総和で決まります。\n",
    "但し、チーズを使いすぎると怒られてしまうため、乗せたチーズの重さは合計で W [g] 以下である必要があります。\n",
    "この条件のもとで、可能なピザのおいしさの最大値を求めてください。"
   ]
  },
  {
   "cell_type": "markdown",
   "metadata": {},
   "source": [
    "Ex1:\n",
    "In  : 3 5\n",
    "      3 1\n",
    "      4 2\n",
    "      2 3\n",
    "Out : 15\n",
    "\n",
    "Ex2:\n",
    "In  : 4 100\n",
    "      6 2\n",
    "      1 5\n",
    "      3 9\n",
    "      8 7\n",
    "Out : 100\n",
    "\n",
    "Ex3:\n",
    "In  : 10 3141\n",
    "      314944731 649\n",
    "      140276783 228\n",
    "      578012421 809\n",
    "      878510647 519\n",
    "      925326537 943\n",
    "      337666726 611\n",
    "      879137070 306\n",
    "      87808915 39\n",
    "      756059990 244\n",
    "      228622672 291\n",
    "Out : 2357689932073"
   ]
  },
  {
   "cell_type": "code",
   "execution_count": 7,
   "metadata": {},
   "outputs": [
    {
     "name": "stdout",
     "output_type": "stream",
     "text": [
      "100\n"
     ]
    }
   ],
   "source": [
    "def init():\n",
    "  N, W = map(int, input().split())\n",
    "  Cheeses = [list(map(int, input().split())) for _ in range(N)]\n",
    "  Cheeses.sort(reverse=True)\n",
    "  return W, Cheeses\n",
    "\n",
    "def main():\n",
    "  W, Cheeses = init()\n",
    "  ans = 0\n",
    "  t_w = 0\n",
    "  for d, w in Cheeses:\n",
    "    if W < w + t_w:\n",
    "      dif = W - t_w\n",
    "      ans += dif * d\n",
    "      break\n",
    "    ans += w * d\n",
    "    t_w += w\n",
    "  return ans\n",
    "\n",
    "if __name__ == \"__main__\":\n",
    "  ans = main()\n",
    "  print(ans)"
   ]
  },
  {
   "cell_type": "markdown",
   "metadata": {},
   "source": [
    "# D - Longest X"
   ]
  },
  {
   "cell_type": "markdown",
   "metadata": {},
   "source": [
    "https://atcoder.jp/contests/abc229/tasks/abc229_d"
   ]
  },
  {
   "cell_type": "markdown",
   "metadata": {},
   "source": [
    "X と . からなる文字列 S が与えられます。\n",
    "S に対して、次の操作を 0 回以上 K 回以下行うことができます。\n",
    ". を X に置き換える\n",
    "操作後に、X を最大で何個連続させることができますか？"
   ]
  },
  {
   "cell_type": "markdown",
   "metadata": {},
   "source": [
    "Ex1:\n",
    "In  : XX...X.X.X.\n",
    "      2\n",
    "Out : 5\n",
    "\n",
    "Ex2:\n",
    "In  : XXXX\n",
    "      200000\n",
    "Out : 4"
   ]
  },
  {
   "cell_type": "code",
   "execution_count": 7,
   "metadata": {},
   "outputs": [
    {
     "name": "stdout",
     "output_type": "stream",
     "text": [
      "deque(['X'])\n",
      "deque(['X', 'X'])\n",
      "deque(['X', 'X', '.'])\n",
      "deque(['X', 'X', '.', '.'])\n",
      "deque(['.', '.'])\n",
      "deque(['.', '.', 'X'])\n",
      "deque(['.', 'X', '.'])\n",
      "deque(['.', 'X', '.', 'X'])\n",
      "deque(['X', '.', 'X', '.'])\n",
      "deque(['X', '.', 'X', '.', 'X'])\n",
      "deque(['X', '.', 'X', '.'])\n",
      "5\n"
     ]
    }
   ],
   "source": [
    "from collections import deque\n",
    "def init():\n",
    "  S = list(input())\n",
    "  K = int(input())\n",
    "  return S, K\n",
    "\n",
    "def main():\n",
    "  S, K = init()\n",
    "  window = deque()\n",
    "  ans, cnt = 0, 0\n",
    "  for x in S:\n",
    "    window.append(x)\n",
    "    cnt += int(x == \".\")\n",
    "    while K < cnt:\n",
    "      y = window.popleft()\n",
    "      cnt -= int(y == \".\")\n",
    "    ans = max(ans, len(window))\n",
    "  return ans\n",
    "\n",
    "if __name__ == \"__main__\":\n",
    "  ans = main()\n",
    "  print(ans)"
   ]
  },
  {
   "cell_type": "code",
   "execution_count": 3,
   "metadata": {},
   "outputs": [
    {
     "name": "stdout",
     "output_type": "stream",
     "text": [
      "[3, 4, 5]\n"
     ]
    }
   ],
   "source": [
    "a = [1,2,3,4,5]\n",
    "j = a.index(2)\n",
    "print(a[j+1:])"
   ]
  },
  {
   "cell_type": "code",
   "execution_count": null,
   "metadata": {},
   "outputs": [],
   "source": []
  }
 ],
 "metadata": {
  "interpreter": {
   "hash": "4489a261b7a5b6598107f36a73574c6d46e8484a461ff141e656d1076672ceaf"
  },
  "kernelspec": {
   "display_name": "Python 3.8.6 ('.venv_pc': venv)",
   "language": "python",
   "name": "python3"
  },
  "language_info": {
   "codemirror_mode": {
    "name": "ipython",
    "version": 3
   },
   "file_extension": ".py",
   "mimetype": "text/x-python",
   "name": "python",
   "nbconvert_exporter": "python",
   "pygments_lexer": "ipython3",
   "version": "3.8.6"
  },
  "orig_nbformat": 4
 },
 "nbformat": 4,
 "nbformat_minor": 2
}
