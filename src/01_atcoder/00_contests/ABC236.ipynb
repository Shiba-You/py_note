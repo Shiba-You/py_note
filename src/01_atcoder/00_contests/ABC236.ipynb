{
 "cells": [
  {
   "cell_type": "markdown",
   "metadata": {},
   "source": [
    "# A - chukodai\n",
    "英小文字からなる文字列 S が与えられます。\n",
    "S の先頭から a 文字目と b 文字目を入れ替えて得られる文字列を出力してください。"
   ]
  },
  {
   "cell_type": "markdown",
   "metadata": {},
   "source": [
    "https://atcoder.jp/contests/abc236/tasks/abc236_a"
   ]
  },
  {
   "cell_type": "code",
   "execution_count": 7,
   "metadata": {},
   "outputs": [
    {
     "name": "stdout",
     "output_type": "stream",
     "text": [
      "baaabbba\n"
     ]
    }
   ],
   "source": [
    "def init():\n",
    "  S = list(input())\n",
    "  a, b = map(int, input().split())\n",
    "  return S, a, b\n",
    "\n",
    "def main():\n",
    "  S, a, b = init()\n",
    "  S_a, S_b = S[a-1], S[b-1]\n",
    "  S[a-1] = S_b\n",
    "  S[b-1] = S_a\n",
    "  return \"\".join(S)\n",
    "\n",
    "if __name__ == \"__main__\":\n",
    "  ans = main()\n",
    "  print(ans)"
   ]
  },
  {
   "cell_type": "markdown",
   "metadata": {},
   "source": [
    "# B - Who is missing?"
   ]
  },
  {
   "cell_type": "markdown",
   "metadata": {},
   "source": [
    "https://atcoder.jp/contests/abc236/tasks/abc236_b"
   ]
  },
  {
   "cell_type": "code",
   "execution_count": 10,
   "metadata": {},
   "outputs": [
    {
     "name": "stdout",
     "output_type": "stream",
     "text": [
      "2\n"
     ]
    }
   ],
   "source": [
    "def init():\n",
    "  N = int(input())\n",
    "  A = list(map(int, input().split()))\n",
    "  return N, A\n",
    "\n",
    "def main():\n",
    "  N, A = init()\n",
    "  window = [0 for _ in range(N)]\n",
    "  for a in A:\n",
    "    window[a-1] += 1\n",
    "  return window.index(3)+1\n",
    "\n",
    "if __name__ == \"__main__\":\n",
    "  ans = main()\n",
    "  print(ans)"
   ]
  },
  {
   "cell_type": "markdown",
   "metadata": {},
   "source": [
    "# C - Route Map"
   ]
  },
  {
   "cell_type": "markdown",
   "metadata": {},
   "source": [
    "https://atcoder.jp/contests/abc236/tasks/abc236_c"
   ]
  },
  {
   "cell_type": "code",
   "execution_count": 13,
   "metadata": {},
   "outputs": [
    {
     "name": "stdout",
     "output_type": "stream",
     "text": [
      "Yes\n",
      "Yes\n",
      "Yes\n",
      "Yes\n",
      "Yes\n",
      "Yes\n",
      "Yes\n"
     ]
    }
   ],
   "source": [
    "def init():\n",
    "  N, M = map(int, input().split())\n",
    "  S = list(input().split())\n",
    "  T = list(input().split())\n",
    "  return N, M, S, T\n",
    "\n",
    "def main():\n",
    "  N, M, S, T = init()\n",
    "  crt = 0\n",
    "  for t in T:\n",
    "    for j in range(crt, N):\n",
    "      crt += 1\n",
    "      if t == S[j]:\n",
    "        print(\"Yes\")\n",
    "        break\n",
    "      print(\"No\")\n",
    "  return\n",
    "\n",
    "if __name__ == \"__main__\":\n",
    "  main()"
   ]
  },
  {
   "cell_type": "markdown",
   "metadata": {},
   "source": [
    "# D - Dance"
   ]
  },
  {
   "cell_type": "markdown",
   "metadata": {},
   "source": [
    "https://atcoder.jp/contests/abc236/tasks/abc236_d"
   ]
  },
  {
   "cell_type": "code",
   "execution_count": null,
   "metadata": {},
   "outputs": [],
   "source": [
    "import itertools\n",
    "\n",
    "def init():\n",
    "  N = int(input())\n",
    "  A = [list(map(int, input().split())) for _ in range(2*N-1)]\n",
    "  return N, A\n",
    "\n",
    "def main():\n",
    "  N, A = init()\n",
    "  people = list(range(2*N))\n",
    "  for g_i in itertools.permutations(people, N):\n",
    "    g_j = people[:]\n",
    "    for i in g_i:\n",
    "      g_j.remove(i)\n",
    "    \n",
    "    \n",
    "  return ans\n",
    "\n",
    "if __name__ == \"__main__\":\n",
    "  ans = main()\n",
    "  print(ans)"
   ]
  },
  {
   "cell_type": "markdown",
   "metadata": {},
   "source": [
    "## Solution"
   ]
  },
  {
   "cell_type": "code",
   "execution_count": 19,
   "metadata": {},
   "outputs": [
    {
     "name": "stdout",
     "output_type": "stream",
     "text": [
      "[0, 4, 0, 1]\n",
      "[0, 0, 5, 3]\n",
      "[0, 0, 0, 2]\n",
      "[0, 0, 0, 0]\n"
     ]
    }
   ],
   "source": [
    "def dfs(x, c):\n",
    "  if x == (1<<(2*n))-1:\n",
    "    return c\n",
    "  f = False\n",
    "  y = 0\n",
    "  ret = 0\n",
    "  for i in range(2*n):\n",
    "    if x >> i & 1:\n",
    "      continue\n",
    "    if f:\n",
    "      ret = max(ret, dfs(x|(1<<i)|(1<<y), c^A[y][i]))\n",
    "    else:\n",
    "      f = True\n",
    "      y = i\n",
    "  return ret\n",
    "        \n",
    "# n = int(input())\n",
    "# A = [[0]*(2*n) for _ in range(2*n)]\n",
    "# for i in range(2*n-1):\n",
    "#   a = list(map(int, input().split()))\n",
    "#   for j in range(2*n-i-1):\n",
    "#     A[i][i+j+1] = a[j]\n",
    "# print(*A, sep=\"\\n\")\n",
    "n = 2\n",
    "A = [[0, 4, 0, 1],\n",
    "     [0, 0, 5, 3],\n",
    "     [0, 0, 0, 2],\n",
    "     [0, 0, 0, 0]]\n",
    "print(dfs(0, 0))"
   ]
  },
  {
   "cell_type": "code",
   "execution_count": 32,
   "metadata": {},
   "outputs": [
    {
     "name": "stdout",
     "output_type": "stream",
     "text": [
      "5\n"
     ]
    }
   ],
   "source": [
    "def init():\n",
    "  # N = int(input())\n",
    "  # M = 2*N\n",
    "  # A = [[0 for _ in range(M)] for _ in range(M)]\n",
    "  # for i in range(M-1):\n",
    "  #   a = list(map(int, input().split()))\n",
    "  #   for j in range(len(a)):\n",
    "  #     print(i, j)\n",
    "  #     A[i][i+1+j] = a[j]\n",
    "  N, M = 2, 4\n",
    "  A = [[0, 4, 0, 1], [0, 0, 5, 3], [0, 0, 0, 2], [0, 0, 0, 0]]\n",
    "  return N, M, A\n",
    "\n",
    "def dfs(dancer, score, ans):\n",
    "  len_dancer = len(dancer)\n",
    "  if len_dancer == 0:\n",
    "    ans = max(score, ans)\n",
    "    return ans\n",
    "  first = dancer[0]\n",
    "  for j in dancer[1:]:\n",
    "    score = score^A[first][j]\n",
    "    dancer = dancer[1:j] + dancer[j+1:]\n",
    "    ans = dfs(dancer, score, ans)\n",
    "  return ans\n",
    "\n",
    "def main():\n",
    "  N, M, A = init()\n",
    "  dancer = list(range(M))\n",
    "  ans = dfs(dancer,0,0)\n",
    "  return ans\n",
    "\n",
    "if __name__ == \"__main__\":\n",
    "  ans = main()\n",
    "  print(ans)"
   ]
  },
  {
   "cell_type": "code",
   "execution_count": 31,
   "metadata": {},
   "outputs": [
    {
     "name": "stdout",
     "output_type": "stream",
     "text": [
      "[1] [2, 3, 4, 5]\n"
     ]
    }
   ],
   "source": [
    "a = [0,1,2,3,4,5,6,7,8,9]\n",
    "print(a[1:2],a[2:6])"
   ]
  },
  {
   "cell_type": "code",
   "execution_count": null,
   "metadata": {},
   "outputs": [],
   "source": []
  }
 ],
 "metadata": {
  "interpreter": {
   "hash": "52ce370d13d9f3e7fec0c208e08f00abccec8be27c64f36722ecec456d801487"
  },
  "kernelspec": {
   "display_name": "Python 3.8.6 64-bit ('.venv_pn': venv)",
   "language": "python",
   "name": "python3"
  },
  "language_info": {
   "codemirror_mode": {
    "name": "ipython",
    "version": 3
   },
   "file_extension": ".py",
   "mimetype": "text/x-python",
   "name": "python",
   "nbconvert_exporter": "python",
   "pygments_lexer": "ipython3",
   "version": "3.8.6"
  },
  "orig_nbformat": 4
 },
 "nbformat": 4,
 "nbformat_minor": 2
}
