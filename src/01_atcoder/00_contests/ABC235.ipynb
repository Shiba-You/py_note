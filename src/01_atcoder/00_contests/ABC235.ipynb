{
 "cells": [
  {
   "cell_type": "markdown",
   "metadata": {},
   "source": [
    "https://atcoder.jp/contests/abc235/tasks/abc235_a"
   ]
  },
  {
   "cell_type": "markdown",
   "metadata": {},
   "source": [
    "## A - Rotate"
   ]
  },
  {
   "cell_type": "markdown",
   "metadata": {},
   "source": [
    "3 つの数字 x,y,z をこの順に並べてできる 3 桁の整数を xyz と表すことにします。\n",
    "どの桁も 0 でない 3 桁の整数 abc が与えられるので、abc+bca+cab を求めてください。"
   ]
  },
  {
   "cell_type": "code",
   "execution_count": 3,
   "metadata": {},
   "outputs": [
    {
     "name": "stdout",
     "output_type": "stream",
     "text": [
      "2997\n"
     ]
    }
   ],
   "source": [
    "def init():\n",
    "  xyz = input()\n",
    "  return xyz\n",
    "\n",
    "def main():\n",
    "  xyz = init()\n",
    "  a = int(xyz)\n",
    "  b = int(xyz[1]+xyz[2]+xyz[0])\n",
    "  c = int(xyz[2]+xyz[0]+xyz[1])\n",
    "  ans = a + b + c\n",
    "  return ans\n",
    "\n",
    "if __name__ == \"__main__\":\n",
    "  ans = main()\n",
    "  print(ans)"
   ]
  },
  {
   "cell_type": "markdown",
   "metadata": {},
   "source": [
    "## B - Climbing Takahashi"
   ]
  },
  {
   "cell_type": "markdown",
   "metadata": {},
   "source": [
    "N 個の台が一列に並んでおり、左から i 番目の台の高さは H_i です。\n",
    "高橋君は最初、左端の台の上に立っています。\n",
    "高橋君は高い所が好きなので、次のルールで可能な限り移動を繰り返します。\n",
    "いま立っているのが右端の台ではなく、かつ、右隣にある台の高さが自分がいま立っている台より高いとき、右隣の台に移動する\n",
    "最終的に高橋君が立っている台の高さを求めてください。"
   ]
  },
  {
   "cell_type": "code",
   "execution_count": 10,
   "metadata": {},
   "outputs": [
    {
     "name": "stdout",
     "output_type": "stream",
     "text": [
      "1828\n"
     ]
    }
   ],
   "source": [
    "def init():\n",
    "  N = int(input())\n",
    "  H = list(map(int, input().split()))\n",
    "  return H, N\n",
    "\n",
    "def main():\n",
    "  H, N = init()\n",
    "  for i in range(1, N):\n",
    "    if H[i] <= H[i-1]:\n",
    "      return H[i-1]\n",
    "  return H[-1]\n",
    "\n",
    "if __name__ == \"__main__\":\n",
    "  ans = main()\n",
    "  print(ans)"
   ]
  },
  {
   "cell_type": "markdown",
   "metadata": {},
   "source": [
    "## C - The Kth Time Query"
   ]
  },
  {
   "cell_type": "markdown",
   "metadata": {},
   "source": [
    "長さ N の数列 A=(a_1,a_2,…,a_N) があります。\n",
    "以下で説明される Q 個のクエリに答えてください。\n",
    "クエリ i : 整数の組 (x_i ,k_i) が与えられます。A の要素を a_1,a_2,… と前から順に見ていったときに、数 x_i が k_i 回目に登場するのは A の前から何番目の要素を見たときかを出力してください。\n",
    "ただし条件を満たす要素が存在しない場合は −1 を出力してください。"
   ]
  },
  {
   "cell_type": "code",
   "execution_count": 55,
   "metadata": {},
   "outputs": [
    {
     "name": "stdout",
     "output_type": "stream",
     "text": [
      "2\n",
      "-1\n"
     ]
    }
   ],
   "source": [
    "def init():\n",
    "  N, Q = map(int, input().split())\n",
    "  A = list(map(int, input().split()))\n",
    "  XK = [list(map(int, input().split())) for _ in range(Q)]\n",
    "  # N, Q, A, XK = 3, 2, [0, 1000000000, 999999999], [[1000000000, 1], [123456789, 1]]\n",
    "  # N, Q, A, XK = 6, 8, [1, 1, 2, 3, 1, 2], [[1, 1], [1, 2], [1, 3], [1, 4], [2, 1], [2, 2], [2, 3], [4, 1]]\n",
    "  return N, Q, A, XK\n",
    "\n",
    "def main():\n",
    "  N, Q, A, XK = init()\n",
    "  d = {}\n",
    "  for i, a in enumerate(A):\n",
    "    if a not in d.keys():\n",
    "      d[a] = [i+1]\n",
    "    else:\n",
    "      d[a].append(i+1)\n",
    "  for x, k in XK:\n",
    "    if x not in d.keys() or len(d[x]) < k:\n",
    "      print(-1)\n",
    "    else:\n",
    "      print(d[x][k-1])\n",
    "\n",
    "if __name__ == \"__main__\":\n",
    "  main()"
   ]
  },
  {
   "cell_type": "markdown",
   "metadata": {},
   "source": [
    "## D - Multiply and Rotate"
   ]
  },
  {
   "cell_type": "markdown",
   "metadata": {},
   "source": [
    "正の整数 a があります。また、黒板に 1 個の数が 10 進表記で書かれています。\n",
    "黒板に現在書かれている数を x としたとき、高橋君は次のいずれかの操作を行い、黒板に書かれている数を変化させることができます。\n",
    "x を消し、 x を a 倍した数を 10 進表記で新たに書きこむ。\n",
    "x を文字列とみなして、列の末尾の数字を文字列の先頭に移動させる。\n",
    "ただし、この操作は x≥10 かつ x が 10 で割り切れないときにしか行えない。\n",
    "たとえば a=2,x=123 であるとき、高橋君は次のいずれかの操作を行うことができます。\n",
    "x を消して、 x×a=123×2=246 を新たに書きこむ。\n",
    "x を文字列とみなして、123 の末尾の数字である 3 を先頭に移動させる。黒板に書かれている数は 123 から 312 に変化する。\n",
    "はじめ、黒板には 1 が書かれています。書かれている数を N に変化させるには最小で何回の操作が必要ですか？ただし、どのように操作しても書かれている数を N に変化させられない場合は −1 を出力してください。"
   ]
  },
  {
   "cell_type": "code",
   "execution_count": 21,
   "metadata": {},
   "outputs": [
    {
     "name": "stdout",
     "output_type": "stream",
     "text": [
      "12\n"
     ]
    }
   ],
   "source": [
    "from collections import deque\n",
    "def init():\n",
    "  A, N = map(int, input().split())\n",
    "  return A, N\n",
    "\n",
    "def bfs():\n",
    "  A, N = init()\n",
    "  q = deque()\n",
    "  # 逆順にたどる（N -> 1 を目指す）\n",
    "  q.append((N, 0))\n",
    "  history = set()\n",
    "  while q:\n",
    "    n, cnt = q.popleft()\n",
    "    if n == 1:\n",
    "      return cnt\n",
    "    \n",
    "    # 一つ目の条件\n",
    "    if n%A==0:\n",
    "      # 逆順にたどっているから， n // Aを求める（この時に割り切れないとおかしい）\n",
    "      to = n//A\n",
    "      if not to in history:\n",
    "        # 履歴を作ることで，無駄なループを無くす\n",
    "        history.add(to)\n",
    "        q.append((to, cnt+1))\n",
    "    \n",
    "    str_n = str(n)\n",
    "    # 逆順にたどっているから，今（n）の数字における，頭から1桁目をお尻に持っていくから，処理後の数字の頭から1桁目は，処理前の数字の頭から2桁目が先頭になる\n",
    "    if 2<=len(str_n) and int(str_n[1])!=0:\n",
    "      to = int(str_n[1:] + str_n[0])\n",
    "      if not to in history:\n",
    "        history.add(to)\n",
    "        q.append((to, cnt+1))\n",
    "\n",
    "  return -1\n",
    "\n",
    "if __name__ == \"__main__\":\n",
    "  ans = bfs()\n",
    "  print(ans)"
   ]
  },
  {
   "cell_type": "code",
   "execution_count": null,
   "metadata": {},
   "outputs": [],
   "source": []
  },
  {
   "cell_type": "code",
   "execution_count": null,
   "metadata": {},
   "outputs": [],
   "source": [
    "def init():\n",
    "  return \n",
    "\n",
    "def main():\n",
    "  \n",
    "  return ans\n",
    "\n",
    "if __name__ == \"__main__\":\n",
    "  ans = main()\n",
    "  print(ans)"
   ]
  }
 ],
 "metadata": {
  "interpreter": {
   "hash": "52ce370d13d9f3e7fec0c208e08f00abccec8be27c64f36722ecec456d801487"
  },
  "kernelspec": {
   "display_name": "Python 3.8.6 64-bit ('.venv_pn': venv)",
   "language": "python",
   "name": "python3"
  },
  "language_info": {
   "codemirror_mode": {
    "name": "ipython",
    "version": 3
   },
   "file_extension": ".py",
   "mimetype": "text/x-python",
   "name": "python",
   "nbconvert_exporter": "python",
   "pygments_lexer": "ipython3",
   "version": "3.8.6"
  },
  "orig_nbformat": 4
 },
 "nbformat": 4,
 "nbformat_minor": 2
}
