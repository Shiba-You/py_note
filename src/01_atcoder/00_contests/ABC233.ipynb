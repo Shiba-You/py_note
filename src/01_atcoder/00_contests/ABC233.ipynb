{
 "cells": [
  {
   "cell_type": "markdown",
   "metadata": {},
   "source": [
    "# C - Product "
   ]
  },
  {
   "cell_type": "markdown",
   "metadata": {},
   "source": [
    "https://atcoder.jp/contests/abc233/tasks/abc233_c"
   ]
  },
  {
   "cell_type": "markdown",
   "metadata": {},
   "source": [
    "Ex1:\n",
    "In  : 2 40\n",
    "      3 1 8 4\n",
    "      2 10 5\n",
    "Out : 2\n",
    "\n",
    "Ex2:\n",
    "In  : 3 200\n",
    "      3 10 10 10\n",
    "      3 10 10 10\n",
    "      5 2 2 2 2 2\n",
    "Out : 45\n",
    "\n",
    "Ex3:\n",
    "In  : 3 1000000000000000000\n",
    "      2 1000000000 1000000000\n",
    "      2 1000000000 1000000000\n",
    "      2 1000000000 1000000000\n",
    "Out : 0"
   ]
  },
  {
   "cell_type": "code",
   "execution_count": 19,
   "metadata": {},
   "outputs": [
    {
     "name": "stdout",
     "output_type": "stream",
     "text": [
      "0\n"
     ]
    }
   ],
   "source": [
    "def init():\n",
    "  # N, X = map(int, input().split())\n",
    "  # L = []\n",
    "  # A = []\n",
    "  # for _ in range(N):\n",
    "  #   la = list(map(int, input().split()))\n",
    "  #   L.append(la[0])\n",
    "  #   A.append(la[1:])\n",
    "  X, L, A = 40, [3, 2], [[1, 8, 4], [10, 5]]\n",
    "  return X, L, A\n",
    "\n",
    "# X: 現在の整数\n",
    "# n: 袋の番号\n",
    "# A: 袋\n",
    "def dfs(X, n, A, ans):\n",
    "  for a in A[n]:\n",
    "    if len(A)-1 <= n:\n",
    "      if X==a:\n",
    "        return ans+1\n",
    "      if X%a==0:\n",
    "        ans = dfs(X%a, n+1, A, ans)\n",
    "  return ans\n",
    "\n",
    "def main():\n",
    "  X, L, A = init()\n",
    "  ans = 0\n",
    "  ans = dfs(X, 0, A, ans)\n",
    "  return ans\n",
    "\n",
    "if __name__ == \"__main__\":\n",
    "  ans = main()\n",
    "  print(ans)"
   ]
  },
  {
   "cell_type": "code",
   "execution_count": 49,
   "metadata": {},
   "outputs": [
    {
     "name": "stdout",
     "output_type": "stream",
     "text": [
      "3 200 [3, 3, 5] [[10, 10, 10], [10, 10, 10], [2, 2, 2, 2, 2]]\n",
      "1 0 0\n",
      "10 1 0\n",
      "100 2 0\n",
      "100 2 1\n",
      "100 2 2\n",
      "100 2 3\n",
      "100 2 4\n",
      "10 1 5\n",
      "100 2 5\n",
      "100 2 6\n",
      "100 2 7\n",
      "100 2 8\n",
      "100 2 9\n",
      "10 1 10\n",
      "100 2 10\n",
      "100 2 11\n",
      "100 2 12\n",
      "100 2 13\n",
      "100 2 14\n",
      "1 0 15\n",
      "10 1 15\n",
      "100 2 15\n",
      "100 2 16\n",
      "100 2 17\n",
      "100 2 18\n",
      "100 2 19\n",
      "10 1 20\n",
      "100 2 20\n",
      "100 2 21\n",
      "100 2 22\n",
      "100 2 23\n",
      "100 2 24\n",
      "10 1 25\n",
      "100 2 25\n",
      "100 2 26\n",
      "100 2 27\n",
      "100 2 28\n",
      "100 2 29\n",
      "1 0 30\n",
      "10 1 30\n",
      "100 2 30\n",
      "100 2 31\n",
      "100 2 32\n",
      "100 2 33\n",
      "100 2 34\n",
      "10 1 35\n",
      "100 2 35\n",
      "100 2 36\n",
      "100 2 37\n",
      "100 2 38\n",
      "100 2 39\n",
      "10 1 40\n",
      "100 2 40\n",
      "100 2 41\n",
      "100 2 42\n",
      "100 2 43\n",
      "100 2 44\n",
      "45\n"
     ]
    }
   ],
   "source": [
    "def init():\n",
    "  N, X = map(int, input().split())\n",
    "  L, A = [], []\n",
    "  for _ in range(N):\n",
    "    _t = list(map(int, input().split()))\n",
    "    L.append(_t[0])\n",
    "    A.append(_t[1:])\n",
    "  return N, X, L, A\n",
    "\n",
    "def dfs(crt, i, ans):\n",
    "  for a in A[i]:\n",
    "    if i == len(A)-1:\n",
    "      ans += (X == crt*a)\n",
    "    if i+1 < len(A):\n",
    "      ans = dfs(crt*a, i+1, ans)\n",
    "  return ans\n",
    "\n",
    "def main():\n",
    "  global N, X, L, A\n",
    "  N, X, L, A = init()\n",
    "  ans = dfs(1, 0, 0)\n",
    "  return ans\n",
    "\n",
    "if __name__ == \"__main__\":\n",
    "  ans = main()\n",
    "  print(ans)"
   ]
  },
  {
   "cell_type": "markdown",
   "metadata": {},
   "source": [
    "# D - Count Interval"
   ]
  },
  {
   "cell_type": "markdown",
   "metadata": {},
   "source": [
    "https://atcoder.jp/contests/abc233/tasks/abc233_d"
   ]
  },
  {
   "cell_type": "code",
   "execution_count": 36,
   "metadata": {},
   "outputs": [
    {
     "ename": "ValueError",
     "evalue": "not enough values to unpack (expected 2, got 0)",
     "output_type": "error",
     "traceback": [
      "\u001b[0;31m---------------------------------------------------------------------------\u001b[0m",
      "\u001b[0;31mValueError\u001b[0m                                Traceback (most recent call last)",
      "Input \u001b[0;32mIn [36]\u001b[0m, in \u001b[0;36m<module>\u001b[0;34m\u001b[0m\n\u001b[1;32m     21\u001b[0m   \u001b[38;5;28;01mreturn\u001b[39;00m ans\n\u001b[1;32m     23\u001b[0m \u001b[38;5;28;01mif\u001b[39;00m \u001b[38;5;18m__name__\u001b[39m \u001b[38;5;241m==\u001b[39m \u001b[38;5;124m\"\u001b[39m\u001b[38;5;124m__main__\u001b[39m\u001b[38;5;124m\"\u001b[39m:\n\u001b[0;32m---> 24\u001b[0m   ans \u001b[38;5;241m=\u001b[39m \u001b[43mmain\u001b[49m\u001b[43m(\u001b[49m\u001b[43m)\u001b[49m\n\u001b[1;32m     25\u001b[0m   \u001b[38;5;28mprint\u001b[39m(ans)\n",
      "Input \u001b[0;32mIn [36]\u001b[0m, in \u001b[0;36mmain\u001b[0;34m()\u001b[0m\n\u001b[1;32m      8\u001b[0m \u001b[38;5;28;01mdef\u001b[39;00m \u001b[38;5;21mmain\u001b[39m():\n\u001b[0;32m----> 9\u001b[0m   N, K, A \u001b[38;5;241m=\u001b[39m \u001b[43minit\u001b[49m\u001b[43m(\u001b[49m\u001b[43m)\u001b[49m\n\u001b[1;32m     10\u001b[0m   \u001b[38;5;66;03m#! S: 累積和\u001b[39;00m\n\u001b[1;32m     11\u001b[0m   S \u001b[38;5;241m=\u001b[39m [\u001b[38;5;241m0\u001b[39m]\n",
      "Input \u001b[0;32mIn [36]\u001b[0m, in \u001b[0;36minit\u001b[0;34m()\u001b[0m\n\u001b[1;32m      3\u001b[0m \u001b[38;5;28;01mdef\u001b[39;00m \u001b[38;5;21minit\u001b[39m():\n\u001b[0;32m----> 4\u001b[0m   N, K \u001b[38;5;241m=\u001b[39m \u001b[38;5;28mmap\u001b[39m(\u001b[38;5;28mint\u001b[39m, \u001b[38;5;28minput\u001b[39m()\u001b[38;5;241m.\u001b[39msplit())\n\u001b[1;32m      5\u001b[0m   A \u001b[38;5;241m=\u001b[39m \u001b[38;5;28mlist\u001b[39m(\u001b[38;5;28mmap\u001b[39m(\u001b[38;5;28mint\u001b[39m, \u001b[38;5;28minput\u001b[39m()\u001b[38;5;241m.\u001b[39msplit()))\n\u001b[1;32m      6\u001b[0m   \u001b[38;5;28;01mreturn\u001b[39;00m N, K, A\n",
      "\u001b[0;31mValueError\u001b[0m: not enough values to unpack (expected 2, got 0)"
     ]
    }
   ],
   "source": [
    "from collections import defaultdict\n",
    "\n",
    "def init():\n",
    "  N, K = map(int, input().split())\n",
    "  A = list(map(int, input().split()))\n",
    "  return N, K, A\n",
    "\n",
    "def main():\n",
    "  N, K, A = init()\n",
    "  #! S: 累積和\n",
    "  S = [0]\n",
    "  for a in A:\n",
    "    S.append(S[-1]+a)\n",
    "  \n",
    "  d = defaultdict(int)\n",
    "  ans = 0\n",
    "  for sr in S:\n",
    "    sl = sr - K\n",
    "    ans += d[sl]\n",
    "    d[sr] += 1\n",
    "  return ans\n",
    "\n",
    "if __name__ == \"__main__\":\n",
    "  ans = main()\n",
    "  print(ans)\n"
   ]
  },
  {
   "cell_type": "code",
   "execution_count": 30,
   "metadata": {},
   "outputs": [
    {
     "name": "stdout",
     "output_type": "stream",
     "text": [
      "0\n"
     ]
    }
   ],
   "source": [
    "b = 10\n",
    "a = 0\n",
    "a += (b == 11)\n",
    "print(a)"
   ]
  },
  {
   "cell_type": "code",
   "execution_count": null,
   "metadata": {},
   "outputs": [],
   "source": []
  }
 ],
 "metadata": {
  "interpreter": {
   "hash": "4489a261b7a5b6598107f36a73574c6d46e8484a461ff141e656d1076672ceaf"
  },
  "kernelspec": {
   "display_name": "Python 3.8.6 64-bit ('.venv_pc': venv)",
   "language": "python",
   "name": "python3"
  },
  "language_info": {
   "codemirror_mode": {
    "name": "ipython",
    "version": 3
   },
   "file_extension": ".py",
   "mimetype": "text/x-python",
   "name": "python",
   "nbconvert_exporter": "python",
   "pygments_lexer": "ipython3",
   "version": "3.8.6"
  },
  "orig_nbformat": 4
 },
 "nbformat": 4,
 "nbformat_minor": 2
}
