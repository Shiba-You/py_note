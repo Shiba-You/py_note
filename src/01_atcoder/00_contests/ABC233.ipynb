{
 "cells": [
  {
   "cell_type": "markdown",
   "metadata": {},
   "source": [
    "# C - Product "
   ]
  },
  {
   "cell_type": "markdown",
   "metadata": {},
   "source": [
    "https://atcoder.jp/contests/abc233/tasks/abc233_c"
   ]
  },
  {
   "cell_type": "markdown",
   "metadata": {},
   "source": [
    "Ex1:\n",
    "In  : 2 40\n",
    "      3 1 8 4\n",
    "      2 10 5\n",
    "Out : 2\n",
    "\n",
    "Ex2:\n",
    "In  : 3 200\n",
    "      3 10 10 10\n",
    "      3 10 10 10\n",
    "      5 2 2 2 2 2\n",
    "Out : 45\n",
    "\n",
    "Ex3:\n",
    "In  : 3 1000000000000000000\n",
    "      2 1000000000 1000000000\n",
    "      2 1000000000 1000000000\n",
    "      2 1000000000 1000000000\n",
    "Out : 0"
   ]
  },
  {
   "cell_type": "code",
   "execution_count": 19,
   "metadata": {},
   "outputs": [
    {
     "name": "stdout",
     "output_type": "stream",
     "text": [
      "0\n"
     ]
    }
   ],
   "source": [
    "def init():\n",
    "  # N, X = map(int, input().split())\n",
    "  # L = []\n",
    "  # A = []\n",
    "  # for _ in range(N):\n",
    "  #   la = list(map(int, input().split()))\n",
    "  #   L.append(la[0])\n",
    "  #   A.append(la[1:])\n",
    "  X, L, A = 40, [3, 2], [[1, 8, 4], [10, 5]]\n",
    "  return X, L, A\n",
    "\n",
    "# X: 現在の整数\n",
    "# n: 袋の番号\n",
    "# A: 袋\n",
    "def dfs(X, n, A, ans):\n",
    "  for a in A[n]:\n",
    "    if len(A)-1 <= n:\n",
    "      if X==a:\n",
    "        return ans+1\n",
    "      if X%a==0:\n",
    "        ans = dfs(X%a, n+1, A, ans)\n",
    "  return ans\n",
    "\n",
    "def main():\n",
    "  X, L, A = init()\n",
    "  ans = 0\n",
    "  ans = dfs(X, 0, A, ans)\n",
    "  return ans\n",
    "\n",
    "if __name__ == \"__main__\":\n",
    "  ans = main()\n",
    "  print(ans)"
   ]
  },
  {
   "cell_type": "code",
   "execution_count": 3,
   "metadata": {},
   "outputs": [
    {
     "name": "stdout",
     "output_type": "stream",
     "text": [
      "1\n"
     ]
    }
   ],
   "source": [
    "a = 10\n",
    "b = 10\n",
    "print(int(a/b))"
   ]
  },
  {
   "cell_type": "code",
   "execution_count": null,
   "metadata": {},
   "outputs": [],
   "source": []
  }
 ],
 "metadata": {
  "interpreter": {
   "hash": "4489a261b7a5b6598107f36a73574c6d46e8484a461ff141e656d1076672ceaf"
  },
  "kernelspec": {
   "display_name": "Python 3.8.6 64-bit ('.venv_pc': venv)",
   "language": "python",
   "name": "python3"
  },
  "language_info": {
   "codemirror_mode": {
    "name": "ipython",
    "version": 3
   },
   "file_extension": ".py",
   "mimetype": "text/x-python",
   "name": "python",
   "nbconvert_exporter": "python",
   "pygments_lexer": "ipython3",
   "version": "3.8.6"
  },
  "orig_nbformat": 4
 },
 "nbformat": 4,
 "nbformat_minor": 2
}
