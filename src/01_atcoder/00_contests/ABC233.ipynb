{
 "cells": [
  {
   "cell_type": "markdown",
   "metadata": {},
   "source": [
    "# C - Product "
   ]
  },
  {
   "cell_type": "markdown",
   "metadata": {},
   "source": [
    "https://atcoder.jp/contests/abc233/tasks/abc233_c"
   ]
  },
  {
   "cell_type": "markdown",
   "metadata": {},
   "source": [
    "Ex1:\n",
    "In  : 2 40\n",
    "      3 1 8 4\n",
    "      2 10 5\n",
    "Out : 2\n",
    "\n",
    "Ex2:\n",
    "In  : 3 200\n",
    "      3 10 10 10\n",
    "      3 10 10 10\n",
    "      5 2 2 2 2 2\n",
    "Out : 45\n",
    "\n",
    "Ex3:\n",
    "In  : 3 1000000000000000000\n",
    "      2 1000000000 1000000000\n",
    "      2 1000000000 1000000000\n",
    "      2 1000000000 1000000000\n",
    "Out : 0"
   ]
  },
  {
   "cell_type": "code",
   "execution_count": 19,
   "metadata": {},
   "outputs": [
    {
     "name": "stdout",
     "output_type": "stream",
     "text": [
      "0\n"
     ]
    }
   ],
   "source": [
    "def init():\n",
    "  # N, X = map(int, input().split())\n",
    "  # L = []\n",
    "  # A = []\n",
    "  # for _ in range(N):\n",
    "  #   la = list(map(int, input().split()))\n",
    "  #   L.append(la[0])\n",
    "  #   A.append(la[1:])\n",
    "  X, L, A = 40, [3, 2], [[1, 8, 4], [10, 5]]\n",
    "  return X, L, A\n",
    "\n",
    "# X: 現在の整数\n",
    "# n: 袋の番号\n",
    "# A: 袋\n",
    "def dfs(X, n, A, ans):\n",
    "  for a in A[n]:\n",
    "    if len(A)-1 <= n:\n",
    "      if X==a:\n",
    "        return ans+1\n",
    "      if X%a==0:\n",
    "        ans = dfs(X%a, n+1, A, ans)\n",
    "  return ans\n",
    "\n",
    "def main():\n",
    "  X, L, A = init()\n",
    "  ans = 0\n",
    "  ans = dfs(X, 0, A, ans)\n",
    "  return ans\n",
    "\n",
    "if __name__ == \"__main__\":\n",
    "  ans = main()\n",
    "  print(ans)"
   ]
  },
  {
   "cell_type": "markdown",
   "metadata": {},
   "source": [
    "# D - Count Interval"
   ]
  },
  {
   "cell_type": "markdown",
   "metadata": {},
   "source": [
    "https://atcoder.jp/contests/abc233/tasks/abc233_d"
   ]
  },
  {
   "cell_type": "code",
   "execution_count": 36,
   "metadata": {},
   "outputs": [
    {
     "ename": "ValueError",
     "evalue": "not enough values to unpack (expected 2, got 0)",
     "output_type": "error",
     "traceback": [
      "\u001b[0;31m---------------------------------------------------------------------------\u001b[0m",
      "\u001b[0;31mValueError\u001b[0m                                Traceback (most recent call last)",
      "Input \u001b[0;32mIn [36]\u001b[0m, in \u001b[0;36m<module>\u001b[0;34m\u001b[0m\n\u001b[1;32m     21\u001b[0m   \u001b[38;5;28;01mreturn\u001b[39;00m ans\n\u001b[1;32m     23\u001b[0m \u001b[38;5;28;01mif\u001b[39;00m \u001b[38;5;18m__name__\u001b[39m \u001b[38;5;241m==\u001b[39m \u001b[38;5;124m\"\u001b[39m\u001b[38;5;124m__main__\u001b[39m\u001b[38;5;124m\"\u001b[39m:\n\u001b[0;32m---> 24\u001b[0m   ans \u001b[38;5;241m=\u001b[39m \u001b[43mmain\u001b[49m\u001b[43m(\u001b[49m\u001b[43m)\u001b[49m\n\u001b[1;32m     25\u001b[0m   \u001b[38;5;28mprint\u001b[39m(ans)\n",
      "Input \u001b[0;32mIn [36]\u001b[0m, in \u001b[0;36mmain\u001b[0;34m()\u001b[0m\n\u001b[1;32m      8\u001b[0m \u001b[38;5;28;01mdef\u001b[39;00m \u001b[38;5;21mmain\u001b[39m():\n\u001b[0;32m----> 9\u001b[0m   N, K, A \u001b[38;5;241m=\u001b[39m \u001b[43minit\u001b[49m\u001b[43m(\u001b[49m\u001b[43m)\u001b[49m\n\u001b[1;32m     10\u001b[0m   \u001b[38;5;66;03m#! S: 累積和\u001b[39;00m\n\u001b[1;32m     11\u001b[0m   S \u001b[38;5;241m=\u001b[39m [\u001b[38;5;241m0\u001b[39m]\n",
      "Input \u001b[0;32mIn [36]\u001b[0m, in \u001b[0;36minit\u001b[0;34m()\u001b[0m\n\u001b[1;32m      3\u001b[0m \u001b[38;5;28;01mdef\u001b[39;00m \u001b[38;5;21minit\u001b[39m():\n\u001b[0;32m----> 4\u001b[0m   N, K \u001b[38;5;241m=\u001b[39m \u001b[38;5;28mmap\u001b[39m(\u001b[38;5;28mint\u001b[39m, \u001b[38;5;28minput\u001b[39m()\u001b[38;5;241m.\u001b[39msplit())\n\u001b[1;32m      5\u001b[0m   A \u001b[38;5;241m=\u001b[39m \u001b[38;5;28mlist\u001b[39m(\u001b[38;5;28mmap\u001b[39m(\u001b[38;5;28mint\u001b[39m, \u001b[38;5;28minput\u001b[39m()\u001b[38;5;241m.\u001b[39msplit()))\n\u001b[1;32m      6\u001b[0m   \u001b[38;5;28;01mreturn\u001b[39;00m N, K, A\n",
      "\u001b[0;31mValueError\u001b[0m: not enough values to unpack (expected 2, got 0)"
     ]
    }
   ],
   "source": [
    "from collections import defaultdict\n",
    "\n",
    "def init():\n",
    "  N, K = map(int, input().split())\n",
    "  A = list(map(int, input().split()))\n",
    "  return N, K, A\n",
    "\n",
    "def main():\n",
    "  N, K, A = init()\n",
    "  #! S: 累積和\n",
    "  S = [0]\n",
    "  for a in A:\n",
    "    S.append(S[-1]+a)\n",
    "  \n",
    "  d = defaultdict(int)\n",
    "  ans = 0\n",
    "  for sr in S:\n",
    "    sl = sr - K\n",
    "    ans += d[sl]\n",
    "    d[sr] += 1\n",
    "  return ans\n",
    "\n",
    "if __name__ == \"__main__\":\n",
    "  ans = main()\n",
    "  print(ans)\n"
   ]
  },
  {
   "cell_type": "code",
   "execution_count": 34,
   "metadata": {},
   "outputs": [
    {
     "name": "stdout",
     "output_type": "stream",
     "text": [
      "ans : 0\n",
      "d   : defaultdict(<class 'int'>, {-5: 0, 0: 1})\n",
      "ans : 0\n",
      "d   : defaultdict(<class 'int'>, {-5: 0, 0: 1, 3: 0, 8: 1})\n",
      "ans : 1\n",
      "d   : defaultdict(<class 'int'>, {-5: 0, 0: 1, 3: 0, 8: 1, 5: 1})\n",
      "ans : 1\n",
      "d   : defaultdict(<class 'int'>, {-5: 0, 0: 1, 3: 0, 8: 1, 5: 1, 4: 0, 9: 1})\n",
      "\n",
      "ans : 0\n",
      "c   : Counter({5: 1})\n",
      "ans : 0\n",
      "c   : Counter({5: 1, 13: 1})\n",
      "ans : 1\n",
      "c   : Counter({5: 1, 13: 1, 10: 1})\n",
      "ans : 1\n",
      "c   : Counter({5: 1, 13: 1, 10: 1, 14: 1})\n"
     ]
    }
   ],
   "source": [
    "from collections import defaultdict\n",
    "from collections import Counter\n",
    "\n",
    "d = defaultdict(int)\n",
    "\n",
    "ans = 0\n",
    "A = [8, -3,  4]\n",
    "S = [0, 8, 5, 9]\n",
    "K = 5\n",
    "for Sr in S:\n",
    "  Sl = Sr - K\n",
    "  ans += d[Sl]\n",
    "  print(\"ans :\", ans)\n",
    "  d[Sr] += 1\n",
    "  print(\"d   :\", d)\n",
    "\n",
    "print()\n",
    "ans = 0\n",
    "c = Counter()\n",
    "for a in S:\n",
    "  ans += c[a]\n",
    "  print(\"ans :\", ans)\n",
    "  c[a + K] += 1\n",
    "  print(\"c   :\", c)"
   ]
  },
  {
   "cell_type": "code",
   "execution_count": null,
   "metadata": {},
   "outputs": [],
   "source": []
  }
 ],
 "metadata": {
  "interpreter": {
   "hash": "4489a261b7a5b6598107f36a73574c6d46e8484a461ff141e656d1076672ceaf"
  },
  "kernelspec": {
   "display_name": "Python 3.8.6 64-bit ('.venv_pc': venv)",
   "language": "python",
   "name": "python3"
  },
  "language_info": {
   "codemirror_mode": {
    "name": "ipython",
    "version": 3
   },
   "file_extension": ".py",
   "mimetype": "text/x-python",
   "name": "python",
   "nbconvert_exporter": "python",
   "pygments_lexer": "ipython3",
   "version": "3.8.6"
  },
  "orig_nbformat": 4
 },
 "nbformat": 4,
 "nbformat_minor": 2
}
