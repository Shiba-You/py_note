{
 "cells": [
  {
   "cell_type": "code",
   "execution_count": 10,
   "metadata": {
    "tags": []
   },
   "outputs": [
    {
     "output_type": "stream",
     "name": "stdout",
     "text": "unsafe\n"
    }
   ],
   "source": [
    "S, W = list(map(int, input().split()))\n",
    "\n",
    "if S <= W:\n",
    "    print(\"unsafe\")\n",
    "else:\n",
    "    print(\"safe\")"
   ]
  },
  {
   "cell_type": "code",
   "execution_count": 13,
   "metadata": {
    "tags": []
   },
   "outputs": [
    {
     "output_type": "stream",
     "name": "stdout",
     "text": "0\nYes\n"
    },
    {
     "output_type": "error",
     "ename": "SystemExit",
     "evalue": "",
     "traceback": [
      "An exception has occurred, use %tb to see the full traceback.\n",
      "\u001b[0;31mSystemExit\u001b[0m\n"
     ]
    }
   ],
   "source": [
    "import sys\n",
    "\n",
    "A, B, C, D = list(map(int, input().split()))\n",
    "\n",
    "while True:\n",
    "    C -= B\n",
    "    if C <= 0:\n",
    "        print(\"Yes\")\n",
    "        sys.exit()\n",
    "    A -= D\n",
    "    if A <= 0:\n",
    "        print(\"No\")\n",
    "        sys.exit()"
   ]
  },
  {
   "cell_type": "code",
   "execution_count": null,
   "metadata": {},
   "outputs": [],
   "source": [
    "N = int(input())\n",
    "ga = []\n",
    "for _ in range(N):\n",
    "    ga.append(input())\n",
    "ga = set(ga)\n",
    "print(len(ga))"
   ]
  }
 ],
 "metadata": {
  "language_info": {
   "codemirror_mode": {
    "name": "ipython",
    "version": 3
   },
   "file_extension": ".py",
   "mimetype": "text/x-python",
   "name": "python",
   "nbconvert_exporter": "python",
   "pygments_lexer": "ipython3",
   "version": 3
  },
  "orig_nbformat": 2,
  "kernelspec": {
   "name": "python_defaultSpec_1593665142992",
   "display_name": "Python 3.7.5 64-bit ('venv': venv)"
  }
 },
 "nbformat": 4,
 "nbformat_minor": 2
}