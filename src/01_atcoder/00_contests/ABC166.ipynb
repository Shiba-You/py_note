{
 "cells": [
  {
   "cell_type": "code",
   "execution_count": 1,
   "metadata": {
    "tags": []
   },
   "outputs": [
    {
     "output_type": "stream",
     "name": "stdout",
     "text": "ARC\n"
    }
   ],
   "source": [
    "S = input()\n",
    "\n",
    "if S == \"ABC\":\n",
    "    print(\"ARC\")\n",
    "elif S == \"ARC\":\n",
    "    print(\"ABC\")"
   ]
  },
  {
   "cell_type": "code",
   "execution_count": 14,
   "metadata": {
    "tags": []
   },
   "outputs": [
    {
     "output_type": "stream",
     "name": "stdout",
     "text": "2\n"
    }
   ],
   "source": [
    "N, K = list(map(int, input().split()))\n",
    "chi = [0] * (N + 1)\n",
    "A = []\n",
    "for _ in range(K):\n",
    "    d = int(input())\n",
    "    a = list(map(int, input().split()))\n",
    "    A.append(a)\n",
    "\n",
    "for i in range(len(A)):\n",
    "    for j in range(len(A[i])):\n",
    "        chi[A[i][j]] = 1\n",
    "print(chi.count(0)-1)\n"
   ]
  },
  {
   "cell_type": "code",
   "execution_count": 26,
   "metadata": {
    "tags": []
   },
   "outputs": [
    {
     "output_type": "stream",
     "name": "stdout",
     "text": "3\n"
    }
   ],
   "source": [
    "N, M = list(map(int, input().split()))\n",
    "H = list(map(int, input().split()))\n",
    "H = [0] + H\n",
    "judge = [True] * (N + 1)\n",
    "AB = []\n",
    "for _ in range(M):\n",
    "    ab = list(map(int, input().split()))\n",
    "    AB.append(ab)\n",
    "\n",
    "for i in range(M):\n",
    "    if H[AB[i][0]] > H[AB[i][1]]:\n",
    "        judge[AB[i][1]] = False\n",
    "    elif H[AB[i][0]] < H[AB[i][1]]:\n",
    "        judge[AB[i][0]] = False\n",
    "    elif H[AB[i][0]] == H[AB[i][1]]:\n",
    "        judge[AB[i][0]] = False\n",
    "        judge[AB[i][1]] = False\n",
    "print(judge.count(True) - 1)"
   ]
  },
  {
   "cell_type": "code",
   "execution_count": 28,
   "metadata": {
    "tags": []
   },
   "outputs": [
    {
     "output_type": "stream",
     "name": "stdout",
     "text": "X: 1, a: 1\nX: 31, a: 2\nX: 211, a: 3\nX: 781, a: 4\nX: 2101, a: 5\nX: 4651, a: 6\nX: 9031, a: 7\nX: 15961, a: 8\nX: 26281, a: 9\nX: 40951, a: 10\nX: 61051, a: 11\nX: 87781, a: 12\nX: 122461, a: 13\nX: 166531, a: 14\nX: 221551, a: 15\nX: 289201, a: 16\nX: 371281, a: 17\nX: 469711, a: 18\nX: 586531, a: 19\nX: 723901, a: 20\nX: 884101, a: 21\nX: 1069531, a: 22\nX: 1282711, a: 23\nX: 1526281, a: 24\nX: 1803001, a: 25\nX: 2115751, a: 26\nX: 2467531, a: 27\nX: 2861461, a: 28\nX: 3300781, a: 29\nX: 3788851, a: 30\nX: 4329151, a: 31\nX: 4925281, a: 32\nX: 5580961, a: 33\nX: 6300031, a: 34\nX: 7086451, a: 35\nX: 7944301, a: 36\nX: 8877781, a: 37\nX: 9891211, a: 38\nX: 10989031, a: 39\nX: 12175801, a: 40\nX: 13456201, a: 41\nX: 14835031, a: 42\nX: 16317211, a: 43\nX: 17907781, a: 44\nX: 19611901, a: 45\nX: 21434851, a: 46\nX: 23382031, a: 47\nX: 25458961, a: 48\nX: 27671281, a: 49\nX: 30024751, a: 50\nX: 32525251, a: 51\nX: 35178781, a: 52\nX: 37991461, a: 53\nX: 40969531, a: 54\nX: 44119351, a: 55\nX: 47447401, a: 56\nX: 50960281, a: 57\nX: 54664711, a: 58\nX: 58567531, a: 59\nX: 62675701, a: 60\nX: 66996301, a: 61\nX: 71536531, a: 62\nX: 76303711, a: 63\nX: 81305281, a: 64\nX: 86548801, a: 65\nX: 92041951, a: 66\nX: 97792531, a: 67\nX: 103808461, a: 68\nX: 110097781, a: 69\nX: 116668651, a: 70\nX: 123529351, a: 71\nX: 130688281, a: 72\nX: 138153961, a: 73\nX: 145935031, a: 74\nX: 154040251, a: 75\nX: 162478501, a: 76\nX: 171258781, a: 77\nX: 180390211, a: 78\nX: 189882031, a: 79\nX: 199743601, a: 80\nX: 209984401, a: 81\nX: 220614031, a: 82\nX: 231642211, a: 83\nX: 243078781, a: 84\nX: 254933701, a: 85\nX: 267217051, a: 86\nX: 279939031, a: 87\nX: 293109961, a: 88\nX: 306740281, a: 89\nX: 320840551, a: 90\nX: 335421451, a: 91\nX: 350493781, a: 92\nX: 366068461, a: 93\nX: 382156531, a: 94\nX: 398769151, a: 95\nX: 415917601, a: 96\nX: 433613281, a: 97\nX: 451867711, a: 98\nX: 470692531, a: 99\nX: 490099501, a: 100\nX: 510100501, a: 101\nX: 530707531, a: 102\nX: 551932711, a: 103\nX: 573788281, a: 104\nX: 596286601, a: 105\nX: 619440151, a: 106\nX: 643261531, a: 107\nX: 667763461, a: 108\nX: 692958781, a: 109\nX: 718860451, a: 110\nX: 745481551, a: 111\nX: 772835281, a: 112\nX: 800934961, a: 113\nX: 829794031, a: 114\nX: 859426051, a: 115\nX: 889844701, a: 116\nX: 921063781, a: 117\nX: 953097211, a: 118\nX: 985959031, a: 119\nX: 1019663401, a: 120\n"
    }
   ],
   "source": [
    "X = 0\n",
    "a = 1\n",
    "while X < 10**9:\n",
    "    X = a**5 - (a - 1)**5\n",
    "    print(\"X: {}, a: {}\".format(X, a))\n",
    "    a += 1"
   ]
  },
  {
   "cell_type": "code",
   "execution_count": 1,
   "metadata": {
    "tags": []
   },
   "outputs": [
    {
     "output_type": "error",
     "ename": "NameError",
     "evalue": "name 'la' is not defined",
     "traceback": [
      "\u001b[0;31m---------------------------------------------------------------------------\u001b[0m",
      "\u001b[0;31mNameError\u001b[0m                                 Traceback (most recent call last)",
      "\u001b[0;32m<ipython-input-1-787ffac55e50>\u001b[0m in \u001b[0;36m<module>\u001b[0;34m\u001b[0m\n\u001b[1;32m      6\u001b[0m             \u001b[0mla\u001b[0m \u001b[0;34m=\u001b[0m \u001b[0ma\u001b[0m\u001b[0;34m\u001b[0m\u001b[0;34m\u001b[0m\u001b[0m\n\u001b[1;32m      7\u001b[0m             \u001b[0mlb\u001b[0m \u001b[0;34m=\u001b[0m \u001b[0mb\u001b[0m\u001b[0;34m\u001b[0m\u001b[0;34m\u001b[0m\u001b[0m\n\u001b[0;32m----> 8\u001b[0;31m \u001b[0mprint\u001b[0m\u001b[0;34m(\u001b[0m\u001b[0mla\u001b[0m\u001b[0;34m,\u001b[0m \u001b[0mlb\u001b[0m\u001b[0;34m)\u001b[0m\u001b[0;34m\u001b[0m\u001b[0;34m\u001b[0m\u001b[0m\n\u001b[0m",
      "\u001b[0;31mNameError\u001b[0m: name 'la' is not defined"
     ]
    }
   ],
   "source": [
    "X = int(input())\n",
    "\n",
    "for a in range(-119, 120):\n",
    "    for b in range(-119, 120):\n",
    "        if X == a**5 - b**5:\n",
    "            la = a\n",
    "            lb = b\n",
    "print(la, lb)\n"
   ]
  }
 ],
 "metadata": {
  "language_info": {
   "codemirror_mode": {
    "name": "ipython",
    "version": 3
   },
   "file_extension": ".py",
   "mimetype": "text/x-python",
   "name": "python",
   "nbconvert_exporter": "python",
   "pygments_lexer": "ipython3",
   "version": 3
  },
  "orig_nbformat": 2,
  "kernelspec": {
   "name": "python_defaultSpec_1593665354559",
   "display_name": "Python 3.7.5 64-bit ('venv': venv)"
  }
 },
 "nbformat": 4,
 "nbformat_minor": 2
}