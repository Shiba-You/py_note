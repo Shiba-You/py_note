{
 "cells": [
  {
   "cell_type": "markdown",
   "metadata": {},
   "source": [
    "dwango社員のニワンゴくんはゲームが大好きです。ニワンゴくんは「なんとかトゥーン」というゲームを遊んでいます。\n",
    "このゲームはチーム戦で、N 人のプレイヤーからなるAチームと、M 人のプレイヤーからなるBチームに分かれて戦闘を行います。各プレイヤーは戦闘の間、相手チームのプレイヤーに対して「攻撃」を行うことができます。あるプレイヤーからあるプレイヤーに対する攻撃が成立すると、攻撃したプレイヤーの「キル数」が 1 加算され、同時に攻撃されたプレイヤーの「デス数」が 1 加算されます。どちらのプレイヤーも攻撃の後も戦闘を継続でき、攻撃したりされたりすることが可能です。あるプレイヤーが同じプレイヤーを複数回攻撃することもありえます。しかし、同じチームのプレイヤーを攻撃することはできません。戦闘の開始時点で、すべてのプレイヤーのキル数とデス数は 0 に設定されています。\n",
    "ニワンゴくんは、戦闘が終わるとその結果を記録しています。ニワンゴくんの記録は以下の様なものです。まず、Aチームのプレイヤーをキル数の多い順（同じ場合デス数の少ない順）に並べ、それらのキル数を killA=[killA_1,killA_2,...,killA_N] 、デス数を deathA=[deathA_1,deathA_2,...,deathA_N] とします。同様にしてBチームのプレイヤーからも数列 killB=[killB_1,killB_2,...,killB_M] および deathB=[deathB_1,deathB_2,...,deathB_M] を定義します。ニワンゴくんは killA と killB のみを記録します。\n",
    "ニワンゴくんは、 killA と killB から必ずしも一意に deathA と deathB を復元できないことに気が付きました。与えられた killA と killB に矛盾しない deathA と deathB の組み合わせは何通りあるでしょうか？答えは非常に大きくなりうるので、 1,000,000,007(10^9+7) で割った余りを出力してください。"
   ]
  },
  {
   "cell_type": "markdown",
   "metadata": {},
   "source": [
    "https://atcoder.jp/contests/dwacon2018-prelims/tasks/dwacon2018_prelims_c"
   ]
  },
  {
   "cell_type": "markdown",
   "metadata": {},
   "source": [
    "Ex1:\n",
    "In  : 4 1\n",
    "      0 0 0 0\n",
    "      5\n",
    "Out : 6\n",
    "\n",
    "Ex2:\n",
    "In  : 4 1\n",
    "      3 2 1 0\n",
    "      5\n",
    "Out : 56\n",
    "\n",
    "Ex3:\n",
    "In  : 4 4\n",
    "      2 1 1 1\n",
    "      1 1 1 1\n",
    "Out : 66\n",
    "\n",
    "Ex4:\n",
    "In  : 4 4\n",
    "      5 5 4 3\n",
    "      5 4 4 3\n",
    "Out : 322875\n",
    "\n",
    "Ex5:\n",
    "In  : 5 5\n",
    "      100 100 100 100 100\n",
    "      50 50 50 50 50\n",
    "Out : 331829279"
   ]
  },
  {
   "cell_type": "code",
   "execution_count": null,
   "metadata": {},
   "outputs": [],
   "source": [
    "def init():\n",
    "  N, M = map(int, input().split())\n",
    "  kill_A = list(map(int, input().split()))\n",
    "  kill_B = list(map(int, input().split()))\n",
    "  return N, M, kill_A, kill_B\n",
    "\n",
    "def dp_split():\n",
    "  N, M, kill_A, kill_B = init()\n",
    "  \n",
    "  return ans\n",
    "\n",
    "if __name__ == \"__main__\":\n",
    "  ans = dp_split()\n",
    "  print(ans)"
   ]
  },
  {
   "cell_type": "code",
   "execution_count": 13,
   "metadata": {},
   "outputs": [
    {
     "name": "stdout",
     "output_type": "stream",
     "text": [
      "[1, 2, 1, 2]\n",
      "i: 1, j: 1, dp: [1, 1]\n",
      "i: 1, j: 1, dp: [1, 2]\n",
      "\n",
      "[1]\n",
      "i: 1, j: 1, dp: [1, 1, 0]\n",
      "i: 1, j: 2, dp: [1, 1, 1]\n",
      "\n",
      "2\n"
     ]
    }
   ],
   "source": [
    "n, m = map(int, input().split())\n",
    "a = list(map(int, input().split()))\n",
    "b = list(map(int, input().split()))\n",
    "def solve(a, b):\n",
    "  c = [1]\n",
    "  for i,j in zip(a, a[1:]):\n",
    "    c += [c[-1]*(i==j)+1]\n",
    "  dp = [0]*(sum(b)+1)\n",
    "  dp[0] = 1 \n",
    "  for i in c:\n",
    "    for j in range(i, len(dp)):\n",
    "      dp[j] += dp[j-i]\n",
    "  return dp[-1]\n",
    "\n",
    "print(solve(a,b)*solve(b,a)%(10**9+7))"
   ]
  },
  {
   "cell_type": "code",
   "execution_count": null,
   "metadata": {},
   "outputs": [],
   "source": []
  }
 ],
 "metadata": {
  "interpreter": {
   "hash": "52ce370d13d9f3e7fec0c208e08f00abccec8be27c64f36722ecec456d801487"
  },
  "kernelspec": {
   "display_name": "Python 3.8.6 64-bit ('.venv_pn': venv)",
   "language": "python",
   "name": "python3"
  },
  "language_info": {
   "codemirror_mode": {
    "name": "ipython",
    "version": 3
   },
   "file_extension": ".py",
   "mimetype": "text/x-python",
   "name": "python",
   "nbconvert_exporter": "python",
   "pygments_lexer": "ipython3",
   "version": "3.8.6"
  },
  "orig_nbformat": 4
 },
 "nbformat": 4,
 "nbformat_minor": 2
}
