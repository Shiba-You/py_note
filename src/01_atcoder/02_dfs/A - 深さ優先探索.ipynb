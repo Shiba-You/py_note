{
 "cells": [
  {
   "cell_type": "markdown",
   "metadata": {},
   "source": [
    "高橋君の住む街は長方形の形をしており、格子状の区画に区切られています。 長方形の各辺は東西及び南北に並行です。 各区画は道または塀のどちらかであり、高橋君は道を東西南北に移動できますが斜めには移動できません。 また、塀の区画は通ることができません。\n",
    "\n",
    "高橋君が、塀を壊したりすることなく道を通って魚屋にたどり着けるかどうか判定してください。\n",
    "\n",
    "塀を 1 回も壊さずに、家から魚屋まで辿り着くことができる場合は Yes、辿りつけない場合は No を標準出力に 1 行で出力せよ。"
   ]
  },
  {
   "cell_type": "markdown",
   "metadata": {},
   "source": [
    "https://atcoder.jp/contests/atc001/tasks/dfs_a"
   ]
  },
  {
   "cell_type": "markdown",
   "metadata": {},
   "source": [
    "Ex1:\n",
    "In  : 4 5\n",
    "      s####\n",
    "      ....#\n",
    "      #####\n",
    "      #...g\n",
    "Out : No\n",
    "\n",
    "Ex2:\n",
    "In  : 4 4\n",
    "      ...s\n",
    "      ....\n",
    "      ....\n",
    "      .g..\n",
    "Out : Yes\n",
    "\n",
    "Ex3:\n",
    "In  : 10 10\n",
    "      s.........\n",
    "      #########.\n",
    "      #.......#.\n",
    "      #..####.#.\n",
    "      ##....#.#.\n",
    "      #####.#.#.\n",
    "      g.#.#.#.#.\n",
    "      #.#.#.#.#.\n",
    "      ###.#.#.#.\n",
    "      #.....#...\n",
    "Out : No\n",
    "\n",
    "Ex4:\n",
    "In  : 10 10\n",
    "      s.........\n",
    "      #########.\n",
    "      #.......#.\n",
    "      #..####.#.\n",
    "      ##....#.#.\n",
    "      #####.#.#.\n",
    "      g.#.#.#.#.\n",
    "      #.#.#.#.#.\n",
    "      #.#.#.#.#.\n",
    "      #.....#...\n",
    "Out : Yes\n",
    "\n",
    "Ex5:\n",
    "In  : 1 10\n",
    "      s..####..g\n",
    "Out : No"
   ]
  },
  {
   "cell_type": "code",
   "execution_count": 4,
   "metadata": {},
   "outputs": [
    {
     "name": "stdout",
     "output_type": "stream",
     "text": [
      "No\n"
     ]
    }
   ],
   "source": [
    "import sys\n",
    "sys.setrecursionlimit(10**7)    # これがないと再帰関数の上限に引っかかってしまう\n",
    "\n",
    "def init():\n",
    "  h, w = map(int, input().split())\n",
    "  grid = [list(input()) for _ in range(h)]\n",
    "  return h, w, grid\n",
    "\n",
    "def search_start(h, w, grid):\n",
    "  for y in range(h):\n",
    "    for x in range(w):\n",
    "      if grid[y][x] == \"s\":\n",
    "        sy, sx = y, x\n",
    "  return sy, sx\n",
    "\n",
    "def dfs(y, x):\n",
    "  if not(0<=y<len(grid)) or not(0<=x<len(grid[0])) or grid[y][x]==\"#\":\n",
    "    return\n",
    "  elif grid[y][x]==\"g\":\n",
    "    print(\"Yes\")\n",
    "    exit()\n",
    "  else:\n",
    "    grid[y][x] = \"#\"\n",
    "    dfs(y+1,   x)    # 下\n",
    "    dfs(y-1,   x)    # 上\n",
    "    dfs(  y, x+1)    # 右\n",
    "    dfs(  y, x-1)    # 左\n",
    "  return\n",
    "\n",
    "if __name__ == \"__main__\":\n",
    "  h, w, grid= init()\n",
    "  sy, sx = search_start(h, w, grid)\n",
    "  dfs(sy, sx)\n",
    "  print(\"No\")"
   ]
  },
  {
   "cell_type": "code",
   "execution_count": null,
   "metadata": {},
   "outputs": [
    {
     "ename": "Error",
     "evalue": "Session cannot generate requests",
     "output_type": "error",
     "traceback": [
      "Error: Session cannot generate requests",
      "at S.executeCodeCell (/Users/yosuke_shibata/.vscode/extensions/ms-toolsai.jupyter-2021.10.1101450599/out/client/extension.js:66:301742)",
      "at S.execute (/Users/yosuke_shibata/.vscode/extensions/ms-toolsai.jupyter-2021.10.1101450599/out/client/extension.js:66:300732)",
      "at S.start (/Users/yosuke_shibata/.vscode/extensions/ms-toolsai.jupyter-2021.10.1101450599/out/client/extension.js:66:296408)",
      "at processTicksAndRejections (internal/process/task_queues.js:93:5)",
      "at async t.CellExecutionQueue.executeQueuedCells (/Users/yosuke_shibata/.vscode/extensions/ms-toolsai.jupyter-2021.10.1101450599/out/client/extension.js:66:312326)",
      "at async t.CellExecutionQueue.start (/Users/yosuke_shibata/.vscode/extensions/ms-toolsai.jupyter-2021.10.1101450599/out/client/extension.js:66:311862)"
     ]
    }
   ],
   "source": [
    "import sys\n",
    "sys.setrecursionlimit(10**7)\n",
    " \n",
    "H,W = map(int,input().split())\n",
    "list1 = [list(input()) for h in range(H)]\n",
    " \n",
    "for h in range(H):\n",
    "  for w in range(W):\n",
    "    if list1[h][w] == \"s\":\n",
    "      sx,sy = h,w\n",
    " \n",
    "def dfs(x,y):\n",
    "  if y >= W or y < 0 or x >= H or x < 0 or list1[x][y]==\"#\":\n",
    "    return\n",
    "  \n",
    "  if list1[x][y] == \"g\":\n",
    "    print(\"Yes\")\n",
    "    exit()\n",
    "    \n",
    "  list1[x][y] = \"#\"\n",
    "  \n",
    "  dfs(x+1,y)\n",
    "  dfs(x,y+1)\n",
    "  dfs(x-1,y)\n",
    "  dfs(x,y-1)\n",
    "  \n",
    "dfs(sx,sy)\n",
    "print(\"No\")"
   ]
  },
  {
   "cell_type": "code",
   "execution_count": null,
   "metadata": {},
   "outputs": [],
   "source": []
  }
 ],
 "metadata": {
  "interpreter": {
   "hash": "52ce370d13d9f3e7fec0c208e08f00abccec8be27c64f36722ecec456d801487"
  },
  "kernelspec": {
   "display_name": "Python 3.8.6 64-bit ('.venv_pn': venv)",
   "language": "python",
   "name": "python3"
  },
  "language_info": {
   "codemirror_mode": {
    "name": "ipython",
    "version": 3
   },
   "file_extension": ".py",
   "mimetype": "text/x-python",
   "name": "python",
   "nbconvert_exporter": "python",
   "pygments_lexer": "ipython3",
   "version": "3.8.6"
  },
  "orig_nbformat": 4
 },
 "nbformat": 4,
 "nbformat_minor": 2
}
