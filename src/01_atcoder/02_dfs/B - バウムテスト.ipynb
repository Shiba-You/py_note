{
 "cells": [
  {
   "cell_type": "markdown",
   "metadata": {},
   "source": [
    "バウムテストとは、被験者に「木」の絵を描かせることで被験者の心理状態を読み取る心理検査である。この検査を受けた高橋君は、 N 個の頂点と M 本の辺からなる無向グラフを描いた。このグラフの連結成分のうち木であるようなもの、すなわち閉路を持たないものの個数を求めよ。"
   ]
  },
  {
   "cell_type": "markdown",
   "metadata": {},
   "source": [
    "https://atcoder.jp/contests/arc037/tasks/arc037_b"
   ]
  },
  {
   "cell_type": "code",
   "execution_count": 12,
   "metadata": {},
   "outputs": [
    {
     "data": {
      "text/html": [
       "<img src=\"http://arc037.contest.atcoder.jp/img/arc/037/ljlefijfewkjfwefk/B_sample1.png\"/>"
      ],
      "text/plain": [
       "<IPython.core.display.Image object>"
      ]
     },
     "execution_count": 12,
     "metadata": {},
     "output_type": "execute_result"
    }
   ],
   "source": [
    "from IPython.display import Image\n",
    "Image(url=\"http://arc037.contest.atcoder.jp/img/arc/037/ljlefijfewkjfwefk/B_sample1.png\")"
   ]
  },
  {
   "cell_type": "code",
   "execution_count": 13,
   "metadata": {},
   "outputs": [
    {
     "data": {
      "text/html": [
       "<img src=\"http://arc037.contest.atcoder.jp/img/arc/037/ljlefijfewkjfwefk/B_sample2.png\"/>"
      ],
      "text/plain": [
       "<IPython.core.display.Image object>"
      ]
     },
     "execution_count": 13,
     "metadata": {},
     "output_type": "execute_result"
    }
   ],
   "source": [
    "Image(url=\"http://arc037.contest.atcoder.jp/img/arc/037/ljlefijfewkjfwefk/B_sample2.png\")"
   ]
  },
  {
   "cell_type": "code",
   "execution_count": 14,
   "metadata": {},
   "outputs": [
    {
     "data": {
      "text/html": [
       "<img src=\"http://arc037.contest.atcoder.jp/img/arc/037/ljlefijfewkjfwefk/B_sample3.png\"/>"
      ],
      "text/plain": [
       "<IPython.core.display.Image object>"
      ]
     },
     "execution_count": 14,
     "metadata": {},
     "output_type": "execute_result"
    }
   ],
   "source": [
    "Image(url=\"http://arc037.contest.atcoder.jp/img/arc/037/ljlefijfewkjfwefk/B_sample3.png\")"
   ]
  },
  {
   "cell_type": "markdown",
   "metadata": {},
   "source": [
    "Ex1:\n",
    "In  : 8 7\n",
    "      1 2\n",
    "      2 3\n",
    "      2 4\n",
    "      5 6\n",
    "      6 7\n",
    "      6 8\n",
    "      7 8\n",
    "Out : 1\n",
    "\n",
    "Ex2:\n",
    "In  : 5 1\n",
    "      1 2\n",
    "Out : 4\n",
    "\n",
    "Ex3:\n",
    "In  : 11 11\n",
    "      1 2\n",
    "      1 3\n",
    "      2 4\n",
    "      3 5\n",
    "      4 6\n",
    "      5 7\n",
    "      6 8\n",
    "      7 9\n",
    "      8 10\n",
    "      9 11\n",
    "      10 11\n",
    "Out : 0\n"
   ]
  },
  {
   "cell_type": "code",
   "execution_count": 20,
   "metadata": {},
   "outputs": [
    {
     "name": "stdout",
     "output_type": "stream",
     "text": [
      "1\n"
     ]
    }
   ],
   "source": [
    "def init():\n",
    "  n, m = map(int, input().split())\n",
    "  g = [[] for _ in range(n)]\n",
    "  used = [False for _ in range(n)]\n",
    "  ans = 0\n",
    "  for _ in range(m):\n",
    "    u, v = map(int, input().split())\n",
    "    u -= 1; v -= 1\n",
    "    g[u].append(v)\n",
    "    g[v].append(u)\n",
    "  return g, used, ans\n",
    "\n",
    "def dfs(b_pos, _g):\n",
    "  used[_g] = True\n",
    "  for n_pos in g[_g]:\n",
    "    if n_pos == b_pos:\n",
    "      continue\n",
    "    if used[n_pos]:\n",
    "      return False\n",
    "    if not dfs(_g, n_pos):\n",
    "      return False\n",
    "  return True\n",
    "\n",
    "if __name__ == \"__main__\":\n",
    "  g, used, ans = init()\n",
    "  for i in range(len(g)):\n",
    "    if used[i]:\n",
    "      continue\n",
    "    if dfs(-1, i):\n",
    "      ans += 1\n",
    "  print(ans)"
   ]
  },
  {
   "cell_type": "markdown",
   "metadata": {},
   "source": [
    "## Other Solution"
   ]
  },
  {
   "cell_type": "code",
   "execution_count": 17,
   "metadata": {},
   "outputs": [
    {
     "name": "stdout",
     "output_type": "stream",
     "text": [
      "b_pos  : -1\n",
      "pos    : 0\n",
      "used   : [False, False, False]\n",
      "n_pos  : [1, 2] 1\n",
      "b_pos  : 0\n",
      "pos    : 1\n",
      "used   : [True, False, False]\n",
      "n_pos  : [0, 2] 0\n",
      "n_pos  : [0, 2] 2\n",
      "b_pos  : 1\n",
      "pos    : 2\n",
      "used   : [True, True, False]\n",
      "n_pos  : [1, 0] 1\n",
      "n_pos  : [1, 0] 0\n",
      "0\n"
     ]
    }
   ],
   "source": [
    "n, m = map(int, input().split())\n",
    "edges = [[] for _ in range(n)]\n",
    "for _ in range(m):\n",
    "  u, v = map(int, input().split())\n",
    "  u -= 1\n",
    "  v -= 1\n",
    "  edges[u].append(v)\n",
    "  edges[v].append(u)\n",
    "\n",
    "def dfs(b_pos, pos):\n",
    "  print(\"b_pos  :\", b_pos)\n",
    "  print(\"pos    :\", pos)\n",
    "  print(\"used   :\", used)\n",
    "  used[pos] = True\n",
    "  for n_pos in edges[pos]:\n",
    "    print(\"n_pos  :\", edges[pos], n_pos)\n",
    "    if n_pos == b_pos:\n",
    "      continue\n",
    "    if used[n_pos]:\n",
    "      return False\n",
    "    if not dfs(pos, n_pos):\n",
    "      return False\n",
    "  return True\n",
    "\n",
    "used = [False for _ in range(n)]\n",
    "ans = 0\n",
    "for i in range(n):\n",
    "  if used[i]:\n",
    "    continue\n",
    "  if dfs(-1, i):\n",
    "    ans += 1\n",
    "print(ans)"
   ]
  },
  {
   "cell_type": "code",
   "execution_count": 3,
   "metadata": {},
   "outputs": [
    {
     "name": "stdout",
     "output_type": "stream",
     "text": [
      "[[], [], [], [], []]\n"
     ]
    }
   ],
   "source": [
    "n = 5\n",
    "edges = [[] for _ in range(n)]\n",
    "print(edges)\n",
    "for i in range(3):\n",
    "  u, v = map(int, input().split())\n",
    "  u -= 1\n",
    "  v -= 1\n",
    "  edges[u].append(v)\n",
    "  edges[v].append(u)"
   ]
  },
  {
   "cell_type": "code",
   "execution_count": 4,
   "metadata": {},
   "outputs": [
    {
     "name": "stdout",
     "output_type": "stream",
     "text": [
      "[[1], [0, 2], [1, 3], [2], []]\n"
     ]
    }
   ],
   "source": [
    "print(edges)"
   ]
  },
  {
   "cell_type": "code",
   "execution_count": null,
   "metadata": {},
   "outputs": [],
   "source": []
  }
 ],
 "metadata": {
  "interpreter": {
   "hash": "52ce370d13d9f3e7fec0c208e08f00abccec8be27c64f36722ecec456d801487"
  },
  "kernelspec": {
   "display_name": "Python 3.8.6 64-bit ('.venv_pn': venv)",
   "language": "python",
   "name": "python3"
  },
  "language_info": {
   "codemirror_mode": {
    "name": "ipython",
    "version": 3
   },
   "file_extension": ".py",
   "mimetype": "text/x-python",
   "name": "python",
   "nbconvert_exporter": "python",
   "pygments_lexer": "ipython3",
   "version": "3.8.6"
  },
  "orig_nbformat": 4
 },
 "nbformat": 4,
 "nbformat_minor": 2
}
