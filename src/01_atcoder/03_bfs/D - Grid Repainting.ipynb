{
 "cells": [
  {
   "cell_type": "markdown",
   "metadata": {},
   "source": [
    "縦 H マス, 横 W マスに広がるマス目があり, 各マスは白または黒で塗られている. 上から i 番目で左から j 番目のマスを (i,j) で表す. すぬけ君は, このマス目を使って次のようなゲームをしたい. ゲームの開始時点ではマス (1,1) にゲームキャラクター「けぬす君」がいる. プレイヤーはけぬす君を上下左右の 4 方向のいずれかに 1 マスだけ動かすことを繰り返す. けぬす君が白いマスだけを通って (H,W) にたどり着けばゲームクリアとなる.\n",
    "ゲームを開始する前に, すぬけ君はいくつかの白いマス目の色を黒に変えることができる. ただし, マス (1,1) と (H,W) の色を変えることはできず, ゲームを開始するまでにすべての色の変更を行わなければならない.\n",
    "ゲームをクリアしたとき, ゲームの開始前にマスの色を変えた回数がすぬけ君のスコアとなる. そのとき, すぬけ君が取る可能性のある最大のスコアを求めなさい.ただし, すぬけ君がどのようにマス目の色を変えてもけぬす君が (H,W) にたどり着くことが出来ない場合、−1 と出力しなさい.\n",
    "ただし, 各マスの色の情報は文字 s_{i,j} として与えられる. マス (i,j) が最初白で塗られている場合 s_{i,j} は . であり, マス (i,j) が最初黒で塗られている場合 s_{i,j}は # である."
   ]
  },
  {
   "cell_type": "markdown",
   "metadata": {},
   "source": [
    "Ex1:\n",
    "In  : 3 3\n",
    "      ..#\n",
    "      #..\n",
    "      ...\n",
    "Out : 2"
   ]
  },
  {
   "cell_type": "code",
   "execution_count": 1,
   "metadata": {},
   "outputs": [
    {
     "data": {
      "text/html": [
       "<img src=\"https://img.atcoder.jp/abc088/bc944898899615e35f898654b68cd517.png\"/>"
      ],
      "text/plain": [
       "<IPython.core.display.Image object>"
      ]
     },
     "execution_count": 1,
     "metadata": {},
     "output_type": "execute_result"
    }
   ],
   "source": [
    "from IPython.display import Image\n",
    "Image(url=\"https://img.atcoder.jp/abc088/bc944898899615e35f898654b68cd517.png\")"
   ]
  },
  {
   "cell_type": "markdown",
   "metadata": {},
   "source": [
    "Ex2:\n",
    "In  : 10 37\n",
    "      .....................................\n",
    "      ...#...####...####..###...###...###..\n",
    "      ..#.#..#...#.##....#...#.#...#.#...#.\n",
    "      ..#.#..#...#.#.....#...#.#...#.#...#.\n",
    "      .#...#.#..##.#.....#...#.#.###.#.###.\n",
    "      .#####.####..#.....#...#..##....##...\n",
    "      .#...#.#...#.#.....#...#.#...#.#...#.\n",
    "      .#...#.#...#.##....#...#.#...#.#...#.\n",
    "      .#...#.####...####..###...###...###..\n",
    "      .....................................\n",
    "Out : 209"
   ]
  },
  {
   "cell_type": "code",
   "execution_count": 9,
   "metadata": {},
   "outputs": [
    {
     "name": "stdout",
     "output_type": "stream",
     "text": [
      "370 115 46\n",
      "209\n"
     ]
    }
   ],
   "source": [
    "from collections import deque\n",
    "\n",
    "def init():\n",
    "  h, w = map(int, input().split())\n",
    "  grid = [list(input()) for _ in range(h)]\n",
    "  wn = count_wall(h, w, grid)\n",
    "  d = [[0,1], [0,-1], [1,0], [-1,0]]\n",
    "  return h, w, grid, wn, d\n",
    "\n",
    "def count_wall(h, w, grid):\n",
    "  wn = 0\n",
    "  for i in range(h):\n",
    "    for j in range(w):\n",
    "      if grid[i][j] == \"#\":\n",
    "        wn += 1\n",
    "  return wn\n",
    "\n",
    "def bfs(grid):\n",
    "  q = deque([(0, 0, 1)])\n",
    "  while q:\n",
    "    cy, cx, step = q.popleft()\n",
    "    for u, v in d:\n",
    "      if 0<=cy+u<h and 0<=cx+v<w and grid[cy+u][cx+v]==\".\":\n",
    "        if (cy+u==h-1) and (cx+v==w-1):\n",
    "          print(h*w - (wn + step + 1))\n",
    "          return\n",
    "        grid[cy+u][cx+v] = \"#\"\n",
    "        q.append((cy+u, cx+v, step+1))\n",
    "  print(-1)\n",
    "\n",
    "if __name__ == \"__main__\":\n",
    "  h, w, grid, wn, d = init()\n",
    "  bfs(grid)"
   ]
  },
  {
   "cell_type": "code",
   "execution_count": null,
   "metadata": {},
   "outputs": [],
   "source": []
  }
 ],
 "metadata": {
  "interpreter": {
   "hash": "52ce370d13d9f3e7fec0c208e08f00abccec8be27c64f36722ecec456d801487"
  },
  "kernelspec": {
   "display_name": "Python 3.8.6 64-bit ('.venv_pn': venv)",
   "language": "python",
   "name": "python3"
  },
  "language_info": {
   "codemirror_mode": {
    "name": "ipython",
    "version": 3
   },
   "file_extension": ".py",
   "mimetype": "text/x-python",
   "name": "python",
   "nbconvert_exporter": "python",
   "pygments_lexer": "ipython3",
   "version": "3.8.6"
  },
  "orig_nbformat": 4
 },
 "nbformat": 4,
 "nbformat_minor": 2
}
