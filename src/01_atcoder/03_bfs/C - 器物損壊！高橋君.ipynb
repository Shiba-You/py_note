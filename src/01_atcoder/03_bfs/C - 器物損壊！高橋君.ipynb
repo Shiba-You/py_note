{
 "cells": [
  {
   "cell_type": "markdown",
   "metadata": {},
   "source": [
    "良く見てみるとカードの有効期限が切れていたので、高橋君は諦めて魚屋に直接うなぎを買いに行くことにしました。\n",
    "彼の住む街は長方形の形をしており、格子状の区画に区切られています。区画は道または塀のどちらかであり、高橋君は道を東西南北に移動できますが斜めには移動できません。また、塀の区画は通ることができません。高橋君の家から魚屋までの道のりは非常に複雑なため、単純に歩くだけでは辿り着くことは困難です。\n",
    "しかし、高橋君は腕力には自信があるので道に上下左右で面している塀を 2 回までなら壊して道にすることができます。\n",
    "高橋君が魚屋に辿り着くことができるかどうか答えてください。"
   ]
  },
  {
   "cell_type": "markdown",
   "metadata": {},
   "source": [
    "https://atcoder.jp/contests/arc005/tasks/arc005_3"
   ]
  },
  {
   "cell_type": "markdown",
   "metadata": {},
   "source": [
    "Ex1:\n",
    "In  : 4 5\n",
    "      s#### \n",
    "      ....#\n",
    "      #####\n",
    "      #...g\n",
    "Out : YES\n",
    "\n",
    "Ex2:\n",
    "In  : 4 4\n",
    "      ...s\n",
    "      ....\n",
    "      ....\n",
    "      .g..\n",
    "Out : YES\n",
    "\n",
    "Ex3:\n",
    "In  : 10 10\n",
    "      s.........\n",
    "      #########.\n",
    "      #.......#.\n",
    "      #..####.#.\n",
    "      ##....#.#.\n",
    "      #####.#.#.\n",
    "      g##.#.#.#.\n",
    "      ###.#.#.#.\n",
    "      ###.#.#.#.\n",
    "      #.....#...\n",
    "Out : YES\n",
    "\n",
    "Ex4:\n",
    "In  : 6 6\n",
    "      .....s\n",
    "      ###...\n",
    "      ###...\n",
    "      ######\n",
    "      ...###\n",
    "      g.####\n",
    "Out : YES\n",
    "\n",
    "Ex5:\n",
    "In  : 1 10\n",
    "      s..####..g\n",
    "Out : NO"
   ]
  },
  {
   "cell_type": "code",
   "execution_count": 6,
   "metadata": {},
   "outputs": [
    {
     "name": "stdout",
     "output_type": "stream",
     "text": [
      "cy: 0, cx: 1, t: 0\n",
      "cy: 0, cx: 2, t: 0\n",
      "cy: 0, cx: 3, t: 0\n",
      "cy: 0, cx: 4, t: 0\n",
      "cy: 0, cx: 5, t: 0\n",
      "cy: 0, cx: 6, t: 0\n",
      "cy: 0, cx: 7, t: 0\n",
      "cy: 0, cx: 8, t: 0\n",
      "cy: 0, cx: 9, t: 0\n",
      "cy: 4, cx: 0, t: 2\n",
      "YES\n"
     ]
    }
   ],
   "source": [
    "from collections import deque\n",
    "\n",
    "def init():\n",
    "  # h, w = map(int, input().split())\n",
    "  h, w = 5, 10\n",
    "  # grid = [list(input()) for _ in range(h)]\n",
    "  # grid = [['s', '.', '.', '.', '.', '.', '.', '.', '.', '.'],\\\n",
    "  #         ['#', '#', '#', '#', '#', '#', '#', '#', '#', '.'],\\\n",
    "  #         ['#', '.', '.', '.', '.', '.', '.', '.', '#', '.'],\\\n",
    "  #         ['#', '.', '.', '#', '#', '#', '#', '.', '#', '.'],\\\n",
    "  #         ['#', '#', '.', '.', '.', '.', '#', '.', '#', '.'],\\\n",
    "  #         ['#', '#', '#', '#', '#', '.', '#', '.', '#', '.'],\\\n",
    "  #         ['g', '#', '#', '.', '#', '.', '#', '.', '#', '.'],\\\n",
    "  #         ['#', '#', '#', '.', '#', '.', '#', '.', '#', '.'],\\\n",
    "  #         ['#', '#', '#', '.', '#', '.', '#', '.', '#', '.'],\\\n",
    "  #         ['#', '.', '.', '.', '.', '.', '#', '.', '.', '.']]\n",
    "  grid = [['s', '.', '.', '.', '.', '.', '.', '.', '.', '.'],\\\n",
    "          ['#', '#', '#', '#', '#', '#', '#', '#', '#', '.'],\\\n",
    "          ['#', '#', '#', '#', '#', '#', '#', '#', '#', '.'],\\\n",
    "          ['#', '#', '#', '#', '#', '#', '#', '#', '#', '.'],\\\n",
    "          ['g', '.', '.', '.', '.', '.', '.', '.', '.', '.']]\n",
    "  d = [(1,0), (-1,0), (0,1), (0,-1)]\n",
    "  return h, w, grid, d\n",
    "\n",
    "def search_start():\n",
    "  for i in range(h):\n",
    "    for j in range(w):\n",
    "      if grid[i][j] == \"s\":\n",
    "        return (i, j, 0)\n",
    "\n",
    "def bfs():\n",
    "  q = deque([search_start()])\n",
    "  while q:\n",
    "    y, x, t = q.popleft()\n",
    "    for u, v in d:\n",
    "      cy = y + u\n",
    "      cx = x + v\n",
    "      if (0<=cy<h) and (0<=cx<w):\n",
    "        if 2<t:\n",
    "          continue\n",
    "        if grid[cy][cx]==\"#\":\n",
    "          # if t == 0:\n",
    "          #   print(\"cy: {}, cx: {}, t: {} ** 壁壊し\".format(cy, cx, t))\n",
    "          q.appendleft((cy, cx, t+1))\n",
    "        elif grid[cy][cx]==\"g\":\n",
    "          print(\"cy: {}, cx: {}, t: {}\".format(cy, cx, t))\n",
    "          print(\"YES\")\n",
    "          return\n",
    "        else:\n",
    "          if t == 0:\n",
    "            print(\"cy: {}, cx: {}, t: {}\".format(cy, cx, t))\n",
    "          grid[cy][cx]=\"#\"\n",
    "          q.append((cy, cx, t))\n",
    "  print(\"NO\")\n",
    "  return\n",
    "\n",
    "if __name__ == \"__main__\":\n",
    "  h, w, grid, d = init()\n",
    "  bfs()"
   ]
  },
  {
   "cell_type": "code",
   "execution_count": 3,
   "metadata": {},
   "outputs": [
    {
     "name": "stdout",
     "output_type": "stream",
     "text": [
      "['s', '.', '.', '#', '#', '#', '#', '.', '.', 'g']\n"
     ]
    }
   ],
   "source": [
    "print(list(input()))"
   ]
  },
  {
   "cell_type": "code",
   "execution_count": 7,
   "metadata": {},
   "outputs": [
    {
     "name": "stdout",
     "output_type": "stream",
     "text": [
      "['s', '.', '.', '#', '#', '#', '#', '.', '.', 'g'] 0 0\n",
      "['s', '.', '.', '#', '#', '#', '#', '.', '.', 'g'] 0 1\n"
     ]
    },
    {
     "ename": "IndexError",
     "evalue": "string index out of range",
     "output_type": "error",
     "traceback": [
      "\u001b[0;31m---------------------------------------------------------------------------\u001b[0m",
      "\u001b[0;31mIndexError\u001b[0m                                Traceback (most recent call last)",
      "\u001b[0;32m/var/folders/l7/dnzbj6q943sgblf4l8v6kmfc0000gn/T/ipykernel_33747/2393900911.py\u001b[0m in \u001b[0;36m<module>\u001b[0;34m\u001b[0m\n\u001b[1;32m     54\u001b[0m \u001b[0;32mif\u001b[0m \u001b[0m__name__\u001b[0m \u001b[0;34m==\u001b[0m \u001b[0;34m\"__main__\"\u001b[0m\u001b[0;34m:\u001b[0m\u001b[0;34m\u001b[0m\u001b[0;34m\u001b[0m\u001b[0m\n\u001b[1;32m     55\u001b[0m   \u001b[0mh\u001b[0m\u001b[0;34m,\u001b[0m \u001b[0mw\u001b[0m\u001b[0;34m,\u001b[0m \u001b[0mgrid\u001b[0m \u001b[0;34m=\u001b[0m \u001b[0minlet\u001b[0m\u001b[0;34m(\u001b[0m\u001b[0;34m)\u001b[0m\u001b[0;34m\u001b[0m\u001b[0;34m\u001b[0m\u001b[0m\n\u001b[0;32m---> 56\u001b[0;31m   \u001b[0mbfs\u001b[0m\u001b[0;34m(\u001b[0m\u001b[0mh\u001b[0m\u001b[0;34m,\u001b[0m \u001b[0mw\u001b[0m\u001b[0;34m,\u001b[0m \u001b[0mgrid\u001b[0m\u001b[0;34m)\u001b[0m\u001b[0;34m\u001b[0m\u001b[0;34m\u001b[0m\u001b[0m\n\u001b[0m",
      "\u001b[0;32m/var/folders/l7/dnzbj6q943sgblf4l8v6kmfc0000gn/T/ipykernel_33747/2393900911.py\u001b[0m in \u001b[0;36mbfs\u001b[0;34m(h, w, grid)\u001b[0m\n\u001b[1;32m     28\u001b[0m \u001b[0;34m\u001b[0m\u001b[0m\n\u001b[1;32m     29\u001b[0m \u001b[0;32mdef\u001b[0m \u001b[0mbfs\u001b[0m\u001b[0;34m(\u001b[0m\u001b[0mh\u001b[0m\u001b[0;34m,\u001b[0m \u001b[0mw\u001b[0m\u001b[0;34m,\u001b[0m \u001b[0mgrid\u001b[0m\u001b[0;34m)\u001b[0m\u001b[0;34m:\u001b[0m\u001b[0;34m\u001b[0m\u001b[0;34m\u001b[0m\u001b[0m\n\u001b[0;32m---> 30\u001b[0;31m   \u001b[0msy\u001b[0m\u001b[0;34m,\u001b[0m \u001b[0msx\u001b[0m \u001b[0;34m=\u001b[0m \u001b[0msearch_start_end\u001b[0m\u001b[0;34m(\u001b[0m\u001b[0mgrid\u001b[0m\u001b[0;34m,\u001b[0m \u001b[0mh\u001b[0m\u001b[0;34m,\u001b[0m \u001b[0mw\u001b[0m\u001b[0;34m)\u001b[0m\u001b[0;34m\u001b[0m\u001b[0;34m\u001b[0m\u001b[0m\n\u001b[0m\u001b[1;32m     31\u001b[0m   \u001b[0mvisited\u001b[0m \u001b[0;34m=\u001b[0m \u001b[0;34m[\u001b[0m\u001b[0;34m[\u001b[0m\u001b[0;32mFalse\u001b[0m\u001b[0;34m]\u001b[0m \u001b[0;34m*\u001b[0m \u001b[0mw\u001b[0m \u001b[0;32mfor\u001b[0m \u001b[0m_\u001b[0m \u001b[0;32min\u001b[0m \u001b[0mrange\u001b[0m\u001b[0;34m(\u001b[0m\u001b[0mh\u001b[0m\u001b[0;34m)\u001b[0m\u001b[0;34m]\u001b[0m\u001b[0;34m\u001b[0m\u001b[0;34m\u001b[0m\u001b[0m\n\u001b[1;32m     32\u001b[0m   \u001b[0mvisited\u001b[0m\u001b[0;34m[\u001b[0m\u001b[0msy\u001b[0m\u001b[0;34m]\u001b[0m\u001b[0;34m[\u001b[0m\u001b[0msx\u001b[0m\u001b[0;34m]\u001b[0m \u001b[0;34m=\u001b[0m \u001b[0;32mTrue\u001b[0m\u001b[0;34m\u001b[0m\u001b[0;34m\u001b[0m\u001b[0m\n",
      "\u001b[0;32m/var/folders/l7/dnzbj6q943sgblf4l8v6kmfc0000gn/T/ipykernel_33747/2393900911.py\u001b[0m in \u001b[0;36msearch_start_end\u001b[0;34m(grid, h, w)\u001b[0m\n\u001b[1;32m     23\u001b[0m       \u001b[0;32mfor\u001b[0m \u001b[0mj\u001b[0m \u001b[0;32min\u001b[0m \u001b[0mrange\u001b[0m\u001b[0;34m(\u001b[0m\u001b[0mw\u001b[0m\u001b[0;34m)\u001b[0m\u001b[0;34m:\u001b[0m\u001b[0;34m\u001b[0m\u001b[0;34m\u001b[0m\u001b[0m\n\u001b[1;32m     24\u001b[0m         \u001b[0mprint\u001b[0m\u001b[0;34m(\u001b[0m\u001b[0mgrid\u001b[0m\u001b[0;34m,\u001b[0m \u001b[0mi\u001b[0m\u001b[0;34m,\u001b[0m \u001b[0mj\u001b[0m\u001b[0;34m)\u001b[0m\u001b[0;34m\u001b[0m\u001b[0;34m\u001b[0m\u001b[0m\n\u001b[0;32m---> 25\u001b[0;31m         \u001b[0;32mif\u001b[0m \u001b[0mgrid\u001b[0m\u001b[0;34m[\u001b[0m\u001b[0mi\u001b[0m\u001b[0;34m]\u001b[0m\u001b[0;34m[\u001b[0m\u001b[0mj\u001b[0m\u001b[0;34m]\u001b[0m \u001b[0;34m==\u001b[0m \u001b[0;34m\"s\"\u001b[0m\u001b[0;34m:\u001b[0m\u001b[0;34m\u001b[0m\u001b[0;34m\u001b[0m\u001b[0m\n\u001b[0m\u001b[1;32m     26\u001b[0m           \u001b[0msy\u001b[0m\u001b[0;34m,\u001b[0m \u001b[0msx\u001b[0m \u001b[0;34m=\u001b[0m \u001b[0mi\u001b[0m\u001b[0;34m,\u001b[0m \u001b[0mj\u001b[0m\u001b[0;34m\u001b[0m\u001b[0;34m\u001b[0m\u001b[0m\n\u001b[1;32m     27\u001b[0m   \u001b[0;32mreturn\u001b[0m \u001b[0msy\u001b[0m\u001b[0;34m,\u001b[0m \u001b[0msx\u001b[0m\u001b[0;34m\u001b[0m\u001b[0;34m\u001b[0m\u001b[0m\n",
      "\u001b[0;31mIndexError\u001b[0m: string index out of range"
     ]
    }
   ],
   "source": [
    "from collections import deque\n",
    "\n",
    "def inlet():\n",
    "  # h, w = map(int, input().split())\n",
    "  # grid = [list(input()) for _ in range(h)]\n",
    "  # h, w = 5, 10\n",
    "  # grid = [['s', '.', '.', '.', '.', '.', '.', '.', '.', '.'],\\\n",
    "  #    ['#', '#', '#', '#', '#', '#', '#', '#', '#', '.'],\\\n",
    "  #    ['#', '#', '#', '#', '#', '#', '#', '#', '#', '.'],\\\n",
    "  #    ['#', '#', '#', '#', '#', '#', '#', '#', '#', '.'],\\\n",
    "  #    ['g', '.', '.', '.', '.', '.', '.', '.', '.', '.']]\n",
    "  h, w = 1, 10\n",
    "  grid = ['s', '.', '.', '#', '#', '#', '#', '.', '.', 'g']\n",
    "  return h, w, grid\n",
    "\n",
    "def search_start_end(grid, h, w):\n",
    "  if len(grid) < 2:\n",
    "    for j in range(w):\n",
    "      if grid[0][j] == \"s\":\n",
    "        sy, sx = 0, j\n",
    "  else:\n",
    "    for i in range(h):\n",
    "      for j in range(w):\n",
    "        print(grid, i, j)\n",
    "        if grid[i][j] == \"s\":\n",
    "          sy, sx = i, j\n",
    "  return sy, sx\n",
    "\n",
    "def bfs(h, w, grid):\n",
    "  sy, sx = search_start_end(grid, h, w)\n",
    "  visited = [[False] * w for _ in range(h)]\n",
    "  visited[sy][sx] = True\n",
    "  # wall = [[0] * w for _ in range(h)]\n",
    "  d = [(0,1), (0,-1), (1,0), (-1,0)]\n",
    "\n",
    "  q = deque([(sy, sx, 0)])\n",
    "  while q:\n",
    "    y, x, t = q.popleft()\n",
    "    for dy, dx in d:\n",
    "      cy = y + dy\n",
    "      cx = x + dx\n",
    "      if (0<=cy<h) and (0<=cx<w) and not(visited[cy][cx]):\n",
    "        visited[cy][cx] = True\n",
    "        if grid[cy][cx]==\"g\":\n",
    "          print(\"YES\")\n",
    "          exit()\n",
    "        if grid[cy][cx]==\"#\":\n",
    "          q.append((cy, cx, t+1))\n",
    "        else:\n",
    "          q.appendleft((cy, cx, t))\n",
    "  print(\"NO\")\n",
    "  \n",
    "\n",
    "if __name__ == \"__main__\":\n",
    "  h, w, grid = inlet()\n",
    "  bfs(h, w, grid)"
   ]
  },
  {
   "cell_type": "code",
   "execution_count": 5,
   "metadata": {},
   "outputs": [
    {
     "name": "stdout",
     "output_type": "stream",
     "text": [
      "[0, 0, 0, 0, 0, 0, 0, 0, 0, 0]\n",
      "[1, 1, 1, 1, 1, 1, 1, 1, 1, 0]\n",
      "[2, 2, 2, 2, 2, 2, 2, 2, 1, 0]\n",
      "[1, 1, 1, 1, 1, 1, 1, 1, 1, 0]\n",
      "[0, 0, 0, 0, 0, 0, 0, 0, 0, 0]\n"
     ]
    }
   ],
   "source": [
    "from collections import deque\n",
    "\n",
    "def bfs():\n",
    "  h, w = 5, 10\n",
    "  grid = [['s', '.', '.', '.', '.', '.', '.', '.', '.', '.'],\\\n",
    "          ['#', '#', '#', '#', '#', '#', '#', '#', '#', '.'],\\\n",
    "          ['#', '#', '#', '#', '#', '#', '#', '#', '#', '.'],\\\n",
    "          ['#', '#', '#', '#', '#', '#', '#', '#', '#', '.'],\\\n",
    "          ['g', '.', '.', '.', '.', '.', '.', '.', '.', '.']]\n",
    "  visited = [[False] * w for _ in range(h)]\n",
    "  wall = [[0] * w for _ in range(h)]\n",
    "  d = [(0,1), (0,-1), (1,0), (-1,0)]\n",
    "\n",
    "  for i in range(h):\n",
    "    for j in range(w):\n",
    "      if grid[i][j] == \"s\":\n",
    "        visited[i][j] = True\n",
    "        sy, sx = i, j\n",
    "      if grid[i][j] == \"g\":\n",
    "        gy, gx = i, j\n",
    "\n",
    "  q = deque([(sy, sx, 0)])\n",
    "  while q:\n",
    "    y, x, t = q.popleft()\n",
    "    for u, v in d:\n",
    "      ny = y + u\n",
    "      nx = x + v\n",
    "      if (0<=ny<h) and (0<=nx<w) and not(visited[ny][nx]):\n",
    "        visited[ny][nx] = True\n",
    "        if grid[ny][nx] == \"#\":\n",
    "          wall[ny][nx] = t + 1\n",
    "          q.append((ny, nx, t+1))\n",
    "        else:\n",
    "          wall[ny][nx] = t\n",
    "          q.appendleft((ny, nx, t))\n",
    "  return wall, gy, gx\n",
    "\n",
    "if __name__ == \"__main__\":\n",
    "  wall, gi, gj = bfs()\n",
    "  print(*wall, sep='\\n')\n"
   ]
  },
  {
   "cell_type": "code",
   "execution_count": 94,
   "metadata": {},
   "outputs": [
    {
     "name": "stdout",
     "output_type": "stream",
     "text": [
      "[0, 0, 0, 0, 0, 0, 0, 0, 0, 0]\n",
      "[1, 1, 1, 1, 1, 1, 1, 1, 1, 0]\n",
      "[2, 2, 2, 2, 2, 2, 2, 2, 1, 0]\n",
      "[1, 1, 1, 1, 1, 1, 1, 1, 1, 0]\n",
      "[0, 0, 0, 0, 0, 0, 0, 0, 0, 0]\n",
      "YES\n"
     ]
    }
   ],
   "source": [
    "from collections import deque\n",
    " \n",
    "# h, w = map(int, input().split())\n",
    "# c = [list(input()) for _ in range(h)]\n",
    "h, w = 5, 10\n",
    "c = [['s', '.', '.', '.', '.', '.', '.', '.', '.', '.'],\\\n",
    "     ['#', '#', '#', '#', '#', '#', '#', '#', '#', '.'],\\\n",
    "     ['#', '#', '#', '#', '#', '#', '#', '#', '#', '.'],\\\n",
    "     ['#', '#', '#', '#', '#', '#', '#', '#', '#', '.'],\\\n",
    "     ['g', '.', '.', '.', '.', '.', '.', '.', '.', '.']]\n",
    " \n",
    "def bfs(i, j):\n",
    "    visited = [[False] * w for _ in range(h)]\n",
    "    wall = [[0] * w for _ in range(h)]\n",
    "    visited[i][j] = True\n",
    "    transition = deque([(i, j, 0)])\n",
    " \n",
    "    while transition:\n",
    "        i, j, destroyed = transition.popleft()\n",
    "        for di, dj in ((1, 0), (0, 1), (-1, 0), (0, -1)):\n",
    "            ni, nj = i + di, j + dj\n",
    "            if (0 <= ni < h) and (0 <= nj < w) and not visited[ni][nj]:\n",
    "                visited[ni][nj] = True\n",
    "                if c[ni][nj] == '#':\n",
    "                    wall[ni][nj] = destroyed + 1\n",
    "                    transition.append((ni, nj, destroyed + 1))\n",
    "                else:\n",
    "                    wall[ni][nj] = destroyed\n",
    "                    transition.appendleft((ni, nj, destroyed))\n",
    "    return wall\n",
    " \n",
    "for i in range(h):\n",
    "    for j in range(w):\n",
    "        if c[i][j] == 's':\n",
    "            si, sj = i, j\n",
    "        if c[i][j] == 'g':\n",
    "            gi, gj = i, j\n",
    " \n",
    "wall = bfs(si, sj)\n",
    "print(*wall, sep='\\n')\n",
    "if wall[gi][gj] > 2:\n",
    "    print('NO')\n",
    "else:\n",
    "    print('YES')"
   ]
  },
  {
   "cell_type": "code",
   "execution_count": null,
   "metadata": {},
   "outputs": [],
   "source": [
    "['#', '#', '#', '#', '#', '#', '#', '#', '#', '#'],\\\n",
    "['#', '#', '#', '#', '#', '#', '#', '#', '#', '#'],\\\n",
    "['#', '#', '#', '#', '#', '#', '#', '#', '#', '#'],\\\n",
    "['#', '#', '#', '#', '#', '#', '#', '#', '#', '#'],\\\n",
    "['g', '#', '#', '#', '#', '#', '#', '#', '#', '#']]\n",
    "\n",
    "[['s', '#', '#', '#', '#', '#', '#', '#', '#', '#'],\\\n",
    " ['#', '#', '#', '#', '#', '#', '#', '#', '#', '#'],\\\n",
    " ['#', '#', '#', '#', '#', '#', '#', '#', '#', '#'],\\\n",
    " ['#', '#', '#', '#', '#', '#', '#', '#', '#', '.'],\\\n",
    " ['g', '#', '#', '#', '#', '#', '#', '#', '#', '.']]"
   ]
  }
 ],
 "metadata": {
  "interpreter": {
   "hash": "52ce370d13d9f3e7fec0c208e08f00abccec8be27c64f36722ecec456d801487"
  },
  "kernelspec": {
   "display_name": "Python 3.8.6 64-bit ('.venv_pn': venv)",
   "language": "python",
   "name": "python3"
  },
  "language_info": {
   "codemirror_mode": {
    "name": "ipython",
    "version": 3
   },
   "file_extension": ".py",
   "mimetype": "text/x-python",
   "name": "python",
   "nbconvert_exporter": "python",
   "pygments_lexer": "ipython3",
   "version": "3.8.6"
  },
  "orig_nbformat": 4
 },
 "nbformat": 4,
 "nbformat_minor": 2
}
