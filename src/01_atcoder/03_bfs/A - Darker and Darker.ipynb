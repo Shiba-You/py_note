{
 "cells": [
  {
   "cell_type": "markdown",
   "metadata": {},
   "source": [
    "縦 H 行、横 W 列の白黒に塗られたマス目が与えられます。 \n",
    "マス目の状態は A_{11} から A_{HW} の HW 個の文字で表されており、 上から i 行目、左から j 列目にあるマスが黒色のとき A_{ij} は #、 上から i 行目、左から j 列目にあるマスが白色のとき A_{ij} は . となっています。\n",
    "すべてのマスが黒色になるまで、以下の操作を繰り返し行います。\n",
    "辺を共有して隣接するマスの中に、黒色のマスが一つ以上存在するような白色のマスすべてが黒色になる。\n",
    "何回の操作を行うことになるか求めてください。 ただし、最初に与えられるマス目には少なくとも 1 つ黒色のマスが存在します。"
   ]
  },
  {
   "cell_type": "markdown",
   "metadata": {},
   "source": [
    "https://atcoder.jp/contests/agc033/tasks/agc033_a"
   ]
  },
  {
   "cell_type": "markdown",
   "metadata": {},
   "source": [
    "Ex1:\n",
    "In  : 3 3\n",
    "      ...\n",
    "      .#.\n",
    "      ...\n",
    "Out : 2\n",
    "\n",
    "Ex2:\n",
    "In  : 6 6\n",
    "      ..#..#\n",
    "      ......\n",
    "      #..#..\n",
    "      ......\n",
    "      .#....\n",
    "      ....#.\n",
    "Out : 3"
   ]
  },
  {
   "cell_type": "markdown",
   "metadata": {},
   "source": [
    "### PyPy3 を使うことで時間内に処理が完了する！\n"
   ]
  },
  {
   "cell_type": "code",
   "execution_count": 14,
   "metadata": {},
   "outputs": [
    {
     "name": "stdout",
     "output_type": "stream",
     "text": [
      "2\n"
     ]
    }
   ],
   "source": [
    "from collections import deque\n",
    "\n",
    "def init():\n",
    "  h, w = map(int, input().split())\n",
    "  grid = [list(input()) for _ in range(h)]\n",
    "  d = [(0,1), (0,-1), (1,0), (-1,0)]\n",
    "  q, grid = search_init_black(h, w, grid)\n",
    "  return h, w, grid, d, q\n",
    "\n",
    "def search_init_black(h, w, grid):\n",
    "  q = deque()\n",
    "  for i in range(h):\n",
    "    for j in range(w):\n",
    "      if grid[i][j] == \"#\":\n",
    "        q.append((i, j))\n",
    "        grid[i][j] = 0\n",
    "      else:\n",
    "        grid[i][j] = -1\n",
    "  return q, grid\n",
    "\n",
    "def bfs(grid, q):\n",
    "  ans = 0\n",
    "  while q:\n",
    "    cy, cx = q.popleft()\n",
    "    cost = grid[cy][cx] + 1\n",
    "    ans = max(ans, cost-1)\n",
    "    for u, v in d:\n",
    "      ny = cy+u\n",
    "      nx = cx+v\n",
    "      if not(0<=ny<h and 0<=nx<w):\n",
    "        continue\n",
    "      if grid[ny][nx] != -1:\n",
    "        continue\n",
    "      grid[ny][nx] = cost\n",
    "      q.append((ny, nx))\n",
    "  print(ans)\n",
    "\n",
    "if __name__ == \"__main__\":\n",
    "  h, w, grid, d, q = init()\n",
    "  bfs(grid, q)"
   ]
  },
  {
   "cell_type": "code",
   "execution_count": 19,
   "metadata": {},
   "outputs": [
    {
     "name": "stdout",
     "output_type": "stream",
     "text": [
      "1 1 0\n",
      "1 2 1\n",
      "1 0 1\n",
      "2 1 1\n",
      "0 1 1\n",
      "2 2 2\n",
      "0 2 2\n",
      "2 0 2\n",
      "0 0 2\n",
      "2\n"
     ]
    }
   ],
   "source": [
    "from collections import deque\n",
    "\n",
    "def init():\n",
    "  h, w = map(int, input().split())\n",
    "  grid = [list(input()) for _ in range(h)]\n",
    "  d = [(0,1), (0,-1), (1,0), (-1,0)]\n",
    "  q = search_init_black(h, w, grid)\n",
    "  return h, w, grid, d, q\n",
    "\n",
    "def search_init_black(h, w, grid):\n",
    "  q = deque()\n",
    "  for i in range(h):\n",
    "    for j in range(w):\n",
    "      if grid[i][j] == \"#\":\n",
    "        q.append((i, j, 0))\n",
    "  return q\n",
    "\n",
    "def bfs(grid, q):\n",
    "  ans = 0\n",
    "  while q:\n",
    "    cy, cx, t = q.popleft()\n",
    "    for u, v in d:\n",
    "      ny = cy+u\n",
    "      nx = cx+v\n",
    "      if 0<=ny<h and 0<=nx<w and grid[ny][nx]==\".\":\n",
    "        grid[ny][nx] = \"#\"\n",
    "        q.append((ny, nx, t+1))\n",
    "        ans = max(ans, t+1)\n",
    "  print(ans)\n",
    "\n",
    "if __name__ == \"__main__\":\n",
    "  h, w, grid, d, q = init()\n",
    "  bfs(grid, q)"
   ]
  },
  {
   "cell_type": "markdown",
   "metadata": {},
   "source": [
    "## Other Solution"
   ]
  },
  {
   "cell_type": "code",
   "execution_count": null,
   "metadata": {},
   "outputs": [],
   "source": [
    "from collections import deque\n",
    "\n",
    "H, W = map(int, input().split())\n",
    "field = [list(input()) for _ in range(H)]\n",
    "INF = 10 ** 9\n",
    "\n",
    "que = deque()\n",
    "\n",
    "for i in range(H):\n",
    "  for j in range(W):\n",
    "    if field[i][j] == \"#\":\n",
    "      que.append((i, j))\n",
    "      field[i][j] = 0\n",
    "    else:\n",
    "      field[i][j] = -1\n",
    "\n",
    "ans = 0\n",
    "direction = [(-1, 0), (0, 1), (1, 0), (0, -1)]\n",
    "\n",
    "inside = lambda y, x: 0 <= x < W and 0 <= y < H\n",
    "\n",
    "\n",
    "while que:\n",
    "  y, x = que.popleft()\n",
    "  cost = field[y][x] + 1\n",
    "  ans = max(ans, cost - 1)\n",
    "  for ay, ax in direction:\n",
    "    ny, nx = y + ay, x + ax\n",
    "    if not inside(ny, nx):\n",
    "      continue\n",
    "    if field[ny][nx] != -1:\n",
    "      continue\n",
    "    field[ny][nx] = cost\n",
    "    que.append((ny, nx))\n",
    "\n",
    "\n",
    "print(ans)"
   ]
  }
 ],
 "metadata": {
  "interpreter": {
   "hash": "52ce370d13d9f3e7fec0c208e08f00abccec8be27c64f36722ecec456d801487"
  },
  "kernelspec": {
   "display_name": "Python 3.8.6 64-bit ('.venv_pn': venv)",
   "language": "python",
   "name": "python3"
  },
  "language_info": {
   "codemirror_mode": {
    "name": "ipython",
    "version": 3
   },
   "file_extension": ".py",
   "mimetype": "text/x-python",
   "name": "python",
   "nbconvert_exporter": "python",
   "pygments_lexer": "ipython3",
   "version": "3.8.6"
  },
  "orig_nbformat": 4
 },
 "nbformat": 4,
 "nbformat_minor": 2
}
