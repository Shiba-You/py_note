{
 "cells": [
  {
   "cell_type": "markdown",
   "metadata": {},
   "source": [
    "N 以下の正整数であって、十進法表記したときの各桁の数の和が D の倍数であるものの個数を mod 1,000,000,007 で求めよ。"
   ]
  },
  {
   "cell_type": "markdown",
   "metadata": {},
   "source": [
    "https://atcoder.jp/contests/tdpc/tasks/tdpc_number"
   ]
  },
  {
   "cell_type": "markdown",
   "metadata": {},
   "source": [
    "Ex1:\n",
    "In  : 3\n",
    "      100\n",
    "Out : 33\n",
    "\n",
    "Ex2:\n",
    "In  : 7\n",
    "      123456789012345678901234567890\n",
    "Out : 468357804"
   ]
  },
  {
   "cell_type": "code",
   "execution_count": 17,
   "metadata": {},
   "outputs": [
    {
     "name": "stdout",
     "output_type": "stream",
     "text": [
      "[[[1, 0, 0], [0, 0, 0]], [[0, 1, 0], [1, 0, 0]], [[0, 1, 0], [4, 3, 3]], [[0, 1, 0], [34, 33, 33]]]\n",
      "33\n"
     ]
    }
   ],
   "source": [
    "def init():\n",
    "  d = int(input())\n",
    "  n = input()\n",
    "  return d, n\n",
    "\n",
    "def dp():\n",
    "  d, n = init()\n",
    "  MOD = 10**9+7\n",
    "  l = len(n)\n",
    "\n",
    "  grid = [[[0 for _ in range(d)] for _ in range(2)] for _ in range(len(n)+1)]\n",
    "  grid[0][0][0] = 1\n",
    "  for i in range(l):\n",
    "    for j in range(d):\n",
    "      # i 桁目で既にNより小さい数字が確定しているので，好きな数字をぶち込んでいい\n",
    "      for k in range(10):\n",
    "        # i　桁目の時に余りが j で， i+1 桁目の時に余りが (j+k)%d として表現できる\n",
    "        grid[i+1][1][(j+k)%d] += grid[i][1][j]\n",
    "        grid[i+1][1][(j+k)%d] %= MOD\n",
    "      # i 桁目まで N と同じ数字だったが， i+1 桁目でNより小さい数字が選択されるとき\n",
    "      ni = int(n[i])\n",
    "      for k in range(ni):\n",
    "        grid[i+1][1][(j+k)%d] += grid[i][0][j]\n",
    "        grid[i+1][1][(j+k)%d] %= MOD\n",
    "      # i桁目まで N と同じ数字で， i+1 桁目もNと同じ数字\n",
    "      grid[i+1][0][(j+ni)%d] = grid[i][0][j]\n",
    "  return grid[l][0][0] + grid[l][1][0] - 1\n",
    "\n",
    "if __name__ == \"__main__\":\n",
    "  ans = dp()\n",
    "  print(ans)"
   ]
  },
  {
   "cell_type": "code",
   "execution_count": null,
   "metadata": {},
   "outputs": [],
   "source": []
  }
 ],
 "metadata": {
  "interpreter": {
   "hash": "52ce370d13d9f3e7fec0c208e08f00abccec8be27c64f36722ecec456d801487"
  },
  "kernelspec": {
   "display_name": "Python 3.8.6 64-bit ('.venv_pn': venv)",
   "language": "python",
   "name": "python3"
  },
  "language_info": {
   "codemirror_mode": {
    "name": "ipython",
    "version": 3
   },
   "file_extension": ".py",
   "mimetype": "text/x-python",
   "name": "python",
   "nbconvert_exporter": "python",
   "pygments_lexer": "ipython3",
   "version": "3.8.6"
  },
  "orig_nbformat": 4
 },
 "nbformat": 4,
 "nbformat_minor": 2
}
