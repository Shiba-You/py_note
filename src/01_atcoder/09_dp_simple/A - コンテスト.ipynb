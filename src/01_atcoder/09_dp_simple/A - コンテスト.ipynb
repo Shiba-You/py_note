{
 "cells": [
  {
   "cell_type": "markdown",
   "metadata": {},
   "source": [
    "N 問の問題があるコンテストがあり、i 問目の問題の配点は p_i 点である。コンテスタントは、この問題の中から何問か解き、解いた問題の配点の合計が得点となる。このコンテストの得点は何通り考えられるか。"
   ]
  },
  {
   "cell_type": "markdown",
   "metadata": {},
   "source": [
    "https://atcoder.jp/contests/tdpc/tasks/tdpc_contest"
   ]
  },
  {
   "cell_type": "markdown",
   "metadata": {},
   "source": [
    "Ex1:\n",
    "In  : 3\n",
    "      2 3 5\n",
    "Out : 7\n",
    "\n",
    "Ex2:\n",
    "In  : 10\n",
    "      1 1 1 1 1 1 1 1 1 1\n",
    "Out : 11"
   ]
  },
  {
   "cell_type": "markdown",
   "metadata": {},
   "source": [
    "## Runtime Error"
   ]
  },
  {
   "cell_type": "code",
   "execution_count": null,
   "metadata": {},
   "outputs": [],
   "source": [
    "import itertools\n",
    "\n",
    "def init():\n",
    "  n = int(input())\n",
    "  p = list(map(int, input().split()))\n",
    "  return n, p\n",
    "\n",
    "def dp():\n",
    "  n, p = init()\n",
    "  res = [0]\n",
    "  for i in range(1, n+1):\n",
    "    for comb in itertools.combinations(p, i):\n",
    "      crt = sum(comb)\n",
    "      if not(crt in res):\n",
    "        res.append(crt)\n",
    "  return len(res)\n",
    "\n",
    "if __name__ == \"__main__\":\n",
    "  ans = dp()\n",
    "  print(ans)"
   ]
  },
  {
   "cell_type": "markdown",
   "metadata": {},
   "source": [
    "## Other Solution"
   ]
  },
  {
   "cell_type": "code",
   "execution_count": 5,
   "metadata": {},
   "outputs": [
    {
     "name": "stdout",
     "output_type": "stream",
     "text": [
      "11\n"
     ]
    }
   ],
   "source": [
    "def init():\n",
    "  n = int(input())\n",
    "  p = list(map(int, input().split()))\n",
    "  return n, p\n",
    "\n",
    "def pd():\n",
    "  n, p = init()\n",
    "  LIMIT = 10001                         # p の全要素が n の最大値（100） の時の累計\n",
    "  res = [[0]*LIMIT for _ in range(n)]   # 今の合計値を one-hot-encoding 風に表現\n",
    "\n",
    "  res[0][0] = 1                         # 初期値 合計値 0 を追加\n",
    "  res[0][p[0]] = 1                      # 初期値に最初の値 （Ex1 でいうところの 2） を追加\n",
    "\n",
    "  for i in range(n-1):\n",
    "    for j in range(LIMIT):\n",
    "      if res[i][j]:\n",
    "        res[i+1][j] = 1                 # 前回　（1つ上の行）　の引き継ぎ　\n",
    "        res[i+1][j+p[i+1]] = 1          # 次の数字を追加\n",
    "    \n",
    "  return sum(res[-1])\n",
    "\n",
    "if __name__ == \"__main__\":\n",
    "  ans = pd()\n",
    "  print(ans)"
   ]
  },
  {
   "cell_type": "code",
   "execution_count": 1,
   "metadata": {},
   "outputs": [
    {
     "name": "stdout",
     "output_type": "stream",
     "text": [
      "0 0\n",
      "[1, 0, 1, 0, 0, 0, 0, 0, 0, 0, 0]\n",
      "[1, 0, 0, 1, 0, 0, 0, 0, 0, 0, 0]\n",
      "[0, 0, 0, 0, 0, 0, 0, 0, 0, 0, 0]\n",
      "0 1\n",
      "0 2\n",
      "[1, 0, 1, 0, 0, 0, 0, 0, 0, 0, 0]\n",
      "[1, 0, 1, 1, 0, 1, 0, 0, 0, 0, 0]\n",
      "[0, 0, 0, 0, 0, 0, 0, 0, 0, 0, 0]\n",
      "0 3\n",
      "0 4\n",
      "0 5\n",
      "0 6\n",
      "0 7\n",
      "0 8\n",
      "0 9\n",
      "0 10\n",
      "1 0\n",
      "[1, 0, 1, 0, 0, 0, 0, 0, 0, 0, 0]\n",
      "[1, 0, 1, 1, 0, 1, 0, 0, 0, 0, 0]\n",
      "[1, 0, 0, 0, 0, 1, 0, 0, 0, 0, 0]\n",
      "1 1\n",
      "1 2\n",
      "[1, 0, 1, 0, 0, 0, 0, 0, 0, 0, 0]\n",
      "[1, 0, 1, 1, 0, 1, 0, 0, 0, 0, 0]\n",
      "[1, 0, 1, 0, 0, 1, 0, 1, 0, 0, 0]\n",
      "1 3\n",
      "[1, 0, 1, 0, 0, 0, 0, 0, 0, 0, 0]\n",
      "[1, 0, 1, 1, 0, 1, 0, 0, 0, 0, 0]\n",
      "[1, 0, 1, 1, 0, 1, 0, 1, 1, 0, 0]\n",
      "1 4\n",
      "1 5\n",
      "[1, 0, 1, 0, 0, 0, 0, 0, 0, 0, 0]\n",
      "[1, 0, 1, 1, 0, 1, 0, 0, 0, 0, 0]\n",
      "[1, 0, 1, 1, 0, 1, 0, 1, 1, 0, 1]\n",
      "1 6\n",
      "1 7\n",
      "1 8\n",
      "1 9\n",
      "1 10\n",
      "7\n"
     ]
    }
   ],
   "source": [
    "# N = int(input())\n",
    "# p = list(map(int,input().split()))\n",
    "# \n",
    "k = 10001\n",
    "N = 3\n",
    "p = [2, 3, 5]\n",
    "dp = [[0] * k for _ in range(N)]\n",
    "dp[0][0] = 1\n",
    "dp[0][p[0]] = 1\n",
    "for i in range(N-1):\n",
    "  for j in range(k):\n",
    "    print(i, j)\n",
    "    if dp[i][j]:\n",
    "      dp[i+1][j] = 1\n",
    "      dp[i+1][j+p[i+1]] = 1\n",
    "      print(*dp, sep='\\n')\n",
    "print(sum(dp[-1]))"
   ]
  },
  {
   "cell_type": "code",
   "execution_count": 4,
   "metadata": {},
   "outputs": [
    {
     "name": "stdout",
     "output_type": "stream",
     "text": [
      "10\n"
     ]
    }
   ],
   "source": [
    "a = [[1, 2, 3, 4],[1, 2, 3, 4]]\n",
    "print(sum(a[1]))"
   ]
  },
  {
   "cell_type": "code",
   "execution_count": null,
   "metadata": {},
   "outputs": [],
   "source": []
  }
 ],
 "metadata": {
  "interpreter": {
   "hash": "52ce370d13d9f3e7fec0c208e08f00abccec8be27c64f36722ecec456d801487"
  },
  "kernelspec": {
   "display_name": "Python 3.8.6 64-bit ('.venv_pn': venv)",
   "language": "python",
   "name": "python3"
  },
  "language_info": {
   "codemirror_mode": {
    "name": "ipython",
    "version": 3
   },
   "file_extension": ".py",
   "mimetype": "text/x-python",
   "name": "python",
   "nbconvert_exporter": "python",
   "pygments_lexer": "ipython3",
   "version": "3.8.6"
  },
  "orig_nbformat": 4
 },
 "nbformat": 4,
 "nbformat_minor": 2
}
