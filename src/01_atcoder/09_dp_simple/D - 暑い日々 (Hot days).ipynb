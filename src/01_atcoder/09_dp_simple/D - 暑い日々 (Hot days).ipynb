{
 "cells": [
  {
   "cell_type": "markdown",
   "metadata": {},
   "source": [
    "日本が冬であるこの時期，南半球にあるオーストラリアでは暑い日が続いている．オーストラリアに住む IOI 君は，ある D 日間の天気予報をもとに，着る服の計画を立てることにした．i 日目 (1≦i≦D) の最高気温は T _i 度であると予報されている．\n",
    "IOI 君は N 種類の服を持っており，それらには 1 から N までの番号がついている．服 j (1≦j≦N) は最高気温が A_j 度以上 B_j 度以下の日に着るのに適している．また，それぞれの服には「派手さ」とよばれる整数が定まっており，服 j の派手さは C_j である．\n",
    "D 日間のそれぞれに対し，IOI 君は，最高気温が天気予報に従ったときに着るのに適した服のうち 1 つを着る服として選ぶ．同じ服を何度選んでもよいし，D 日間で一度も選ばれない服があってもよい．\n",
    "似ている服を連続して着ることをなるべく避けようと思った IOI 君は，連続する日に着る服の派手さの差の絶対値の合計をできるだけ大きくしようと考えた．すなわち，i 日目に服 x_i を選んだとして，値 ∣C_x1−C_x2∣+∣C_x2−C_x_3∣+⋯+∣C_x{D−1} −C_xD ∣ を最大にしたい．この最大値を求めるプログラムを作成せよ．"
   ]
  },
  {
   "cell_type": "markdown",
   "metadata": {},
   "source": [
    "https://atcoder.jp/contests/joi2013yo/tasks/joi2013yo_d"
   ]
  },
  {
   "cell_type": "markdown",
   "metadata": {},
   "source": [
    "Ex1:\n",
    "In  : 3 4\n",
    "      31\n",
    "      27\n",
    "      35\n",
    "      20 25 30\n",
    "      23 29 90\n",
    "      21 35 60\n",
    "      28 33 40\n",
    "Out : 80\n",
    "\n",
    "Ex2:\n",
    "In  : 5 2\n",
    "      26\n",
    "      28\n",
    "      32\n",
    "      29\n",
    "      34\n",
    "      30 35 0\n",
    "      25 30 100\n",
    "Out : 300"
   ]
  },
  {
   "cell_type": "code",
   "execution_count": 17,
   "metadata": {},
   "outputs": [
    {
     "name": "stdout",
     "output_type": "stream",
     "text": [
      "False\n",
      "False\n",
      "False\n",
      "True\n",
      "0 0\n",
      "[[0, 0], [0, 0], [100, 0], [0, 200], [300, 0]]\n",
      "300\n"
     ]
    }
   ],
   "source": [
    "def init():\n",
    "  D, N = map(int, input().split())\n",
    "  T = [int(input()) for _ in range(D)]\n",
    "  ABC = [list(map(int, input().split())) for _ in range(N)]\n",
    "  return D, N, T, ABC\n",
    "\n",
    "def dp():\n",
    "  D, N, T, ABC = init()\n",
    "  grid = [[0 for _ in range(N)] for _ in range(D)]\n",
    "  for cloth_day1 in range(N):\n",
    "    for cloth_day2 in range(N):\n",
    "      if ABC[cloth_day1][0]<=T[0]<=ABC[cloth_day1][1] and ABC[cloth_day2][0]<=T[1]<=ABC[cloth_day2][1]:\n",
    "        grid[1][cloth_day2] = max(abs(ABC[cloth_day1][2] - ABC[cloth_day2][2]), grid[1][cloth_day2])\n",
    "  for day in range(1, D-1):\n",
    "    for cloth_crt in range(N):\n",
    "      for cloth_next in range(N):\n",
    "        if ABC[cloth_next][0]<=T[day+1]<=ABC[cloth_next][1]:\n",
    "          grid[day+1][cloth_next] = max(abs(ABC[cloth_crt][2] - ABC[cloth_next][2])+grid[day][cloth_crt], grid[day+1][cloth_next])\n",
    "  ans = max(grid[-1])\n",
    "  return ans\n",
    "\n",
    "if __name__ == \"__main__\":\n",
    "  ans = dp()\n",
    "  print(ans)"
   ]
  },
  {
   "cell_type": "code",
   "execution_count": null,
   "metadata": {},
   "outputs": [],
   "source": []
  }
 ],
 "metadata": {
  "interpreter": {
   "hash": "52ce370d13d9f3e7fec0c208e08f00abccec8be27c64f36722ecec456d801487"
  },
  "kernelspec": {
   "display_name": "Python 3.8.6 64-bit ('.venv_pn': venv)",
   "language": "python",
   "name": "python3"
  },
  "language_info": {
   "codemirror_mode": {
    "name": "ipython",
    "version": 3
   },
   "file_extension": ".py",
   "mimetype": "text/x-python",
   "name": "python",
   "nbconvert_exporter": "python",
   "pygments_lexer": "ipython3",
   "version": "3.8.6"
  },
  "orig_nbformat": 4
 },
 "nbformat": 4,
 "nbformat_minor": 2
}
