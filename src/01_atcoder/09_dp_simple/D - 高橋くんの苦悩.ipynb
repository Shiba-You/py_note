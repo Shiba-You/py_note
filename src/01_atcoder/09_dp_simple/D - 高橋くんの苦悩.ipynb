{
 "cells": [
  {
   "cell_type": "markdown",
   "metadata": {},
   "source": [
    "高橋くんは、ソフトウエアが期待通りに動いたというエビデンス（証拠）として、画面のスクリーンショットを表計算ソフトに貼り付ける作業を命じられました。 画面のスクリーンショットは N 枚あり、高さは全て等しいのですが、幅が異なります。 また、表計算ソフトに貼りつけ可能なスクリーンショットには 2 つの制約が存在します。\n",
    "* 表計算ソフトの幅は W しかない。そのため、貼りつけるスクリーンショットの幅の合計値は W 以下でなければならない。\n",
    "* 表計算ソフトは K 枚より多くのスクリーンショットを貼りつけることが出来ない。よって、表計算ソフトに貼りつけ可能なスクリーンショットは K 枚までである。\n",
    "さらに、スクリーンショットには「重要度」が存在するため、高橋くんは 2 つの制約を満たしながら、貼り付けるスクリーンショットが持つ重要度の合計値を最大化したいです。 しかし、彼にとってこの仕事は難しいので、あなたが彼の代わりに表計算ソフトに貼り付け可能なスクリーンショットが持つ重要度の合計の最大値を求めてください。"
   ]
  },
  {
   "cell_type": "markdown",
   "metadata": {},
   "source": [
    "https://atcoder.jp/contests/abc015/tasks/abc015_4"
   ]
  },
  {
   "cell_type": "markdown",
   "metadata": {},
   "source": [
    "Ex1:\n",
    "In  : 10\n",
    "      3 2\n",
    "      4 20\n",
    "      3 40\n",
    "      6 100\n",
    "Out : 140\n",
    "\n",
    "Ex2:\n",
    "In  : 10\n",
    "      5 4\n",
    "      9 10\n",
    "      3 7\n",
    "      3 1\n",
    "      2 6\n",
    "      4 5\n",
    "Out : 18\n",
    "\n",
    "Ex3:\n",
    "In  : 22\n",
    "      5 3\n",
    "      5 40\n",
    "      8 50\n",
    "      3 60\n",
    "      4 70\n",
    "      6 80\n",
    "Out : 210"
   ]
  },
  {
   "cell_type": "markdown",
   "metadata": {},
   "source": [
    "## TimeLimitError"
   ]
  },
  {
   "cell_type": "code",
   "execution_count": null,
   "metadata": {},
   "outputs": [],
   "source": [
    "def init():\n",
    "  w = int(input())\n",
    "  n, k = map(int, input().split())\n",
    "  R = []\n",
    "  for _ in range(n):\n",
    "    R.append(list(map(int, input().split())))\n",
    "  return w, n, k, R\n",
    "\n",
    "def pd():\n",
    "  w, n, k, R = init()\n",
    "  ans = 0\n",
    "  grid = [[[() for _ in range(w+1)] for _ in range(k)] for _ in range(n+1)]\n",
    "  \n",
    "  for init_width, init_cost in R:\n",
    "    if w < init_width:\n",
    "      continue\n",
    "    grid[0][0][init_width] = max(grid[0][0][init_width], (init_cost,))\n",
    "\n",
    "  for i in range(n):\n",
    "    for photo_num in range(k):\n",
    "      for width in range(w):\n",
    "        if len(grid[i][photo_num][width]) == 0:\n",
    "          continue\n",
    "        if sum(grid[i+1][photo_num][width]) <= sum(grid[i][photo_num][width]):\n",
    "          grid[i+1][photo_num][width] = grid[i][photo_num][width]\n",
    "        for crt_width, crt_cost in R:\n",
    "          next_width = width + crt_width\n",
    "          if next_width <= w and photo_num+1 < k:\n",
    "            if (sum(grid[i+1][photo_num+1][next_width]) <= sum(grid[i][photo_num][width])+crt_cost) \\\n",
    "              and (not crt_cost in grid[i][photo_num][width]):\n",
    "                grid[i+1][photo_num+1][next_width] = grid[i][photo_num][width] + (crt_cost,)\n",
    "            ans = max(sum(grid[i+1][photo_num+1][next_width]), ans)\n",
    "  return ans\n",
    "\n",
    "if __name__ == \"__main__\":\n",
    "  ans = pd()\n",
    "  print(ans)"
   ]
  },
  {
   "cell_type": "markdown",
   "metadata": {},
   "source": [
    "## Other Solution"
   ]
  },
  {
   "cell_type": "code",
   "execution_count": 27,
   "metadata": {},
   "outputs": [
    {
     "name": "stdout",
     "output_type": "stream",
     "text": [
      "18\n"
     ]
    }
   ],
   "source": [
    "def init():\n",
    "  w = int(input())\n",
    "  n, k = map(int, input().split())\n",
    "  R = []\n",
    "  for _ in range(n):\n",
    "    R.append(list(map(int, input().split())))\n",
    "  # w, k, R = 10, 4, [[9, 10], [3, 7], [3, 1], [2, 6], [4, 5]]\n",
    "  return w, k, R\n",
    "\n",
    "def dp():\n",
    "  w, k, R = init()\n",
    "  grid = [[0 for _ in range(w+1)] for _ in range(k+1)]\n",
    "\n",
    "  for width, point in R:\n",
    "    ngrid = [grid[i][:] for i in range(k+1)]\n",
    "    for i in range(k):\n",
    "      for j in range(w+1-width):\n",
    "        ngrid[i+1][j+width] = max(grid[i+1][j+width], grid[i][j]+point)\n",
    "    grid = ngrid\n",
    "  ans = max(max(dpi) for dpi in grid)\n",
    "  return ans\n",
    "\n",
    "if __name__ == \"__main__\":\n",
    "  ans = dp()\n",
    "  print(ans)"
   ]
  },
  {
   "cell_type": "code",
   "execution_count": 11,
   "metadata": {},
   "outputs": [
    {
     "name": "stdout",
     "output_type": "stream",
     "text": [
      "[0, 0, 0, 0, 0, 0, 0, 0, 0, 0, 0]\n",
      "[0, 0, 0, 0, 0, 0, 0, 0, 0, 0, 0]\n",
      "[0, 0, 0, 0, 0, 0, 0, 0, 0, 0, 0]\n",
      "[[0, 0, 0, 0, 0, 0, 0, 0, 0, 0, 0], [0, 0, 0, 0, 0, 0, 0, 0, 0, 0, 0], [0, 0, 0, 0, 0, 0, 0, 0, 0, 0, 0]]\n",
      "\n",
      "\n",
      "[0, 0, 0, 0, 0, 0, 0, 0, 0, 0, 0]\n",
      "[0, 0, 0, 0, 0, 0, 0, 0, 0, 0, 0]\n",
      "[0, 0, 0, 0, 0, 0, 0, 0, 0, 0, 0]\n",
      "[[0, 0, 0, 0, 0, 0, 0, 0, 0, 0, 0], [0, 0, 0, 0, 0, 0, 0, 0, 0, 0, 0], [0, 0, 0, 0, 0, 0, 0, 0, 0, 0, 0]]\n",
      "\n",
      "[0, 0, 0, 0, 0, 0, 0, 0, 0, 0, 0]\n",
      "[0, 0, 0, 0, 20, 20, 20, 20, 20, 20, 20]\n",
      "[0, 0, 0, 0, 20, 20, 20, 20, 20, 20, 20]\n",
      "[[0, 0, 0, 0, 0, 0, 0, 0, 0, 0, 0], [0, 0, 0, 0, 20, 20, 20, 20, 20, 20, 20], [0, 0, 0, 0, 20, 20, 20, 20, 20, 20, 20]]\n",
      "\n",
      "[0, 0, 0, 0, 0, 0, 0, 0, 0, 0, 0]\n",
      "[0, 0, 0, 40, 40, 40, 40, 40, 40, 40, 40]\n",
      "[0, 0, 0, 40, 40, 40, 40, 60, 60, 60, 60]\n",
      "[[0, 0, 0, 0, 0, 0, 0, 0, 0, 0, 0], [0, 0, 0, 40, 40, 40, 40, 40, 40, 40, 40], [0, 0, 0, 40, 40, 40, 40, 60, 60, 60, 60]]\n",
      "\n",
      "140\n"
     ]
    }
   ],
   "source": [
    "# from sys import stdin\n",
    "# input = lambda: stdin.readline().rstrip()\n",
    "\n",
    "# w = int(input())\n",
    "# n, k = map(int, input().split())\n",
    "# ab = [tuple(map(int, input().split())) for i in range(n)]\n",
    "w, n, k, ab = 10, 3, 2, [(4, 20), (3, 40), (6, 100)]\n",
    "\n",
    "dp = [[0] * (w + 1) for i in range(k + 1)]\n",
    "\n",
    "for a, b in ab:\n",
    "    ndp = [dp[i][:] for i in range(k + 1)]\n",
    "    for i in range(k):\n",
    "        for j in range(w + 1 - a):\n",
    "            if ndp[i + 1][j + a] < dp[i][j] + b:\n",
    "                ndp[i + 1][j + a] = dp[i][j] + b\n",
    "    dp = ndp\n",
    "ans = max(max(dpi) for dpi in dp)\n",
    "print(ans)\n"
   ]
  },
  {
   "cell_type": "code",
   "execution_count": null,
   "metadata": {},
   "outputs": [],
   "source": []
  }
 ],
 "metadata": {
  "interpreter": {
   "hash": "52ce370d13d9f3e7fec0c208e08f00abccec8be27c64f36722ecec456d801487"
  },
  "kernelspec": {
   "display_name": "Python 3.8.6 64-bit ('.venv_pn': venv)",
   "language": "python",
   "name": "python3"
  },
  "language_info": {
   "codemirror_mode": {
    "name": "ipython",
    "version": 3
   },
   "file_extension": ".py",
   "mimetype": "text/x-python",
   "name": "python",
   "nbconvert_exporter": "python",
   "pygments_lexer": "ipython3",
   "version": "3.8.6"
  },
  "orig_nbformat": 4
 },
 "nbformat": 4,
 "nbformat_minor": 2
}
