{
 "cells": [
  {
   "cell_type": "markdown",
   "metadata": {},
   "source": [
    "トキはモンスターと戦っています。\n",
    "モンスターの体力は H です。\n",
    "トキは N 種類の魔法が使え、i 番目の魔法を使うと、モンスターの体力を A_i 減らすことができますが、トキの魔力を B_i 消耗します。\n",
    "同じ魔法は何度でも使うことができます。魔法以外の方法でモンスターの体力を減らすことはできません。\n",
    "モンスターの体力を 0 以下にすればトキの勝ちです。\n",
    "トキがモンスターに勝つまでに消耗する魔力の合計の最小値を求めてください。"
   ]
  },
  {
   "cell_type": "markdown",
   "metadata": {},
   "source": [
    "https://atcoder.jp/contests/abc153/tasks/abc153_e"
   ]
  },
  {
   "cell_type": "markdown",
   "metadata": {},
   "source": [
    "Ex1:\n",
    "In  : 9 3\n",
    "      8 3\n",
    "      4 2\n",
    "      2 1\n",
    "Out : 4\n",
    "\n",
    "Ex2:\n",
    "In  : 100 6\n",
    "      1 1\n",
    "      2 3\n",
    "      3 9\n",
    "      4 27\n",
    "      5 81\n",
    "      6 243\n",
    "Out : 100\n",
    "\n",
    "Ex3:\n",
    "In  : 9999 10\n",
    "      540 7550\n",
    "      691 9680\n",
    "      700 9790\n",
    "      510 7150\n",
    "      415 5818\n",
    "      551 7712\n",
    "      587 8227\n",
    "      619 8671\n",
    "      588 8228\n",
    "      176 2461\n",
    "Out : 139815"
   ]
  },
  {
   "cell_type": "code",
   "execution_count": 3,
   "metadata": {},
   "outputs": [
    {
     "name": "stdout",
     "output_type": "stream",
     "text": [
      "[0, inf, 1, inf, 2, inf, 3, inf, 3, 4]\n",
      "4\n"
     ]
    }
   ],
   "source": [
    "def init():\n",
    "  H, N = map(int, input().split())\n",
    "  AB = [list(map(int, input().split())) for _ in range(N)]\n",
    "  return H, N, AB\n",
    "\n",
    "def dp_knapsack():\n",
    "  H, N, AB = init()\n",
    "  grid = [float(\"inf\") for _ in range(H+1)]\n",
    "  grid[0] = 0\n",
    "  for h in range(H):\n",
    "    for damage, cost in AB:\n",
    "      next_idx = min(h+damage, H)\n",
    "      grid[next_idx] = min(grid[next_idx], grid[h]+cost)\n",
    "  return grid[-1]\n",
    "\n",
    "if __name__ == \"__main__\":\n",
    "  ans = dp_knapsack()\n",
    "  print(ans)"
   ]
  },
  {
   "cell_type": "code",
   "execution_count": null,
   "metadata": {},
   "outputs": [],
   "source": []
  }
 ],
 "metadata": {
  "interpreter": {
   "hash": "52ce370d13d9f3e7fec0c208e08f00abccec8be27c64f36722ecec456d801487"
  },
  "kernelspec": {
   "display_name": "Python 3.8.6 64-bit ('.venv_pn': venv)",
   "language": "python",
   "name": "python3"
  },
  "language_info": {
   "codemirror_mode": {
    "name": "ipython",
    "version": 3
   },
   "file_extension": ".py",
   "mimetype": "text/x-python",
   "name": "python",
   "nbconvert_exporter": "python",
   "pygments_lexer": "ipython3",
   "version": "3.8.6"
  },
  "orig_nbformat": 4
 },
 "nbformat": 4,
 "nbformat_minor": 2
}
