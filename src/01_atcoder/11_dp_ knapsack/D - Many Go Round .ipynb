{
 "cells": [
  {
   "cell_type": "markdown",
   "metadata": {},
   "source": [
    "ある日 S 君は環状の道路をドライブすることにした。\n",
    "この環状道路には等間隔に休憩所があり、0 から M−1 までの番号が振られている。\n",
    "S 君は0番の休憩所からスタートし、0→1→2→…→(M−2)→(M−1)→0→1→2→… と巡回する。\n",
    "S 君の車は，燃料1リットルで休憩所を1つ進むことができる。\n",
    "しかし燃料の補充の際は、あらかじめ用意した、補充量が a_1,a_2,a_3,…,a_{N−1},a_N である N 個の燃料タンクから 1 つ以上選んで補充しなけらばならない。\n",
    "燃料タンクは補充を行うと空になるため、同じ燃料タンクを2回以上選ぶことはできない。 この車は走り出すと燃料を使い切るまで止まらないため、ある特定の休憩所に停まりたい場合は、ぴったりそこで燃料が尽きるように補充する燃料タンクを選ばなければならない。\n",
    "S 君は番号Lの休憩所で友人と待ち合わせをしており、車の燃料が0の状態で燃料タンクを複数選んで補充し、番号0の休憩所からスタートして番号Lの休憩所に停まりたい。\n",
    "しかし環状道路をX周以上すると市の交通条例違反になってしまう。\n",
    "S 君がX周以内に番号Lの休憩所に停まることができるような燃料タンクの選び方は存在するかどうかを判定せよ。\n",
    "燃料の補充は最初の1回のみである。また、スタート直後は1周目と定義し、再び番号0の休憩所にたどり着いた時点で次の周回とする。"
   ]
  },
  {
   "cell_type": "markdown",
   "metadata": {},
   "source": [
    "https://atcoder.jp/contests/maximum-cup-2018/tasks/maximum_cup_2018_d"
   ]
  },
  {
   "cell_type": "markdown",
   "metadata": {},
   "source": [
    "Ex1:\n",
    "In  : 5 11 7 5\n",
    "      1 4 5 8 9\n",
    "Out : Yes\n",
    "\n",
    "Ex2:\n",
    "In  : 5 5 3 2\n",
    "      1 4 5 9 12\n",
    "Out : No\n",
    "\n",
    "Ex3:\n",
    "In  : 5 10 3 100\n",
    "      1 4 7 10 14\n",
    "Out : No"
   ]
  },
  {
   "cell_type": "code",
   "execution_count": 5,
   "metadata": {},
   "outputs": [
    {
     "name": "stdout",
     "output_type": "stream",
     "text": [
      "[1, 6, 6, 6, 6, 6, 6, 6, 6, 6, 6]\n",
      "[1, 1, 6, 6, 6, 6, 6, 6, 6, 6, 6]\n",
      "[1, 1, 6, 6, 1, 1, 6, 6, 6, 6, 6]\n",
      "[1, 1, 6, 6, 1, 1, 1, 6, 6, 1, 1]\n",
      "[1, 1, 2, 2, 1, 1, 1, 2, 1, 1, 1]\n",
      "[1, 1, 2, 2, 1, 1, 1, 2, 1, 1, 1]\n",
      "Yes\n"
     ]
    }
   ],
   "source": [
    "def init():\n",
    "  N, M, L, X = map(int, input().split())\n",
    "  A = list(map(int, input().split()))\n",
    "  return N, M, L, X, A\n",
    "\n",
    "def dp_knapsack():\n",
    "  N, M, L, X, A = init()\n",
    "  grid = [[X+1 for _ in range(M)] for _ in range(N+1)]\n",
    "  grid[0][0] = 1\n",
    "  for i in range(N):\n",
    "    for j in range(M):\n",
    "      tmp = j+A[i]\n",
    "      grid[i+1][tmp%M] = min(grid[i][tmp%M], grid[i][j]+(tmp//M))\n",
    "  if grid[N][L] <= X:\n",
    "    return \"Yes\"\n",
    "  else:\n",
    "    return \"No\"\n",
    "\n",
    "if __name__ == \"__main__\":\n",
    "  ans = dp_knapsack()\n",
    "  print(ans)"
   ]
  },
  {
   "cell_type": "code",
   "execution_count": null,
   "metadata": {},
   "outputs": [],
   "source": []
  }
 ],
 "metadata": {
  "interpreter": {
   "hash": "52ce370d13d9f3e7fec0c208e08f00abccec8be27c64f36722ecec456d801487"
  },
  "kernelspec": {
   "display_name": "Python 3.8.6 64-bit ('.venv_pn': venv)",
   "language": "python",
   "name": "python3"
  },
  "language_info": {
   "codemirror_mode": {
    "name": "ipython",
    "version": 3
   },
   "file_extension": ".py",
   "mimetype": "text/x-python",
   "name": "python",
   "nbconvert_exporter": "python",
   "pygments_lexer": "ipython3",
   "version": "3.8.6"
  },
  "orig_nbformat": 4
 },
 "nbformat": 4,
 "nbformat_minor": 2
}
