{
 "cells": [
  {
   "cell_type": "markdown",
   "metadata": {},
   "source": [
    "高橋君は N 日にわたってゲームをしています。i(1≦i≦N) 日目には、a_i 回のゲームをします。\n",
    "各ゲームの結果は、勝つか負けるかのどちらかです。\n",
    "高橋君の i(1≦i≦N) 日目の機嫌は、勝率によって定まり、i−1 日目までの勝率より i 日目までの勝率のほうが真に高かった場合、i 日目に機嫌をよくします。そうでない場合、i 日目に機嫌を悪くします。 ただし、i 日目までの勝率とは、i=0のとき 0 、そうでないときは i 日目までにゲームで勝った回数の合計を i 日目までにゲームをした回数の合計で割った値を指します。\n",
    "高橋君の機嫌は AtCoder 社の収益に直結するので、青木君は高橋君の機嫌が気になります。青木君は、高橋君が N 日間で合計 K 回ゲームに勝ったことを知っています。\n",
    "青木君に代わって、高橋君の機嫌がよかった日数の最大値を求めてください。"
   ]
  },
  {
   "cell_type": "markdown",
   "metadata": {},
   "source": [
    "https://atcoder.jp/contests/arc057/tasks/arc057_b"
   ]
  },
  {
   "cell_type": "markdown",
   "metadata": {},
   "source": [
    "Ex1:\n",
    "In  : 5 7\n",
    "      2\n",
    "      3\n",
    "      7\n",
    "      4\n",
    "      9\n",
    "Out : 3\n",
    "\n",
    "Ex2:\n",
    "In  : 3 5\n",
    "      1\n",
    "      2\n",
    "      2\n",
    "Out : 1\n",
    "\n",
    "Ex3:\n",
    "In  : 2 4\n",
    "      2\n",
    "      10\n",
    "Out : 1\n",
    "\n",
    "Ex4:\n",
    "In  : 10 12\n",
    "      2\n",
    "      8\n",
    "      3\n",
    "      5\n",
    "      10\n",
    "      5\n",
    "      2\n",
    "      9\n",
    "      19\n",
    "      22\n",
    "Out : 7"
   ]
  },
  {
   "cell_type": "code",
   "execution_count": 1,
   "metadata": {},
   "outputs": [
    {
     "name": "stdout",
     "output_type": "stream",
     "text": [
      "3\n"
     ]
    }
   ],
   "source": [
    "def init():\n",
    "  N, K = map(int, input().split())\n",
    "  A = [int(input()) for _ in range(N)]\n",
    "  return N, K, A\n",
    "\n",
    "def dp():\n",
    "  N, K, A = init()\n",
    "  grid = [[float(\"inf\") for _ in range(N+1)] for _ in range(N+1)]\n",
    "\n",
    "  # A 回の勝負で K回勝つ時，AとKが等しいケース\n",
    "  if K == sum(A):\n",
    "    return 1\n",
    "    \n",
    "  for i in range(N+1):\n",
    "    grid[i][0] = 0\n",
    "    grid[i][1] = 1\n",
    "  \n",
    "  s = 0\n",
    "  s += A[0]\n",
    "  for i in range(2, N+1):\n",
    "    for j in range(2, N+1):\n",
    "      if i < j:\n",
    "        break\n",
    "      x = (grid[i-1][j-1]/s) * (s+A[i-1])\n",
    "      grid[i][j] = min(grid[i-1][j], int(x)+1)\n",
    "    s += A[i-1]\n",
    "  \n",
    "  ans = 0\n",
    "  for i in range(N+1):\n",
    "    if grid[N][i] <= K:\n",
    "      ans = i\n",
    "  return ans\n",
    "\n",
    "if __name__ == \"__main__\":\n",
    "  ans = dp()\n",
    "  print(ans)"
   ]
  },
  {
   "cell_type": "code",
   "execution_count": 3,
   "metadata": {},
   "outputs": [
    {
     "name": "stdout",
     "output_type": "stream",
     "text": [
      "[0, 1, 8, 8, 8, 8]\n",
      "[0, 1, 8, 8, 8, 8]\n",
      "[0, 1, 3, 8, 8, 8]\n",
      "[0, 1, 3, 8, 8, 8]\n",
      "[0, 1, 2, 5, 8, 8]\n",
      "[0, 1, 2, 4, 8, 8]\n",
      "3\n",
      "2\n",
      "1\n",
      "0\n"
     ]
    }
   ],
   "source": [
    "# N,K = map(int,input().split())\n",
    "# A = [int(input()) for _ in range(N)]\n",
    "\n",
    "N, K = 5, 7\n",
    "A = [2, 3, 7, 4, 9]\n",
    "\n",
    "if K == sum(A):\n",
    "    print(1)\n",
    "    exit()\n",
    "\n",
    "S = [0]\n",
    "for a in A:\n",
    "    S.append(S[-1]+a)\n",
    "\n",
    "INF = K+1\n",
    "dp = [[INF]*(N+1) for _ in range(N+1)]\n",
    "for i in range(N+1):\n",
    "    dp[i][1] = 1\n",
    "    dp[i][0] = 0\n",
    "\n",
    "for i in range(2,N+1):\n",
    "    for j in range(2,i+1):\n",
    "        dp[i][j] = min(dp[i-1][j-1]*A[i-1]//S[i-1]+1+dp[i-1][j-1],dp[i-1][j])\n",
    "print(*dp, sep=\"\\n\")\n",
    "\n",
    "for k in range(N,-1,-1):\n",
    "    if dp[-1][k] <= K:\n",
    "        print(k)\n",
    "        exit()\n"
   ]
  },
  {
   "cell_type": "code",
   "execution_count": 1,
   "metadata": {},
   "outputs": [
    {
     "name": "stdout",
     "output_type": "stream",
     "text": [
      "100\n"
     ]
    }
   ],
   "source": [
    "print(100)"
   ]
  },
  {
   "cell_type": "code",
   "execution_count": null,
   "metadata": {},
   "outputs": [],
   "source": []
  }
 ],
 "metadata": {
  "interpreter": {
   "hash": "52ce370d13d9f3e7fec0c208e08f00abccec8be27c64f36722ecec456d801487"
  },
  "kernelspec": {
   "display_name": "Python 3.8.6 64-bit ('.venv_pn': venv)",
   "language": "python",
   "name": "python3"
  },
  "language_info": {
   "codemirror_mode": {
    "name": "ipython",
    "version": 3
   },
   "file_extension": ".py",
   "mimetype": "text/x-python",
   "name": "python",
   "nbconvert_exporter": "python",
   "pygments_lexer": "ipython3",
   "version": "3.8.6"
  },
  "orig_nbformat": 4
 },
 "nbformat": 4,
 "nbformat_minor": 2
}
