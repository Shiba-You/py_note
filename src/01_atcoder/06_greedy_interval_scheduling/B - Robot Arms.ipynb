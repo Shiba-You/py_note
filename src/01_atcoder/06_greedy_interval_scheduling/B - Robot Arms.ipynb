{
 "cells": [
  {
   "cell_type": "markdown",
   "metadata": {},
   "source": [
    "ある工場では、 数直線上に N 個のロボットが設置されています。 ロボット i は座標 X_i に設置されており、数直線の正負の方向にそれぞれ長さ L_i の腕を伸ばすことができます。\n",
    "これらのロボットのうちいくつか (0 個以上) を取り除き、 残ったどの 2 つのロボットについても、腕が動く範囲が共通部分を持たないようにしたいと思います。 ただし、各 i (1≤i≤N) に対して、 ロボット i の腕が動く範囲とは 数直線上の座標が X_i − L_i より大きく X_i + L_i 未満の部分を指します。\n",
    "取り除かずに残せるロボットの個数の最大値を求めてください。"
   ]
  },
  {
   "cell_type": "markdown",
   "metadata": {},
   "source": [
    "https://atcoder.jp/contests/keyence2020/tasks/keyence2020_b"
   ]
  },
  {
   "cell_type": "markdown",
   "metadata": {},
   "source": [
    "Ex1:\n",
    "In  : 4\n",
    "      2 4\n",
    "      4 3\n",
    "      9 3\n",
    "      100 5\n",
    "Out : 3\n",
    "\n",
    "Ex2:\n",
    "In  : 2\n",
    "      8 20\n",
    "      1 10\n",
    "Out : 1\n",
    "\n",
    "Ex3:\n",
    "In  : 5\n",
    "      10 1\n",
    "      2 1\n",
    "      4 1\n",
    "      6 1\n",
    "      8 1\n",
    "Out : 5"
   ]
  },
  {
   "cell_type": "code",
   "execution_count": 6,
   "metadata": {},
   "outputs": [
    {
     "name": "stdout",
     "output_type": "stream",
     "text": [
      "[(6, -2), (7, 1), (12, 6), (105, 95)]\n",
      "3\n"
     ]
    }
   ],
   "source": [
    "def init():\n",
    "  n = int(input())\n",
    "  r = []\n",
    "  for _ in range(n):\n",
    "    x, l = map(int, input().split())\n",
    "    r.append((x+l, x-l))\n",
    "  r.sort()\n",
    "  return r, n\n",
    "\n",
    "def interval_scheduling():\n",
    "  r, n = init()\n",
    "  ans = 1\n",
    "  crt_r = r[0][0]\n",
    "  for i in range(1, n):\n",
    "    if crt_r <= r[i][1]:\n",
    "      ans += 1\n",
    "      crt_r = r[i][0]\n",
    "  return ans\n",
    "\n",
    "if __name__ == \"__main__\":\n",
    "  ans = interval_scheduling()\n",
    "  print(ans)"
   ]
  },
  {
   "cell_type": "code",
   "execution_count": 8,
   "metadata": {},
   "outputs": [
    {
     "name": "stdout",
     "output_type": "stream",
     "text": [
      "[(-3, 1), (2, 4), (3, 9), (21, 2)]\n",
      "[(2, 4), (-3, 1), (21, 2), (3, 9)]\n",
      "[(-3, 1), (2, 4), (3, 9), (21, 2)]\n"
     ]
    }
   ],
   "source": [
    "k = [(2, 4), (-3, 1), (21, 2), (3, 9)]\n",
    "_k = sorted(k)\n",
    "print(_k)\n",
    "print(k)\n",
    "\n",
    "k.sort()\n",
    "print(k)"
   ]
  },
  {
   "cell_type": "code",
   "execution_count": null,
   "metadata": {},
   "outputs": [],
   "source": []
  }
 ],
 "metadata": {
  "interpreter": {
   "hash": "52ce370d13d9f3e7fec0c208e08f00abccec8be27c64f36722ecec456d801487"
  },
  "kernelspec": {
   "display_name": "Python 3.8.6 64-bit ('.venv_pn': venv)",
   "language": "python",
   "name": "python3"
  },
  "language_info": {
   "codemirror_mode": {
    "name": "ipython",
    "version": 3
   },
   "file_extension": ".py",
   "mimetype": "text/x-python",
   "name": "python",
   "nbconvert_exporter": "python",
   "pygments_lexer": "ipython3",
   "version": "3.8.6"
  },
  "orig_nbformat": 4
 },
 "nbformat": 4,
 "nbformat_minor": 2
}
