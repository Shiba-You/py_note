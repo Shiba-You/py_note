{
 "cells": [
  {
   "cell_type": "markdown",
   "metadata": {},
   "source": [
    "高橋くんはプレゼントを用意することになりました。プレゼントの中身はすでに決まり、あとはプレゼントを入れる箱を用意するだけです。\n",
    "高橋くんが使える箱はN個あり、i番目の箱は縦h_i cm×横 w_i cmのサイズです。\n",
    "プレゼントがより多くの箱に入っていたほうが面白いと考えた高橋くんは、なるべく多くの箱を入れ子にし、最も内側の箱にプレゼントを入れることにしました。 ある箱は、縦・横ともにより大きいサイズの箱にのみ入れることができます。また、ある箱は1つまでしか他の箱を入れることはできません。\n",
    "プレゼントを入れる箱を最大で何重の入れ子にできるか答えてください。"
   ]
  },
  {
   "cell_type": "markdown",
   "metadata": {},
   "source": [
    "https://atcoder.jp/contests/abc038/tasks/abc038_d"
   ]
  },
  {
   "cell_type": "markdown",
   "metadata": {},
   "source": [
    "Ex1:\n",
    "In  : 3\n",
    "      3 3\n",
    "      1 1\n",
    "      2 2\n",
    "Out : 3\n",
    "\n",
    "Ex2:\n",
    "In  : 2\n",
    "      4 5\n",
    "      4 3\n",
    "Out : 1\n",
    "\n",
    "Ex3:\n",
    "In  : 4\n",
    "      2 5\n",
    "      3 3\n",
    "      4 5\n",
    "      6 6\n",
    "Out : 3\n",
    "\n",
    "Ex4:\n",
    "In  : 5\n",
    "      8 8\n",
    "      5 3\n",
    "      2 2\n",
    "      4 2\n",
    "      2 1\n",
    "Out : 4"
   ]
  },
  {
   "cell_type": "code",
   "execution_count": 39,
   "metadata": {},
   "outputs": [
    {
     "name": "stdout",
     "output_type": "stream",
     "text": [
      "1\n"
     ]
    }
   ],
   "source": [
    "import bisect\n",
    "\n",
    "def init():\n",
    "  n = int(input())\n",
    "  l = [list(map(int, input().split())) for _ in range(n)]\n",
    "  # 幅が狭い順　・　高さが高い順 に並び替え\n",
    "  l.sort(key = lambda x: [x[0], -x[1]])\n",
    "  # 並び替えられた配列の高さだけを抽出\n",
    "  h = [l[i][1] for i in range(n)]\n",
    "  return h, n\n",
    "\n",
    "def inteval_scheduling():\n",
    "  h, n = init()\n",
    "  crt = [h[0]]\n",
    "  for i in range(n):\n",
    "    # 現在幅が最小の箱より，高さが大きい時\n",
    "    if crt[-1] < h[i]:\n",
    "      crt.append(h[i])\n",
    "    # 現在幅が最小の箱より，高さが小さい時\n",
    "    else:\n",
    "      # 高さを塗り替える\n",
    "        # これによって，答えとなる数 （len(crt)） を変化させることなく， 高さの基準値を帰ることができる\n",
    "      idx = bisect.bisect_left(crt, h[i])\n",
    "      crt[idx] = h[i]\n",
    "  return len(crt)\n",
    "\n",
    "if __name__ == \"__main__\":\n",
    "  ans = inteval_scheduling()\n",
    "  print(ans)"
   ]
  },
  {
   "cell_type": "code",
   "execution_count": null,
   "metadata": {},
   "outputs": [],
   "source": []
  }
 ],
 "metadata": {
  "interpreter": {
   "hash": "52ce370d13d9f3e7fec0c208e08f00abccec8be27c64f36722ecec456d801487"
  },
  "kernelspec": {
   "display_name": "Python 3.8.6 64-bit ('.venv_pn': venv)",
   "language": "python",
   "name": "python3"
  },
  "language_info": {
   "codemirror_mode": {
    "name": "ipython",
    "version": 3
   },
   "file_extension": ".py",
   "mimetype": "text/x-python",
   "name": "python",
   "nbconvert_exporter": "python",
   "pygments_lexer": "ipython3",
   "version": "3.8.6"
  },
  "orig_nbformat": 4
 },
 "nbformat": 4,
 "nbformat_minor": 2
}
