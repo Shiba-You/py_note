{
 "cells": [
  {
   "cell_type": "markdown",
   "metadata": {},
   "source": [
    "円の列 C_1,C_2,...,C_K は各 i に対し C_{i+1} が C_i の strictly に内部にあるときサイズ K のターゲットであるという。 すぬけ君は、円を N 個描いた。i 番目の円は中心が (x_i,0) であり、半径が r_i である。この中から円をいくつか選んでターゲットを作るとき、ターゲットの最大サイズを求めよ。"
   ]
  },
  {
   "cell_type": "markdown",
   "metadata": {},
   "source": [
    "https://atcoder.jp/contests/tdpc/tasks/tdpc_target"
   ]
  },
  {
   "cell_type": "markdown",
   "metadata": {},
   "source": [
    "Ex1:\n",
    "In  : 3\n",
    "      1 1\n",
    "      0 3\n",
    "      3 2\n",
    "Out : 2\n",
    "\n",
    "Ex2:\n",
    "In  : 2\n",
    "      1 1\n",
    "      2 2\n",
    "Out : 1"
   ]
  },
  {
   "cell_type": "code",
   "execution_count": 27,
   "metadata": {},
   "outputs": [
    {
     "name": "stdout",
     "output_type": "stream",
     "text": [
      "1\n"
     ]
    }
   ],
   "source": [
    "import bisect\n",
    "\n",
    "def init():\n",
    "  N = int(input())\n",
    "  C = []\n",
    "  for _ in range(N):\n",
    "    x, r = map(int, input().split())\n",
    "    C.append([x-r, x+r])\n",
    "  # 的の座標が大きい順に並び替える（厳しいところから攻める）\n",
    "  C.sort(key=lambda x: [-x[0], -x[1]])\n",
    "  right = [C[i][1] for i in range(N)]\n",
    "  return N, right\n",
    "\n",
    "def dp_inline():\n",
    "  N, right = init()\n",
    "  target = []\n",
    "  for i in range(N):\n",
    "    # right の位置がどこに来るか調査\n",
    "    j = bisect.bisect_left(target, right[i])\n",
    "    # right が既存のものより大きかったら target に追加\n",
    "    if j == len(target):\n",
    "      target.append(right[i])\n",
    "    # それ以外は塗り替え\n",
    "    else:\n",
    "      target[j] = right[i]\n",
    "  return len(target)\n",
    "\n",
    "if __name__ == \"__main__\":\n",
    "  ans = dp_inline()\n",
    "  print(ans)"
   ]
  },
  {
   "cell_type": "code",
   "execution_count": null,
   "metadata": {},
   "outputs": [],
   "source": []
  }
 ],
 "metadata": {
  "interpreter": {
   "hash": "52ce370d13d9f3e7fec0c208e08f00abccec8be27c64f36722ecec456d801487"
  },
  "kernelspec": {
   "display_name": "Python 3.8.6 64-bit ('.venv_pn': venv)",
   "language": "python",
   "name": "python3"
  },
  "language_info": {
   "codemirror_mode": {
    "name": "ipython",
    "version": 3
   },
   "file_extension": ".py",
   "mimetype": "text/x-python",
   "name": "python",
   "nbconvert_exporter": "python",
   "pygments_lexer": "ipython3",
   "version": "3.8.6"
  },
  "orig_nbformat": 4
 },
 "nbformat": 4,
 "nbformat_minor": 2
}
