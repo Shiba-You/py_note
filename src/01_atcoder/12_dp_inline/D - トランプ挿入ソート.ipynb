{
 "cells": [
  {
   "cell_type": "markdown",
   "metadata": {},
   "source": [
    "数字が書かれたカードが N 枚あります。このカードの束（山札）に対して以下の操作が可能です。\n",
    "山札からカードを 1 枚抜き取り、任意の場所に挿入する。\n",
    "山札の上から下に向けて、カードを昇順に並べ替えるために必要な、最小の操作回数を求めてください。"
   ]
  },
  {
   "cell_type": "markdown",
   "metadata": {},
   "source": [
    "https://atcoder.jp/contests/abc006/tasks/abc006_4"
   ]
  },
  {
   "cell_type": "markdown",
   "metadata": {},
   "source": [
    "Ex1:\n",
    "In  : 6\n",
    "      1\n",
    "      3\n",
    "      5\n",
    "      2\n",
    "      4\n",
    "      6\n",
    "Out : 2\n",
    "\n",
    "Ex2:\n",
    "In  : 5\n",
    "      5\n",
    "      4\n",
    "      3\n",
    "      2\n",
    "      1\n",
    "Out : 4\n",
    "\n",
    "Ex3:\n",
    "In  : 7\n",
    "      1\n",
    "      2\n",
    "      3\n",
    "      4\n",
    "      5\n",
    "      6\n",
    "      7\n",
    "Out : 7"
   ]
  },
  {
   "cell_type": "code",
   "execution_count": 12,
   "metadata": {},
   "outputs": [
    {
     "name": "stdout",
     "output_type": "stream",
     "text": [
      "2\n"
     ]
    }
   ],
   "source": [
    "import bisect\n",
    "\n",
    "def init():\n",
    "  N = int(input())\n",
    "  C = [int(input()) for _ in range(N)]\n",
    "  return N, C\n",
    "\n",
    "def dp_inline():\n",
    "  N, C = init()\n",
    "  grid = [float('inf') for _ in range(N)]\n",
    "  for i in range(N):\n",
    "    j = bisect.bisect_left(grid, C[i])\n",
    "    grid[j] = C[i]\n",
    "  return grid.count(float(\"inf\"))\n",
    "\n",
    "if __name__ == \"__main__\":\n",
    "  ans = dp_inline()\n",
    "  print(ans)"
   ]
  },
  {
   "cell_type": "code",
   "execution_count": 9,
   "metadata": {},
   "outputs": [
    {
     "name": "stdout",
     "output_type": "stream",
     "text": [
      "dp:  [1, inf, inf, inf, inf, inf]\n",
      "c:  [1, 4, 5, 3, 2, 6]\n",
      "\n",
      "dp:  [1, 4, inf, inf, inf, inf]\n",
      "c:  [1, 4, 5, 3, 2, 6]\n",
      "\n",
      "dp:  [1, 4, 5, inf, inf, inf]\n",
      "c:  [1, 4, 5, 3, 2, 6]\n",
      "\n",
      "dp:  [1, 3, 5, inf, inf, inf]\n",
      "c:  [1, 4, 5, 3, 2, 6]\n",
      "\n",
      "dp:  [1, 2, 5, inf, inf, inf]\n",
      "c:  [1, 4, 5, 3, 2, 6]\n",
      "\n",
      "dp:  [1, 2, 5, 6, inf, inf]\n",
      "c:  [1, 4, 5, 3, 2, 6]\n",
      "\n",
      "2\n"
     ]
    }
   ],
   "source": [
    "import bisect\n",
    "# N=int(input())\n",
    "# c=[int(input()) for i in range(N)]\n",
    "N, c = 6, [1, 4, 5, 3, 2, 6]\n",
    "m=0\n",
    "ans=0\n",
    "dp=[float('inf') for i in range(N)]\n",
    "for i in range(N):\n",
    "    j=bisect.bisect_left(dp,c[i])\n",
    "    dp[j]=c[i]\n",
    "    print(\"dp: \", dp)\n",
    "    print(\"c: \", c)\n",
    "    print()\n",
    "print(sum(i==float('inf') for i in dp))"
   ]
  },
  {
   "cell_type": "code",
   "execution_count": 11,
   "metadata": {},
   "outputs": [
    {
     "name": "stdout",
     "output_type": "stream",
     "text": [
      "2\n"
     ]
    }
   ],
   "source": [
    "a = [0,0,1]\n",
    "print(a.count(0))"
   ]
  },
  {
   "cell_type": "code",
   "execution_count": null,
   "metadata": {},
   "outputs": [],
   "source": []
  }
 ],
 "metadata": {
  "interpreter": {
   "hash": "52ce370d13d9f3e7fec0c208e08f00abccec8be27c64f36722ecec456d801487"
  },
  "kernelspec": {
   "display_name": "Python 3.8.6 64-bit ('.venv_pn': venv)",
   "language": "python",
   "name": "python3"
  },
  "language_info": {
   "codemirror_mode": {
    "name": "ipython",
    "version": 3
   },
   "file_extension": ".py",
   "mimetype": "text/x-python",
   "name": "python",
   "nbconvert_exporter": "python",
   "pygments_lexer": "ipython3",
   "version": "3.8.6"
  },
  "orig_nbformat": 4
 },
 "nbformat": 4,
 "nbformat_minor": 2
}
