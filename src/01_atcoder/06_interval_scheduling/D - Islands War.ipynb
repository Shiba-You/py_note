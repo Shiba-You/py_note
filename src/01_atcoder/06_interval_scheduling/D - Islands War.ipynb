{
 "cells": [
  {
   "cell_type": "markdown",
   "metadata": {},
   "source": [
    "東西一列に並んだ N 個の島と N−1 本の橋があります。\n",
    "i 番目の橋は、西から i 番目の島と西から i+1 番目の島を接続しています。\n",
    "ある日、いくつかの島同士で争いが起こり、島の住人たちから M 個の要望がありました。\n",
    "要望 i: 西から a_i 番目の島と西から b_i 番目の島の間で争いが起こったために、これらの島をいくつかの橋を渡って行き来できないようにしてほしい\n",
    "あなたは橋をいくつか取り除くことでこれら M 個の要望全てを叶えることにしました。\n",
    "取り除く必要のある橋の本数の最小値を求めてください。"
   ]
  },
  {
   "cell_type": "markdown",
   "metadata": {},
   "source": [
    "https://atcoder.jp/contests/abc103/tasks/abc103_d"
   ]
  },
  {
   "cell_type": "markdown",
   "metadata": {},
   "source": [
    "Ex1:\n",
    "In  : 5 2\n",
    "      1 4\n",
    "      2 5\n",
    "Out : 1\n",
    "\n",
    "Ex1:\n",
    "In  : 9 5\n",
    "      1 8\n",
    "      2 7\n",
    "      3 5\n",
    "      4 6\n",
    "      7 9\n",
    "Out : 2\n",
    "\n",
    "Ex1:\n",
    "In  : 5 10\n",
    "      1 2\n",
    "      1 3\n",
    "      1 4\n",
    "      1 5\n",
    "      2 3\n",
    "      2 4\n",
    "      2 5\n",
    "      3 4\n",
    "      3 5\n",
    "      4 5\n",
    "Out : 4"
   ]
  },
  {
   "cell_type": "code",
   "execution_count": 28,
   "metadata": {},
   "outputs": [
    {
     "name": "stdout",
     "output_type": "stream",
     "text": [
      "[[1, 2], [1, 3], [2, 3], [1, 4], [2, 4], [3, 4], [1, 5], [2, 5], [3, 5], [4, 5]]\n",
      "4\n"
     ]
    }
   ],
   "source": [
    "def init():\n",
    "  n, m = map(int, input().split())\n",
    "  # r = []\n",
    "  r = [list(map(int, input().split())) for _ in range(m)]\n",
    "  r.sort(key = lambda x: x[1])\n",
    "  print(r)\n",
    "  return r, m\n",
    "\n",
    "def init_test():\n",
    "  n, m = 5, 10\n",
    "  r = [(5, 3), (6, 4), (7, 2), (8, 1), (9, 7)]\n",
    "  return r, m\n",
    "\n",
    "def fullsearch():\n",
    "  r, m = init()\n",
    "  # r, m = init_test()\n",
    "  ans = 1\n",
    "  crt = r[0][1]\n",
    "  for i in range(1, m):\n",
    "    if crt <= r[i][0]:\n",
    "      ans += 1\n",
    "      crt = r[i][1]\n",
    "  return ans\n",
    "\n",
    "if __name__ == \"__main__\":\n",
    "  ans = fullsearch()\n",
    "  print(ans)"
   ]
  },
  {
   "cell_type": "code",
   "execution_count": 10,
   "metadata": {},
   "outputs": [],
   "source": [
    "r = []\n",
    "for _ in range(10):\n",
    "  a, b = map(int, input().split())\n",
    "  r.append((b, a))"
   ]
  },
  {
   "cell_type": "code",
   "execution_count": 22,
   "metadata": {},
   "outputs": [
    {
     "name": "stdout",
     "output_type": "stream",
     "text": [
      "[(2, 1), (3, 1), (4, 1), (5, 1), (3, 2), (4, 2), (5, 2), (4, 3), (5, 3), (5, 4)]\n"
     ]
    }
   ],
   "source": [
    "r = [(2, 1), (3, 1), (4, 1), (5, 1), (3, 2), (4, 2), (5, 2), (4, 3), (5, 3), (5, 4)]\n",
    "print(r)"
   ]
  },
  {
   "cell_type": "code",
   "execution_count": 23,
   "metadata": {},
   "outputs": [
    {
     "name": "stdout",
     "output_type": "stream",
     "text": [
      "[(2, 1), (3, 1), (3, 2), (4, 1), (4, 2), (4, 3), (5, 1), (5, 2), (5, 3), (5, 4)]\n"
     ]
    }
   ],
   "source": [
    "_k = sorted(r)\n",
    "r.sort(key = lambda x: x[0])\n",
    "print(r)"
   ]
  },
  {
   "cell_type": "code",
   "execution_count": null,
   "metadata": {},
   "outputs": [],
   "source": []
  }
 ],
 "metadata": {
  "interpreter": {
   "hash": "52ce370d13d9f3e7fec0c208e08f00abccec8be27c64f36722ecec456d801487"
  },
  "kernelspec": {
   "display_name": "Python 3.8.6 64-bit ('.venv_pn': venv)",
   "language": "python",
   "name": "python3"
  },
  "language_info": {
   "codemirror_mode": {
    "name": "ipython",
    "version": 3
   },
   "file_extension": ".py",
   "mimetype": "text/x-python",
   "name": "python",
   "nbconvert_exporter": "python",
   "pygments_lexer": "ipython3",
   "version": "3.8.6"
  },
  "orig_nbformat": 4
 },
 "nbformat": 4,
 "nbformat_minor": 2
}
