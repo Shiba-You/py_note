{
 "cells": [
  {
   "cell_type": "markdown",
   "metadata": {},
   "source": [
    "# D - Factorization"
   ]
  },
  {
   "cell_type": "markdown",
   "metadata": {},
   "source": [
    "正整数 N,M が与えられます。\n",
    "a_1×a_2×...×a_N=M となる正整数からなる長さ N の数列 a が何通りあるかを 10^9+7 で割った余りを求めてください。\n",
    "ただし、数列 a′ と a′′ が異なるとは、ある i が存在して a_i′=a_i′′ であることをいいます。"
   ]
  },
  {
   "cell_type": "markdown",
   "metadata": {},
   "source": [
    "https://atcoder.jp/contests/abc110/tasks/abc110_d"
   ]
  },
  {
   "cell_type": "markdown",
   "metadata": {},
   "source": [
    "Ex1:\n",
    "In  : 2 6\n",
    "Out : 4\n",
    "\n",
    "Ex2:\n",
    "In  : 3 12\n",
    "Out : 18\n",
    "\n",
    "Ex3:\n",
    "In  : 100000 1000000000\n",
    "Out : 957870001"
   ]
  },
  {
   "cell_type": "code",
   "execution_count": 15,
   "metadata": {},
   "outputs": [
    {
     "name": "stdout",
     "output_type": "stream",
     "text": [
      "957870001\n"
     ]
    }
   ],
   "source": [
    "from collections import Counter\n",
    "\n",
    "def init():\n",
    "  N, M = map(int, input().split())\n",
    "  mod = 10**9+7\n",
    "  return N, M, mod\n",
    "\n",
    "def factorize(n):\n",
    "  for i in range(2,int(n**0.5)+1):\n",
    "    if n%i==0:\n",
    "      return [i]+factorize(n//i)\n",
    "  return [n]\n",
    "\n",
    "# N: 数列の長さ\n",
    "# r: 対象の素因数の指数\n",
    "def nCr(n, r):\n",
    "  res = 1\n",
    "  # 分子計算\n",
    "  for x in range(n, n-r, -1):\n",
    "    res *= x\n",
    "  # 分母計算\n",
    "  for x in range(2, r+1):\n",
    "    res //=x\n",
    "  return res\n",
    "\n",
    "def duplicate_dp():\n",
    "  N, M, mod = init()\n",
    "  if M == 1:\n",
    "    return 1\n",
    "  ans = 1\n",
    "  fact = factorize(M)\n",
    "  fact_dict = Counter(fact)\n",
    "  for _, val in fact_dict.items():\n",
    "    ans = ans * nCr(N+val-1, val) % mod\n",
    "  return ans\n",
    "\n",
    "if __name__ == \"__main__\":\n",
    "  ans = duplicate_dp()\n",
    "  print(ans)"
   ]
  },
  {
   "cell_type": "code",
   "execution_count": 2,
   "metadata": {},
   "outputs": [
    {
     "name": "stdout",
     "output_type": "stream",
     "text": [
      "4\n"
     ]
    }
   ],
   "source": [
    "from collections import Counter\n",
    "N,M = map(int,input().split())\n",
    "\n",
    "# 例外処理\n",
    "if M==1:\n",
    "  print(1)\n",
    "  exit()\n",
    "\n",
    "\n",
    "def factorize(n):\n",
    "  for i in range(2,int(n**0.5)+1):\n",
    "    if n%i==0:\n",
    "      return [i]+factorize(n//i)  \n",
    "  return [n]\n",
    "\n",
    "def nCr(n,r):\n",
    "  res = 1\n",
    "  # nCr の分子計算\n",
    "  for x in range(n,n-r,-1):\n",
    "    res *= x\n",
    "  # nCr の分母計算\n",
    "  for x in range(2,r+1):\n",
    "    res //= x\n",
    "  return res  \n",
    "\n",
    "mod = 10**9+7  \n",
    "factors = tuple(factorize(M))\n",
    "cnt = Counter(factors)\n",
    "\n",
    "res = 1\n",
    "for k,v in cnt.items():\n",
    "  res = res * nCr(N+v-1,v) % mod\n",
    "\n",
    "print(res)  "
   ]
  },
  {
   "cell_type": "code",
   "execution_count": 2,
   "metadata": {},
   "outputs": [
    {
     "name": "stdout",
     "output_type": "stream",
     "text": [
      "[2] 50\n",
      "[2] 25\n",
      "[5] 5\n",
      "[2, 2, 5, 5]\n"
     ]
    }
   ],
   "source": [
    "def factorize(n):\n",
    "  for i in range(2,int(n**0.5)+1):\n",
    "    if n%i==0:\n",
    "      print([i], n//i)\n",
    "      return [i]+factorize(n//i)  \n",
    "  return [n]\n",
    "\n",
    "print(factorize(100))"
   ]
  },
  {
   "cell_type": "code",
   "execution_count": null,
   "metadata": {},
   "outputs": [],
   "source": []
  }
 ],
 "metadata": {
  "interpreter": {
   "hash": "52ce370d13d9f3e7fec0c208e08f00abccec8be27c64f36722ecec456d801487"
  },
  "kernelspec": {
   "display_name": "Python 3.8.6 64-bit ('.venv_pn': venv)",
   "language": "python",
   "name": "python3"
  },
  "language_info": {
   "codemirror_mode": {
    "name": "ipython",
    "version": 3
   },
   "file_extension": ".py",
   "mimetype": "text/x-python",
   "name": "python",
   "nbconvert_exporter": "python",
   "pygments_lexer": "ipython3",
   "version": "3.8.6"
  },
  "orig_nbformat": 4
 },
 "nbformat": 4,
 "nbformat_minor": 2
}
