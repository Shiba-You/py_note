{
 "cells": [
  {
   "cell_type": "markdown",
   "metadata": {},
   "source": [
    "整数 N と M が与えられる時、整数 N を M 個の整数の積で表す方法は何通りあるでしょうか。\n",
    "その答えを 1,000,000,007 で割った余りを答えてください。"
   ]
  },
  {
   "cell_type": "markdown",
   "metadata": {},
   "source": [
    "https://atcoder.jp/contests/arc004/tasks/arc004_4"
   ]
  },
  {
   "cell_type": "markdown",
   "metadata": {},
   "source": [
    "Ex1:\n",
    "In  : 10 2\n",
    "Out : 8\n",
    "\n",
    "Ex2:\n",
    "In  : 1000000000 1\n",
    "Out : 1\n",
    "\n",
    "Ex3:\n",
    "In  : -2 3\n",
    "Out : 12\n",
    "\n",
    "Ex4:\n",
    "In  : 50 1000\n",
    "Out : 96554651"
   ]
  },
  {
   "cell_type": "markdown",
   "metadata": {},
   "source": [
    "# Bad Solution"
   ]
  },
  {
   "cell_type": "code",
   "execution_count": 20,
   "metadata": {},
   "outputs": [
    {
     "name": "stdout",
     "output_type": "stream",
     "text": [
      "Counter({5: 2, 2: 1})\n",
      "999993\n"
     ]
    }
   ],
   "source": [
    "from collections import Counter\n",
    "\n",
    "def init():\n",
    "  N, M = map(int, input().split())\n",
    "  mod = 10**9 + 7\n",
    "  return N, M, mod\n",
    "\n",
    "def factorization(n):\n",
    "  for i in range(2, int(n**0.5)+1):\n",
    "    if n%i == 0:\n",
    "      return [i] + factorization(n//i)\n",
    "  return [n]\n",
    "\n",
    "def nCr(n, r):\n",
    "  top = 1\n",
    "  bottom = 1\n",
    "  for x in range(n, n-r, -1):\n",
    "    top *= x\n",
    "  for x in range(r, 0, -1):\n",
    "    bottom *= x\n",
    "  return top / bottom\n",
    "\n",
    "def duplicate_dp():\n",
    "  N, M, mod = init()\n",
    "  primes = Counter(factorization(abs(N)))\n",
    "  ans = 1\n",
    "  for _, val in primes.items():\n",
    "    ans = ans * nCr(val+M-1, M-1) % mod\n",
    "  return int(ans*2) % mod\n",
    "\n",
    "if __name__ == \"__main__\":\n",
    "  ans = duplicate_dp()\n",
    "  print(ans)"
   ]
  },
  {
   "cell_type": "markdown",
   "metadata": {},
   "source": [
    "# Solution"
   ]
  },
  {
   "cell_type": "code",
   "execution_count": 41,
   "metadata": {},
   "outputs": [
    {
     "name": "stdout",
     "output_type": "stream",
     "text": [
      "9 1 Counter({2: 9, 5: 9})\n",
      "9 1 Counter({2: 9, 5: 9})\n",
      "1\n"
     ]
    }
   ],
   "source": [
    "from collections import Counter\n",
    "\n",
    "def init():\n",
    "  N, M = map(int, input().split())\n",
    "  mod = 10**9 + 7\n",
    "  return N, M, mod\n",
    "\n",
    "def factorization(n):\n",
    "  for i in range(2, int(pow(n, 0.5))+1):\n",
    "    if n%i == 0:\n",
    "      return [i] + factorization(n//i)\n",
    "  return [n]\n",
    "\n",
    "def make_mod_grid(n, mod):\n",
    "  #! fact       : nCk の        n! 部分を mod で割った数\n",
    "  #! inv        : nCk の     k!^-1 部分を mod で割った数\n",
    "  #! fact_inv   : nCk の (n-k)!^-1 部分を mod で割った数\n",
    "  fact = [1,1]\n",
    "  factinv = [1,1]\n",
    "  inv = [0,1]\n",
    "  for i in range(2,n+1):\n",
    "    fact.append((fact[-1]*i)%mod)\n",
    "    inv.append((-inv[mod%i]*(mod//i))%mod)\n",
    "    factinv.append((factinv[-1]*inv[-1])%mod)\n",
    "  return fact, factinv\n",
    "\n",
    "def duplicate_dp():\n",
    "  N, M, mod = init()\n",
    "  #! primes で素因数を列挙して， Counter メソッドでそれらの個数を辞書型に整形\n",
    "  primes = Counter(factorization(abs(N)))\n",
    "  #! M+10**3 をしているのは， Mが極端に少ない時， valの最大値 を補うため（素因数 1 を M だけ取れる）\n",
    "  #! ここで，　重複を許す配列 nCr の分子・分母の値を計算\n",
    "  fact, fact_inv = make_mod_grid(M+10**3, mod)\n",
    "  ans = 1\n",
    "  #! それぞれの素因数は互いに素であるから， それぞれの組み合わせの積が答えの通り数になる\n",
    "  for _, val in primes.items():\n",
    "    ans *= fact[M+val-1] * ((fact_inv[val] * fact_inv[M-1]) % mod) % mod\n",
    "  #! 全体の数列から負数を選ぶ通り数と，正数を選ぶ通り数は同じ（負が決まれば，正が自動的に決まるから）\n",
    "  #! 2**M-1 なのは， 最後の1つの数を正にするか負にするかで， 今回の N が正でも負でも対応するため．\n",
    "  minus = pow(2, M-1, mod)\n",
    "  return ans * minus % mod\n",
    "\n",
    "if __name__ == \"__main__\":\n",
    "  ans = duplicate_dp()\n",
    "  print(ans)"
   ]
  },
  {
   "cell_type": "code",
   "execution_count": 35,
   "metadata": {},
   "outputs": [
    {
     "name": "stdout",
     "output_type": "stream",
     "text": [
      "8\n"
     ]
    }
   ],
   "source": [
    "def init():\n",
    "  N, M = map(int, input().split())\n",
    "  mod = 10**9 + 7\n",
    "  return N, M, mod\n",
    "\n",
    "def factorization(n):\n",
    "  for i in range(2, int(pow(n, 0.5))+1):\n",
    "    if n%i == 0:\n",
    "      return [i] + factorization(n//i)\n",
    "  return [n]\n",
    "\n",
    "def make_mod_grid(n, mod):\n",
    "  fact = [1,1]\n",
    "  factinv = [1,1]\n",
    "  inv = [0,1]\n",
    "  for i in range(2,n+1):\n",
    "    fact.append((fact[-1]*i)%mod)\n",
    "    inv.append((-inv[mod%i]*(mod//i))%mod)\n",
    "    factinv.append((factinv[-1]*inv[-1])%mod)\n",
    "  return fact, factinv\n",
    "\n",
    "def duplicate_dp():\n",
    "  N, M, mod = init()\n",
    "  primes = Counter(factorization(abs(N)))\n",
    "  fact, fact_inv = make_mod_grid(M+1000, mod)\n",
    "  ans = 1\n",
    "  for _, val in primes.items():\n",
    "    ans *= fact[M+val-1] * ((fact_inv[val] * fact_inv[M-1]) % mod) % mod\n",
    "  minus = pow(2, M-1, mod)\n",
    "  return ans * minus % mod\n",
    "\n",
    "if __name__ == \"__main__\":\n",
    "  ans = duplicate_dp()\n",
    "  print(ans)"
   ]
  },
  {
   "cell_type": "code",
   "execution_count": null,
   "metadata": {},
   "outputs": [],
   "source": [
    "from math import factorial\n",
    "n,m = map(int,input().split())\n",
    "mod = 10**9+7\n",
    "nn = abs(n)\n",
    "\n",
    "def fact(n):\n",
    "  l = []\n",
    "  tmp = n\n",
    "  for i in range(2,int(pow(n,0.5))+1):\n",
    "    if tmp % i == 0:\n",
    "      cnt = 0\n",
    "      while tmp % i == 0:\n",
    "        cnt += 1\n",
    "        tmp //= i\n",
    "      l.append([i,cnt])\n",
    "  if tmp != 1:\n",
    "    l.append([tmp,1])\n",
    "  return l\n",
    "\n",
    "#nCk\n",
    "def com(n,mod):\n",
    "  fact = [1,1]\n",
    "  factinv = [1,1]\n",
    "  inv = [0,1]\n",
    "  for i in range(2,n+1):\n",
    "    fact.append((fact[-1]*i)%mod)\n",
    "    inv.append((-inv[mod%i]*(mod//i))%mod)\n",
    "    factinv.append((factinv[-1]*inv[-1])%mod)\n",
    "  return fact, factinv\n",
    "\n",
    "l = fact(nn)\n",
    "fact,factinv = com(m+1000,mod)\n",
    "case = 1\n",
    "for i,cnt in l:\n",
    "  case *= fact[cnt+m-1]%mod*factinv[cnt]%mod*factinv[m-1]%mod\n",
    "  case %= mod\n",
    "print(case%mod*pow(2,m-1,mod)%mod)"
   ]
  }
 ],
 "metadata": {
  "interpreter": {
   "hash": "4489a261b7a5b6598107f36a73574c6d46e8484a461ff141e656d1076672ceaf"
  },
  "kernelspec": {
   "display_name": "Python 3.8.6 64-bit ('.venv_pc': venv)",
   "language": "python",
   "name": "python3"
  },
  "language_info": {
   "codemirror_mode": {
    "name": "ipython",
    "version": 3
   },
   "file_extension": ".py",
   "mimetype": "text/x-python",
   "name": "python",
   "nbconvert_exporter": "python",
   "pygments_lexer": "ipython3",
   "version": "3.8.6"
  },
  "orig_nbformat": 4
 },
 "nbformat": 4,
 "nbformat_minor": 2
}
