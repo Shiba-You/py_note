{
 "cells": [
  {
   "cell_type": "markdown",
   "metadata": {},
   "source": [
    "新入社員の高橋君は、とある企業の新人プログラマーとして部署に配属されました。 高橋君が担当した初めての仕事は、以下の擬似コードで表されるプログラムを高速化するというものでした。\n",
    "```\n",
    "n←(標準入力)\n",
    "ans←0\n",
    "for i=1..n\n",
    "  for j=i..n\n",
    "    ans ← ans+1\n",
    "ansの値を表示\n",
    "```\n",
    "高橋君にかかってしまえばこんな仕事はお茶の子さいさいです。 各 i に対する内側のループ回数を考えて総和の公式を用いれば ans=n+n−1+…+1=n(n+1)/2 となり、これを用いればすぐ答えが出せます。\n",
    "劇的な高速化に成功した高橋君への部署からの期待は鰻登りです。そこで、上司は彼に更なる仕事を与えることにしました。\n",
    "その仕事内容は、以下のような for ループのネストの深さが k の場合におけるプログラムの高速化です。\n",
    "```\n",
    "n←(標準入力)\n",
    "k←(標準入力)\n",
    "ans←0\n",
    "for a_1=1..n\n",
    "  for a_2=a_1..n\n",
    "    for a_3=a_2..n\n",
    "      …\n",
    "      for a_k=a_{k-1}..n // a_0=1とする\n",
    "        ans ← ans+1\n",
    "ansの値を表示\n",
    "```\n",
    "さすがの高橋君もこれには少し悩みました。総和の公式が使えないからです。\n",
    "いろいろ考えてみたところ、このプログラムの出力する答えは 1≦a_1≦a_2≦…≦a_k≦n であるような整数の組 (a_1,a_2,…,a_k) の個数に等しいということに気づきました。 しかし、彼はそのようなものの個数を数える方法を思いつきませんでした。\n",
    "彼の同僚であるあなたは、彼の代わりにこの課題をこなすプログラムを作ってあげることにしました。 ただし、答えは非常に大きくなることがあるので、ans の代わりに ans を 1,000,000,007(=10^9+7) で割った余りを出力してください。"
   ]
  },
  {
   "cell_type": "markdown",
   "metadata": {},
   "source": [
    "https://atcoder.jp/contests/abc021/tasks/abc021_d"
   ]
  },
  {
   "cell_type": "markdown",
   "metadata": {},
   "source": [
    "Ex1:\n",
    "In  : 10\n",
    "      2\n",
    "Out : 55\n",
    "\n",
    "Ex2:\n",
    "In  : 10\n",
    "      3\n",
    "Out : 220\n",
    "\n",
    "Ex3:\n",
    "In  : 10\n",
    "      4 \n",
    "Out : 715\n",
    "\n",
    "Ex4:\n",
    "In  : 400\n",
    "      296\n",
    "Out : 546898535"
   ]
  },
  {
   "cell_type": "code",
   "execution_count": 30,
   "metadata": {},
   "outputs": [
    {
     "name": "stdout",
     "output_type": "stream",
     "text": [
      "21058295 396235995 847618664\n",
      "546898535\n"
     ]
    }
   ],
   "source": [
    "def powmod(a, b, m):\n",
    "  p = a\n",
    "  ans = 1\n",
    "  for i in range(31):\n",
    "    if b & (1<<i):\n",
    "      ans *= p\n",
    "      ans %= m\n",
    "    p *= p\n",
    "    p %= m\n",
    "  return ans\n",
    "\n",
    "\n",
    "if __name__ == '__main__':\n",
    "  mod = 10**9+7\n",
    "  n = int(input())\n",
    "  k = int(input())\n",
    "\n",
    "  fact = [1]\n",
    "  inv = [1]\n",
    "\n",
    "  for i in range(1, n+k):\n",
    "    res = fact[-1] * i % mod\n",
    "    fact.append(res)\n",
    "\n",
    "  for i in range(1, n+k):\n",
    "    res = powmod(fact[i], mod-2, mod)\n",
    "    inv.append(res)\n",
    "    \n",
    "  print(fact[n+k-1] * (inv[k]*inv[n-1] % mod) % mod)\n"
   ]
  },
  {
   "cell_type": "markdown",
   "metadata": {},
   "source": [
    "$\n",
    "nCk = \\frac{n!}{k! \\times (n-k)!}\n",
    "$\n",
    "これを使う"
   ]
  },
  {
   "cell_type": "code",
   "execution_count": 31,
   "metadata": {},
   "outputs": [
    {
     "name": "stdout",
     "output_type": "stream",
     "text": [
      "440\n"
     ]
    }
   ],
   "source": [
    "def init():\n",
    "  N = int(input())\n",
    "  K = int(input())\n",
    "  return N, K\n",
    "\n",
    "def make_mod_grid(n, k, mod):\n",
    "  #! fact       : nCk の        n! 部分を mod で割った数\n",
    "  #! inv        : nCk の     k!^-1 部分を mod で割った数\n",
    "  #! fact_inv   : nCk の (n-k)!^-1 部分を mod で割った数\n",
    "  C = n*k\n",
    "  fact = [1] * C\n",
    "  inv = [1] * C\n",
    "  fact_inv = [1] * C\n",
    "  for i in range(2, C):\n",
    "    fact[i] = fact[i-1] * i % mod\n",
    "    inv[i] = mod - inv[mod%i] * (mod//i) % mod\n",
    "    fact_inv[i] = fact_inv[i-1] * inv[i] % mod\n",
    "  return fact, inv, fact_inv\n",
    "\n",
    "def dp_duplicate():\n",
    "  N, K = init()\n",
    "  mod = 10**9+7\n",
    "  fact, inv, fact_inv = make_mod_grid(N, K, mod)\n",
    "  ans = fact[N+K-1] * (inv[K]*fact_inv[N-1] % mod) % mod\n",
    "  return ans\n",
    "\n",
    "if __name__ == \"__main__\":\n",
    "  ans = dp_duplicate()\n",
    "  print(ans)"
   ]
  },
  {
   "cell_type": "code",
   "execution_count": null,
   "metadata": {},
   "outputs": [],
   "source": []
  }
 ],
 "metadata": {
  "interpreter": {
   "hash": "98223c617856b67383633a04f77fd7d15637d9ba93f7da4834b5c234b7d1bd0e"
  },
  "kernelspec": {
   "display_name": "Python 3.8.6 64-bit ('3.8.6': pyenv)",
   "language": "python",
   "name": "python3"
  },
  "language_info": {
   "codemirror_mode": {
    "name": "ipython",
    "version": 3
   },
   "file_extension": ".py",
   "mimetype": "text/x-python",
   "name": "python",
   "nbconvert_exporter": "python",
   "pygments_lexer": "ipython3",
   "version": "3.8.6"
  },
  "orig_nbformat": 4
 },
 "nbformat": 4,
 "nbformat_minor": 2
}
