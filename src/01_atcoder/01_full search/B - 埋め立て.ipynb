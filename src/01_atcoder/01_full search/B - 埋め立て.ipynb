{
 "cells": [
  {
   "cell_type": "markdown",
   "metadata": {},
   "source": [
    "とある所に島国がありました。島国にはいくつかの島があります。このたび、この島国で埋め立て計画が立案されたのですが、どこを埋め立てるか決まっていません。できることなら埋め立てによって島を繋いで、1 つの島にしてしまいたいのですが、たくさん埋め立てるわけにもいきません。10 マス × 10 マスのこの島国の地図が与えられるので、1 マスを埋め立てた時に 1 つの島にできるか判定してください。ただし、地図で陸地を表すマスが上下左右につながっている領域のことを島と呼びます。"
   ]
  },
  {
   "cell_type": "markdown",
   "metadata": {},
   "source": [
    "https://atcoder.jp/contests/arc031/tasks/arc031_2"
   ]
  },
  {
   "cell_type": "markdown",
   "metadata": {},
   "source": [
    "Ex1:\n",
    "In  : xxxxxxxxxx\n",
    "      xoooooooxx\n",
    "      xxoooooxxx\n",
    "      xxxoooxxxx\n",
    "      xxxxoxxxxx\n",
    "      xxxxxxxxxx\n",
    "      xxxxoxxxxx\n",
    "      xxxoooxxxx\n",
    "      xxoooooxxx\n",
    "      xxxxxxxxxx\n",
    "Out : YES\n",
    "\n",
    "Ex2:\n",
    "In  : xxxxxxxxxx\n",
    "      xoooooooxx\n",
    "      xxoooooxxx\n",
    "      xxxoooxxxx\n",
    "      xxxxxxxxxx\n",
    "      xxxxxxxxxx\n",
    "      xxxxxxxxxx\n",
    "      xxxoooxxxx\n",
    "      xxoooooxxx\n",
    "      xxxxxxxxxx\n",
    "Out : NO\n",
    "\n",
    "Ex3:\n",
    "In  : xxxxoxxxxx\n",
    "      xxxxoxxxxx\n",
    "      xxxxoxxxxx\n",
    "      xxxxoxxxxx\n",
    "      ooooxooooo\n",
    "      xxxxoxxxxx\n",
    "      xxxxoxxxxx\n",
    "      xxxxoxxxxx\n",
    "      xxxxoxxxxx\n",
    "      xxxxoxxxxx\n",
    "Out : YES"
   ]
  },
  {
   "cell_type": "code",
   "execution_count": 2,
   "metadata": {},
   "outputs": [
    {
     "name": "stdout",
     "output_type": "stream",
     "text": [
      "[['x', 'x', 'x', 'x', 'x', 'x', 'x', 'x', 'x', 'x'], ['x', 'o', 'o', 'o', 'o', 'o', 'o', 'o', 'x', 'x'], ['x', 'x', 'o', 'o', 'o', 'o', 'o', 'x', 'x', 'x'], ['x', 'x', 'x', 'o', 'o', 'o', 'x', 'x', 'x', 'x'], ['x', 'x', 'x', 'x', 'x', 'x', 'x', 'x', 'x', 'x'], ['x', 'x', 'x', 'x', 'x', 'x', 'x', 'x', 'x', 'x'], ['x', 'x', 'x', 'x', 'x', 'x', 'x', 'x', 'x', 'x'], ['x', 'x', 'x', 'o', 'o', 'o', 'x', 'x', 'x', 'x'], ['x', 'x', 'x', 'o', 'o', 'o', 'x', 'x', 'x', 'x'], ['x', 'x', 'x', 'o', 'o', 'o', 'x', 'x', 'x', 'x']]\n",
      "NO\n"
     ]
    }
   ],
   "source": [
    "import sys\n",
    "import copy\n",
    "sys.setrecursionlimit(10**7)    # これがないと再帰関数の上限に引っかかってしまう\n",
    "\n",
    "def init():\n",
    "  grid = [list(input()) for _ in range(10)]\n",
    "  dirc = [[0, 1], [0, -1], [1, 0], [-1, 0]]\n",
    "  return grid, dirc\n",
    "\n",
    "def dfs(y, x):\n",
    "  tmp_grid[y][x] = \"x\"\n",
    "  for v, h in dirc:\n",
    "    neighbor_y = y + v\n",
    "    neighbor_x = x + h\n",
    "    if 0<=neighbor_y<limit and 0<=neighbor_x<limit and tmp_grid[neighbor_y][neighbor_x]==\"o\":\n",
    "      dfs(neighbor_y, neighbor_x)\n",
    "  return\n",
    "\n",
    "# まだ tmp_grid 内に o がいるかを確認\n",
    "# いたら False を返す\n",
    "def check():\n",
    "  for i in range(limit):\n",
    "    for j in range(limit):\n",
    "      if tmp_grid[i][j] == \"o\":\n",
    "        return False\n",
    "  return True\n",
    "\n",
    "if __name__ == \"__main__\":\n",
    "  grid, dirc = init()\n",
    "  limit = 10\n",
    "  # 新規に島を追加する座標を探す\n",
    "  for y in range(limit):\n",
    "    for x in range(limit):\n",
    "      tmp_grid = copy.deepcopy(grid)\n",
    "      dfs(y, x)\n",
    "      if check() == True:\n",
    "        print(\"YES\")\n",
    "        sys.exit()\n",
    "  print(\"NO\")"
   ]
  },
  {
   "cell_type": "code",
   "execution_count": 1,
   "metadata": {},
   "outputs": [
    {
     "name": "stdout",
     "output_type": "stream",
     "text": [
      "YES\n",
      "NO\n"
     ]
    }
   ],
   "source": [
    "import copy\n",
    "import sys\n",
    "sys.setrecursionlimit(10**7)\n",
    "\n",
    "A = [list(input()) for _ in range(10)]\n",
    "\n",
    "dx = [1,0,-1,0]\n",
    "dy = [0,1,0,-1]\n",
    "\n",
    "# 再帰関数\n",
    "def dfs(x, y):\n",
    "    temp_A[x][y] = 'x'\n",
    "    for k in range(4):\n",
    "        temp_x = x + dx[k]\n",
    "        temp_y = y + dy[k]\n",
    "        if 0 <= temp_x < 10 and 0 <= temp_y < 10 and temp_A[temp_x][temp_y] == 'o':\n",
    "            dfs(temp_x, temp_y)\n",
    "    return #つまり域外ならば何もしなくて終わる、域内でoならdfsを続ける\n",
    "        \n",
    "def check():\n",
    "    for p in range(10):\n",
    "        for q in range(10):\n",
    "            if temp_A[p][q] == \"o\":\n",
    "                return False #１つでもoが残っていればcheck Falseとなる、つまり全部に辿り着けたかのチェック\n",
    "    return True\n",
    "\n",
    "for p in range(10):\n",
    "    for q in range(10):\n",
    "        temp_A = copy.deepcopy(A)\n",
    "        dfs(p,q)\n",
    "        if check() == True:\n",
    "            print(\"YES\")\n",
    "            exit()\n",
    "print(\"NO\")\n"
   ]
  },
  {
   "cell_type": "code",
   "execution_count": 2,
   "metadata": {},
   "outputs": [
    {
     "name": "stdout",
     "output_type": "stream",
     "text": [
      "0 1\n",
      "0 -1\n",
      "1 0\n",
      "-1 0\n"
     ]
    }
   ],
   "source": [
    "# A = [['x', 'x', 'x', 'x', 'x', 'x', 'x', 'x', 'x', 'x'],\\\n",
    "#      ['x', 'o', 'o', 'o', 'o', 'o', 'o', 'o', 'x', 'x'],\\\n",
    "#      ['x', 'x', 'o', 'o', 'o', 'o', 'o', 'x', 'x', 'x'],\\\n",
    "#      ['x', 'x', 'x', 'o', 'o', 'o', 'x', 'x', 'x', 'x'],\\\n",
    "#      ['x', 'x', 'x', 'x', 'o', 'x', 'x', 'x', 'x', 'x'],\\\n",
    "#      ['x', 'x', 'x', 'x', 'x', 'x', 'x', 'x', 'x', 'x'],\\\n",
    "#      ['x', 'x', 'x', 'x', 'o', 'x', 'x', 'x', 'x', 'x'],\\\n",
    "#      ['x', 'x', 'x', 'o', 'o', 'o', 'x', 'x', 'x', 'x'],\\\n",
    "#      ['x', 'x', 'o', 'o', 'o', 'o', 'o', 'x', 'x', 'x'],\\\n",
    "#      ['x', 'x', 'x', 'x', 'x', 'x', 'x', 'x', 'x', 'x']]"
   ]
  },
  {
   "cell_type": "code",
   "execution_count": null,
   "metadata": {},
   "outputs": [],
   "source": []
  }
 ],
 "metadata": {
  "interpreter": {
   "hash": "52ce370d13d9f3e7fec0c208e08f00abccec8be27c64f36722ecec456d801487"
  },
  "kernelspec": {
   "display_name": "Python 3.8.6 64-bit ('.venv_pn': venv)",
   "language": "python",
   "name": "python3"
  },
  "language_info": {
   "codemirror_mode": {
    "name": "ipython",
    "version": 3
   },
   "file_extension": ".py",
   "mimetype": "text/x-python",
   "name": "python",
   "nbconvert_exporter": "python",
   "pygments_lexer": "ipython3",
   "version": "3.8.6"
  },
  "orig_nbformat": 4
 },
 "nbformat": 4,
 "nbformat_minor": 2
}
