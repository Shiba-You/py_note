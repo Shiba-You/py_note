{
 "cells": [
  {
   "cell_type": "markdown",
   "metadata": {},
   "source": [
    "プログラミングコンペティションサイト AtCode は、アルゴリズムの問題集を提供しています。 それぞれの問題には、難易度に応じて点数が付けられています。 現在、1 以上 D 以下のそれぞれの整数 i に対して、100i 点を付けられた問題が p_i 問存在します。 これらの p_1 + … + p_D 問が AtCode に収録された問題のすべてです。\n",
    "AtCode のユーザーは 総合スコア と呼ばれる値を持ちます。 ユーザーの総合スコアは、以下の 2 つの要素の和です。\n",
    "* 基本スコア: ユーザーが解いた問題すべての配点の合計です。\n",
    "* コンプリートボーナス: 100i 点を付けられた p_i 問の問題すべてを解いたユーザーは、基本スコアと別にコンプリートボーナス c_i点を獲得します (1≤i≤D)。\n",
    "AtCode の新たなユーザーとなった高橋くんは、まだ問題を 1 問も解いていません。 彼の目標は、総合スコアを G 点以上にすることです。 このためには、少なくとも何問の問題を解く必要があるでしょうか？"
   ]
  },
  {
   "cell_type": "markdown",
   "metadata": {},
   "source": [
    "https://atcoder.jp/contests/abc104/tasks/abc104_c"
   ]
  },
  {
   "cell_type": "markdown",
   "metadata": {},
   "source": [
    "Ex1:\n",
    "In  : 2 700\n",
    "      3 500\n",
    "      5 800\n",
    "Out : 3\n",
    "\n",
    "Ex2:\n",
    "In  : 2 2000\n",
    "      3 500\n",
    "      5 800\n",
    "Out : 7\n",
    "\n",
    "Ex3:\n",
    "In  : 2 400\n",
    "      3 500\n",
    "      5 800\n",
    "Out : 2\n",
    "\n",
    "Ex4:\n",
    "In  : 5 25000\n",
    "      20 1000\n",
    "      40 1000\n",
    "      50 1000\n",
    "      30 1000\n",
    "      1 1000\n",
    "Out : 66"
   ]
  },
  {
   "cell_type": "code",
   "execution_count": 11,
   "metadata": {},
   "outputs": [
    {
     "name": "stdout",
     "output_type": "stream",
     "text": [
      "2\n"
     ]
    }
   ],
   "source": [
    "def init():\n",
    "  d, g = map(int, input().split())\n",
    "  g //= 100\n",
    "  p = [0] * d\n",
    "  c = [0] * d\n",
    "  for i in range(d):\n",
    "    p[i], c[i] = map(int, input().split())\n",
    "    c[i] //= 100\n",
    "  return d, g, p, c\n",
    "\n",
    "def full_search(d, g, p, c):\n",
    "  ans = float(\"inf\")\n",
    "  for i in range(2**d):\n",
    "    pt = 0\n",
    "    cnt = 0\n",
    "    for j in range(d):\n",
    "      if ((i >> j) & 1):\n",
    "        pt += (j + 1) * p[j] + c[j]\n",
    "        cnt += p[j]\n",
    "    if pt < g:\n",
    "      rem = g - pt\n",
    "      for j in range(d):\n",
    "        if (not ((i >> j) & 1)):\n",
    "          tmp = ceil(rem / (j + 1))\n",
    "          if tmp <= p[j]:\n",
    "            ans = min(ans, cnt + tmp)\n",
    "    else:\n",
    "      ans = min(ans, cnt)\n",
    "  print(ans)\n",
    "\n",
    "\n",
    "if __name__ == \"__main__\":\n",
    "  d, g, p, c = init()\n",
    "  full_search(d, g, p, c)"
   ]
  },
  {
   "cell_type": "code",
   "execution_count": 6,
   "metadata": {},
   "outputs": [
    {
     "name": "stdout",
     "output_type": "stream",
     "text": [
      "i    :  0\n",
      "rem      :  7\n",
      "point    :  0\n",
      "tmp      :  7\n",
      "tmp      :  4\n",
      "ans      :  4\n",
      "i    :  1\n",
      "j    :  0\n",
      "point    :  8\n",
      "i    :  2\n",
      "j    :  1\n",
      "point    :  18\n",
      "i    :  3\n",
      "j    :  0\n",
      "point    :  8\n",
      "j    :  1\n",
      "point    :  26\n",
      "3\n"
     ]
    }
   ],
   "source": [
    "from math import ceil\n",
    " \n",
    "D, G = map(int, input().split())\n",
    "G //= 100\n",
    "P = [0] * D\n",
    "C = [0] * D\n",
    "for i in range(D):\n",
    "    P[i], C[i] = map(int, input().split())\n",
    "    C[i] = C[i] // 100\n",
    " \n",
    "ans = 10**7\n",
    "# bit全探索\n",
    "for i in range(2**D):\n",
    "    point = 0\n",
    "    cnt = 0\n",
    "    for j in range(D):\n",
    "        if ((i >> j) & 1):\n",
    "            point += (j + 1) * P[j] + C[j]\n",
    "            cnt += P[j]\n",
    "    if point < G:\n",
    "        rem = G - point\n",
    "        for j in range(D):\n",
    "            if (not ((i >> j) & 1)):\n",
    "                tmp = ceil(rem / (j + 1))\n",
    "                if tmp <= P[j]:\n",
    "                    ans = min(ans, cnt + tmp)\n",
    "    else:\n",
    "        ans = min(ans, cnt)\n",
    " \n",
    "print(ans)"
   ]
  },
  {
   "cell_type": "code",
   "execution_count": null,
   "metadata": {},
   "outputs": [],
   "source": []
  }
 ],
 "metadata": {
  "interpreter": {
   "hash": "52ce370d13d9f3e7fec0c208e08f00abccec8be27c64f36722ecec456d801487"
  },
  "kernelspec": {
   "display_name": "Python 3.8.6 64-bit ('.venv_pn': venv)",
   "language": "python",
   "name": "python3"
  },
  "language_info": {
   "codemirror_mode": {
    "name": "ipython",
    "version": 3
   },
   "file_extension": ".py",
   "mimetype": "text/x-python",
   "name": "python",
   "nbconvert_exporter": "python",
   "pygments_lexer": "ipython3",
   "version": "3.8.6"
  },
  "orig_nbformat": 4
 },
 "nbformat": 4,
 "nbformat_minor": 2
}
