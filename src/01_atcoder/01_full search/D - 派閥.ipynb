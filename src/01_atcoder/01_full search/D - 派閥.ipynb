{
 "cells": [
  {
   "cell_type": "markdown",
   "metadata": {},
   "source": [
    "神からの財産と、母音を取り戻した高橋くんは、AtCoder国の腐敗した政治を正すため、国会議員となろうと決めました。\n",
    "もともと人心掌握術とスピーチに定評があった高橋くんは、何の苦労をすることもなく当選しました。\n",
    "しかし、議員になってからが本番です。国を正すためには、首相に任命される必要があります。\n",
    "\n",
    "AtCoder国には高橋くんを除いて N 人の国会議員と、M 個の人間関係 (x, y) が存在します。\n",
    "人間関係 (x, y) とは、議員 x と議員 y が知り合いであることを意味します。\n",
    "高橋くんは N 人の議員から何人かを選んで派閥を作ろうと企んでいます。\n",
    "派閥に含まれるすべての議員は互いに知り合いでなければなりません。\n",
    "高橋くんが作成することができる最大の派閥に属する議員数を求めるプログラムを書いてください。"
   ]
  },
  {
   "cell_type": "markdown",
   "metadata": {},
   "source": [
    "https://atcoder.jp/contests/abc002/tasks/abc002_4"
   ]
  },
  {
   "cell_type": "markdown",
   "metadata": {},
   "source": [
    "Ex1:\n",
    "In  : 5 3\n",
    "      1 2\n",
    "      2 3\n",
    "      1 3\n",
    "Out : 3\n",
    "\n",
    "Ex2:\n",
    "In  : 5 3\n",
    "      1 2\n",
    "      2 3\n",
    "      3 4\n",
    "Out : 2\n",
    "\n",
    "Ex3:\n",
    "In  : 7 9\n",
    "      1 2\n",
    "      1 3\n",
    "      2 3\n",
    "      4 5\n",
    "      4 6\n",
    "      4 7\n",
    "      5 6\n",
    "      5 7\n",
    "      6 7\n",
    "Out : 4\n",
    "\n",
    "Ex4:\n",
    "In  : 12 0\n",
    "Out : 1"
   ]
  },
  {
   "cell_type": "code",
   "execution_count": 4,
   "metadata": {},
   "outputs": [
    {
     "name": "stdout",
     "output_type": "stream",
     "text": [
      "3\n"
     ]
    }
   ],
   "source": [
    "import itertools\n",
    "def init():\n",
    "  n, m = map(int, input().split())\n",
    "  xy = [[0]*(n+1) for _ in range(n+1)]  # n+1 * n+1 のマトリクスにそれぞれの人間関係を表現\n",
    "  for _ in range(m):\n",
    "    x, y = map(int, input().split())\n",
    "    xy[x][y] = 1                        # x と y の間に人間関係がある場合は 1, ない場合は 0 に する\n",
    "    xy[y][x] = 1\n",
    "  return n, xy\n",
    "\n",
    "def full_search(n, xy):\n",
    "  ans = 0\n",
    "  for bit in range(2**n):\n",
    "    group = []\n",
    "    for i in range(n):\n",
    "      if ((1 << i) & bit):\n",
    "        group.append(i + 1)             # ここで一度全場合を列挙しておく\n",
    "\n",
    "    flag = True\n",
    "    for j in itertools.combinations(group, 2):\n",
    "      if xy[j[0]][j[1]] == 0:           # 人間関係が一つでもない場合を検知して， すぐにフラグを false にして繰り返し処理を撤廃\n",
    "        flag = False\n",
    "        break\n",
    "\n",
    "    if flag:                            # もし全ての人間関係を満たすものがあれば， その group の長さを取得する\n",
    "      ans = max(ans, len(group))\n",
    "  print(ans)\n",
    "\n",
    "if __name__ == \"__main__\":\n",
    "  n, xy = init()\n",
    "  full_search(n, xy)"
   ]
  }
 ],
 "metadata": {
  "interpreter": {
   "hash": "52ce370d13d9f3e7fec0c208e08f00abccec8be27c64f36722ecec456d801487"
  },
  "kernelspec": {
   "display_name": "Python 3.8.6 64-bit ('.venv_pn': venv)",
   "language": "python",
   "name": "python3"
  },
  "language_info": {
   "codemirror_mode": {
    "name": "ipython",
    "version": 3
   },
   "file_extension": ".py",
   "mimetype": "text/x-python",
   "name": "python",
   "nbconvert_exporter": "python",
   "pygments_lexer": "ipython3",
   "version": "3.8.6"
  },
  "orig_nbformat": 4
 },
 "nbformat": 4,
 "nbformat_minor": 2
}
