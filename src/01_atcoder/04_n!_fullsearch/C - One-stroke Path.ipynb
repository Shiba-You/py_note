{
 "cells": [
  {
   "cell_type": "markdown",
   "metadata": {},
   "source": [
    "自己ループと二重辺を含まない N 頂点 M 辺の重み無し無向グラフが与えられます。\n",
    "i(1≦i≦M) 番目の辺は頂点 a_i と頂点 b_i を結びます。\n",
    "ここで、自己ループは a_i =b_i (1≦i≦M) となる辺のことを表します。\n",
    "また、二重辺は a_i =a_j かつ b_i =b_j\n",
    " (1≦i<j≦M) となる辺のことを表します。\n",
    "頂点 1 を始点として、全ての頂点を1度だけ訪れるパスは何通りありますか。\n",
    "ただし、パスの始点と終点の頂点も訪れたものとみなします。"
   ]
  },
  {
   "cell_type": "code",
   "execution_count": 1,
   "metadata": {},
   "outputs": [
    {
     "data": {
      "text/html": [
       "<img src=\"https://atcoder.jp/img/5013/888b2f55d46f66125a4ac25cd8cfc19a.png\"/>"
      ],
      "text/plain": [
       "<IPython.core.display.Image object>"
      ]
     },
     "execution_count": 1,
     "metadata": {},
     "output_type": "execute_result"
    }
   ],
   "source": [
    "from IPython.display import Image\n",
    "Image(url=\"https://atcoder.jp/img/5013/888b2f55d46f66125a4ac25cd8cfc19a.png\")"
   ]
  },
  {
   "cell_type": "code",
   "execution_count": 3,
   "metadata": {},
   "outputs": [
    {
     "data": {
      "text/html": [
       "<img src=\"https://atcoder.jp/img/5013/694eda4639f3f4608c9f0b38af1633d3.png\"/>"
      ],
      "text/plain": [
       "<IPython.core.display.Image object>"
      ]
     },
     "execution_count": 3,
     "metadata": {},
     "output_type": "execute_result"
    }
   ],
   "source": [
    "Image(url=\"https://atcoder.jp/img/5013/694eda4639f3f4608c9f0b38af1633d3.png\")"
   ]
  },
  {
   "cell_type": "markdown",
   "metadata": {},
   "source": [
    "https://atcoder.jp/contests/abc054/tasks/abc054_c"
   ]
  },
  {
   "cell_type": "markdown",
   "metadata": {},
   "source": [
    "Ex1:\n",
    "In  : 3 3\n",
    "      1 2\n",
    "      1 3\n",
    "      2 3\n",
    "Out : 2\n",
    "\n",
    "Ex2:\n",
    "In  : 7 7\n",
    "      1 3\n",
    "      2 7\n",
    "      3 4\n",
    "      4 5\n",
    "      4 6\n",
    "      5 6\n",
    "      6 7\n",
    "Out : 1"
   ]
  },
  {
   "cell_type": "code",
   "execution_count": 30,
   "metadata": {},
   "outputs": [
    {
     "name": "stdout",
     "output_type": "stream",
     "text": [
      "2\n"
     ]
    }
   ],
   "source": [
    "import itertools\n",
    "\n",
    "def init():\n",
    "  n, m = map(int, input().split())\n",
    "  mat = [[0 for _ in range(n)] for _ in range(n)]\n",
    "  for _ in range(m):\n",
    "    a, b = map(int, input().split())\n",
    "    mat[a-1][b-1] = mat[b-1][a-1] = 1\n",
    "  print(mat)\n",
    "  return n, mat\n",
    "\n",
    "def init_test():\n",
    "  n, m = 3, 3\n",
    "  mat = [[0, 1, 1], [1, 0, 1], [1, 1, 0]]\n",
    "  return n, mat\n",
    "\n",
    "def fullsearch():\n",
    "  n, mat = init()\n",
    "  # n, mat = init_test()\n",
    "  ans = 0\n",
    "  for p in itertools.permutations(range(n)):\n",
    "    flag = True\n",
    "    if p[0] != 0:\n",
    "      continue\n",
    "    for i in range(len(p)-1):\n",
    "      if mat[p[i]][p[i+1]] == 0:\n",
    "        flag = False\n",
    "        break\n",
    "    if flag:\n",
    "      ans += 1\n",
    "  return ans\n",
    "\n",
    "\n",
    "if __name__ == \"__main__\":\n",
    "  ans = fullsearch()\n",
    "  print(ans)"
   ]
  },
  {
   "cell_type": "code",
   "execution_count": 25,
   "metadata": {},
   "outputs": [
    {
     "name": "stdout",
     "output_type": "stream",
     "text": [
      "[[0, 0, 0, 0], [0, 0, 0, 0], [0, 0, 0, 0], [0, 0, 0, 0]]\n",
      "[[0, 0, 0, 0], [0, 0, 0, 0], [0, 0, 0, 0], [0, 0, 0, 0]]\n"
     ]
    },
    {
     "ename": "TypeError",
     "evalue": "'int' object is not iterable",
     "output_type": "error",
     "traceback": [
      "\u001b[0;31m---------------------------------------------------------------------------\u001b[0m",
      "\u001b[0;31mTypeError\u001b[0m                                 Traceback (most recent call last)",
      "\u001b[0;32m/var/folders/l7/dnzbj6q943sgblf4l8v6kmfc0000gn/T/ipykernel_38097/3328813981.py\u001b[0m in \u001b[0;36m<module>\u001b[0;34m\u001b[0m\n\u001b[1;32m      4\u001b[0m \u001b[0mmat\u001b[0m \u001b[0;34m=\u001b[0m \u001b[0;34m[\u001b[0m\u001b[0;34m[\u001b[0m\u001b[0;36m0\u001b[0m\u001b[0;34m]\u001b[0m \u001b[0;34m*\u001b[0m \u001b[0mm\u001b[0m\u001b[0;34m]\u001b[0m \u001b[0;34m*\u001b[0m \u001b[0mm\u001b[0m\u001b[0;34m\u001b[0m\u001b[0;34m\u001b[0m\u001b[0m\n\u001b[1;32m      5\u001b[0m \u001b[0mprint\u001b[0m\u001b[0;34m(\u001b[0m\u001b[0mmat\u001b[0m\u001b[0;34m)\u001b[0m\u001b[0;34m\u001b[0m\u001b[0;34m\u001b[0m\u001b[0m\n\u001b[0;32m----> 6\u001b[0;31m \u001b[0;32mfor\u001b[0m \u001b[0mi\u001b[0m \u001b[0;32min\u001b[0m \u001b[0mitertools\u001b[0m\u001b[0;34m.\u001b[0m\u001b[0mpermutations\u001b[0m\u001b[0;34m(\u001b[0m\u001b[0mm\u001b[0m\u001b[0;34m)\u001b[0m\u001b[0;34m:\u001b[0m\u001b[0;34m\u001b[0m\u001b[0;34m\u001b[0m\u001b[0m\n\u001b[0m\u001b[1;32m      7\u001b[0m   \u001b[0mprint\u001b[0m\u001b[0;34m(\u001b[0m\u001b[0mi\u001b[0m\u001b[0;34m)\u001b[0m\u001b[0;34m\u001b[0m\u001b[0;34m\u001b[0m\u001b[0m\n",
      "\u001b[0;31mTypeError\u001b[0m: 'int' object is not iterable"
     ]
    }
   ],
   "source": [
    "m = 4\n",
    "mat = [[0 for _ in range(m)] for _ in range(m)]\n",
    "print(mat)\n",
    "mat = [[0] * m] * m\n",
    "print(mat)\n",
    "for i in itertools.permutations(m):\n",
    "  print(i)"
   ]
  },
  {
   "cell_type": "code",
   "execution_count": null,
   "metadata": {},
   "outputs": [],
   "source": []
  }
 ],
 "metadata": {
  "interpreter": {
   "hash": "52ce370d13d9f3e7fec0c208e08f00abccec8be27c64f36722ecec456d801487"
  },
  "kernelspec": {
   "display_name": "Python 3.8.6 64-bit ('.venv_pn': venv)",
   "language": "python",
   "name": "python3"
  },
  "language_info": {
   "codemirror_mode": {
    "name": "ipython",
    "version": 3
   },
   "file_extension": ".py",
   "mimetype": "text/x-python",
   "name": "python",
   "nbconvert_exporter": "python",
   "pygments_lexer": "ipython3",
   "version": "3.8.6"
  },
  "orig_nbformat": 4
 },
 "nbformat": 4,
 "nbformat_minor": 2
}
