{
 "cells": [
  {
   "cell_type": "markdown",
   "metadata": {},
   "source": [
    "A君とB君はカードゲームが好きである。\n",
    "カードゲームは1から2*Nまでの数字が1つずつ書かれた2*N枚のカードで行う。\n",
    "A君とB君にはそれぞれN枚ずつカードが配られる。\n",
    "ゲームは簡単である。\n",
    "自由にカードを1枚出して数字の大きい方が1試合の勝ちである。\n",
    "試合で1度出したカードは2度使えない。\n",
    "全部でN試合し勝ち数が多いほうをゲームの勝ちとする。\n",
    "A君とB君の勝ち数が等しければゲームは引き分けとなる。\n",
    "カードはすでに配られた状態である。\n",
    "N試合が終わったときに、A君がゲームに勝つ確率を計算せよ。\n",
    "お互い思考性がなくランダムでカードを出すとする。"
   ]
  },
  {
   "cell_type": "markdown",
   "metadata": {},
   "source": [
    "https://yukicoder.me/problems/199"
   ]
  },
  {
   "cell_type": "markdown",
   "metadata": {},
   "source": [
    "Ex1:\n",
    "In  : 2\n",
    "      2 4\n",
    "      1 3\n",
    "Out : 0.5\n",
    "\n",
    "Ex2:\n",
    "In  : 2\n",
    "      3 4\n",
    "      1 2\n",
    "Out : 1\n",
    "\n",
    "Ex3:\n",
    "In  : 1\n",
    "      1\n",
    "      2\n",
    "Out : 0\n",
    "\n",
    "Ex4:\n",
    "In  : 3\n",
    "      6 2 3\n",
    "      1 5 4\n",
    "Out : 0.666667"
   ]
  },
  {
   "cell_type": "code",
   "execution_count": 18,
   "metadata": {},
   "outputs": [
    {
     "name": "stdout",
     "output_type": "stream",
     "text": [
      "0.5\n"
     ]
    }
   ],
   "source": [
    "from math import factorial\n",
    "import itertools\n",
    "\n",
    "def init():\n",
    "  n = int(input())\n",
    "  A = map(int, input().split())\n",
    "  A = list(itertools.permutations(A))\n",
    "  B = map(int, input().split())\n",
    "  B = list(itertools.permutations(B))\n",
    "  return A, B\n",
    "\n",
    "def fullsearch():\n",
    "  A, B = init()\n",
    "  win = 0\n",
    "  for a, b in itertools.product(A, B):\n",
    "    a_crt = 0\n",
    "    b_crt = 0\n",
    "    for _a, _b in zip(a, b):\n",
    "      if _b < _a:\n",
    "        a_crt += 1\n",
    "      else:\n",
    "        b_crt += 1\n",
    "    if b_crt < a_crt:\n",
    "      win += 1\n",
    "  ans = win / len(A)**2\n",
    "  return ans\n",
    "\n",
    "if __name__ == \"__main__\":\n",
    "  ans = fullsearch()\n",
    "  print(ans)"
   ]
  },
  {
   "cell_type": "code",
   "execution_count": 14,
   "metadata": {},
   "outputs": [],
   "source": [
    "A = map(int, input().split())\n",
    "A = list(itertools.permutations(A))\n",
    "B = map(int, input().split())\n",
    "B = list(itertools.permutations(B))"
   ]
  },
  {
   "cell_type": "code",
   "execution_count": 16,
   "metadata": {},
   "outputs": [
    {
     "name": "stdout",
     "output_type": "stream",
     "text": [
      "[(6, 2, 3), (6, 3, 2), (2, 6, 3), (2, 3, 6), (3, 6, 2), (3, 2, 6)]\n",
      "(6, 2, 3) (1, 5, 4)\n",
      "(6, 2, 3) (1, 4, 5)\n",
      "(6, 2, 3) (5, 1, 4)\n",
      "(6, 2, 3) (5, 4, 1)\n",
      "(6, 2, 3) (4, 1, 5)\n",
      "(6, 2, 3) (4, 5, 1)\n",
      "(6, 3, 2) (1, 5, 4)\n",
      "(6, 3, 2) (1, 4, 5)\n",
      "(6, 3, 2) (5, 1, 4)\n",
      "(6, 3, 2) (5, 4, 1)\n",
      "(6, 3, 2) (4, 1, 5)\n",
      "(6, 3, 2) (4, 5, 1)\n",
      "(2, 6, 3) (1, 5, 4)\n",
      "(2, 6, 3) (1, 4, 5)\n",
      "(2, 6, 3) (5, 1, 4)\n",
      "(2, 6, 3) (5, 4, 1)\n",
      "(2, 6, 3) (4, 1, 5)\n",
      "(2, 6, 3) (4, 5, 1)\n",
      "(2, 3, 6) (1, 5, 4)\n",
      "(2, 3, 6) (1, 4, 5)\n",
      "(2, 3, 6) (5, 1, 4)\n",
      "(2, 3, 6) (5, 4, 1)\n",
      "(2, 3, 6) (4, 1, 5)\n",
      "(2, 3, 6) (4, 5, 1)\n",
      "(3, 6, 2) (1, 5, 4)\n",
      "(3, 6, 2) (1, 4, 5)\n",
      "(3, 6, 2) (5, 1, 4)\n",
      "(3, 6, 2) (5, 4, 1)\n",
      "(3, 6, 2) (4, 1, 5)\n",
      "(3, 6, 2) (4, 5, 1)\n",
      "(3, 2, 6) (1, 5, 4)\n",
      "(3, 2, 6) (1, 4, 5)\n",
      "(3, 2, 6) (5, 1, 4)\n",
      "(3, 2, 6) (5, 4, 1)\n",
      "(3, 2, 6) (4, 1, 5)\n",
      "(3, 2, 6) (4, 5, 1)\n",
      "36\n"
     ]
    }
   ],
   "source": [
    "print(A)\n",
    "n = 0\n",
    "for a, b in itertools.product(A, B):\n",
    "  n += 1\n",
    "  print(a, b)\n",
    "print(n)\n",
    "# for b in B:\n",
    "#   print(b)\n",
    "# print(B)"
   ]
  },
  {
   "cell_type": "code",
   "execution_count": null,
   "metadata": {},
   "outputs": [],
   "source": []
  }
 ],
 "metadata": {
  "interpreter": {
   "hash": "52ce370d13d9f3e7fec0c208e08f00abccec8be27c64f36722ecec456d801487"
  },
  "kernelspec": {
   "display_name": "Python 3.8.6 64-bit ('.venv_pn': venv)",
   "language": "python",
   "name": "python3"
  },
  "language_info": {
   "codemirror_mode": {
    "name": "ipython",
    "version": 3
   },
   "file_extension": ".py",
   "mimetype": "text/x-python",
   "name": "python",
   "nbconvert_exporter": "python",
   "pygments_lexer": "ipython3",
   "version": "3.8.6"
  },
  "orig_nbformat": 4
 },
 "nbformat": 4,
 "nbformat_minor": 2
}
