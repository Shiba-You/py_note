{
 "cells": [
  {
   "cell_type": "markdown",
   "metadata": {},
   "source": [
    "太郎君はよく JOI 雑貨店で買い物をする．JOI 雑貨店には硬貨は 500 円，100 円，50 円，10 円，5 円，1 円が十分な数だけあり，いつも最も枚数が少なくなるようなおつりの支払い方をする．太郎君が JOI 雑貨店で買い物をしてレジで 1000 円札を 1 枚出した時，もらうおつりに含まれる硬貨の枚数を求めるプログラムを作成せよ．\n",
    "例えば入力例 1 の場合は下の図に示すように，4 を出力しなければならない．"
   ]
  },
  {
   "cell_type": "markdown",
   "metadata": {},
   "source": [
    "https://atcoder.jp/contests/joi2008yo/tasks/joi2008yo_a"
   ]
  },
  {
   "cell_type": "markdown",
   "metadata": {},
   "source": [
    "Ex1:\n",
    "In  : 380\n",
    "Out : 4\n",
    "\n",
    "Ex2:\n",
    "In  : 1\n",
    "Out : 15"
   ]
  },
  {
   "cell_type": "code",
   "execution_count": 2,
   "metadata": {},
   "outputs": [
    {
     "name": "stdout",
     "output_type": "stream",
     "text": [
      "15\n"
     ]
    }
   ],
   "source": [
    "def init():\n",
    "  rem = 1000 - int(input())\n",
    "  return rem\n",
    "\n",
    "def greedy():\n",
    "  rem = init()\n",
    "  ans = 0\n",
    "  coins = [500, 100, 50, 10, 5, 1]\n",
    "\n",
    "  for coin in coins:\n",
    "    crt = rem // coin\n",
    "    ans += crt\n",
    "    rem -= coin * crt\n",
    "  return ans\n",
    "\n",
    "if __name__ == \"__main__\":\n",
    "  ans = greedy()\n",
    "  print(ans)"
   ]
  },
  {
   "cell_type": "code",
   "execution_count": null,
   "metadata": {},
   "outputs": [],
   "source": []
  }
 ],
 "metadata": {
  "interpreter": {
   "hash": "52ce370d13d9f3e7fec0c208e08f00abccec8be27c64f36722ecec456d801487"
  },
  "kernelspec": {
   "display_name": "Python 3.8.6 64-bit ('.venv_pn': venv)",
   "language": "python",
   "name": "python3"
  },
  "language_info": {
   "codemirror_mode": {
    "name": "ipython",
    "version": 3
   },
   "file_extension": ".py",
   "mimetype": "text/x-python",
   "name": "python",
   "nbconvert_exporter": "python",
   "pygments_lexer": "ipython3",
   "version": "3.8.6"
  },
  "orig_nbformat": 4
 },
 "nbformat": 4,
 "nbformat_minor": 2
}
