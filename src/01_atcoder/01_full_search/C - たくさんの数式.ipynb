{
 "cells": [
  {
   "cell_type": "markdown",
   "metadata": {},
   "source": [
    "1 以上 9 以下の数字のみからなる文字列 S が与えられます。 この文字列の中で、あなたはこれら文字と文字の間のうち、いくつかの場所に + を入れることができます。 一つも入れなくてもかまいません。 ただし、+ が連続してはいけません。\n",
    "このようにして出来る全ての文字列を数式とみなし、和を計算することができます。\n",
    "ありうる全ての数式の値を計算し、その合計を出力してください。"
   ]
  },
  {
   "cell_type": "markdown",
   "metadata": {},
   "source": [
    "https://atcoder.jp/contests/arc061/tasks/arc061_a"
   ]
  },
  {
   "cell_type": "markdown",
   "metadata": {},
   "source": [
    "Ex1:\n",
    "In  : 125\n",
    "Out : 176\n",
    "Apd : 考えられる数式としては、 125、1+25、12+5、1+2+5 の 4 通りがあります。それぞれの数式を計算すると、\n",
    "      125\n",
    "      1+25=26\n",
    "      12+5=17\n",
    "      1+2+5=8\n",
    "      となり、これらの総和は 125+26+17+8=176 となります。\n",
    "\n",
    "Ex2:\n",
    "In  : 9999999999\n",
    "Out : 12656242944"
   ]
  },
  {
   "cell_type": "code",
   "execution_count": 26,
   "metadata": {},
   "outputs": [
    {
     "name": "stdout",
     "output_type": "stream",
     "text": [
      "176\n"
     ]
    }
   ],
   "source": [
    "def init():\n",
    "  s = list(input())\n",
    "  return s\n",
    "\n",
    "def fullSearch(s):\n",
    "  tmp, ans = 0, 0\n",
    "  n = len(s)\n",
    "  for i in range(2**(n-1)):\n",
    "    tmp = 0\n",
    "    for j in range(n):\n",
    "      tmp = int(str(tmp) + str(s[j]))\n",
    "      if ((i >> j) & 1):\n",
    "        ans += tmp\n",
    "        tmp = 0\n",
    "      else:\n",
    "        if j == n-1:\n",
    "          ans += tmp\n",
    "  return ans\n",
    "\n",
    "if __name__ == \"__main__\":\n",
    "  s = init()\n",
    "  ans = fullSearch(s)\n",
    "  print(ans)"
   ]
  },
  {
   "cell_type": "markdown",
   "metadata": {},
   "source": [
    "## Solution"
   ]
  },
  {
   "cell_type": "code",
   "execution_count": 25,
   "metadata": {},
   "outputs": [
    {
     "name": "stdout",
     "output_type": "stream",
     "text": [
      "i : 0\n",
      "i >> j : 0\n",
      "Case False\n",
      "tmp  : 1\n",
      "0\n",
      "i >> j : 0\n",
      "Case False\n",
      "tmp  : 12\n",
      "0\n",
      "i >> j : 0\n",
      "Case False\n",
      "tmp  : 123\n",
      "0\n",
      "i >> j : 0\n",
      "Case False\n",
      "tmp  : 1234\n",
      "1234\n",
      "i : 1\n",
      "i >> j : 1\n",
      "Case True\n",
      "tmp  : 1\n",
      "1235\n",
      "i >> j : 0\n",
      "Case False\n",
      "tmp  : 2\n",
      "1235\n",
      "i >> j : 0\n",
      "Case False\n",
      "tmp  : 23\n",
      "1235\n",
      "i >> j : 0\n",
      "Case False\n",
      "tmp  : 234\n",
      "1469\n",
      "i : 2\n",
      "i >> j : 2\n",
      "Case False\n",
      "tmp  : 1\n",
      "1469\n",
      "i >> j : 1\n",
      "Case True\n",
      "tmp  : 12\n",
      "1481\n",
      "i >> j : 0\n",
      "Case False\n",
      "tmp  : 3\n",
      "1481\n",
      "i >> j : 0\n",
      "Case False\n",
      "tmp  : 34\n",
      "1515\n",
      "i : 3\n",
      "i >> j : 3\n",
      "Case True\n",
      "tmp  : 1\n",
      "1516\n",
      "i >> j : 1\n",
      "Case True\n",
      "tmp  : 2\n",
      "1518\n",
      "i >> j : 0\n",
      "Case False\n",
      "tmp  : 3\n",
      "1518\n",
      "i >> j : 0\n",
      "Case False\n",
      "tmp  : 34\n",
      "1552\n",
      "i : 4\n",
      "i >> j : 4\n",
      "Case False\n",
      "tmp  : 1\n",
      "1552\n",
      "i >> j : 2\n",
      "Case False\n",
      "tmp  : 12\n",
      "1552\n",
      "i >> j : 1\n",
      "Case True\n",
      "tmp  : 123\n",
      "1675\n",
      "i >> j : 0\n",
      "Case False\n",
      "tmp  : 4\n",
      "1679\n",
      "i : 5\n",
      "i >> j : 5\n",
      "Case True\n",
      "tmp  : 1\n",
      "1680\n",
      "i >> j : 2\n",
      "Case False\n",
      "tmp  : 2\n",
      "1680\n",
      "i >> j : 1\n",
      "Case True\n",
      "tmp  : 23\n",
      "1703\n",
      "i >> j : 0\n",
      "Case False\n",
      "tmp  : 4\n",
      "1707\n",
      "i : 6\n",
      "i >> j : 6\n",
      "Case False\n",
      "tmp  : 1\n",
      "1707\n",
      "i >> j : 3\n",
      "Case True\n",
      "tmp  : 12\n",
      "1719\n",
      "i >> j : 1\n",
      "Case True\n",
      "tmp  : 3\n",
      "1722\n",
      "i >> j : 0\n",
      "Case False\n",
      "tmp  : 4\n",
      "1726\n",
      "i : 7\n",
      "i >> j : 7\n",
      "Case True\n",
      "tmp  : 1\n",
      "1727\n",
      "i >> j : 3\n",
      "Case True\n",
      "tmp  : 2\n",
      "1729\n",
      "i >> j : 1\n",
      "Case True\n",
      "tmp  : 3\n",
      "1732\n",
      "i >> j : 0\n",
      "Case False\n",
      "tmp  : 4\n",
      "1736\n",
      "1736\n"
     ]
    }
   ],
   "source": [
    "s = list(input())\n",
    "total = 0\n",
    "\n",
    "for i in range(2**(len(s)-1)):\n",
    "  print(\"i :\", i)\n",
    "  tmp = 0\n",
    "  for j in range(len(s)):\n",
    "    print(\"i >> j :\", i >> j)\n",
    "    if ((i >> j) & 1):\n",
    "      print(\"Case True\")\n",
    "      tmp = int(str(tmp)+str(s[j]))\n",
    "      print(\"tmp  :\", tmp)\n",
    "      total += tmp\n",
    "      tmp = 0\n",
    "    else:\n",
    "      print(\"Case False\")\n",
    "      tmp = int(str(tmp)+str(s[j]))\n",
    "      print(\"tmp  :\", tmp)\n",
    "      if j == len(s)-1:\n",
    "        total+= tmp\n",
    "    print(total)\n",
    "print(total)"
   ]
  },
  {
   "cell_type": "code",
   "execution_count": 33,
   "metadata": {},
   "outputs": [
    {
     "name": "stdout",
     "output_type": "stream",
     "text": [
      "true\n",
      "true\n",
      "false\n",
      "true\n",
      "false\n",
      "false\n"
     ]
    }
   ],
   "source": [
    "k = 10 # 0b1010\n",
    "for i in range(len(bin(k))):\n",
    "  if ((k >> i) & 1):\n",
    "    print(\"true\")\n",
    "  else:\n",
    "    print(\"false\")"
   ]
  },
  {
   "cell_type": "code",
   "execution_count": null,
   "metadata": {},
   "outputs": [],
   "source": [
    "n = int(input('n = '))\n",
    "for bit in range(1 < <  n):\n",
    "  b = []\n",
    "  for i in range(n):\n",
    "    if (bit & (1 < <  i)):\n",
    "      b.append('〇')\n",
    "    else:\n",
    "      b.append('×')\n",
    "  print(b)"
   ]
  },
  {
   "cell_type": "code",
   "execution_count": 56,
   "metadata": {},
   "outputs": [
    {
     "name": "stdout",
     "output_type": "stream",
     "text": [
      "bit: 00,  b: ['x', 'x', 'x', 'x']\n",
      "bit: 01,  b: ['○', 'x', 'x', 'x']\n",
      "bit: 02,  b: ['x', '○', 'x', 'x']\n",
      "bit: 03,  b: ['○', '○', 'x', 'x']\n",
      "bit: 04,  b: ['x', 'x', '○', 'x']\n",
      "bit: 05,  b: ['○', 'x', '○', 'x']\n",
      "bit: 06,  b: ['x', '○', '○', 'x']\n",
      "bit: 07,  b: ['○', '○', '○', 'x']\n",
      "bit: 08,  b: ['x', 'x', 'x', '○']\n",
      "bit: 09,  b: ['○', 'x', 'x', '○']\n",
      "bit: 10,  b: ['x', '○', 'x', '○']\n",
      "bit: 11,  b: ['○', '○', 'x', '○']\n",
      "bit: 12,  b: ['x', 'x', '○', '○']\n",
      "bit: 13,  b: ['○', 'x', '○', '○']\n",
      "bit: 14,  b: ['x', '○', '○', '○']\n",
      "bit: 15,  b: ['○', '○', '○', '○']\n"
     ]
    }
   ],
   "source": [
    "n = 4\n",
    "for bit in range(1 << n):     # 組み合わせは 2**n あるから, 1を左に n 回シフトさせてあげると表現できる\n",
    "  b = []\n",
    "  for i in range(n):\n",
    "    if ((1 << i) & bit):      # 注目する桁を1つずつずらして， それが 0 ~ 15 の２進数に対応する部分であれば True を返す\n",
    "      b.append(\"○\")\n",
    "    else:\n",
    "      b.append(\"x\")\n",
    "  print(\"bit: {:02d},  b: {}\".format(bit, b))"
   ]
  },
  {
   "cell_type": "code",
   "execution_count": 47,
   "metadata": {},
   "outputs": [
    {
     "name": "stdout",
     "output_type": "stream",
     "text": [
      "8\n"
     ]
    }
   ],
   "source": [
    "print(4 << 1)"
   ]
  },
  {
   "cell_type": "code",
   "execution_count": null,
   "metadata": {},
   "outputs": [],
   "source": []
  }
 ],
 "metadata": {
  "interpreter": {
   "hash": "52ce370d13d9f3e7fec0c208e08f00abccec8be27c64f36722ecec456d801487"
  },
  "kernelspec": {
   "display_name": "Python 3.8.6 64-bit ('.venv_pn': venv)",
   "language": "python",
   "name": "python3"
  },
  "language_info": {
   "codemirror_mode": {
    "name": "ipython",
    "version": 3
   },
   "file_extension": ".py",
   "mimetype": "text/x-python",
   "name": "python",
   "nbconvert_exporter": "python",
   "pygments_lexer": "ipython3",
   "version": "3.8.6"
  },
  "orig_nbformat": 4
 },
 "nbformat": 4,
 "nbformat_minor": 2
}
