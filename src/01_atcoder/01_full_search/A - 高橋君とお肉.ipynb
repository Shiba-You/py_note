{
 "cells": [
  {
   "cell_type": "markdown",
   "metadata": {},
   "source": [
    "高橋君は友達とキャンプに行くことになった。\n",
    "高橋君と友達は性能が同じである 2 個の肉焼き器を持っており、それぞれの肉焼き器にお肉を乗せて並行して焼くことができる。一旦肉焼き器にお肉を乗せたら、お肉が焼きあがるまではその肉焼き器からお肉を取り出したり、その肉焼き器に別のお肉を乗せたりはできない。お肉が焼けたらお肉を取り出すことができる。2 つの肉焼き器にまたがって 1 つのお肉を置くことはできない。また、お肉は全部で N 個あり、お肉には 1 から N まで番号が付けられている。お肉 i を焼くのには、どちらの肉焼き器でも時間 t_i だけかかる。お肉を肉焼き器に置く動作、取り出す動作には時間がかからない。\n",
    "高橋君はお肉を焼く係であり、N 個すべてのお肉を焼くことになった。みんなお腹が空いているので、すべてのお肉を焼くのにかかる時間を最小化させたい。\n",
    "すべてのお肉を焼くのにかかる時間の最小値を求めよ。"
   ]
  },
  {
   "cell_type": "markdown",
   "metadata": {},
   "source": [
    "https://atcoder.jp/contests/arc029/tasks/arc029_1"
   ]
  },
  {
   "cell_type": "markdown",
   "metadata": {},
   "source": [
    "Ex1:\n",
    "Im  : 4\n",
    "      4\n",
    "      6\n",
    "      7\n",
    "      10\n",
    "Out : 14\n",
    "\n",
    "Ex2:\n",
    "In  : 3\n",
    "      1\n",
    "      2\n",
    "      4\n",
    "Out : 4\n",
    "\n",
    "Ex3:\n",
    "In  : 1\n",
    "      29\n",
    "Out : 29"
   ]
  },
  {
   "cell_type": "code",
   "execution_count": 2,
   "metadata": {},
   "outputs": [
    {
     "name": "stdout",
     "output_type": "stream",
     "text": [
      "14\n"
     ]
    }
   ],
   "source": [
    "def init():\n",
    "  n = int(input())\n",
    "  s = [int(input()) for _ in range(n)]\n",
    "  return n, s\n",
    "\n",
    "def full_search(n, s):\n",
    "  diff = float(\"inf\")\n",
    "  for bit in range(2**n):\n",
    "    a, b = 0, 0\n",
    "    for i in range(n):\n",
    "      if (1 << i) & bit:\n",
    "        a += s[i]\n",
    "      else:\n",
    "        b += s[i]\n",
    "    if abs(a-b) < diff:\n",
    "      diff = abs(a-b)\n",
    "      t = max(a, b)\n",
    "  print(t)\n",
    "\n",
    "if __name__ == \"__main__\":\n",
    "  n, s = init()\n",
    "  full_search(n, s)"
   ]
  },
  {
   "cell_type": "code",
   "execution_count": null,
   "metadata": {},
   "outputs": [],
   "source": []
  }
 ],
 "metadata": {
  "interpreter": {
   "hash": "52ce370d13d9f3e7fec0c208e08f00abccec8be27c64f36722ecec456d801487"
  },
  "kernelspec": {
   "display_name": "Python 3.8.6 64-bit ('.venv_pn': venv)",
   "language": "python",
   "name": "python3"
  },
  "language_info": {
   "codemirror_mode": {
    "name": "ipython",
    "version": 3
   },
   "file_extension": ".py",
   "mimetype": "text/x-python",
   "name": "python",
   "nbconvert_exporter": "python",
   "pygments_lexer": "ipython3",
   "version": "3.8.6"
  },
  "orig_nbformat": 4
 },
 "nbformat": 4,
 "nbformat_minor": 2
}
