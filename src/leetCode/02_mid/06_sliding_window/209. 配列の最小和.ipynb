{
 "cells": [
  {
   "cell_type": "markdown",
   "metadata": {},
   "source": [
    "Given an array of positive integers nums and a positive integer target, return the minimal length of a contiguous subarray [numsl, numsl+1, ..., numsr-1, numsr] of which the sum is greater than or equal to target. If there is no such subarray, return 0 instead.\n",
    "\n",
    "正の整数numsの配列と正の整数targetが与えられると、合計がtarget以上となる連続した部分配列[numsl, numsl+1, ..., numsr-1, numsr]の最小長を返す。そのような部分配列がない場合は、代わりに0を返す。"
   ]
  },
  {
   "cell_type": "markdown",
   "metadata": {},
   "source": [
    "Ex1:\n",
    "Input: target = 7, nums = [2,3,1,2,4,3]\n",
    "Output: 2\n",
    "Explanation: The subarray [4,3] has the minimal length under the problem constraint.\n",
    "\n",
    "Ex2:\n",
    "Input: target = 4, nums = [1,4,4]\n",
    "Output: 1\n",
    "\n",
    "Ex3:\n",
    "Input: target = 11, nums = [1,1,1,1,1,1,1,1]\n",
    "Output: 0"
   ]
  },
  {
   "cell_type": "code",
   "execution_count": 46,
   "metadata": {},
   "outputs": [],
   "source": [
    "class Solution:\n",
    "  def minSubArrayLen(self, target, nums):\n",
    "    '''\n",
    "    :type     target  : int\n",
    "    :type     nums    : List[int]\n",
    "    :rtype            : int\n",
    "    '''  \n",
    "    left = 0\n",
    "    crt = 0\n",
    "    ans = float('inf')\n",
    "    for right in range(len(nums)):\n",
    "      crt += nums[right]\n",
    "      while crt >= target:\n",
    "        ans = min(right - left + 1, ans)\n",
    "        crt -= nums[left]\n",
    "        left += 1\n",
    "      print(\"crt : {}, left : {}, right : {}, ans : {}\".format(crt, left, right, ans))\n",
    "    return (ans, 0)[ans == float('inf')]"
   ]
  },
  {
   "cell_type": "code",
   "execution_count": null,
   "metadata": {},
   "outputs": [],
   "source": []
  }
 ],
 "metadata": {
  "interpreter": {
   "hash": "52ce370d13d9f3e7fec0c208e08f00abccec8be27c64f36722ecec456d801487"
  },
  "kernelspec": {
   "display_name": "Python 3.8.6 64-bit ('.venv_pn': venv)",
   "language": "python",
   "name": "python3"
  },
  "language_info": {
   "codemirror_mode": {
    "name": "ipython",
    "version": 3
   },
   "file_extension": ".py",
   "mimetype": "text/x-python",
   "name": "python",
   "nbconvert_exporter": "python",
   "pygments_lexer": "ipython3",
   "version": "3.8.6"
  },
  "orig_nbformat": 4
 },
 "nbformat": 4,
 "nbformat_minor": 2
}
