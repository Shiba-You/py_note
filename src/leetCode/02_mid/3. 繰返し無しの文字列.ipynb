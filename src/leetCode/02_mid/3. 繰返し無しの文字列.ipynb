{
 "cells": [
  {
   "cell_type": "markdown",
   "metadata": {},
   "source": [
    "Given a string s, find the length of the longest substring without repeating characters.\n",
    "\n",
    "文字列sが与えられたとき、文字を繰り返さない最長の部分文字列の長さを求める。"
   ]
  },
  {
   "cell_type": "markdown",
   "metadata": {},
   "source": [
    "Ex1:\n",
    "Input: s = \"abcabcbb\"\n",
    "Output: 3\n",
    "Explanation: The answer is \"abc\", with the length of 3.\n",
    "\n",
    "Ex2:\n",
    "Input: s = \"bbbbb\"\n",
    "Output: 1\n",
    "Explanation: The answer is \"b\", with the length of 1.\n",
    "\n",
    "Ex3:\n",
    "Input: s = \"pwwkew\"\n",
    "Output: 3\n",
    "Explanation: The answer is \"wke\", with the length of 3.\n",
    "Notice that the answer must be a substring, \"pwke\" is a subsequence and not a substring.\n",
    "\n",
    "Ex4:\n",
    "Input: s = \"\"\n",
    "Output: 0"
   ]
  },
  {
   "cell_type": "code",
   "execution_count": null,
   "metadata": {},
   "outputs": [],
   "source": [
    "class Solution:\n",
    "  def lengthOfLongestSubstring(self, s):\n",
    "    '''\n",
    "    :type   s   : string\n",
    "    :rtype      : int\n",
    "    '''  \n",
    "    dic = {}\n",
    "    res = 0\n",
    "    j = 0\n",
    "    for i in range(len(s)):\n",
    "      if s[i] in dic:\n",
    "        j = max(j, dic[s[i]]+1)\n",
    "      dic[s[i]] = i\n",
    "      res = max(res, i-j+1)\n",
    "    return res"
   ]
  }
 ],
 "metadata": {
  "language_info": {
   "name": "python"
  },
  "orig_nbformat": 4
 },
 "nbformat": 4,
 "nbformat_minor": 2
}
