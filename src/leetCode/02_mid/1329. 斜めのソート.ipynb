{
 "cells": [
  {
   "cell_type": "markdown",
   "metadata": {},
   "source": [
    "A matrix diagonal is a diagonal line of cells starting from some cell in either the topmost row or leftmost column and going in the bottom-right direction until reaching the matrix's end. For example, the matrix diagonal starting from mat[2][0], where mat is a 6 x 3 matrix, includes cells mat[2][0], mat[3][1], and mat[4][2].\n",
    "\n",
    "Given an m x n matrix mat of integers, sort each matrix diagonal in ascending order and return the resulting matrix.\n",
    "\n",
    "行列の対角線とは、最上段または最左段のいずれかのセルから始まり、右下方向に行列の最後に到達するまで続くセルの対角線です。例えば、mat[2][0]から始まる行列の対角線は、matを6×3の行列とすると、セルmat[2][0]、mat[3][1]、mat[4][2]を含みます。\n",
    "\n",
    "整数のm x n行列matが与えられた場合，各行列の対角線を昇順にソートし，その結果を返す．"
   ]
  },
  {
   "cell_type": "code",
   "execution_count": 1,
   "metadata": {},
   "outputs": [
    {
     "data": {
      "text/html": [
       "<img src=\"https://assets.leetcode.com/uploads/2020/01/21/1482_example_1_2.png\"/>"
      ],
      "text/plain": [
       "<IPython.core.display.Image object>"
      ]
     },
     "execution_count": 1,
     "metadata": {},
     "output_type": "execute_result"
    }
   ],
   "source": [
    "from IPython.display import Image\n",
    "Image(url=\"https://assets.leetcode.com/uploads/2020/01/21/1482_example_1_2.png\")"
   ]
  },
  {
   "cell_type": "markdown",
   "metadata": {},
   "source": [
    "Ex1:\n",
    "Input: mat = [[3,3,1,1],[2,2,1,2],[1,1,1,2]]\n",
    "Output: [[1,1,1,1],[1,2,2,2],[1,2,3,3]]\n",
    "\n",
    "Ex2:\n",
    "Input: mat =\n",
    "  [[11,25,66, 1,69, 7],\n",
    "   [23,55,17,45,15,52],\n",
    "   [75,31,36,44,58, 8],\n",
    "   [22,27,33,25,68, 4],\n",
    "   [84,28,14,11, 5,50]]\n",
    "Output: \n",
    "  [[ 5,17, 4, 1,52, 7],\n",
    "   [11,11,25,45, 8,69],\n",
    "   [14,23,25,44,58,15],\n",
    "   [22,27,31,36,50,66],\n",
    "   [84,28,75,33,55,68]]"
   ]
  },
  {
   "cell_type": "code",
   "execution_count": null,
   "metadata": {},
   "outputs": [],
   "source": [
    "from collections import defaultdict\n",
    "class Solution:\n",
    "  def diagonalSort(self, mat):\n",
    "    '''\n",
    "    :type     mat : List[List[int]]\n",
    "    :rtype        : List[List[int]]\n",
    "    '''  \n",
    "    h, w = len(mat), len(mat[0])\n",
    "    d = defaultdict(list)\n",
    "    for i in range(h):\n",
    "      for j in range(w):\n",
    "        d[j-i].append(mat[i][j])\n",
    "    for k in d:\n",
    "      d[k].sort(reverse=True)\n",
    "    for i in range(h):\n",
    "      for j in range(w):\n",
    "        mat[i][j] = d[j-i].pop()\n",
    "    return mat"
   ]
  },
  {
   "cell_type": "code",
   "execution_count": 6,
   "metadata": {},
   "outputs": [],
   "source": [
    "from collections import defaultdict\n",
    "class Solution:\n",
    "  def diagonalSort(self, A):\n",
    "    n, m = len(A), len(A[0])\n",
    "    d = defaultdict(list)\n",
    "    for i in range(n):\n",
    "      for j in range(m):\n",
    "        d[i - j].append(A[i][j])\n",
    "        # print(\"i: {}, j: {}\".format(i, j))\n",
    "        # print(d)\n",
    "    for k in d:\n",
    "      d[k].sort(reverse=1)\n",
    "      # print(\"k: {}\".format(k))\n",
    "      # print(d)\n",
    "    for i in range(n):\n",
    "      for j in range(m):\n",
    "        A[i][j] = d[i - j].pop()\n",
    "        print(\"i: {}, j: {}\".format(i, j))\n",
    "        print(\"A: \", A)\n",
    "        print(\"d: \", d)\n",
    "    return A"
   ]
  },
  {
   "cell_type": "code",
   "execution_count": 7,
   "metadata": {},
   "outputs": [
    {
     "name": "stdout",
     "output_type": "stream",
     "text": [
      "i: 0, j: 0\n",
      "A:  [[1, 3, 1, 1], [2, 2, 1, 2], [1, 1, 1, 2]]\n",
      "d:  defaultdict(<class 'list'>, {0: [3, 2], -1: [3, 2, 1], -2: [2, 1], -3: [1], 1: [2, 1], 2: [1]})\n",
      "i: 0, j: 1\n",
      "A:  [[1, 1, 1, 1], [2, 2, 1, 2], [1, 1, 1, 2]]\n",
      "d:  defaultdict(<class 'list'>, {0: [3, 2], -1: [3, 2], -2: [2, 1], -3: [1], 1: [2, 1], 2: [1]})\n",
      "i: 0, j: 2\n",
      "A:  [[1, 1, 1, 1], [2, 2, 1, 2], [1, 1, 1, 2]]\n",
      "d:  defaultdict(<class 'list'>, {0: [3, 2], -1: [3, 2], -2: [2], -3: [1], 1: [2, 1], 2: [1]})\n",
      "i: 0, j: 3\n",
      "A:  [[1, 1, 1, 1], [2, 2, 1, 2], [1, 1, 1, 2]]\n",
      "d:  defaultdict(<class 'list'>, {0: [3, 2], -1: [3, 2], -2: [2], -3: [], 1: [2, 1], 2: [1]})\n",
      "i: 1, j: 0\n",
      "A:  [[1, 1, 1, 1], [1, 2, 1, 2], [1, 1, 1, 2]]\n",
      "d:  defaultdict(<class 'list'>, {0: [3, 2], -1: [3, 2], -2: [2], -3: [], 1: [2], 2: [1]})\n",
      "i: 1, j: 1\n",
      "A:  [[1, 1, 1, 1], [1, 2, 1, 2], [1, 1, 1, 2]]\n",
      "d:  defaultdict(<class 'list'>, {0: [3], -1: [3, 2], -2: [2], -3: [], 1: [2], 2: [1]})\n",
      "i: 1, j: 2\n",
      "A:  [[1, 1, 1, 1], [1, 2, 2, 2], [1, 1, 1, 2]]\n",
      "d:  defaultdict(<class 'list'>, {0: [3], -1: [3], -2: [2], -3: [], 1: [2], 2: [1]})\n",
      "i: 1, j: 3\n",
      "A:  [[1, 1, 1, 1], [1, 2, 2, 2], [1, 1, 1, 2]]\n",
      "d:  defaultdict(<class 'list'>, {0: [3], -1: [3], -2: [], -3: [], 1: [2], 2: [1]})\n",
      "i: 2, j: 0\n",
      "A:  [[1, 1, 1, 1], [1, 2, 2, 2], [1, 1, 1, 2]]\n",
      "d:  defaultdict(<class 'list'>, {0: [3], -1: [3], -2: [], -3: [], 1: [2], 2: []})\n",
      "i: 2, j: 1\n",
      "A:  [[1, 1, 1, 1], [1, 2, 2, 2], [1, 2, 1, 2]]\n",
      "d:  defaultdict(<class 'list'>, {0: [3], -1: [3], -2: [], -3: [], 1: [], 2: []})\n",
      "i: 2, j: 2\n",
      "A:  [[1, 1, 1, 1], [1, 2, 2, 2], [1, 2, 3, 2]]\n",
      "d:  defaultdict(<class 'list'>, {0: [], -1: [3], -2: [], -3: [], 1: [], 2: []})\n",
      "i: 2, j: 3\n",
      "A:  [[1, 1, 1, 1], [1, 2, 2, 2], [1, 2, 3, 3]]\n",
      "d:  defaultdict(<class 'list'>, {0: [], -1: [], -2: [], -3: [], 1: [], 2: []})\n"
     ]
    },
    {
     "data": {
      "text/plain": [
       "[[1, 1, 1, 1], [1, 2, 2, 2], [1, 2, 3, 3]]"
      ]
     },
     "execution_count": 7,
     "metadata": {},
     "output_type": "execute_result"
    }
   ],
   "source": [
    "S = Solution()\n",
    "S.diagonalSort([[3,3,1,1],[2,2,1,2],[1,1,1,2]])"
   ]
  },
  {
   "cell_type": "code",
   "execution_count": 16,
   "metadata": {},
   "outputs": [
    {
     "name": "stdout",
     "output_type": "stream",
     "text": [
      "[2, 4, 6, 8, 1, -10, -4]\n",
      "[-10, -4, 1, 2, 4, 6, 8]\n"
     ]
    }
   ],
   "source": [
    "aa = [2,4,6,8,1,-10, -4]\n",
    "print(aa)\n",
    "aa.sort()\n",
    "print(aa)"
   ]
  },
  {
   "cell_type": "code",
   "execution_count": null,
   "metadata": {},
   "outputs": [],
   "source": []
  }
 ],
 "metadata": {
  "interpreter": {
   "hash": "52ce370d13d9f3e7fec0c208e08f00abccec8be27c64f36722ecec456d801487"
  },
  "kernelspec": {
   "display_name": "Python 3.8.6 64-bit ('.venv_pn': venv)",
   "language": "python",
   "name": "python3"
  },
  "language_info": {
   "codemirror_mode": {
    "name": "ipython",
    "version": 3
   },
   "file_extension": ".py",
   "mimetype": "text/x-python",
   "name": "python",
   "nbconvert_exporter": "python",
   "pygments_lexer": "ipython3",
   "version": "3.8.6"
  },
  "orig_nbformat": 4
 },
 "nbformat": 4,
 "nbformat_minor": 2
}
