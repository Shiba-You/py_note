{
 "cells": [
  {
   "cell_type": "markdown",
   "metadata": {},
   "source": [
    "Given an array of integers nums sorted in non-decreasing order, find the starting and ending position of a given target value.\n",
    "\n",
    "If target is not found in the array, return [-1, -1].\n",
    "\n",
    "You must write an algorithm with O(log n) runtime complexity.\n",
    "\n",
    "減らない順にソートされた整数 nums の配列が与えられたとき、与えられたターゲット値の開始位置と終了位置を見つける。\n",
    "\n",
    "目標値が配列中に見つからない場合は，[-1, -1]を返す．\n",
    "\n",
    "実行時間の複雑さがO(log n)のアルゴリズムを書かなければならない。"
   ]
  },
  {
   "cell_type": "markdown",
   "metadata": {},
   "source": [
    "Ex1:\n",
    "Input: nums = [5,7,7,8,8,10], target = 8\n",
    "Output: [3,4]\n",
    "\n",
    "Ex2:\n",
    "Input: nums = [5,7,7,8,8,10], target = 6\n",
    "Output: [-1,-1]\n",
    "\n",
    "Ex3:\n",
    "Input: nums = [], target = 0\n",
    "Output: [-1,-1]"
   ]
  },
  {
   "cell_type": "code",
   "execution_count": 27,
   "metadata": {},
   "outputs": [],
   "source": [
    "class Solution:\n",
    "  def searchRange(self, nums, target):\n",
    "    '''\n",
    "    :type   nums   : List[int]\n",
    "    :type   target : int\n",
    "    rtype            List[int]\n",
    "    '''\n",
    "    def serach_edge(nums, target, left):\n",
    "      low  = 0\n",
    "      high = len(nums)\n",
    "      while low < high:\n",
    "        mid = (low + high)//2\n",
    "        guess = nums[mid]\n",
    "        if guess == target:\n",
    "          if left:\n",
    "            high = mid\n",
    "          else:\n",
    "            low = mid + 1\n",
    "        elif guess < target:\n",
    "          low = mid + 1\n",
    "        elif guess > target:\n",
    "          high = mid\n",
    "      return low\n",
    "    if not nums:\n",
    "      return [-1, -1]\n",
    "    left_edge = serach_edge(nums, target, True)\n",
    "    right_edge = serach_edge(nums, target, False)\n",
    "    if 0 <= left_edge < len(nums) and nums[left_edge]==target:\n",
    "      return [left_edge, right_edge-1]\n",
    "    else:\n",
    "      return [-1,-1]"
   ]
  },
  {
   "cell_type": "code",
   "execution_count": 28,
   "metadata": {},
   "outputs": [
    {
     "name": "stdout",
     "output_type": "stream",
     "text": [
      "[3, 4]\n",
      "[-1, -1]\n",
      "[-1, -1]\n",
      "[0, 0]\n"
     ]
    }
   ],
   "source": [
    "S = Solution()\n",
    "\n",
    "nums = [5,7,7,8,8,10]; target = 8\n",
    "print(S.searchRange(nums, target))\n",
    "\n",
    "nums = [5,7,7,8,8,10]; target = 6\n",
    "print(S.searchRange(nums, target))\n",
    "\n",
    "nums = []; target = 0\n",
    "print(S.searchRange(nums, target))\n",
    "\n",
    "nums = [1]; target = 1\n",
    "print(S.searchRange(nums, target))"
   ]
  },
  {
   "cell_type": "code",
   "execution_count": null,
   "metadata": {},
   "outputs": [],
   "source": []
  }
 ],
 "metadata": {
  "interpreter": {
   "hash": "52ce370d13d9f3e7fec0c208e08f00abccec8be27c64f36722ecec456d801487"
  },
  "kernelspec": {
   "display_name": "Python 3.8.6 64-bit ('.venv_pn': venv)",
   "language": "python",
   "name": "python3"
  },
  "language_info": {
   "codemirror_mode": {
    "name": "ipython",
    "version": 3
   },
   "file_extension": ".py",
   "mimetype": "text/x-python",
   "name": "python",
   "nbconvert_exporter": "python",
   "pygments_lexer": "ipython3",
   "version": "3.8.6"
  },
  "orig_nbformat": 4
 },
 "nbformat": 4,
 "nbformat_minor": 2
}
