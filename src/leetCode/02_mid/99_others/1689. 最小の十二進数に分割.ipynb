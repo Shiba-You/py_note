{
 "cells": [
  {
   "cell_type": "markdown",
   "metadata": {},
   "source": [
    "A decimal number is called deci-binary if each of its digits is either 0 or 1 without any leading zeros. For example, 101 and 1100 are deci-binary, while 112 and 3001 are not.\n",
    "Given a string n that represents a positive decimal integer, return the minimum number of positive deci-binary numbers needed so that they sum up to n.\n",
    "\n",
    "10進数の各桁が0または1で、先頭にゼロがないものを12進数と呼びます。例えば、101と1100は2進法ですが、112と3001は2進法ではありません。\n",
    "10進数の正の整数を表す文字列nが与えられたとき、それらの合計がnになるために必要な正の10進数の最小数を返します。"
   ]
  },
  {
   "cell_type": "markdown",
   "metadata": {},
   "source": [
    "Ex1:\n",
    "Input: n = \"32\"\n",
    "Output: 3\n",
    "Explanation: 10 + 11 + 11 = 32\n",
    "\n",
    "Ex2:\n",
    "Input: n = \"82734\"\n",
    "Output: 8\n",
    "\n",
    "Ex3:\n",
    "Input: n = \"27346209830709182346\"\n",
    "Output: 9"
   ]
  },
  {
   "cell_type": "code",
   "execution_count": null,
   "metadata": {},
   "outputs": [],
   "source": [
    "class Solution:\n",
    "  def minPartitions(self, n: str) -> int:\n",
    "    '''\n",
    "    :type n:  str\n",
    "    :return int\n",
    "    '''\n",
    "    l_n = [int(i) for i in list(n)]\n",
    "    return max(l_n)"
   ]
  },
  {
   "cell_type": "code",
   "execution_count": 4,
   "metadata": {},
   "outputs": [
    {
     "name": "stdout",
     "output_type": "stream",
     "text": [
      "9\n"
     ]
    }
   ],
   "source": [
    "a = \"27346209830709182346\"\n",
    "l_n = [int(i) for i in list(a)]\n",
    "print(max(l_n))"
   ]
  },
  {
   "cell_type": "code",
   "execution_count": null,
   "metadata": {},
   "outputs": [],
   "source": []
  }
 ],
 "metadata": {
  "interpreter": {
   "hash": "52ce370d13d9f3e7fec0c208e08f00abccec8be27c64f36722ecec456d801487"
  },
  "kernelspec": {
   "display_name": "Python 3.8.6 64-bit ('.venv_pn': venv)",
   "name": "python3"
  },
  "language_info": {
   "codemirror_mode": {
    "name": "ipython",
    "version": 3
   },
   "file_extension": ".py",
   "mimetype": "text/x-python",
   "name": "python",
   "nbconvert_exporter": "python",
   "pygments_lexer": "ipython3",
   "version": "3.8.6"
  },
  "orig_nbformat": 4
 },
 "nbformat": 4,
 "nbformat_minor": 2
}
