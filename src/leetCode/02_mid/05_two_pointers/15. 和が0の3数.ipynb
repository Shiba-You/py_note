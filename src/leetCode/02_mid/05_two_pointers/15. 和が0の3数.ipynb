{
 "cells": [
  {
   "cell_type": "markdown",
   "metadata": {},
   "source": [
    "Given an integer array nums, return all the triplets [nums[i], nums[j], nums[k]] such that i != j, i != k, and j != k, and nums[i] + nums[j] + nums[k] == 0.\n",
    "\n",
    "Notice that the solution set must not contain duplicate triplets.\n",
    "\n",
    "整数配列numsが与えられたとき、i != j, i != k, and j != k, and nums[i] + nums[j] + nums[k] == 0となるすべての三つ組[nums[i], nums[j], nums[k]]を返します。\n",
    "\n",
    "なお、解答セットには重複した三つ子が含まれてはならない。"
   ]
  },
  {
   "cell_type": "markdown",
   "metadata": {},
   "source": [
    "Ex1:\n",
    "Input: nums = [-1,0,1,2,-1,-4]\n",
    "Output: [[-1,-1,2],[-1,0,1]]\n",
    "\n",
    "Ex2:\n",
    "Input: nums = []\n",
    "Output: []\n",
    "\n",
    "Ex3:\n",
    "Input: nums = [0]\n",
    "Output: []"
   ]
  },
  {
   "cell_type": "code",
   "execution_count": 14,
   "metadata": {},
   "outputs": [],
   "source": [
    "class Solution:\n",
    "  def threeSum(self, nums):\n",
    "    '''\n",
    "    :type     nums  : List[int]\n",
    "    :rtype          : List[List[int]]\n",
    "    '''\n",
    "    nums.sort()\n",
    "    N, result = len(nums), []\n",
    "    print(\"nums :\", nums)\n",
    "    for i in range(N):\n",
    "      if i > 0 and nums[i] == nums[i-1]:\n",
    "        continue\n",
    "      target = -1*nums[i]\n",
    "      s, e = i+1, N-1\n",
    "      while s < e:\n",
    "        print(\"i : {}, s : {}, e : {}\".format(i, s, e))\n",
    "        if nums[s] + nums[e] == target:\n",
    "          result.append([nums[i], nums[s], nums[e]])\n",
    "          print(result)\n",
    "          s += 1\n",
    "          while s < e and nums[s] == nums[s-1]:\n",
    "            s += 1\n",
    "        elif nums[s] + nums[e] < target:\n",
    "          s += 1\n",
    "        else:\n",
    "          e -= 1\n",
    "    return result"
   ]
  },
  {
   "cell_type": "code",
   "execution_count": null,
   "metadata": {},
   "outputs": [],
   "source": [
    "class Solution:\n",
    "  def threeSum(self, nums):\n",
    "    '''\n",
    "    :type     nums  : List[int]\n",
    "    :rtype          : List[List[int]]\n",
    "    '''\n",
    "    nums.sort()\n",
    "    N, result = len(nums), []\n",
    "    for i in range(N):\n",
    "      if i > 0 and nums[i] == nums[i-1]:\n",
    "        continue\n",
    "      target = -1*nums[i]\n",
    "      s, e = i+1, N-1\n",
    "      while s < e:\n",
    "        if nums[s] + nums[e] == target:\n",
    "          result.append([nums[i], nums[s], nums[e]])\n",
    "          s += 1\n",
    "          while s < e and nums[s] == nums[s-1]:\n",
    "            s += 1\n",
    "        elif nums[s] + nums[e] < target:\n",
    "          s += 1\n",
    "        else:\n",
    "          e -= 1\n",
    "    return result"
   ]
  },
  {
   "cell_type": "code",
   "execution_count": 15,
   "metadata": {},
   "outputs": [
    {
     "name": "stdout",
     "output_type": "stream",
     "text": [
      "nums : [-4, -1, -1, 0, 1, 2]\n",
      "i : 0, s : 1, e : 5\n",
      "i : 0, s : 2, e : 5\n",
      "i : 0, s : 3, e : 5\n",
      "i : 0, s : 4, e : 5\n",
      "i : 1, s : 2, e : 5\n",
      "[[-1, -1, 2]]\n",
      "i : 1, s : 3, e : 5\n",
      "i : 1, s : 3, e : 4\n",
      "[[-1, -1, 2], [-1, 0, 1]]\n",
      "i : 3, s : 4, e : 5\n"
     ]
    },
    {
     "data": {
      "text/plain": [
       "[[-1, -1, 2], [-1, 0, 1]]"
      ]
     },
     "execution_count": 15,
     "metadata": {},
     "output_type": "execute_result"
    }
   ],
   "source": [
    "s = Solution()\n",
    "s.threeSum([-1,0,1,2,-1,-4])"
   ]
  },
  {
   "cell_type": "code",
   "execution_count": null,
   "metadata": {},
   "outputs": [],
   "source": []
  }
 ],
 "metadata": {
  "interpreter": {
   "hash": "52ce370d13d9f3e7fec0c208e08f00abccec8be27c64f36722ecec456d801487"
  },
  "kernelspec": {
   "display_name": "Python 3.8.6 64-bit ('.venv_pn': venv)",
   "language": "python",
   "name": "python3"
  },
  "language_info": {
   "codemirror_mode": {
    "name": "ipython",
    "version": 3
   },
   "file_extension": ".py",
   "mimetype": "text/x-python",
   "name": "python",
   "nbconvert_exporter": "python",
   "pygments_lexer": "ipython3",
   "version": "3.8.6"
  },
  "orig_nbformat": 4
 },
 "nbformat": 4,
 "nbformat_minor": 2
}
