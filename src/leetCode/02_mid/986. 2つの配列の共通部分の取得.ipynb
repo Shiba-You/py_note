{
 "cells": [
  {
   "cell_type": "markdown",
   "metadata": {},
   "source": [
    "You are given two lists of closed intervals, firstList and secondList, where firstList[i] = [starti, endi] and secondList[j] = [startj, endj]. Each list of intervals is pairwise disjoint and in sorted order.\n",
    "Return the intersection of these two interval lists.\n",
    "A closed interval [a, b] (with a <= b) denotes the set of real numbers x with a <= x <= b.\n",
    "The intersection of two closed intervals is a set of real numbers that are either empty or represented as a closed interval. For example, the intersection of [1, 3] and [2, 4] is [2, 3].\n",
    "\n",
    "閉じたインターバルの2つのリスト、firstListとsecondListが与えられます。間隔の各リストは、ペアごとに離散しており、ソートされた順序になっています。\n",
    "これら2つの区間リストの交点を返す。\n",
    "閉じた区間[a, b] (with a <= b)は、a <= x <= bの実数xの集合を表す。\n",
    "2つの閉区間の交点は、空であるか、または閉区間として表される実数の集合である。例えば、[1, 3]と[2, 4]の交点は[2, 3]である。"
   ]
  },
  {
   "cell_type": "code",
   "execution_count": 4,
   "metadata": {},
   "outputs": [
    {
     "data": {
      "text/html": [
       "<img src=\"https://assets.leetcode.com/uploads/2019/01/30/interval1.png\" width=\"600\"/>"
      ],
      "text/plain": [
       "<IPython.core.display.Image object>"
      ]
     },
     "execution_count": 4,
     "metadata": {},
     "output_type": "execute_result"
    }
   ],
   "source": [
    "from IPython.display import Image\n",
    "Image(url=\"https://assets.leetcode.com/uploads/2019/01/30/interval1.png\", width=600)"
   ]
  },
  {
   "cell_type": "markdown",
   "metadata": {},
   "source": [
    "Ex1:\n",
    "Input: firstList = [[0,2],[5,10],[13,23],[24,25]], secondList = [[1,5],[8,12],[15,24],[25,26]]\n",
    "Output: [[1,2],[5,5],[8,10],[15,23],[24,24],[25,25]]\n",
    "\n",
    "Ex2:\n",
    "Input: firstList = [[1,3],[5,9]], secondList = []\n",
    "Output: []\n",
    "\n",
    "Ex3:\n",
    "Input: firstList = [], secondList = [[4,8],[10,12]]\n",
    "Output: []\n",
    "\n",
    "Ex4:\n",
    "Input: firstList = [[1,7]], secondList = [[3,10]]\n",
    "Output: [[3,7]]"
   ]
  },
  {
   "cell_type": "code",
   "execution_count": null,
   "metadata": {},
   "outputs": [],
   "source": [
    "class Solution:\n",
    "  def intervalIntersection(self, firstList, secondList):\n",
    "    '''\n",
    "    :type       firstList   : List[List[int]]\n",
    "    :type       secondList  : List[List[int]]\n",
    "    :rtype                  : List[List[int]]\n",
    "    '''\n",
    "    ans, f, s = [], 0, 0\n",
    "    while f < len(firstList) and s < len(secondList):\n",
    "      if firstList[f][0] <= secondList[s][1] and secondList[s][0] <= firstList[f][1]:\n",
    "        ans.append([max(firstList[f][0], secondList[s][0]), min(firstList[f][1], secondList[s][1])])\n",
    "      if firstList[f][1] < secondList[s][1]:\n",
    "        f += 1\n",
    "      else:\n",
    "        s += 1\n",
    "    return ans"
   ]
  },
  {
   "cell_type": "code",
   "execution_count": null,
   "metadata": {},
   "outputs": [],
   "source": []
  }
 ],
 "metadata": {
  "interpreter": {
   "hash": "52ce370d13d9f3e7fec0c208e08f00abccec8be27c64f36722ecec456d801487"
  },
  "kernelspec": {
   "display_name": "Python 3.8.6 64-bit ('.venv_pn': venv)",
   "language": "python",
   "name": "python3"
  },
  "language_info": {
   "codemirror_mode": {
    "name": "ipython",
    "version": 3
   },
   "file_extension": ".py",
   "mimetype": "text/x-python",
   "name": "python",
   "nbconvert_exporter": "python",
   "pygments_lexer": "ipython3",
   "version": "3.8.6"
  },
  "orig_nbformat": 4
 },
 "nbformat": 4,
 "nbformat_minor": 2
}
