{
 "cells": [
  {
   "cell_type": "markdown",
   "metadata": {},
   "source": [
    "Given two strings s1 and s2, return true if s2 contains a permutation of s1, or false otherwise.\n",
    "\n",
    "In other words, return true if one of s1's permutations is the substring of s2.\n",
    "\n",
    "2つの文字列s1とs2が与えられたとき、s2にs1の順列が含まれていればtrueを、そうでなければfalseを返します。\n",
    "\n",
    "言い換えると、s1の順列の1つがs2の部分文字列であれば真を返す。"
   ]
  },
  {
   "cell_type": "markdown",
   "metadata": {},
   "source": [
    "Ex1:\n",
    "Input: s1 = \"ab\", s2 = \"eidbaooo\"\n",
    "Output: true\n",
    "Explanation: s2 contains one permutation of s1 (\"ba\").\n",
    "\n",
    "Ex2:\n",
    "Input: s1 = \"ab\", s2 = \"eidboaoo\"\n",
    "Output: false"
   ]
  },
  {
   "cell_type": "markdown",
   "metadata": {},
   "source": [
    "### 悪い例"
   ]
  },
  {
   "cell_type": "markdown",
   "metadata": {},
   "source": [
    "これだと，考慮中の文字列に重複があるとエラーが起きる"
   ]
  },
  {
   "cell_type": "code",
   "execution_count": null,
   "metadata": {},
   "outputs": [],
   "source": [
    "class Solution:\n",
    "  def checkInclusion(self, s1, s2):\n",
    "    '''\n",
    "    :type   s1  : string\n",
    "    :type   s2  : string\n",
    "    :rtype      : booling\n",
    "    '''  \n",
    "    s1l = len(s1)\n",
    "    for i in range(len(s2)-(s1l-1)):\n",
    "      c = [s2[i+j] for j in range(s1l)]\n",
    "      ins_f = lambda x:x in c\n",
    "      if all(map(ins_f, (s1))):\n",
    "        return True\n",
    "    return False\n"
   ]
  },
  {
   "cell_type": "markdown",
   "metadata": {},
   "source": [
    "### 正解"
   ]
  },
  {
   "cell_type": "code",
   "execution_count": 15,
   "metadata": {},
   "outputs": [],
   "source": [
    "class Solution:\n",
    "  def checkInclusion(self, s1, s2):\n",
    "    A = [ord(x) - ord('a') for x in s1]   # ここでローマ字を　Unicode（数字）　に変換\n",
    "    B = [ord(x) - ord('a') for x in s2]   # ここでローマ字を　Unicode（数字）　に変換\n",
    "\n",
    "    target = [0] * 26\n",
    "    for x in A:\n",
    "      target[x] += 1                      # s1 の文字列がどの文字 （Unicode） の組み合わせかを one-hot で示す\n",
    "\n",
    "    window = [0] * 26\n",
    "    # print(\"A        : \", A)\n",
    "    # print(\"B        : \", B)\n",
    "    # print(\"target   : \", target)\n",
    "    for i, x in enumerate(B):\n",
    "      window[x] += 1                      # i番目の文字を　1　にする\n",
    "      if i >= len(A):\n",
    "        # print(\"1 i      : \", i)\n",
    "        window[B[i - len(A)]] -= 1        # もう考慮しない文字を 0 にする\n",
    "        # print(\"1 window : \", window)\n",
    "      if window == target:                # s1 と考慮中の文字列 （window） の整合性を確かめる\n",
    "        # print(\"2 window : \", window)\n",
    "        return True\n",
    "    return False"
   ]
  }
 ],
 "metadata": {
  "interpreter": {
   "hash": "52ce370d13d9f3e7fec0c208e08f00abccec8be27c64f36722ecec456d801487"
  },
  "kernelspec": {
   "display_name": "Python 3.8.6 64-bit ('.venv_pn': venv)",
   "language": "python",
   "name": "python3"
  },
  "language_info": {
   "codemirror_mode": {
    "name": "ipython",
    "version": 3
   },
   "file_extension": ".py",
   "mimetype": "text/x-python",
   "name": "python",
   "nbconvert_exporter": "python",
   "pygments_lexer": "ipython3",
   "version": "3.8.6"
  },
  "orig_nbformat": 4
 },
 "nbformat": 4,
 "nbformat_minor": 2
}
