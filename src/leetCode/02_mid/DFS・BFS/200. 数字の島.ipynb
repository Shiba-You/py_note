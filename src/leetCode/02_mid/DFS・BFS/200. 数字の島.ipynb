{
 "cells": [
  {
   "cell_type": "markdown",
   "metadata": {},
   "source": [
    "Given an m x n 2D binary grid grid which represents a map of '1's (land) and '0's (water), return the number of islands.\n",
    "An island is surrounded by water and is formed by connecting adjacent lands horizontally or vertically. You may assume all four edges of the grid are all surrounded by water.\n",
    "\n",
    "'1'（陸地）と'0'（水）の地図を表すm×nの2次元2進法グリッドが与えられたとき、島の数を返します。\n",
    "島は水に囲まれており、隣り合う土地を水平または垂直につなぐことで形成されます。碁盤の目の4辺がすべて水に囲まれていると仮定してもよい。"
   ]
  },
  {
   "cell_type": "markdown",
   "metadata": {},
   "source": [
    "Ex1:\n",
    "Input: grid = [\n",
    "  [\"1\",\"1\",\"1\",\"1\",\"0\"],\n",
    "  [\"1\",\"1\",\"0\",\"1\",\"0\"],\n",
    "  [\"1\",\"1\",\"0\",\"0\",\"0\"],\n",
    "  [\"0\",\"0\",\"0\",\"0\",\"0\"]\n",
    "]\n",
    "Output: 1\n",
    "\n",
    "Ex2:\n",
    "Input: grid = [\n",
    "  [\"1\",\"1\",\"0\",\"0\",\"0\"],\n",
    "  [\"1\",\"1\",\"0\",\"0\",\"0\"],\n",
    "  [\"0\",\"0\",\"1\",\"0\",\"0\"],\n",
    "  [\"0\",\"0\",\"0\",\"1\",\"1\"]\n",
    "]\n",
    "Output: 3"
   ]
  },
  {
   "cell_type": "code",
   "execution_count": 6,
   "metadata": {},
   "outputs": [],
   "source": [
    "class Solution:\n",
    "  def numIslands(self, grid):\n",
    "    '''\n",
    "    :type     grid  : List[List[str]]\n",
    "    :rtype          : int\n",
    "    '''  \n",
    "    h, w = len(grid), len(grid[0])\n",
    "    ans = 0\n",
    "    def dfs(grid, y, x):\n",
    "      if (x<0) or (y<0) or (w<=x) or (h<=y) or (grid[y][x]==\"0\"): return 0\n",
    "      grid[y][x] = \"0\"\n",
    "      dfs(grid, y-1,   x) #　上\n",
    "      dfs(grid, y+1,   x) #　下\n",
    "      dfs(grid,   y, x-1) #　左\n",
    "      dfs(grid,   y, x+1) #　右\n",
    "      return 1\n",
    "\n",
    "    for i in range(h):\n",
    "      for j in range(w):\n",
    "        if grid[i][j] == \"0\": continue\n",
    "        print(grid)\n",
    "        ans += dfs(grid, i, j)\n",
    "    return ans\n",
    "        "
   ]
  },
  {
   "cell_type": "code",
   "execution_count": null,
   "metadata": {},
   "outputs": [],
   "source": []
  }
 ],
 "metadata": {
  "interpreter": {
   "hash": "52ce370d13d9f3e7fec0c208e08f00abccec8be27c64f36722ecec456d801487"
  },
  "kernelspec": {
   "display_name": "Python 3.8.6 64-bit ('.venv_pn': venv)",
   "language": "python",
   "name": "python3"
  },
  "language_info": {
   "codemirror_mode": {
    "name": "ipython",
    "version": 3
   },
   "file_extension": ".py",
   "mimetype": "text/x-python",
   "name": "python",
   "nbconvert_exporter": "python",
   "pygments_lexer": "ipython3",
   "version": "3.8.6"
  },
  "orig_nbformat": 4
 },
 "nbformat": 4,
 "nbformat_minor": 2
}
