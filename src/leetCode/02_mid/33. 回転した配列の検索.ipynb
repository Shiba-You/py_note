{
 "cells": [
  {
   "cell_type": "markdown",
   "metadata": {},
   "source": [
    "There is an integer array nums sorted in ascending order (with distinct values).\n",
    "\n",
    "Prior to being passed to your function, nums is possibly rotated at an unknown pivot index k (1 <= k < nums.length) such that the resulting array is [nums[k], nums[k+1], ..., nums[n-1], nums[0], nums[1], ..., nums[k-1]] (0-indexed). For example, [0,1,2,4,5,6,7] might be rotated at pivot index 3 and become [4,5,6,7,0,1,2].\n",
    "\n",
    "Given the array nums after the possible rotation and an integer target, return the index of target if it is in nums, or -1 if it is not in nums.\n",
    "\n",
    "You must write an algorithm with O(log n) runtime complexity.\n",
    "\n",
    "昇順でソートされた（値が明確な）整数配列 nums があります。\n",
    "\n",
    "あなたの関数に渡される前に、numsは未知のピボットインデックスk（1 <= k < nums.length）で回転している可能性があり、結果として配列は [nums[k], nums[k+1], ..., nums[n-1], nums[0], nums[1], ..., nums[k-1]] となります。(0-indexed)となります。例えば，[0,1,2,4,5,6,7]をピボットインデックス3で回転させて，[4,5,6,7,0,1,2]とすることができる．\n",
    "\n",
    "回転後の配列numsと整数のtargetが与えられたとき，targetのインデックスがnumsの中にあればそれを返し，numsの中になければ-1を返す．\n",
    "\n",
    "実行時の複雑さがO(log n)のアルゴリズムを書かなければならない。"
   ]
  },
  {
   "cell_type": "markdown",
   "metadata": {},
   "source": [
    "Ex1:\n",
    "Input: nums = [4,5,6,7,0,1,2], target = 0\n",
    "Output: 4\n",
    "\n",
    "Ex2:\n",
    "Input: nums = [4,5,6,7,0,1,2], target = 3\n",
    "Output: -1\n",
    "\n",
    "Ex3:\n",
    "Input: nums = [1], target = 0\n",
    "Output: -1"
   ]
  },
  {
   "cell_type": "code",
   "execution_count": null,
   "metadata": {},
   "outputs": [],
   "source": [
    "class Solution:\n",
    "  def search(self, nums, target):\n",
    "    '''\n",
    "    :type     nums    : List[int]\n",
    "    :type     target  : int\n",
    "    :rtype            : int\n",
    "    '''\n",
    "    low = 0\n",
    "    high = len(nums)-1\n",
    "    while low <= high:\n",
    "      mid = (low+high)//2\n",
    "      print(\"low: {}, high: {}, mid: {}\".format(low, high, mid))\n",
    "      if nums[mid] == target:\n",
    "        return mid\n",
    "      elif target < nums[mid]:         # target <= mid\n",
    "        if nums[low] <= nums[mid]:      # mid は左, target はどちらかわからない\n",
    "          if nums[low] <= target:       # mid は左,　　target は右\n",
    "            low = mid+1\n",
    "          else:                         # mid は左, target も左\n",
    "            high = mid-1\n",
    "        else:                           # 全部右\n",
    "          high = mid-1\n",
    "      else:                             # mid < target\n",
    "        if nums[mid] <= nums[high]:     # mid は右, target はわからん\n",
    "          if target <= nums[high]:      # mid < target <= nums[high]　target は右\n",
    "            low = mid+1\n",
    "          else:                         # low < target, mid < high target は左\n",
    "            high = mid-1\n",
    "        else:                           # mid は左, targetも左\n",
    "          low = mid+1\n",
    "    return -1\n",
    "\n"
   ]
  },
  {
   "cell_type": "markdown",
   "metadata": {},
   "source": [
    "#### Solution "
   ]
  },
  {
   "cell_type": "code",
   "execution_count": null,
   "metadata": {},
   "outputs": [],
   "source": [
    "class Solution:\n",
    "    def search(self, nums, target):\n",
    "        \"\"\"\n",
    "        :type nums: List[int]\n",
    "        :type target: int\n",
    "        :rtype: int\n",
    "        \"\"\"\n",
    "        if not nums:\n",
    "            return -1\n",
    "        i = 0\n",
    "        j = len(nums)-1\n",
    "        while i < j:\n",
    "            mid = i + (j-i) // 2\n",
    "            if nums[mid] == target:\n",
    "                return mid\n",
    "            if nums[i] == target:\n",
    "                return i\n",
    "            if nums[j] == target:\n",
    "                return j\n",
    "            elif nums[mid] > target:\n",
    "                if target > nums[i]:\n",
    "                    j = mid-1\n",
    "                else:\n",
    "                    if nums[mid] >= nums[i]:\n",
    "                        i = mid+1\n",
    "                    else:\n",
    "                        j = mid-1\n",
    "            else:\n",
    "                if target < nums[i]:\n",
    "                    i = mid+1\n",
    "                else:\n",
    "                    if nums[mid] >= nums[i]:\n",
    "                        i = mid+1\n",
    "                    else:\n",
    "                        j = mid-1\n",
    "        if nums[i] == target:\n",
    "            return i\n",
    "        return -1"
   ]
  }
 ],
 "metadata": {
  "language_info": {
   "name": "python"
  },
  "orig_nbformat": 4
 },
 "nbformat": 4,
 "nbformat_minor": 2
}
