{
 "cells": [
  {
   "cell_type": "markdown",
   "metadata": {},
   "source": [
    "Given n non-negative integers a1, a2, ..., an , where each represents a point at coordinate (i, ai). n vertical lines are drawn such that the two endpoints of the line i is at (i, ai) and (i, 0). Find two lines, which, together with the x-axis forms a container, such that the container contains the most water.\n",
    "Notice that you may not slant the container.\n",
    "\n",
    "n 個の非負の整数 a1, a2, ..., an が与えられ、それぞれが座標 (i, ai) の点を表す。X軸と合わせて容器を形成する2本の直線を求め、その容器が最も多くの水を含むようにする。\n",
    "なお、容器を斜めにしてはいけません。"
   ]
  },
  {
   "cell_type": "code",
   "execution_count": 3,
   "metadata": {},
   "outputs": [
    {
     "data": {
      "text/html": [
       "<img src=\"https://s3-lc-upload.s3.amazonaws.com/uploads/2018/07/17/question_11.jpg\" width=\"600\"/>"
      ],
      "text/plain": [
       "<IPython.core.display.Image object>"
      ]
     },
     "execution_count": 3,
     "metadata": {},
     "output_type": "execute_result"
    }
   ],
   "source": [
    "from IPython.display import Image\n",
    "Image(url=\"https://s3-lc-upload.s3.amazonaws.com/uploads/2018/07/17/question_11.jpg\", width=600)"
   ]
  },
  {
   "cell_type": "markdown",
   "metadata": {},
   "source": [
    "Ex1:\n",
    "Input: height = [1,8,6,2,5,4,8,3,7]\n",
    "Output: 49\n",
    "Explanation: The above vertical lines are represented by array [1,8,6,2,5,4,8,3,7]. In this case, the max area of water (blue section) the container can contain is 49.\n",
    "\n",
    "Ex2:\n",
    "Input: height = [1,1]\n",
    "Output: 1\n",
    "\n",
    "Ex3:\n",
    "Input: height = [4,3,2,1,4]\n",
    "Output: 16\n",
    "\n",
    "Ex4:\n",
    "Input: height = [1,2,1]\n",
    "Output: 2"
   ]
  },
  {
   "cell_type": "code",
   "execution_count": null,
   "metadata": {},
   "outputs": [],
   "source": [
    "class Solution:\n",
    "  def maxArea(self, height):\n",
    "    '''\n",
    "    :type       height  : List[int]\n",
    "    :rtype              : int\n",
    "    '''  \n",
    "    ans, N = 0, len(height)\n",
    "    for i in range(N):\n",
    "      for j in range(i, N):\n",
    "        ans = max(abs(i-j)*min(height[i],height[j]), ans)\n",
    "    return ans  # Run Time Error"
   ]
  },
  {
   "cell_type": "code",
   "execution_count": 6,
   "metadata": {},
   "outputs": [],
   "source": [
    "class Solution:\n",
    "  def maxArea(self, height):\n",
    "    '''\n",
    "    :type       height  : List[int]\n",
    "    :rtype              : int\n",
    "    '''  \n",
    "    ans = 0\n",
    "    max_width = len(height)-1\n",
    "    left, right = 0, max_width\n",
    "    for width in range(max_width, 0, -1):\n",
    "      if height[left] < height[right]:\n",
    "        ans = max(width*height[left], ans)\n",
    "        left += 1\n",
    "      else:\n",
    "        ans = max(width*height[right], ans)\n",
    "        right -= 1\n",
    "    return ans"
   ]
  },
  {
   "cell_type": "code",
   "execution_count": null,
   "metadata": {},
   "outputs": [],
   "source": []
  }
 ],
 "metadata": {
  "interpreter": {
   "hash": "52ce370d13d9f3e7fec0c208e08f00abccec8be27c64f36722ecec456d801487"
  },
  "kernelspec": {
   "display_name": "Python 3.8.6 64-bit ('.venv_pn': venv)",
   "language": "python",
   "name": "python3"
  },
  "language_info": {
   "codemirror_mode": {
    "name": "ipython",
    "version": 3
   },
   "file_extension": ".py",
   "mimetype": "text/x-python",
   "name": "python",
   "nbconvert_exporter": "python",
   "pygments_lexer": "ipython3",
   "version": "3.8.6"
  },
  "orig_nbformat": 4
 },
 "nbformat": 4,
 "nbformat_minor": 2
}
