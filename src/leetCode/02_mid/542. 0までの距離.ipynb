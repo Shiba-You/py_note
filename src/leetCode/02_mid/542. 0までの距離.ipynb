{
 "cells": [
  {
   "cell_type": "markdown",
   "metadata": {},
   "source": [
    "Given an m x n binary matrix mat, return the distance of the nearest 0 for each cell.\n",
    "\n",
    "The distance between two adjacent cells is 1.\n",
    "\n",
    "m×nのバイナリ行列matが与えられたとき、各セルに最も近い0の距離を返す。\n",
    "\n",
    "隣接する2つのセル間の距離は1です。"
   ]
  },
  {
   "cell_type": "code",
   "execution_count": 3,
   "metadata": {},
   "outputs": [
    {
     "data": {
      "text/html": [
       "<img src=\"https://assets.leetcode.com/uploads/2021/04/24/01-1-grid.jpg\" width=\"300\" height=\"300\"/>"
      ],
      "text/plain": [
       "<IPython.core.display.Image object>"
      ]
     },
     "execution_count": 3,
     "metadata": {},
     "output_type": "execute_result"
    }
   ],
   "source": [
    "from IPython.display import Image\n",
    "Image(url=\"https://assets.leetcode.com/uploads/2021/04/24/01-1-grid.jpg\", width = 300, height = 300)"
   ]
  },
  {
   "cell_type": "markdown",
   "metadata": {},
   "source": [
    "Ex1:\n",
    "Input: mat = [[0,0,0],[0,1,0],[0,0,0]]\n",
    "Output: [[0,0,0],[0,1,0],[0,0,0]]"
   ]
  },
  {
   "cell_type": "code",
   "execution_count": 4,
   "metadata": {},
   "outputs": [
    {
     "data": {
      "text/html": [
       "<img src=\"https://assets.leetcode.com/uploads/2021/04/24/01-2-grid.jpg\" width=\"300\" height=\"300\"/>"
      ],
      "text/plain": [
       "<IPython.core.display.Image object>"
      ]
     },
     "execution_count": 4,
     "metadata": {},
     "output_type": "execute_result"
    }
   ],
   "source": [
    "from IPython.display import Image\n",
    "Image(url=\"https://assets.leetcode.com/uploads/2021/04/24/01-2-grid.jpg\", width = 300, height = 300)"
   ]
  },
  {
   "cell_type": "markdown",
   "metadata": {},
   "source": [
    "Ex2:\n",
    "Input: mat = [[0,0,0],[0,1,0],[1,1,1]]\n",
    "Output: [[0,0,0],[0,1,0],[1,2,1]]"
   ]
  },
  {
   "cell_type": "code",
   "execution_count": null,
   "metadata": {},
   "outputs": [],
   "source": [
    "from collections import deque\n",
    "\n",
    "class Solution:\n",
    "  def updateMatrix(self, mat):\n",
    "    '''\n",
    "    :type   mat : List[List[int]]\n",
    "    rtype       : List[List[int]]\n",
    "    '''\n",
    "    dirs = [[-1,0],[1,0],[0,-1],[0,1]]\n",
    "    m, n = len(mat), len(mat[0])\n",
    "    q = deque([])\n",
    "    res = [[-1 for _ in range(n)] for _ in range(m)]\n",
    "\n",
    "    for i in range(m):\n",
    "      for j in range(n):\n",
    "        if mat[i][j] == 0:\n",
    "          q.append((i, j))\n",
    "          res[i][j] = 0\n",
    "    \n",
    "    while q:\n",
    "      cr, cc = q.popleft()\n",
    "      for i, j in dirs:\n",
    "        nr, nc = cr+i, cc+j\n",
    "        if (0<=nr<m) and (0<=nc<n) and (res[nr][nc]==-1):\n",
    "          res[nr][nc] = res[cr][cc] + 1\n",
    "          q.append((nr, nc))\n",
    "    return res\n"
   ]
  },
  {
   "cell_type": "code",
   "execution_count": null,
   "metadata": {},
   "outputs": [],
   "source": []
  }
 ],
 "metadata": {
  "interpreter": {
   "hash": "52ce370d13d9f3e7fec0c208e08f00abccec8be27c64f36722ecec456d801487"
  },
  "kernelspec": {
   "display_name": "Python 3.8.6 64-bit ('.venv_pn': venv)",
   "language": "python",
   "name": "python3"
  },
  "language_info": {
   "codemirror_mode": {
    "name": "ipython",
    "version": 3
   },
   "file_extension": ".py",
   "mimetype": "text/x-python",
   "name": "python",
   "nbconvert_exporter": "python",
   "pygments_lexer": "ipython3",
   "version": "3.8.6"
  },
  "orig_nbformat": 4
 },
 "nbformat": 4,
 "nbformat_minor": 2
}
