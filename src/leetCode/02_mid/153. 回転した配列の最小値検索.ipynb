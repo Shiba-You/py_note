{
 "cells": [
  {
   "cell_type": "markdown",
   "metadata": {},
   "source": [
    "Suppose an array of length n sorted in ascending order is rotated between 1 and n times. For example, the array nums = [0,1,2,4,5,6,7] might become:\n",
    "\n",
    "[4,5,6,7,0,1,2] if it was rotated 4 times.\n",
    "[0,1,2,4,5,6,7] if it was rotated 7 times.\n",
    "Notice that rotating an array [a[0], a[1], a[2], ..., a[n-1]] 1 time results in the array [a[n-1], a[0], a[1], a[2], ..., a[n-2]].\n",
    "\n",
    "Given the sorted rotated array nums of unique elements, return the minimum element of this array.\n",
    "\n",
    "You must write an algorithm that runs in O(log n) time.\n",
    "\n",
    "昇順にソートされた長さnの配列を1回からn回まで回転させたとします。例えば、配列nums = [0,1,2,4,5,6,7]は、4回回転させると\n",
    "\n",
    "例えば，配列nums = [0,1,2,4,5,6,7]を4回回転させると，[4,5,6,7,0,1,2]となる。\n",
    "7回回転させると[0,1,2,4,5,6,7]となります。\n",
    "配列[a[0], a[1], a[2], ..., a[n-1]]を1回転させると 配列[a[n-1], a[0], a[1], a[2], ..., a[n-2]]を1回回転させると、配列[a[n-1], a[0], a[1], a[2], ..., a[n-2]]になります。\n",
    "\n",
    "ユニークな要素を持つソートされた回転配列numsが与えられたとき，この配列の最小要素を返しなさい．\n",
    "\n",
    "O(log n)時間で実行されるアルゴリズムを書かなければならない．"
   ]
  },
  {
   "cell_type": "markdown",
   "metadata": {},
   "source": [
    "Ex1:\n",
    "Input: nums = [3,4,5,1,2]\n",
    "Output: 1\n",
    "Explanation: The original array was [1,2,3,4,5] rotated 3 times.\n",
    "\n",
    "Ex2:\n",
    "Input: nums = [4,5,6,7,0,1,2]\n",
    "Output: 0\n",
    "Explanation: The original array was [0,1,2,4,5,6,7] and it was rotated 4 times.\n",
    "\n",
    "Ex3:\n",
    "Input: nums = [11,13,15,17]\n",
    "Output: 11\n",
    "Explanation: The original array was [11,13,15,17] and it was rotated 4 times. "
   ]
  },
  {
   "cell_type": "code",
   "execution_count": 31,
   "metadata": {},
   "outputs": [],
   "source": [
    "class Solution:\n",
    "  def findMin(self, nums):\n",
    "    '''\n",
    "    :type     nums  : List[int]\n",
    "    :rtype          : int\n",
    "    '''\n",
    "    l, r = 0, len(nums)-1\n",
    "    while l < r:\n",
    "      m = (l+r)//2\n",
    "      if nums[r] < nums[m]:\n",
    "        l = m+1\n",
    "      else:\n",
    "        r = m\n",
    "    return nums[l]"
   ]
  },
  {
   "cell_type": "code",
   "execution_count": 27,
   "metadata": {},
   "outputs": [],
   "source": [
    "class Solution:\n",
    "  # @param num, a list of integer\n",
    "  # @return an integer\n",
    "  def findMin(self, num):\n",
    "    first, last = 0, len(num) - 1\n",
    "    while first < last:\n",
    "      midpoint = (first + last) // 2\n",
    "      if num[midpoint] > num[last]:\n",
    "        first = midpoint + 1\n",
    "      else:\n",
    "        last = midpoint\n",
    "    return num[first]"
   ]
  },
  {
   "cell_type": "code",
   "execution_count": null,
   "metadata": {},
   "outputs": [],
   "source": []
  }
 ],
 "metadata": {
  "interpreter": {
   "hash": "52ce370d13d9f3e7fec0c208e08f00abccec8be27c64f36722ecec456d801487"
  },
  "kernelspec": {
   "display_name": "Python 3.8.6 64-bit ('.venv_pn': venv)",
   "language": "python",
   "name": "python3"
  },
  "language_info": {
   "codemirror_mode": {
    "name": "ipython",
    "version": 3
   },
   "file_extension": ".py",
   "mimetype": "text/x-python",
   "name": "python",
   "nbconvert_exporter": "python",
   "pygments_lexer": "ipython3",
   "version": "3.8.6"
  },
  "orig_nbformat": 4
 },
 "nbformat": 4,
 "nbformat_minor": 2
}
