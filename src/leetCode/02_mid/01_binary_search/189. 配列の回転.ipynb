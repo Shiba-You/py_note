{
 "cells": [
  {
   "cell_type": "markdown",
   "metadata": {},
   "source": [
    "Given an array, rotate the array to the right by k steps, where k is non-negative.\n",
    "\n",
    "配列を与える．右側に k ステップだけ回転させろ．ただし，k は非負数である．"
   ]
  },
  {
   "cell_type": "markdown",
   "metadata": {},
   "source": [
    "Ex1:\n",
    "Input: nums = [1,2,3,4,5,6,7], k = 3\n",
    "Output: [5,6,7,1,2,3,4]\n",
    "Explanation:\n",
    "rotate 1 steps to the right: [7,1,2,3,4,5,6]\n",
    "rotate 2 steps to the right: [6,7,1,2,3,4,5]\n",
    "rotate 3 steps to the right: [5,6,7,1,2,3,4]\n",
    "\n",
    "Ex2:\n",
    "Input: nums = [-1,-100,3,99], k = 2\n",
    "Output: [3,99,-1,-100]\n",
    "Explanation: \n",
    "rotate 1 steps to the right: [99,-1,-100,3]\n",
    "rotate 2 steps to the right: [3,99,-1,-100]"
   ]
  },
  {
   "cell_type": "code",
   "execution_count": null,
   "metadata": {},
   "outputs": [],
   "source": [
    "class Solution:\n",
    "  def rotate(self, nums: List[int], k: int) -> None:\n",
    "    \"\"\"\n",
    "    Do not return anything, modify nums in-place instead.\n",
    "    :type   nums  : List[int]\n",
    "    :type   k     : int\n",
    "    rtype         : None\n",
    "    \"\"\"\n",
    "    k %= len(nums)\n",
    "    nums = nums[-k:] + nums[:-k]\n",
    "    # nums[:] = [nums[i-k] for i in range(len(nums))]"
   ]
  },
  {
   "cell_type": "code",
   "execution_count": 53,
   "metadata": {},
   "outputs": [],
   "source": [
    "a1, a2, a3 = 1, 2, 3\n",
    "b = {\"b1\": 11, \"b2\": 12}\n",
    "c = 21\n",
    "a = [a1,a2,a3]\n",
    "l1 = [a, b, c]\n",
    "# l1 = [[[ 1, 2, 3],\n",
    "#        [11,12,13],\n",
    "#        [21,22,23]],\n",
    "#       [101,102,103],\n",
    "#       1001]"
   ]
  },
  {
   "cell_type": "code",
   "execution_count": 54,
   "metadata": {},
   "outputs": [
    {
     "name": "stdout",
     "output_type": "stream",
     "text": [
      "====== 変化前 ======\n",
      "l1 : [[1, 2, 3], {'b1': 11, 'b2': 12}, 21] 4364006016\n",
      "l2 : [[1, 2, 3], {'b1': 11, 'b2': 12}, 21] 4364006016\n",
      "l3 : [[1, 2, 3], {'b1': 11, 'b2': 12}, 21] 4364385280\n",
      "4314793504 4314793536\n",
      "4314793504 4314793536\n",
      "4314793504 4314793536\n",
      "4364493056 4364493056 4364493056\n",
      "4364493056 4364493056 4364415808\n",
      "====== 変化後 ======\n",
      "l1 : [[1, 2, 3], {'b1': 100, 'b2': 101}, 21] 4364006016\n",
      "l2 : [[1, 2, 3], {'b1': 100, 'b2': 101}, 21] 4364006016\n",
      "l3 : [[1, 2, 3], {'b1': 100, 'b2': 101}, 21] 4364385280\n"
     ]
    }
   ],
   "source": [
    "l2 = l1\n",
    "l3[:] = l1\n",
    "print(\"====== 変化前 ======\")\n",
    "print(\"l1 :\", l1, id(l1))\n",
    "print(\"l2 :\", l2, id(l2))\n",
    "print(\"l3 :\", l3, id(l3))\n",
    "\n",
    "\n",
    "l3[1]['b1'], l3[1]['b2'] = 100, 101\n",
    "print(id(l1[1]['b1']), id(l1[1]['b2']))\n",
    "print(id(l2[1]['b1']), id(l2[1]['b2']))\n",
    "print(id(l3[1]['b1']), id(l3[1]['b2']))\n",
    "print(id(l1[1]), id(l2[1]), id(l3[1]))\n",
    "l3[1] = {'b1': 100, 'b2': 101}\n",
    "print(id(l1[1]), id(l2[1]), id(l3[1]))\n",
    "print(\"====== 変化後 ======\")\n",
    "print(\"l1 :\", l1, id(l1))\n",
    "print(\"l2 :\", l2, id(l2))\n",
    "print(\"l3 :\", l3, id(l3))"
   ]
  },
  {
   "cell_type": "code",
   "execution_count": 46,
   "metadata": {},
   "outputs": [
    {
     "name": "stdout",
     "output_type": "stream",
     "text": [
      "4364418944 4364417408 4364417408\n"
     ]
    }
   ],
   "source": [
    "A = {\"a1\": 100, \"a2\": 200}\n",
    "B = A\n",
    "C = {\"a1\": 200, \"a2\": 300}\n",
    "B = C\n",
    "print(id(A), id(B), id(C))"
   ]
  },
  {
   "cell_type": "code",
   "execution_count": null,
   "metadata": {},
   "outputs": [],
   "source": []
  }
 ],
 "metadata": {
  "interpreter": {
   "hash": "52ce370d13d9f3e7fec0c208e08f00abccec8be27c64f36722ecec456d801487"
  },
  "kernelspec": {
   "display_name": "Python 3.8.6 64-bit ('.venv_pn': venv)",
   "name": "python3"
  },
  "language_info": {
   "codemirror_mode": {
    "name": "ipython",
    "version": 3
   },
   "file_extension": ".py",
   "mimetype": "text/x-python",
   "name": "python",
   "nbconvert_exporter": "python",
   "pygments_lexer": "ipython3",
   "version": "3.8.6"
  },
  "orig_nbformat": 4
 },
 "nbformat": 4,
 "nbformat_minor": 2
}
