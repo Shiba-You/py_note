{
 "cells": [
  {
   "cell_type": "markdown",
   "metadata": {},
   "source": [
    "Write an efficient algorithm that searches for a value in an m x n matrix. This matrix has the following properties:\n",
    "Integers in each row are sorted from left to right.\n",
    "The first integer of each row is greater than the last integer of the previous row.\n",
    "\n",
    "m x n の行列で値を検索する効率的なアルゴリズムを書いてください。この行列は次のような性質を持っています。\n",
    "各行の整数は左から右にソートされている。\n",
    "各行の最初の整数は、前の行の最後の整数よりも大きい。"
   ]
  },
  {
   "cell_type": "code",
   "execution_count": 1,
   "metadata": {},
   "outputs": [
    {
     "data": {
      "text/html": [
       "<img src=\"https://assets.leetcode.com/uploads/2020/10/05/mat.jpg\"/>"
      ],
      "text/plain": [
       "<IPython.core.display.Image object>"
      ]
     },
     "execution_count": 1,
     "metadata": {},
     "output_type": "execute_result"
    }
   ],
   "source": [
    "from IPython.display import Image\n",
    "Image(url=\"https://assets.leetcode.com/uploads/2020/10/05/mat.jpg\")"
   ]
  },
  {
   "cell_type": "markdown",
   "metadata": {},
   "source": [
    "Ex1:\n",
    "Input: matrix = [[1,3,5,7],[10,11,16,20],[23,30,34,60]], target = 3\n",
    "Output: true\n",
    "\n",
    "Ex2:\n",
    "Input: matrix = [[1,3,5,7],[10,11,16,20],[23,30,34,60]], target = 13\n",
    "Output: false"
   ]
  },
  {
   "cell_type": "code",
   "execution_count": null,
   "metadata": {},
   "outputs": [],
   "source": [
    "class Solution:\n",
    "  def searchMatrix(self, matrix, target):\n",
    "    '''\n",
    "    :type       matrix  : List[List[int]]\n",
    "    :type       target  : int\n",
    "    :rtype              : bool\n",
    "    '''  \n",
    "    def searchList(l, target, row):\n",
    "      '''\n",
    "      :type     l       : List[int]\n",
    "      :type     target  : int\n",
    "      :rtype            : int\n",
    "      '''\n",
    "      low = 0\n",
    "      high = len(l) - 1\n",
    "      while low <= high:\n",
    "        mid = (low + high) // 2\n",
    "        guess = l[mid]\n",
    "        if target == guess:\n",
    "          if row:\n",
    "            return 1\n",
    "          return mid\n",
    "        elif target < guess:\n",
    "          high = mid - 1\n",
    "        elif guess < target:\n",
    "          low = mid + 1\n",
    "      if row:\n",
    "        if (0<=low<len(l)) and l[low] == target:\n",
    "          return 1\n",
    "        else:\n",
    "          return 0\n",
    "      else:\n",
    "        return low - 1\n",
    "\n",
    "\n",
    "    l = [x[0] for x in matrix]\n",
    "    index = searchList(l, target, False)\n",
    "    return bool(searchList(matrix[index], target, True))"
   ]
  },
  {
   "cell_type": "code",
   "execution_count": null,
   "metadata": {},
   "outputs": [],
   "source": [
    "class Solution:\n",
    "  def searchMatrix(self, matrix, target):\n",
    "    '''\n",
    "    :type       matrix  : List[List[int]]\n",
    "    :type       target  : int\n",
    "    :rtype              : bool\n",
    "    '''  \n",
    "    def searchList(l, target):\n",
    "      '''\n",
    "      :type     l       : List[int]\n",
    "      :type     target  : int\n",
    "      :rtype            : int\n",
    "      '''\n",
    "      low = 0\n",
    "      high = len(l) - 1\n",
    "      while low <= high:\n",
    "        mid = (low + high) // 2\n",
    "        guess = l[mid]\n",
    "        if target == guess:\n",
    "          return mid\n",
    "        elif target < guess:\n",
    "          high = mid - 1\n",
    "        elif guess < target:\n",
    "          low = mid + 1\n",
    "      if l[low] == target:\n",
    "        return low - 1\n",
    "      else:\n",
    "        return -1\n",
    "\n",
    "\n",
    "    l = [x[0] for x in matrix]\n",
    "    index = searchList(l, target)\n",
    "    print(index)\n",
    "    res = searchList(matrix[index], target)\n",
    "    if res != -1:\n",
    "      return False\n",
    "    else:\n",
    "      return False"
   ]
  },
  {
   "cell_type": "code",
   "execution_count": 11,
   "metadata": {},
   "outputs": [
    {
     "name": "stdout",
     "output_type": "stream",
     "text": [
      "[1, 10, 23]\n"
     ]
    }
   ],
   "source": [
    "matrix = [[1,3,5,7],[10,11,16,20],[23,30,34,60]]\n",
    "\n",
    "print([x[0] for x in matrix])"
   ]
  },
  {
   "cell_type": "code",
   "execution_count": 20,
   "metadata": {},
   "outputs": [
    {
     "name": "stdout",
     "output_type": "stream",
     "text": [
      "False\n"
     ]
    }
   ],
   "source": [
    "print(bool(0))"
   ]
  },
  {
   "cell_type": "code",
   "execution_count": null,
   "metadata": {},
   "outputs": [],
   "source": []
  }
 ],
 "metadata": {
  "interpreter": {
   "hash": "52ce370d13d9f3e7fec0c208e08f00abccec8be27c64f36722ecec456d801487"
  },
  "kernelspec": {
   "display_name": "Python 3.8.6 64-bit ('.venv_pn': venv)",
   "language": "python",
   "name": "python3"
  },
  "language_info": {
   "codemirror_mode": {
    "name": "ipython",
    "version": 3
   },
   "file_extension": ".py",
   "mimetype": "text/x-python",
   "name": "python",
   "nbconvert_exporter": "python",
   "pygments_lexer": "ipython3",
   "version": "3.8.6"
  },
  "orig_nbformat": 4
 },
 "nbformat": 4,
 "nbformat_minor": 2
}
