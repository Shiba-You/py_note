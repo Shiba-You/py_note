{
 "cells": [
  {
   "cell_type": "markdown",
   "metadata": {},
   "source": [
    "You are given an m x n binary matrix grid. An island is a group of 1's (representing land) connected 4-directionally (horizontal or vertical.) You may assume all four edges of the grid are surrounded by water.\n",
    "\n",
    "The area of an island is the number of cells with a value 1 in the island.\n",
    "\n",
    "Return the maximum area of an island in grid. If there is no island, return 0.\n",
    "\n",
    "m×nのバイナリ行列が与えられています。島とは、4方向（水平または垂直）に接続された「1」（陸地を表す）のグループのことです。\n",
    "\n",
    "島の面積は、その島の中で値が1のセルの数です。\n",
    "\n",
    "グリッド内の島の最大面積を返します。島がない場合は0を返します。"
   ]
  },
  {
   "cell_type": "code",
   "execution_count": 2,
   "metadata": {},
   "outputs": [
    {
     "data": {
      "text/html": [
       "<img src=\"https://assets.leetcode.com/uploads/2021/05/01/maxarea1-grid.jpg\" width=\"600\" height=\"300\"/>"
      ],
      "text/plain": [
       "<IPython.core.display.Image object>"
      ]
     },
     "execution_count": 2,
     "metadata": {},
     "output_type": "execute_result"
    }
   ],
   "source": [
    "from IPython.display import Image\n",
    "Image(url=\"https://assets.leetcode.com/uploads/2021/05/01/maxarea1-grid.jpg\", width = 600, height = 300)"
   ]
  },
  {
   "cell_type": "markdown",
   "metadata": {},
   "source": [
    "Ex1:\n",
    "Input: grid = [[0,0,1,0,0,0,0,1,0,0,0,0,0],[0,0,0,0,0,0,0,1,1,1,0,0,0],[0,1,1,0,1,0,0,0,0,0,0,0,0],[0,1,0,0,1,1,0,0,1,0,1,0,0],[0,1,0,0,1,1,0,0,1,1,1,0,0],[0,0,0,0,0,0,0,0,0,0,1,0,0],[0,0,0,0,0,0,0,1,1,1,0,0,0],[0,0,0,0,0,0,0,1,1,0,0,0,0]]\n",
    "Output: 6\n",
    "Explanation: The answer is not 11, because the island must be connected 4-directionally.\n",
    "\n",
    "Ex2:\n",
    "Input: grid = [[0,0,0,0,0,0,0,0]]\n",
    "Output: 0"
   ]
  },
  {
   "cell_type": "markdown",
   "metadata": {},
   "source": [
    "### 深さ優先探索（DFS: Depth First Search）\n",
    "DFSではスタック・再帰を使って実装する"
   ]
  },
  {
   "cell_type": "code",
   "execution_count": null,
   "metadata": {},
   "outputs": [],
   "source": [
    "class Solution:\n",
    "  def maxAreaOfIsland(self, grid):\n",
    "    '''\n",
    "    :type   grid  : List[List[int]]\n",
    "    rtype         : int\n",
    "    '''  \n",
    "    if not grid: return 0\n",
    "    h, w = len(grid), len(grid[0])\n",
    "    res = 0\n",
    "    def dfs(grid, x, y):\n",
    "      if (x<0) or (y<0) or (w<=x) or (h<=y) or (grid[y][x]==0):     # or は頭から処理されるので， もし grid[y][x] が範囲外を指定することになっても，先に 前の4つの条件で始まれるから， Error にはならない\n",
    "        return 0\n",
    "      count = 1\n",
    "      grid[y][x] = 0\n",
    "      count += dfs(grid, x, y-1)    # 上\n",
    "      count += dfs(grid, x, y+1)    # 下\n",
    "      count += dfs(grid, x-1, y)    # 左\n",
    "      count += dfs(grid, x+1, y)    # 右\n",
    "      return count\n",
    "    \n",
    "    for i in range(h):\n",
    "      for j in range(w):\n",
    "        res = max(res, dfs(grid, j, i))\n",
    "    return res"
   ]
  },
  {
   "cell_type": "code",
   "execution_count": null,
   "metadata": {},
   "outputs": [],
   "source": []
  }
 ],
 "metadata": {
  "interpreter": {
   "hash": "52ce370d13d9f3e7fec0c208e08f00abccec8be27c64f36722ecec456d801487"
  },
  "kernelspec": {
   "display_name": "Python 3.8.6 64-bit ('.venv_pn': venv)",
   "language": "python",
   "name": "python3"
  },
  "language_info": {
   "codemirror_mode": {
    "name": "ipython",
    "version": 3
   },
   "file_extension": ".py",
   "mimetype": "text/x-python",
   "name": "python",
   "nbconvert_exporter": "python",
   "pygments_lexer": "ipython3",
   "version": "3.8.6"
  },
  "orig_nbformat": 4
 },
 "nbformat": 4,
 "nbformat_minor": 2
}
