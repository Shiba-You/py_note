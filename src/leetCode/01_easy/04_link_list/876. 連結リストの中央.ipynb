{
 "cells": [
  {
   "cell_type": "markdown",
   "metadata": {},
   "source": [
    "Given the head of a singly linked list, return the middle node of the linked list.\n",
    "\n",
    "If there are two middle nodes, return the second middle node.\n",
    "\n",
    "単結合リストの先頭が与えられた場合、そのリンクリストの中間ノードを返します。\n",
    "\n",
    "中間ノードが2つある場合は、2番目の中間ノードを返します。"
   ]
  },
  {
   "cell_type": "markdown",
   "metadata": {},
   "source": [
    "Ex1:\n",
    "Input: head = [1,2,3,4,5]\n",
    "Output: [3,4,5]\n",
    "Explanation: The middle node of the list is node 3.\n",
    "\n",
    "Ex2:\n",
    "Input: head = [1,2,3,4,5,6]\n",
    "Output: [4,5,6]\n",
    "Explanation: Since the list has two middle nodes with values 3 and 4, we return the second one."
   ]
  },
  {
   "cell_type": "code",
   "execution_count": 86,
   "metadata": {},
   "outputs": [],
   "source": [
    "class Solution:\n",
    "  def middleNode(self, head):\n",
    "    '''\n",
    "    :type   head  : List[int]\n",
    "    rtype         : List[int]\n",
    "    '''\n",
    "    a = []\n",
    "    while head:\n",
    "      a.append(head)\n",
    "      head = head.next\n",
    "    return a[len(a)//2]"
   ]
  },
  {
   "cell_type": "code",
   "execution_count": 84,
   "metadata": {},
   "outputs": [],
   "source": [
    "class Node(object):\n",
    "  def __init__(self, data):\n",
    "    self.data = data\n",
    "    self.next = None\n",
    "\n",
    "class LinkedList(object):  \n",
    "  '''\n",
    "  :type:   head   : LinkedList[int]\n",
    "  :type:   length : int\n",
    "  '''\n",
    "  def __init__(self):\n",
    "    self.head = None\n",
    "    self.length = 0\n",
    "\n",
    "  # 前方追加\n",
    "  # O(N)\n",
    "  def insert_first(self, data):\n",
    "    new_node = Node(data)\n",
    "    self.length += 1\n",
    "    if not self.head:\n",
    "      self.head = new_node\n",
    "    else:\n",
    "      new_node.next = self.head\n",
    "      self.head = new_node\n",
    "\n",
    "  # 後方追加\n",
    "  # O(N)\n",
    "  def insert_last(self, data):\n",
    "    if self.head is None:\n",
    "      self.insert_first(data)\n",
    "    else:\n",
    "      new_node = Node(data)\n",
    "      self.length += 1\n",
    "      current_node = self.head\n",
    "      while current_node.next is not None:\n",
    "        current_node = current_node.next\n",
    "      current_node.next = new_node\n",
    "\n",
    "  # print 可能にする\n",
    "  # def __str__(self):\n",
    "  #   elems = ''\n",
    "  #   current_node = self.head\n",
    "  #   while current_node:\n",
    "  #     if current_node.next is None:\n",
    "  #       elems += str(current_node.data)\n",
    "  #     else:\n",
    "  #       elems += str(current_node.data) + ', '\n",
    "  #     current_node = current_node.next\n",
    "  #   return '[' + elems +']'\n",
    "  \n",
    "  # 長さ取得を可能にする\n",
    "  # O(1)\n",
    "  def __len__(self):\n",
    "    return self.length"
   ]
  },
  {
   "cell_type": "code",
   "execution_count": 85,
   "metadata": {},
   "outputs": [
    {
     "name": "stdout",
     "output_type": "stream",
     "text": [
      "<__main__.LinkedList object at 0x115e3fc70>\n"
     ]
    }
   ],
   "source": [
    "ll = LinkedList()\n",
    "ll.insert_last(1)\n",
    "ll.insert_last(2)\n",
    "ll.insert_last(3)\n",
    "ll.insert_last(4)\n",
    "ll.insert_last(5)\n",
    "print(ll)\n",
    "# print(ll[len(ll)//2])"
   ]
  },
  {
   "cell_type": "code",
   "execution_count": null,
   "metadata": {},
   "outputs": [],
   "source": [
    "'''\n",
    "オリジナルの連結リスト\n",
    "'''\n",
    "ListNode{\n",
    "  val: 1, next: ListNode{\n",
    "    val: 3, next: ListNode{\n",
    "      val: 4, next: ListNode{\n",
    "        val: 5, next: None\n",
    "      }\n",
    "    }\n",
    "  }\n",
    "}\n",
    "\n",
    "'''\n",
    "データの追加\n",
    "val: 2 を追加する時は val: 1 の nextを変化させれば良いだけ\n",
    "'''\n",
    "ListNode{\n",
    "  val: 1, next: ListNode{\n",
    "    val: 2, next: ListNode{\n",
    "      val: 3, next: ListNode{\n",
    "        val: 4, next: ListNode{\n",
    "          val: 5, next: None\n",
    "        }\n",
    "      }\n",
    "    }\n",
    "  }\n",
    "}\n",
    "\n",
    "'''\n",
    "データの削除\n",
    "val: 3 を削除する時は val: 1 の nextを変化させれば良いだけ\n",
    "'''\n",
    "ListNode{\n",
    "  val: 1, next: ListNode{\n",
    "    val: 4, next: ListNode{\n",
    "      val: 5, next: None\n",
    "    }\n",
    "  }\n",
    "}\n"
   ]
  }
 ],
 "metadata": {
  "interpreter": {
   "hash": "52ce370d13d9f3e7fec0c208e08f00abccec8be27c64f36722ecec456d801487"
  },
  "kernelspec": {
   "display_name": "Python 3.8.6 64-bit ('.venv_pn': venv)",
   "name": "python3"
  },
  "language_info": {
   "codemirror_mode": {
    "name": "ipython",
    "version": 3
   },
   "file_extension": ".py",
   "mimetype": "text/x-python",
   "name": "python",
   "nbconvert_exporter": "python",
   "pygments_lexer": "ipython3",
   "version": "3.8.6"
  },
  "orig_nbformat": 4
 },
 "nbformat": 4,
 "nbformat_minor": 2
}
