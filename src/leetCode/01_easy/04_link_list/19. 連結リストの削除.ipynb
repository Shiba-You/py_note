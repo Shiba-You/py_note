{
 "cells": [
  {
   "cell_type": "markdown",
   "metadata": {},
   "source": [
    "Given the head of a linked list, remove the nth node from the end of the list and return its head.\n",
    "\n",
    "リンクリストの先頭が与えられたとき、リストの末尾からn番目のノードを削除し、その先頭を返します。"
   ]
  },
  {
   "cell_type": "markdown",
   "metadata": {},
   "source": [
    "Ex1:\n",
    "Input: head = [1,2,3,4,5], n = 2\n",
    "Output: [1,2,3,5]\n",
    "\n",
    "Ex2:\n",
    "Input: head = [1], n = 1\n",
    "Output: []\n",
    "\n",
    "Ex3:\n",
    "Input: head = [1,2], n = 1\n",
    "Output: [1]"
   ]
  },
  {
   "cell_type": "code",
   "execution_count": 1,
   "metadata": {},
   "outputs": [],
   "source": [
    "class Solution:\n",
    "  def removeNthFromEnd(self, head, n):\n",
    "    '''\n",
    "    :type   head  : Optional[LinkedList]\n",
    "    :type   n     : int\n",
    "    rtype         : Optional[LinkedList]\n",
    "    '''\n",
    "    def remove(head):\n",
    "      if not head:\n",
    "        return 0, head\n",
    "      i, head.next = remove(head.next)\n",
    "      print(\"i          : \", i)\n",
    "      print(\"head       : \", head)\n",
    "      print(\"head.next  : \", head.next)\n",
    "      return i+1, (head, head.next)[i+1 == n]\n",
    "    return remove(head)[1]"
   ]
  },
  {
   "cell_type": "code",
   "execution_count": null,
   "metadata": {},
   "outputs": [],
   "source": [
    "class Node(object):\n",
    "  def __init__(self, data):\n",
    "    self.data = data\n",
    "    self.next = None\n",
    "\n",
    "class LinkedList(object):  \n",
    "  '''\n",
    "  :type:   head   : LinkedList[int]\n",
    "  :type:   length : int\n",
    "  '''\n",
    "  def __init__(self):\n",
    "    self.head = None\n",
    "    self.length = 0\n",
    "\n",
    "  # 前方追加\n",
    "  # O(N)\n",
    "  def insert_first(self, data):\n",
    "    new_node = Node(data)\n",
    "    self.length += 1\n",
    "    if not self.head:\n",
    "      self.head = new_node\n",
    "    else:\n",
    "      new_node.next = self.head\n",
    "      self.head = new_node\n",
    "\n",
    "  # 後方追加\n",
    "  # O(N)\n",
    "  def insert_last(self, data):\n",
    "    if self.head is None:\n",
    "      self.insert_first(data)\n",
    "    else:\n",
    "      new_node = Node(data)\n",
    "      self.length += 1\n",
    "      current_node = self.head\n",
    "      while current_node.next is not None:\n",
    "        current_node = current_node.next\n",
    "      current_node.next = new_node\n",
    "  \n",
    "  # ノード削除\n",
    "  # O(N)\n",
    "  def remove(self, data):\n",
    "    if self.head is None:\n",
    "      print('リストは空です。')\n",
    "      return\n",
    "    current_node = self.head\n",
    "    previous_node = None\n",
    "    while current_node.data != data:\n",
    "      if current_node.next_node is None:\n",
    "        print('削除に該当するデータがありません。')\n",
    "        return \n",
    "      previous_node = current_node\n",
    "      current_node = current_node.next_node\n",
    "    # 削除ノードが先頭\n",
    "    if previous_node is None:\n",
    "      self.head = current_node.next_node\n",
    "      self.length -= 1\n",
    "    else:\n",
    "      previous_node.next_node = current_node.next_node\n",
    "      self.length -= 1\n",
    "\n",
    "  # print 可能にする\n",
    "  def __str__(self):\n",
    "    elems = ''\n",
    "    current_node = self.head\n",
    "    while current_node:\n",
    "      if current_node.next is None:\n",
    "        elems += str(current_node.data)\n",
    "      else:\n",
    "        elems += str(current_node.data) + ', '\n",
    "      current_node = current_node.next\n",
    "    return '[' + elems +']'\n",
    "  \n",
    "  # 長さ取得を可能にする\n",
    "  # O(1)\n",
    "  def __len__(self):\n",
    "    return self.length"
   ]
  },
  {
   "cell_type": "code",
   "execution_count": 9,
   "metadata": {},
   "outputs": [
    {
     "name": "stdout",
     "output_type": "stream",
     "text": [
      "[10, 20, 30, 40, 50]\n"
     ]
    }
   ],
   "source": [
    "n = 3\n",
    "a = [10, 20, 30, 40, 50]\n",
    "b = [100, 200, 300]\n",
    "print((a,b)[n == 1])"
   ]
  },
  {
   "cell_type": "code",
   "execution_count": null,
   "metadata": {},
   "outputs": [],
   "source": []
  }
 ],
 "metadata": {
  "interpreter": {
   "hash": "52ce370d13d9f3e7fec0c208e08f00abccec8be27c64f36722ecec456d801487"
  },
  "kernelspec": {
   "display_name": "Python 3.8.6 64-bit ('.venv_pn': venv)",
   "name": "python3"
  },
  "language_info": {
   "codemirror_mode": {
    "name": "ipython",
    "version": 3
   },
   "file_extension": ".py",
   "mimetype": "text/x-python",
   "name": "python",
   "nbconvert_exporter": "python",
   "pygments_lexer": "ipython3",
   "version": "3.8.6"
  },
  "orig_nbformat": 4
 },
 "nbformat": 4,
 "nbformat_minor": 2
}
