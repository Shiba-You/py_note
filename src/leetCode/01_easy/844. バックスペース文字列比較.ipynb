{
 "cells": [
  {
   "cell_type": "markdown",
   "metadata": {},
   "source": [
    "Given two strings s and t, return true if they are equal when both are typed into empty text editors. '#' means a backspace character.\n",
    "Note that after backspacing an empty text, the text will continue empty.\n",
    "\n",
    "2つの文字列sとtが与えられ、両方を空のテキストエディタに入力したときに、それらが等しい場合はtrueを返します。'#'はバックスペース文字を意味します。\n",
    "なお、空のテキストをバックスペースした後も、テキストは空のままです。"
   ]
  },
  {
   "cell_type": "markdown",
   "metadata": {},
   "source": [
    "Ex1:\n",
    "Input: s = \"ab#c\", t = \"ad#c\"\n",
    "Output: true\n",
    "Explanation: Both s and t become \"ac\".\n",
    "\n",
    "Ex2:\n",
    "Input: s = \"ab##\", t = \"c#d#\"\n",
    "Output: true\n",
    "Explanation: Both s and t become \"\".\n",
    "\n",
    "Ex3:\n",
    "Input: s = \"a##c\", t = \"#a#c\"\n",
    "Output: true\n",
    "Explanation: Both s and t become \"c\".\n",
    "\n",
    "Ex4:\n",
    "Input: s = \"a#c\", t = \"b\"\n",
    "Output: false\n",
    "Explanation: s becomes \"c\" while t becomes \"b\"."
   ]
  },
  {
   "cell_type": "code",
   "execution_count": null,
   "metadata": {},
   "outputs": [],
   "source": [
    "class Solution:\n",
    "  def backspaceCompare(self, s, t):\n",
    "    '''\n",
    "    :type     s : str\n",
    "    :type     t : str\n",
    "    :rtype      : bool\n",
    "    '''\n",
    "    ans_s = []\n",
    "    ans_t = []\n",
    "    def backspaceFunction(ref, target):\n",
    "      for x in target:\n",
    "        if x == \"#\":\n",
    "          if len(ref) > 0:\n",
    "            ref.pop()\n",
    "        else:\n",
    "          ref.append(x)\n",
    "      return ref\n",
    "    return backspaceFunction(ans_s, s) == backspaceFunction(ans_t, t)"
   ]
  },
  {
   "cell_type": "code",
   "execution_count": null,
   "metadata": {},
   "outputs": [],
   "source": []
  }
 ],
 "metadata": {
  "interpreter": {
   "hash": "52ce370d13d9f3e7fec0c208e08f00abccec8be27c64f36722ecec456d801487"
  },
  "kernelspec": {
   "display_name": "Python 3.8.6 64-bit ('.venv_pn': venv)",
   "language": "python",
   "name": "python3"
  },
  "language_info": {
   "codemirror_mode": {
    "name": "ipython",
    "version": 3
   },
   "file_extension": ".py",
   "mimetype": "text/x-python",
   "name": "python",
   "nbconvert_exporter": "python",
   "pygments_lexer": "ipython3",
   "version": "3.8.6"
  },
  "orig_nbformat": 4
 },
 "nbformat": 4,
 "nbformat_minor": 2
}
