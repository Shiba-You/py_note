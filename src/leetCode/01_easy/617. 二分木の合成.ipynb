{
 "cells": [
  {
   "cell_type": "markdown",
   "metadata": {},
   "source": [
    "You are given two binary trees root1 and root2.\n",
    "\n",
    "Imagine that when you put one of them to cover the other, some nodes of the two trees are overlapped while the others are not. You need to merge the two trees into a new binary tree. The merge rule is that if two nodes overlap, then sum node values up as the new value of the merged node. Otherwise, the NOT null node will be used as the node of the new tree.\n",
    "\n",
    "Return the merged tree.\n",
    "\n",
    "Note: The merging process must start from the root nodes of both trees.\n",
    "\n",
    "\n",
    "2つの二分木 root1 と root2 が与えられています。\n",
    "\n",
    "一方の木をもう一方の木にかぶせたとき、2つの木のいくつかのノードが重なり、他のノードは重ならないことを想像してください。あなたは2つの木を新しい2進法の木にマージする必要がある。マージのルールは、2つのノードが重なっている場合、ノードの値の合計をマージされたノードの新しい値とします。そうでない場合は、NOT NULLノードが新しいツリーのノードとして使用されます。\n",
    "\n",
    "マージされたツリーを返す。\n",
    "\n",
    "注： マージ処理は、両方のツリーのルート・ノードから始めなければなりません。"
   ]
  },
  {
   "cell_type": "code",
   "execution_count": 3,
   "metadata": {},
   "outputs": [
    {
     "data": {
      "text/html": [
       "<img src=\"https://assets.leetcode.com/uploads/2021/02/05/merge.jpg\" width=\"1200\" height=\"300\"/>"
      ],
      "text/plain": [
       "<IPython.core.display.Image object>"
      ]
     },
     "execution_count": 3,
     "metadata": {},
     "output_type": "execute_result"
    }
   ],
   "source": [
    "from IPython.display import Image\n",
    "Image(url=\"https://assets.leetcode.com/uploads/2021/02/05/merge.jpg\", width = 1200, height = 300)"
   ]
  },
  {
   "cell_type": "markdown",
   "metadata": {},
   "source": []
  },
  {
   "cell_type": "markdown",
   "metadata": {},
   "source": [
    "Ex1:\n",
    "Input: root1 = [1,3,2,5], root2 = [2,1,3,null,4,null,7]\n",
    "root1 = TreeNode{\n",
    "  val: 1,\n",
    "  left: TreeNode{\n",
    "    val: 3,\n",
    "    left: TreeNode{\n",
    "      val: 5,\n",
    "      left: None,\n",
    "      right: None\n",
    "    },\n",
    "    right: None\n",
    "  },\n",
    "  right: TreeNode{\n",
    "    val: 2,\n",
    "    left: None,\n",
    "    right: None\n",
    "  }\n",
    "}\n",
    "\n",
    "root2 = TreeNode{\n",
    "  val: 2, \n",
    "  left: TreeNode{\n",
    "    val: 1,\n",
    "    left: None,\n",
    "    right: TreeNode{\n",
    "      val: 4,\n",
    "      left: None,\n",
    "      right: None\n",
    "    }\n",
    "  },\n",
    "  right: TreeNode{\n",
    "    val: 3, \n",
    "    left: None, \n",
    "    right: TreeNode{\n",
    "      val: 7, \n",
    "      left: None, \n",
    "      right: None\n",
    "    }\n",
    "  }\n",
    "}\n",
    "Output: [3,4,5,5,4,null,7]\n",
    "\n",
    "Ex2:\n",
    "Input: root1 = [1], root2 = [1,2]\n",
    "Output: [2,2]"
   ]
  },
  {
   "cell_type": "code",
   "execution_count": null,
   "metadata": {},
   "outputs": [],
   "source": [
    "# Definition for a binary tree node.\n",
    "# class TreeNode:\n",
    "#     def __init__(self, val=0, left=None, right=None):\n",
    "#         self.val = val\n",
    "#         self.left = left\n",
    "#         self.right = right\n",
    "class Solution:\n",
    "  def mergeTrees(self, root1, root2):\n",
    "    '''\n",
    "    :type     root1  : Optional[TreeNode]\n",
    "    :type     root2  : Optional[TreeNode]\n",
    "    rtype            : Optional[TreeNode]\n",
    "    '''\n",
    "    if root1 is None:\n",
    "      return root2\n",
    "\n",
    "    stack = []\n",
    "    stack.append((root1, root2))\n",
    "    while stack:\n",
    "      t = stack.pop()\n",
    "\n",
    "      if t[1] is None:\n",
    "        continue\n",
    "      \n",
    "      t[0].val += t[1].val\n",
    "      \n",
    "      if t[0].left is None:\n",
    "        t[0].left = t[1].left\n",
    "      else:\n",
    "        stack.append((t[0].left, t[1].left))\n",
    "      \n",
    "      if t[0].right is None:\n",
    "        t[0].right = t[1].right\n",
    "      else:\n",
    "        stack.append((t[0].right, t[1].right))\n",
    "\n",
    "    return root1"
   ]
  }
 ],
 "metadata": {
  "interpreter": {
   "hash": "52ce370d13d9f3e7fec0c208e08f00abccec8be27c64f36722ecec456d801487"
  },
  "kernelspec": {
   "display_name": "Python 3.8.6 64-bit ('.venv_pn': venv)",
   "language": "python",
   "name": "python3"
  },
  "language_info": {
   "codemirror_mode": {
    "name": "ipython",
    "version": 3
   },
   "file_extension": ".py",
   "mimetype": "text/x-python",
   "name": "python",
   "nbconvert_exporter": "python",
   "pygments_lexer": "ipython3",
   "version": "3.8.6"
  },
  "orig_nbformat": 4
 },
 "nbformat": 4,
 "nbformat_minor": 2
}
