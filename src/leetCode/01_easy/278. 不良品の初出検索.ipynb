{
 "cells": [
  {
   "cell_type": "markdown",
   "metadata": {},
   "source": [
    "You are a product manager and currently leading a team to develop a new product. Unfortunately, the latest version of your product fails the quality check. Since each version is developed based on the previous version, all the versions after a bad version are also bad.\n",
    "\n",
    "Suppose you have n versions [1, 2, ..., n] and you want to find out the first bad one, which causes all the following ones to be bad.\n",
    "\n",
    "You are given an API bool isBadVersion(version) which returns whether version is bad. Implement a function to find the first bad version. You should minimize the number of calls to the API.\n",
    "\n",
    "あなたはプロダクトマネージャーで、現在チームを率いて新製品を開発しています。残念なことに、あなたの製品の最新バージョンが品質チェックで不合格になってしまいました。各バージョンは前のバージョンに基づいて開発されているので、不合格になったバージョンの後のバージョンもすべて不合格になってしまいます。\n",
    "\n",
    "例えば，n 個のバージョン [1, 2, ..., n] があり，最初の不良バージョンを見つけ，それが後続のすべてのバージョンを不良にする原因になるとします．\n",
    "\n",
    "バージョンが悪いかどうかを返すAPI bool isBadVersion(version) が与えられています。最初の不良バージョンを見つけるための関数を実装してください。APIへの呼び出し回数は最小限に抑える必要があります。"
   ]
  },
  {
   "cell_type": "markdown",
   "metadata": {},
   "source": [
    "Ex1:\n",
    "Input: n = 5, bad = 4\n",
    "Output: 4\n",
    "Explanation:\n",
    "call isBadVersion(3) -> false\n",
    "call isBadVersion(5) -> true\n",
    "call isBadVersion(4) -> true\n",
    "Then 4 is the first bad version.\n",
    "\n",
    "Ex2:\n",
    "Input: n = 1, bad = 1\n",
    "Output: 1"
   ]
  },
  {
   "cell_type": "code",
   "execution_count": 1,
   "metadata": {},
   "outputs": [],
   "source": [
    "# The isBadVersion API is already defined for you.\n",
    "# @param version, an integer\n",
    "# @return an integer\n",
    "# def isBadVersion(version):\n",
    "\n",
    "class Solution:\n",
    "  def firstBadVersion(self, n):\n",
    "    \"\"\"\n",
    "    :type   n: int\n",
    "    :rtype   : int\n",
    "    \"\"\"\n",
    "    low = 1\n",
    "    high = n\n",
    "    while low < high:\n",
    "      mid = low + (high-low)//2\n",
    "      if isBadVersion(mid):\n",
    "        high = mid\n",
    "      else:\n",
    "        low = mid +1\n",
    "    return low"
   ]
  },
  {
   "cell_type": "code",
   "execution_count": null,
   "metadata": {},
   "outputs": [],
   "source": []
  }
 ],
 "metadata": {
  "interpreter": {
   "hash": "52ce370d13d9f3e7fec0c208e08f00abccec8be27c64f36722ecec456d801487"
  },
  "kernelspec": {
   "display_name": "Python 3.8.6 64-bit ('.venv_pn': venv)",
   "name": "python3"
  },
  "language_info": {
   "codemirror_mode": {
    "name": "ipython",
    "version": 3
   },
   "file_extension": ".py",
   "mimetype": "text/x-python",
   "name": "python",
   "nbconvert_exporter": "python",
   "pygments_lexer": "ipython3",
   "version": "3.8.6"
  },
  "orig_nbformat": 4
 },
 "nbformat": 4,
 "nbformat_minor": 2
}
