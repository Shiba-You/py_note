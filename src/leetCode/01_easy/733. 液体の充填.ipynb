{
 "cells": [
  {
   "cell_type": "markdown",
   "metadata": {},
   "source": [
    "An image is represented by an m x n integer grid image where image[i][j] represents the pixel value of the image.\n",
    "\n",
    "You are also given three integers sr, sc, and newColor. You should perform a flood fill on the image starting from the pixel image[sr][sc].\n",
    "\n",
    "To perform a flood fill, consider the starting pixel, plus any pixels connected 4-directionally to the starting pixel of the same color as the starting pixel, plus any pixels connected 4-directionally to those pixels (also with the same color), and so on. Replace the color of all of the aforementioned pixels with newColor.\n",
    "\n",
    "Return the modified image after performing the flood fill.\n",
    "\n",
    "画像はm×nの整数の格子状の画像で表されます。image[i][j]は画像のピクセル値を表します。\n",
    "\n",
    "また，3 つの整数 sr, sc, newColor が与えられています．あなたは、ピクセル image[sr][sc] から始まる画像にフラッドフィルを行わなければなりません。\n",
    "\n",
    "フラッドフィルを行うには、開始ピクセルと、開始ピクセルに4方向に接続された開始ピクセルと同じ色のピクセルと、それらのピクセルに4方向に接続された（同じく同じ色の）ピクセル、などを考慮します。前述のすべてのピクセルの色をnewColorで置き換えます。\n",
    "\n",
    "フラッドフィルを行った後の修正画像を返します。"
   ]
  },
  {
   "cell_type": "code",
   "execution_count": 1,
   "metadata": {},
   "outputs": [
    {
     "data": {
      "text/html": [
       "<img src=\"https://assets.leetcode.com/uploads/2021/06/01/flood1-grid.jpg\"/>"
      ],
      "text/plain": [
       "<IPython.core.display.Image object>"
      ]
     },
     "execution_count": 1,
     "metadata": {},
     "output_type": "execute_result"
    }
   ],
   "source": [
    "from IPython.display import Image\n",
    "Image(url=\"https://assets.leetcode.com/uploads/2021/06/01/flood1-grid.jpg\")"
   ]
  },
  {
   "cell_type": "markdown",
   "metadata": {},
   "source": [
    "Ex1:\n",
    "Input: image = [[1,1,1],[1,1,0],[1,0,1]], sr = 1, sc = 1, newColor = 2\n",
    "Output: [[2,2,2],[2,2,0],[2,0,1]]\n",
    "Explanation: From the center of the image with position (sr, sc) = (1, 1) (i.e., the red pixel), all pixels connected by a path of the same color as the starting pixel (i.e., the blue pixels) are colored with the new color.\n",
    "Note the bottom corner is not colored 2, because it is not 4-directionally connected to the starting pixel.\n",
    "\n",
    "Ex2:\n",
    "Input: image = [[0,0,0],[0,0,0]], sr = 0, sc = 0, newColor = 2\n",
    "Output: [[2,2,2],[2,2,2]]"
   ]
  },
  {
   "cell_type": "code",
   "execution_count": 6,
   "metadata": {},
   "outputs": [],
   "source": [
    "from collections import deque\n",
    "\n",
    "class Solution:\n",
    "  def floodFill(self, image, sr, sc, newColor):\n",
    "    '''\n",
    "    :type   image     : List[List[int]]\n",
    "    :type   sr        : int\n",
    "    :type   sc        : int\n",
    "    :type   newColor  : int\n",
    "    rtype             : List[List[int]]\n",
    "    '''\n",
    "    q = deque([(sr,sc)])\n",
    "    trgt = image[sr][sc]\n",
    "    if image[sr][sc] == newColor:\n",
    "      return image\n",
    "    else:\n",
    "      image[sr][sc] = newColor\n",
    "    h = len(image)\n",
    "    w = len(image[0])\n",
    "    \n",
    "    while q:\n",
    "      cy, cx = q.popleft()\n",
    "      if (0<=cy-1<h) and image[cy-1][cx]==trgt:   # 上\n",
    "        image[cy-1][cx] = newColor\n",
    "        q.append((cy-1,cx))\n",
    "      if (0<=cy+1<h) and image[cy+1][cx]==trgt:   # 下\n",
    "        image[cy+1][cx] = newColor\n",
    "        q.append((cy+1,cx))\n",
    "      if (0<=cx-1<w) and image[cy][cx-1]==trgt:   # 左\n",
    "        image[cy][cx-1] = newColor\n",
    "        q.append((cy,cx-1))\n",
    "      if (0<=cx+1<w) and image[cy][cx+1]==trgt:   # 右\n",
    "        image[cy][cx+1] = newColor\n",
    "        q.append((cy,cx+1))\n",
    "    return image\n",
    "      "
   ]
  },
  {
   "cell_type": "markdown",
   "metadata": {},
   "source": [
    "#### Other solution\n",
    "上のやつとクオリティはほぼ同じ．\n",
    "（内部的にやっていること一緒っぽい）"
   ]
  },
  {
   "cell_type": "code",
   "execution_count": null,
   "metadata": {},
   "outputs": [],
   "source": [
    "class Solution:\n",
    "  def floodFill(self, image: List[List[int]], sr: int, sc: int, newColor: int) -> List[List[int]]:\n",
    "    h, w = len(image), len(image[0])\n",
    "    visited = set()\n",
    "    def dfs( r, c, src_color, new_color):\n",
    "      if r < 0 or c < 0 or r >= h or c >= w or (r,c) in visited or image[r][c] != src_color:\n",
    "        # Reject for invalid coordination, repeated traversal, or different color\n",
    "        return\n",
    "      # update color\n",
    "      image[r][c] = new_color\n",
    "      # mark current coordination as visited\n",
    "      visited.add( (r,c) )\n",
    "      # DFS to 4-connected neighbors\n",
    "      dfs( r-1, c, src_color, new_color )\n",
    "      dfs( r+1, c, src_color, new_color )\n",
    "      dfs( r, c-1, src_color, new_color )\n",
    "      dfs( r, c+1, src_color, new_color )\n",
    "    dfs(sr, sc, src_color = image[sr][sc], new_color = newColor)\n",
    "    return image"
   ]
  },
  {
   "cell_type": "code",
   "execution_count": 4,
   "metadata": {},
   "outputs": [],
   "source": [
    "from collections import deque\n",
    "class Solution:\n",
    "  def floodFill(self, image, sr, sc, newColor):\n",
    "    '''\n",
    "    :type   image     : List[List[int]]\n",
    "    :type   sr        : int\n",
    "    :type   sc        : int\n",
    "    :type   newColor  : int\n",
    "    rtype             : List[List[int]]\n",
    "    '''\n",
    "    crt_color = image[sr][sc]\n",
    "\n",
    "    if crt_color == newColor:\n",
    "      return image\n",
    "    \n",
    "    q = deque([(sr, sc)])\n",
    "    image[sr][sc] = newColor\n",
    "    h, w = len(image), len(image[0])\n",
    "\n",
    "    while q:\n",
    "      r, c = q.popleft()\n",
    "      if (0<=r+1<h) and (image[r+1][c]==crt_color):  # 下\n",
    "        image[r+1][c] = newColor\n",
    "        q.append((r+1, c))\n",
    "      if (0<=r-1<h) and (image[r-1][c]==crt_color):  # 上\n",
    "        image[r-1][c] = newColor\n",
    "        q.append((r-1, c))\n",
    "      if (0<=c+1<w) and (image[r][c+1]==crt_color):  # 右\n",
    "        image[r][c+1] = newColor\n",
    "        q.append((r, c+1))\n",
    "      if (0<=c-1<w) and (image[r][c-1]==crt_color):  # 左\n",
    "        image[r][c-1] = newColor\n",
    "        q.append((r, c-1))\n",
    "    return image"
   ]
  },
  {
   "cell_type": "code",
   "execution_count": null,
   "metadata": {},
   "outputs": [],
   "source": []
  }
 ],
 "metadata": {
  "interpreter": {
   "hash": "52ce370d13d9f3e7fec0c208e08f00abccec8be27c64f36722ecec456d801487"
  },
  "kernelspec": {
   "display_name": "Python 3.8.6 64-bit ('.venv_pn': venv)",
   "language": "python",
   "name": "python3"
  },
  "language_info": {
   "codemirror_mode": {
    "name": "ipython",
    "version": 3
   },
   "file_extension": ".py",
   "mimetype": "text/x-python",
   "name": "python",
   "nbconvert_exporter": "python",
   "pygments_lexer": "ipython3",
   "version": "3.8.6"
  },
  "orig_nbformat": 4
 },
 "nbformat": 4,
 "nbformat_minor": 2
}
