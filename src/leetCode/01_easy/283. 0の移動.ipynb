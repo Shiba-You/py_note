{
 "cells": [
  {
   "cell_type": "markdown",
   "metadata": {},
   "source": [
    "Given an integer array nums, move all 0's to the end of it while maintaining the relative order of the non-zero elements.\n",
    "\n",
    "Note that you must do this in-place without making a copy of the array.\n",
    "\n",
    "整数の配列numsが与えられたとき、0以外の要素の相対的な順序を維持したまま、すべての0を配列の最後に移動させます。\n",
    "\n",
    "なお，この操作は配列のコピーを取らずに，その場で行わなければならない。"
   ]
  },
  {
   "cell_type": "markdown",
   "metadata": {},
   "source": [
    "Ex1:\n",
    "Input: nums = [0,1,0,3,12]\n",
    "Output: [1,3,12,0,0]\n",
    "\n",
    "Ex2:\n",
    "Input: nums = [0]\n",
    "Output: [0]"
   ]
  },
  {
   "cell_type": "code",
   "execution_count": null,
   "metadata": {},
   "outputs": [],
   "source": [
    "class Solution:\n",
    "  def moveZeroes(self, nums):\n",
    "    \"\"\"\n",
    "    Do not return anything, modify nums in-place instead.\n",
    "    :type   nums: List[int]\n",
    "    rtype   None\n",
    "    \"\"\"\n",
    "    i = 0\n",
    "    for j in range(len(nums)):\n",
    "      if nums[j] != 0:\n",
    "        nums[i], nums[j] = nums[j], nums[i]   # nums[i] : 0の先頭, nums[j] : 現在地\n",
    "        i += 1"
   ]
  },
  {
   "cell_type": "code",
   "execution_count": 3,
   "metadata": {},
   "outputs": [
    {
     "name": "stdout",
     "output_type": "stream",
     "text": [
      "i: 1, j: 0, nums: [10, 1, 200, 3, 12]\n",
      "i: 2, j: 1, nums: [10, 1, 200, 3, 12]\n",
      "i: 3, j: 2, nums: [10, 1, 200, 3, 12]\n",
      "i: 4, j: 3, nums: [10, 1, 200, 3, 12]\n",
      "i: 5, j: 4, nums: [10, 1, 200, 3, 12]\n",
      "=================================\n",
      "i: 0, j: 0, nums: [0, 0, 0, 0, 0, 1]\n",
      "i: 0, j: 1, nums: [0, 0, 0, 0, 0, 1]\n",
      "i: 0, j: 2, nums: [0, 0, 0, 0, 0, 1]\n",
      "i: 0, j: 3, nums: [0, 0, 0, 0, 0, 1]\n",
      "i: 0, j: 4, nums: [0, 0, 0, 0, 0, 1]\n",
      "i: 1, j: 5, nums: [1, 0, 0, 0, 0, 0]\n"
     ]
    }
   ],
   "source": [
    "nums = [0,1,0,3,12]\n",
    "nums = [10,1,200,3,12]\n",
    "i = 0\n",
    "for j in range(len(nums)):\n",
    "  if nums[j] != 0:\n",
    "    nums[i], nums[j] = nums[j], nums[i]\n",
    "    i += 1\n",
    "  print(\"i: {}, j: {}, nums: {}\".format(i, j, nums))\n",
    "\n",
    "print(\"=================================\")\n",
    "nums = [0,0,0,0,0,1]\n",
    "i = 0\n",
    "for j in range(len(nums)):\n",
    "  if nums[j] != 0:\n",
    "    nums[i], nums[j] = nums[j], nums[i]\n",
    "    i += 1\n",
    "  print(\"i: {}, j: {}, nums: {}\".format(i, j, nums))"
   ]
  },
  {
   "cell_type": "code",
   "execution_count": null,
   "metadata": {},
   "outputs": [],
   "source": []
  }
 ],
 "metadata": {
  "interpreter": {
   "hash": "52ce370d13d9f3e7fec0c208e08f00abccec8be27c64f36722ecec456d801487"
  },
  "kernelspec": {
   "display_name": "Python 3.8.6 64-bit ('.venv_pn': venv)",
   "name": "python3"
  },
  "language_info": {
   "codemirror_mode": {
    "name": "ipython",
    "version": 3
   },
   "file_extension": ".py",
   "mimetype": "text/x-python",
   "name": "python",
   "nbconvert_exporter": "python",
   "pygments_lexer": "ipython3",
   "version": "3.8.6"
  },
  "orig_nbformat": 4
 },
 "nbformat": 4,
 "nbformat_minor": 2
}
