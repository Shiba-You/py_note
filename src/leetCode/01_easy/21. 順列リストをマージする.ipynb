{
 "cells": [
  {
   "cell_type": "markdown",
   "metadata": {},
   "source": [
    "Merge two sorted linked lists and return it as a sorted list. The list should be made by splicing together the nodes of the first two lists.\n",
    "\n",
    "ソートされた2つのリンクリストをマージし、それをソートされたリストとして返します。このリストは、最初の2つのリストのノードをつなぎ合わせたものでなければなりません。"
   ]
  },
  {
   "cell_type": "code",
   "execution_count": 1,
   "metadata": {},
   "outputs": [
    {
     "data": {
      "text/html": [
       "<img src=\"https://assets.leetcode.com/uploads/2020/10/03/merge_ex1.jpg\"/>"
      ],
      "text/plain": [
       "<IPython.core.display.Image object>"
      ]
     },
     "execution_count": 1,
     "metadata": {},
     "output_type": "execute_result"
    }
   ],
   "source": [
    "from IPython.display import Image\n",
    "Image(url=\"https://assets.leetcode.com/uploads/2020/10/03/merge_ex1.jpg\")"
   ]
  },
  {
   "cell_type": "markdown",
   "metadata": {},
   "source": [
    "Ex1:\n",
    "Input: l1 = [1,2,4], l2 = [1,3,4]\n",
    "Output: [1,1,2,3,4,4]\n",
    "\n",
    "Ex2:\n",
    "Input: l1 = [], l2 = []\n",
    "Output: []\n",
    "\n",
    "Ex3:\n",
    "Input: l1 = [], l2 = [0]\n",
    "Output: [0]"
   ]
  },
  {
   "cell_type": "code",
   "execution_count": 3,
   "metadata": {},
   "outputs": [],
   "source": [
    "# Definition for singly-linked list.\n",
    "class ListNode:\n",
    "  def __init__(self, val=0, next=None):\n",
    "    self.val = val\n",
    "    self.next = next\n",
    "\n",
    "class Solution:\n",
    "  def mergeTwoLists(self, l1, l2):\n",
    "    '''\n",
    "    :type     l1  : Optional[ListNode]\n",
    "    :type     l2  : Optional[ListNode]\n",
    "    rtype         : Optional[ListNode]\n",
    "    '''\n",
    "    head = tail = ListNode()\n",
    "    \n",
    "    while l1 and l2:\n",
    "      if l1.val <= l2.val:\n",
    "        tail.next = l1\n",
    "        l1 = l1.next\n",
    "      else:\n",
    "        tail.next = l2\n",
    "        l2 = l2.next\n",
    "      tail = tail.next\n",
    "    tail.next = l1 or l2\n",
    "    return head.next\n",
    "        "
   ]
  },
  {
   "cell_type": "code",
   "execution_count": null,
   "metadata": {},
   "outputs": [],
   "source": []
  }
 ],
 "metadata": {
  "interpreter": {
   "hash": "52ce370d13d9f3e7fec0c208e08f00abccec8be27c64f36722ecec456d801487"
  },
  "kernelspec": {
   "display_name": "Python 3.8.6 64-bit ('.venv_pn': venv)",
   "language": "python",
   "name": "python3"
  },
  "language_info": {
   "codemirror_mode": {
    "name": "ipython",
    "version": 3
   },
   "file_extension": ".py",
   "mimetype": "text/x-python",
   "name": "python",
   "nbconvert_exporter": "python",
   "pygments_lexer": "ipython3",
   "version": "3.8.6"
  },
  "orig_nbformat": 4
 },
 "nbformat": 4,
 "nbformat_minor": 2
}
