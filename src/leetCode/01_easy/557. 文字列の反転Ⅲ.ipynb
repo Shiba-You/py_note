{
 "cells": [
  {
   "cell_type": "markdown",
   "metadata": {},
   "source": [
    "Given a string s, reverse the order of characters in each word within a sentence while still preserving whitespace and initial word order.\n",
    "\n",
    "文字列sが与えられたとき、空白と最初の語順を維持したまま、文中の各単語の文字の順序を逆にする。"
   ]
  },
  {
   "cell_type": "markdown",
   "metadata": {},
   "source": [
    "Ex1:\n",
    "Input: s = \"Let's take LeetCode contest\"\n",
    "Output: \"s'teL ekat edoCteeL tsetnoc\"\n",
    "\n",
    "Ex2:\n",
    "Input: s = \"God Ding\"\n",
    "Output: \"doG gniD\""
   ]
  },
  {
   "cell_type": "code",
   "execution_count": 12,
   "metadata": {},
   "outputs": [],
   "source": [
    "class Solution:\n",
    "  def reverseWords(self, s):\n",
    "    '''\n",
    "    :type   s : str\n",
    "    rtype     : str\n",
    "    '''\n",
    "    l = s.split(\" \")\n",
    "    for i in range(len(l)):\n",
    "      l[i] = \"\".join(self.reverseString(list(l[i])))\n",
    "    return \" \".join(l)\n",
    "  def reverseString(self, s):\n",
    "    \"\"\"\n",
    "    :type   s:  List[str]\n",
    "    rtype    :  None  (Do not return anything, modify s in-place instead.)\n",
    "    \"\"\"\n",
    "    return [s[-(i+1)] for i in range(len(s))]"
   ]
  },
  {
   "cell_type": "markdown",
   "metadata": {},
   "source": [
    "#### Other solution"
   ]
  },
  {
   "cell_type": "markdown",
   "metadata": {},
   "source": [
    "スライスを使うともっと簡単に書ける\n",
    "一般的なスライスはこう↓\n",
    "[start:end:step]\n",
    "start と end を省略すると全体を範囲指定できる．\n",
    "ここで step を -1 にすると，配列を逆順に走査できる．"
   ]
  },
  {
   "cell_type": "code",
   "execution_count": null,
   "metadata": {},
   "outputs": [],
   "source": [
    "class Solution:\n",
    "  def reverseWords(self, s):\n",
    "    '''\n",
    "    :type   s : str\n",
    "    rtype     : str\n",
    "    '''\n",
    "    return \" \".join([t[::-1] for t in s.split(\" \")])"
   ]
  },
  {
   "cell_type": "code",
   "execution_count": null,
   "metadata": {},
   "outputs": [],
   "source": []
  }
 ],
 "metadata": {
  "interpreter": {
   "hash": "52ce370d13d9f3e7fec0c208e08f00abccec8be27c64f36722ecec456d801487"
  },
  "kernelspec": {
   "display_name": "Python 3.8.6 64-bit ('.venv_pn': venv)",
   "name": "python3"
  },
  "language_info": {
   "codemirror_mode": {
    "name": "ipython",
    "version": 3
   },
   "file_extension": ".py",
   "mimetype": "text/x-python",
   "name": "python",
   "nbconvert_exporter": "python",
   "pygments_lexer": "ipython3",
   "version": "3.8.6"
  },
  "orig_nbformat": 4
 },
 "nbformat": 4,
 "nbformat_minor": 2
}
