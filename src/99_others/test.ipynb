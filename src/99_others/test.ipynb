{
 "cells": [
  {
   "cell_type": "code",
   "execution_count": 8,
   "metadata": {},
   "outputs": [
    {
     "name": "stdout",
     "output_type": "stream",
     "text": [
      "[3, 1, 2, 0, 4]\n",
      "[3, 1, 0, 2, 4]\n",
      "[3, 0, 1, 2, 4]\n",
      "[0, 3, 1, 2, 4]\n",
      "[0, 1, 3, 2, 4]\n",
      "[0, 1, 2, 3, 4]\n",
      "[0, 1, 2, 3, 4]\n"
     ]
    }
   ],
   "source": [
    "A = [3, 1, 2, 4, 0]\n",
    "def bubble_sort(A):\n",
    "  for i in range(len(A)):\n",
    "    for j in range(len(A)-1, i, -1):\n",
    "      if A[j] <= A[j-1]:\n",
    "        A[j], A[j-1] = A[j-1], A[j]\n",
    "        print(A)\n",
    "  return A\n",
    "\n",
    "A = bubble_sort(A)\n",
    "print(A)\n",
    "# for i in range(1, 5):\n",
    "#   print(i)\n"
   ]
  },
  {
   "cell_type": "code",
   "execution_count": null,
   "metadata": {},
   "outputs": [],
   "source": []
  }
 ],
 "metadata": {
  "interpreter": {
   "hash": "52ce370d13d9f3e7fec0c208e08f00abccec8be27c64f36722ecec456d801487"
  },
  "kernelspec": {
   "display_name": "Python 3.8.6 64-bit ('.venv_pn': venv)",
   "language": "python",
   "name": "python3"
  },
  "language_info": {
   "codemirror_mode": {
    "name": "ipython",
    "version": 3
   },
   "file_extension": ".py",
   "mimetype": "text/x-python",
   "name": "python",
   "nbconvert_exporter": "python",
   "pygments_lexer": "ipython3",
   "version": "3.8.6"
  },
  "orig_nbformat": 4
 },
 "nbformat": 4,
 "nbformat_minor": 2
}
