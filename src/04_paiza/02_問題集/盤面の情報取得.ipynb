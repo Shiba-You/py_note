{
 "cells": [
  {
   "cell_type": "markdown",
   "source": [
    "# 1 盤面の情報取得"
   ],
   "metadata": {}
  },
  {
   "cell_type": "markdown",
   "source": [
    "行数 H , 列数 W の盤面があり、各マスには文字が 1 つだけ書かれています。盤面と N 個の y , x 座標 が与えられるので、与えられた座標の文字を順に出力してください。\n",
    "\n",
    "なお、マスの座標系は左上端のマスの座標を ( y , x ) = ( 0 , 0 ) とし、\n",
    "下方向が y 座標の正の向き、右方向が x 座標の正の向きとします。"
   ],
   "metadata": {}
  },
  {
   "cell_type": "markdown",
   "source": [
    "入力例1\n",
    "3 3 2\n",
    "###\n",
    "###\n",
    "...\n",
    "2 2\n",
    "1 1\n",
    "\n",
    "出力例\n",
    ".\n",
    "#\n",
    "\n",
    "---\n",
    "\n",
    "入力例2\n",
    "2 2 1\n",
    "#.\n",
    ".#\n",
    "0 1\n",
    "\n",
    "出力例2\n",
    "."
   ],
   "metadata": {}
  },
  {
   "cell_type": "code",
   "execution_count": 2,
   "source": [
    "H, W, N = list(map(int, input().split()))\n",
    "a = [list(input()) for i in range(H)]\n",
    "y = [list(map(int, input().split())) for _ in range(N)]\n",
    "\n",
    "for val in y:\n",
    "  print(a[val[0]][val[1]])"
   ],
   "outputs": [],
   "metadata": {}
  },
  {
   "cell_type": "markdown",
   "source": [
    "# 2　盤面の情報変更"
   ],
   "metadata": {}
  },
  {
   "cell_type": "markdown",
   "source": [
    "行数 H , 列数 W の盤面があり、各マスには文字が 1 つだけ書かれています。盤面と N 個 の y , x 座標 が与えられるので、盤面の与えられた座標の文字を \"#\" に書き換えた後の盤面を出力してください。\n",
    "\n",
    "なお、マスの座標系は左上端のマスの座標を ( y , x ) = ( 0 , 0 ) とし、\n",
    "下方向が y 座標の正の向き、右方向が x 座標の正の向きとします。"
   ],
   "metadata": {}
  },
  {
   "cell_type": "markdown",
   "source": [
    "入力例1\n",
    "3 3 1\n",
    "...\n",
    "...\n",
    "...\n",
    "0 0\n",
    "\n",
    "出力例1\n",
    "#..\n",
    "...\n",
    "...\n",
    "\n",
    "---\n",
    "\n",
    "入力例2\n",
    "4 4 2\n",
    "####\n",
    "####\n",
    "....\n",
    "##..\n",
    "2 0\n",
    "2 2\n",
    "\n",
    "出力例2\n",
    "####\n",
    "####\n",
    "#.#.\n",
    "##..\n"
   ],
   "metadata": {}
  },
  {
   "cell_type": "code",
   "execution_count": 12,
   "source": [
    "H, W, N = list(map(int, input().split()))\n",
    "a = [list(input()) for i in range(H)]\n",
    "y = [list(map(int, input().split())) for _ in range(N)]\n",
    "\n",
    "for val in y:\n",
    "  a[val[0]][val[1]] = \"#\"\n",
    "\n",
    "print(a)"
   ],
   "outputs": [],
   "metadata": {}
  },
  {
   "cell_type": "markdown",
   "source": [
    "# 3　マップの判定・横"
   ],
   "metadata": {}
  },
  {
   "cell_type": "markdown",
   "source": [
    "行数 H , 列数 W の盤面があり、盤面の各マスには文字が 1 つだけ書かれています。\n",
    "盤面が与えられるので、「左右のマスが \"#\" 」であるようなマスの座標を全て出力してください。\n",
    "\n",
    "ただし、左端のマスの場合は「右のマスが \"#\" 」であれば、右端のマスの場合は「左のマスが \"#\" 」であれば条件を満たすものとします。\n",
    "\n",
    "なお、マスの座標系は左上端のマスの座標を ( y , x ) = ( 0 , 0 ) とし、\n",
    "下方向が y 座標の正の向き、右方向が x 座標の正の向きとします。"
   ],
   "metadata": {}
  },
  {
   "cell_type": "markdown",
   "source": [
    "入力例1\n",
    "3 3\n",
    "#.#\n",
    ".#.\n",
    "...\n",
    "\n",
    "出力例1\n",
    "0 1\n",
    "1 0\n",
    "1 2\n",
    "\n",
    "入力例2\n",
    "4 4\n",
    "####\n",
    "####\n",
    "####\n",
    "####\n",
    "\n",
    "出力例2\n",
    "0 0\n",
    "0 1\n",
    "0 2\n",
    "0 3\n",
    "1 0\n",
    "1 1\n",
    "1 2\n",
    "1 3\n",
    "2 0\n",
    "2 1\n",
    "2 2\n",
    "2 3\n",
    "3 0\n",
    "3 1\n",
    "3 2\n",
    "3 3"
   ],
   "metadata": {}
  },
  {
   "cell_type": "code",
   "execution_count": 31,
   "source": [
    "h, w = map(int, input().split())\n",
    "s = [list(input()) for _ in range(h)]\n",
    "\n",
    "for y in range(h):\n",
    "    for x in range(w):\n",
    "        if x == 0 or s[y][x - 1] == \"#\":\n",
    "            if x == w - 1 or s[y][x + 1] == \"#\":\n",
    "                print(y, x)"
   ],
   "outputs": [
    {
     "output_type": "stream",
     "name": "stdout",
     "text": [
      "0 1\n",
      "1 0\n",
      "1 2\n"
     ]
    }
   ],
   "metadata": {}
  },
  {
   "cell_type": "markdown",
   "source": [
    "# 4 マップの判定・縦"
   ],
   "metadata": {}
  },
  {
   "cell_type": "markdown",
   "source": [
    "マップの行数 H と列数 W とマップを表す H 行 W 列の文字列 S_1 ... S_H が与えられるので、\n",
    "上下のマスがどちらも '#' であるようなマスの y , x 座標 を答えてください。\n",
    "\n",
    "ただし、上端のマスの場合は「下のマスが '#'」であれば、下端のマスの場合は「上のマスが '#'」であれば条件を満たすものとします。\n",
    "\n",
    "なお、マスの座標系は左上端のマスの座標を ( y , x ) = ( 0 , 0 ) とし、\n",
    "下方向が y 座標の正の向き、右方向が x 座標の正の向きとします。"
   ],
   "metadata": {}
  },
  {
   "cell_type": "markdown",
   "source": [
    "入力例1\n",
    "3 3\n",
    "###\n",
    "...\n",
    "###\n",
    "\n",
    "出力例1\n",
    "1 0\n",
    "1 1\n",
    "1 2\n",
    "\n",
    "入力例2\n",
    "4 4\n",
    "#.#.\n",
    ".#.#\n",
    ".#.#\n",
    "#.#.\n",
    "\n",
    "出力例2\n",
    "0 1\n",
    "0 3\n",
    "3 1\n",
    "3 3"
   ],
   "metadata": {}
  },
  {
   "cell_type": "code",
   "execution_count": 37,
   "source": [
    "h, w = map(int, input().split())\n",
    "s = [list(input()) for _ in range(h)]\n",
    "\n",
    "for i in range(h):\n",
    "  for j in range(w):\n",
    "    if (i == 0) or (s[i-1][j] == \"#\"):\n",
    "      if (i == (h-1)) or (s[i+1][j] == \"#\"):\n",
    "        print(i, j)"
   ],
   "outputs": [
    {
     "output_type": "stream",
     "name": "stdout",
     "text": [
      "0 1\n",
      "0 3\n",
      "3 1\n",
      "3 3\n"
     ]
    }
   ],
   "metadata": {}
  },
  {
   "cell_type": "markdown",
   "source": [
    "# 5. マップの判定・縦横"
   ],
   "metadata": {}
  },
  {
   "cell_type": "markdown",
   "source": [
    "マップの行数 H と列数 W とマップを表す H 行 W 列の文字列 S_1 ... S_H が与えられるので、\n",
    "隣接する上下左右のマスが全て '#' であるマスの y , x 座標 を答えてください。\n",
    "\n",
    "ただし、左端のマスの場合は「右のマスが '#' 」であれば、右端のマスの場合は「左のマスが '#' 」であれば隣接する左右のマスが全て '#' であるものとします。\n",
    "また、上端のマスの場合は「下のマスが '#' 」であれば、下端のマスの場合は「上のマスが '#' 」であれば隣接する上下のマスが全て \"#\" であるものとします。\n",
    "\n",
    "なお、マスの座標系は左上端のマスの座標を ( y , x ) = ( 0 , 0 ) とし、\n",
    "下方向が y 座標の正の向き、右方向が x 座標の正の向きとします。"
   ],
   "metadata": {}
  },
  {
   "cell_type": "markdown",
   "source": [
    "入力例1\n",
    "3 3\n",
    "##.\n",
    "###\n",
    "...\n",
    "\n",
    "出力例1\n",
    "0 0\n",
    "0 2\n",
    "\n",
    "入力例2\n",
    "10 10\n",
    "##########\n",
    "..........\n",
    "##########\n",
    "##########\n",
    "..........\n",
    "#.#.#.#.#.\n",
    ".#.#.#.#.#\n",
    "#.#.#.#.#.\n",
    ".#.#.#.#.#\n",
    "..........\n",
    "\n",
    "出力例2\n",
    "6 0\n",
    "6 2\n",
    "6 4\n",
    "6 6\n",
    "6 8\n",
    "7 1\n",
    "7 3\n",
    "7 5\n",
    "7 7\n",
    "7 9"
   ],
   "metadata": {}
  },
  {
   "cell_type": "code",
   "execution_count": 41,
   "source": [
    "h, w = map(int, input().split())\n",
    "s = [list(input()) for _ in range(h)]\n",
    "\n",
    "for i in range(h):\n",
    "  for j in range(w):\n",
    "    if (i == 0 or s[i-1][j] == \"#\")and \\\n",
    "    (i == (h-1) or s[i+1][j] == \"#\") and \\\n",
    "    (j == 0 or s[i][j-1] == \"#\") and \\\n",
    "    (j == (w-1) or s[i][j+1] == \"#\"):\n",
    "      print(i, j)\n"
   ],
   "outputs": [],
   "metadata": {}
  },
  {
   "cell_type": "markdown",
   "source": [
    "### 回答コード"
   ],
   "metadata": {}
  },
  {
   "cell_type": "code",
   "execution_count": 40,
   "source": [
    "h, w = map(int, input().split())\n",
    "s = [list(input()) for _ in range(h)]\n",
    "\n",
    "for i in range(h):\n",
    "    for j in range(w):\n",
    "        flag_row = False\n",
    "        flag_column = False\n",
    "        if j == 0 or s[i][j - 1] == \"#\":\n",
    "            if j == w - 1 or s[i][j + 1] == \"#\":\n",
    "                flag_row = True\n",
    "        if i == 0 or s[i - 1][j] == \"#\":\n",
    "            if i == h - 1 or s[i + 1][j] == \"#\":\n",
    "                flag_column = True\n",
    "        if flag_column and flag_row:\n",
    "            print(i, j)"
   ],
   "outputs": [
    {
     "output_type": "stream",
     "name": "stdout",
     "text": [
      "0 0\n",
      "0 2\n"
     ]
    }
   ],
   "metadata": {}
  },
  {
   "cell_type": "code",
   "execution_count": null,
   "source": [],
   "outputs": [],
   "metadata": {}
  }
 ],
 "metadata": {
  "orig_nbformat": 4,
  "language_info": {
   "name": "python",
   "version": "3.8.6",
   "mimetype": "text/x-python",
   "codemirror_mode": {
    "name": "ipython",
    "version": 3
   },
   "pygments_lexer": "ipython3",
   "nbconvert_exporter": "python",
   "file_extension": ".py"
  },
  "kernelspec": {
   "name": "python3",
   "display_name": "Python 3.8.6 64-bit ('.venv_pn': venv)"
  },
  "interpreter": {
   "hash": "b8d03bcec018b7435948b94e52deb3af8023643e69f263ff8688b007108bcdb9"
  }
 },
 "nbformat": 4,
 "nbformat_minor": 2
}