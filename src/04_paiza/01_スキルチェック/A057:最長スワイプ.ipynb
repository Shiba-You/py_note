{
 "cells": [
  {
   "cell_type": "markdown",
   "metadata": {},
   "source": [
    "最近流行りのゲーム「パイザ」は、連続する数字をスワイプすることで点数を稼ぐスマートフォンゲームです。\n",
    "「パイザ」では縦横に数字が N 個並んでおり、縦、横、あるいは斜めに一直線上に並んでいて、かつ連続している数字をスワイプすることができます。\n",
    "プログラマーであるあなたは、最長で何個の数字をスワイプできるのかを計算するプログラムを書くことにしました。\n",
    "\n",
    "入力例 1 では、下図のようになり、最長で 4 個の数字をスワイプすることができます。\n",
    "ただし、4, 3, 4 のように上下する数列はスワイプすることはできないことに注意してください。"
   ]
  },
  {
   "cell_type": "code",
   "execution_count": 41,
   "metadata": {},
   "outputs": [
    {
     "ename": "IndexError",
     "evalue": "list index out of range",
     "output_type": "error",
     "traceback": [
      "\u001b[0;31m---------------------------------------------------------------------------\u001b[0m",
      "\u001b[0;31mIndexError\u001b[0m                                Traceback (most recent call last)",
      "\u001b[0;32m/var/folders/l7/dnzbj6q943sgblf4l8v6kmfc0000gn/T/ipykernel_45844/2410033606.py\u001b[0m in \u001b[0;36m<module>\u001b[0;34m\u001b[0m\n\u001b[1;32m    111\u001b[0m \u001b[0;34m\u001b[0m\u001b[0m\n\u001b[1;32m    112\u001b[0m \u001b[0;32mif\u001b[0m \u001b[0m__name__\u001b[0m \u001b[0;34m==\u001b[0m \u001b[0;34m'__main__'\u001b[0m\u001b[0;34m:\u001b[0m\u001b[0;34m\u001b[0m\u001b[0;34m\u001b[0m\u001b[0m\n\u001b[0;32m--> 113\u001b[0;31m   \u001b[0mmain\u001b[0m\u001b[0;34m(\u001b[0m\u001b[0;34m)\u001b[0m\u001b[0;34m\u001b[0m\u001b[0;34m\u001b[0m\u001b[0m\n\u001b[0m",
      "\u001b[0;32m/var/folders/l7/dnzbj6q943sgblf4l8v6kmfc0000gn/T/ipykernel_45844/2410033606.py\u001b[0m in \u001b[0;36mmain\u001b[0;34m()\u001b[0m\n\u001b[1;32m    107\u001b[0m   \u001b[0mN\u001b[0m\u001b[0;34m,\u001b[0m \u001b[0mS\u001b[0m\u001b[0;34m,\u001b[0m \u001b[0mans\u001b[0m \u001b[0;34m=\u001b[0m \u001b[0minit\u001b[0m\u001b[0;34m(\u001b[0m\u001b[0;34m)\u001b[0m\u001b[0;34m\u001b[0m\u001b[0;34m\u001b[0m\u001b[0m\n\u001b[1;32m    108\u001b[0m   \u001b[0;31m# N, S, ans = init_test()\u001b[0m\u001b[0;34m\u001b[0m\u001b[0;34m\u001b[0m\u001b[0;34m\u001b[0m\u001b[0m\n\u001b[0;32m--> 109\u001b[0;31m   \u001b[0mans\u001b[0m \u001b[0;34m=\u001b[0m \u001b[0msequential\u001b[0m\u001b[0;34m(\u001b[0m\u001b[0mN\u001b[0m\u001b[0;34m,\u001b[0m \u001b[0mS\u001b[0m\u001b[0;34m,\u001b[0m \u001b[0mans\u001b[0m\u001b[0;34m)\u001b[0m\u001b[0;34m\u001b[0m\u001b[0;34m\u001b[0m\u001b[0m\n\u001b[0m\u001b[1;32m    110\u001b[0m   \u001b[0mprint\u001b[0m\u001b[0;34m(\u001b[0m\u001b[0mans\u001b[0m\u001b[0;34m+\u001b[0m\u001b[0;36m1\u001b[0m\u001b[0;34m)\u001b[0m\u001b[0;34m\u001b[0m\u001b[0;34m\u001b[0m\u001b[0m\n\u001b[1;32m    111\u001b[0m \u001b[0;34m\u001b[0m\u001b[0m\n",
      "\u001b[0;32m/var/folders/l7/dnzbj6q943sgblf4l8v6kmfc0000gn/T/ipykernel_45844/2410033606.py\u001b[0m in \u001b[0;36msequential\u001b[0;34m(N, S, ans)\u001b[0m\n\u001b[1;32m     98\u001b[0m \u001b[0;31m# 作業処理\u001b[0m\u001b[0;34m\u001b[0m\u001b[0;34m\u001b[0m\u001b[0;34m\u001b[0m\u001b[0m\n\u001b[1;32m     99\u001b[0m \u001b[0;32mdef\u001b[0m \u001b[0msequential\u001b[0m\u001b[0;34m(\u001b[0m\u001b[0mN\u001b[0m\u001b[0;34m,\u001b[0m \u001b[0mS\u001b[0m\u001b[0;34m,\u001b[0m \u001b[0mans\u001b[0m\u001b[0;34m)\u001b[0m\u001b[0;34m:\u001b[0m\u001b[0;34m\u001b[0m\u001b[0;34m\u001b[0m\u001b[0m\n\u001b[0;32m--> 100\u001b[0;31m   \u001b[0mans\u001b[0m \u001b[0;34m=\u001b[0m \u001b[0mvertical\u001b[0m\u001b[0;34m(\u001b[0m\u001b[0mN\u001b[0m\u001b[0;34m,\u001b[0m \u001b[0mS\u001b[0m\u001b[0;34m,\u001b[0m \u001b[0mans\u001b[0m\u001b[0;34m)\u001b[0m\u001b[0;34m\u001b[0m\u001b[0;34m\u001b[0m\u001b[0m\n\u001b[0m\u001b[1;32m    101\u001b[0m   \u001b[0mans\u001b[0m \u001b[0;34m=\u001b[0m \u001b[0mhorizontal\u001b[0m\u001b[0;34m(\u001b[0m\u001b[0mN\u001b[0m\u001b[0;34m,\u001b[0m \u001b[0mS\u001b[0m\u001b[0;34m,\u001b[0m \u001b[0mans\u001b[0m\u001b[0;34m)\u001b[0m\u001b[0;34m\u001b[0m\u001b[0;34m\u001b[0m\u001b[0m\n\u001b[1;32m    102\u001b[0m   \u001b[0mans\u001b[0m \u001b[0;34m=\u001b[0m \u001b[0mdiagonal\u001b[0m\u001b[0;34m(\u001b[0m\u001b[0mN\u001b[0m\u001b[0;34m,\u001b[0m \u001b[0mS\u001b[0m\u001b[0;34m,\u001b[0m \u001b[0mans\u001b[0m\u001b[0;34m)\u001b[0m\u001b[0;34m\u001b[0m\u001b[0;34m\u001b[0m\u001b[0m\n",
      "\u001b[0;32m/var/folders/l7/dnzbj6q943sgblf4l8v6kmfc0000gn/T/ipykernel_45844/2410033606.py\u001b[0m in \u001b[0;36mvertical\u001b[0;34m(N, S, ans)\u001b[0m\n\u001b[1;32m     21\u001b[0m     \u001b[0mp_dif\u001b[0m \u001b[0;34m=\u001b[0m \u001b[0;36m0\u001b[0m\u001b[0;34m\u001b[0m\u001b[0;34m\u001b[0m\u001b[0m\n\u001b[1;32m     22\u001b[0m     \u001b[0;32mfor\u001b[0m \u001b[0mi\u001b[0m \u001b[0;32min\u001b[0m \u001b[0mrange\u001b[0m\u001b[0;34m(\u001b[0m\u001b[0mN\u001b[0m\u001b[0;34m-\u001b[0m\u001b[0;36m1\u001b[0m\u001b[0;34m)\u001b[0m\u001b[0;34m:\u001b[0m\u001b[0;34m\u001b[0m\u001b[0;34m\u001b[0m\u001b[0m\n\u001b[0;32m---> 23\u001b[0;31m       \u001b[0mdif\u001b[0m \u001b[0;34m=\u001b[0m \u001b[0mS\u001b[0m\u001b[0;34m[\u001b[0m\u001b[0mi\u001b[0m\u001b[0;34m]\u001b[0m\u001b[0;34m[\u001b[0m\u001b[0mj\u001b[0m\u001b[0;34m]\u001b[0m\u001b[0;34m-\u001b[0m\u001b[0mS\u001b[0m\u001b[0;34m[\u001b[0m\u001b[0mi\u001b[0m\u001b[0;34m+\u001b[0m\u001b[0;36m1\u001b[0m\u001b[0;34m]\u001b[0m\u001b[0;34m[\u001b[0m\u001b[0mj\u001b[0m\u001b[0;34m]\u001b[0m\u001b[0;34m\u001b[0m\u001b[0;34m\u001b[0m\u001b[0m\n\u001b[0m\u001b[1;32m     24\u001b[0m       \u001b[0;32mif\u001b[0m \u001b[0mdif\u001b[0m \u001b[0;34m==\u001b[0m \u001b[0;34m-\u001b[0m\u001b[0;36m1\u001b[0m \u001b[0;32mor\u001b[0m \u001b[0mdif\u001b[0m \u001b[0;34m==\u001b[0m \u001b[0;36m1\u001b[0m\u001b[0;34m:\u001b[0m\u001b[0;34m\u001b[0m\u001b[0;34m\u001b[0m\u001b[0m\n\u001b[1;32m     25\u001b[0m         \u001b[0;32mif\u001b[0m \u001b[0mp_dif\u001b[0m \u001b[0;34m==\u001b[0m \u001b[0mdif\u001b[0m\u001b[0;34m:\u001b[0m\u001b[0;34m\u001b[0m\u001b[0;34m\u001b[0m\u001b[0m\n",
      "\u001b[0;31mIndexError\u001b[0m: list index out of range"
     ]
    }
   ],
   "source": [
    "# 入力処理\n",
    "def init():\n",
    "  N = int(input())\n",
    "  S = [list(map(int, input())) for _ in range(N)]\n",
    "  ans = 0\n",
    "  return N, S, ans\n",
    "\n",
    "def init_test():\n",
    "  N = 4\n",
    "  S = [[1, 3, 1, 4],\\\n",
    "       [1, 2, 1, 3],\\\n",
    "       [2, 1, 3, 4],\\\n",
    "       [3, 1, 2, 4]] \n",
    "  ans = 0\n",
    "  return N, S, ans\n",
    "\n",
    "# 縦の調査\n",
    "def vertical(N, S, ans):\n",
    "  for j in range(N):\n",
    "    seq = 0\n",
    "    p_dif = 0\n",
    "    for i in range(N-1):\n",
    "      dif = S[i][j]-S[i+1][j]\n",
    "      if dif == -1 or dif == 1:\n",
    "        if p_dif == dif:\n",
    "          seq += 1\n",
    "        else: \n",
    "          p_dif = dif\n",
    "          seq = 1\n",
    "        if ans < seq:\n",
    "          ans = seq\n",
    "      else:\n",
    "        seq = 0\n",
    "        p_dif = 0\n",
    "  return ans\n",
    "\n",
    "# 横の連続調査\n",
    "def horizontal(N, S, ans):\n",
    "  for i in range(N):\n",
    "    seq = 0\n",
    "    p_dif = 0\n",
    "    for j in range(N-1):\n",
    "      dif = S[i][j]-S[i][j+1]\n",
    "      if dif == -1 or dif == 1:\n",
    "        if p_dif == dif:\n",
    "          seq += 1\n",
    "        else: \n",
    "          p_dif = dif\n",
    "          seq = 1\n",
    "        if ans < seq:\n",
    "          ans = seq\n",
    "      else:\n",
    "        seq = 0\n",
    "        p_dif = 0\n",
    "  return ans\n",
    "\n",
    "def diagonal(N, S, ans):\n",
    "  # 上三角に対応\n",
    "  for j in range(N-1):\n",
    "    seq = 0\n",
    "    p_dif = 0\n",
    "    for i in range(N-1):\n",
    "      if not(0 <= i+j+1 < N):\n",
    "        break\n",
    "      dif = S[j][i+j]-S[j+1][i+j+1]\n",
    "      if dif == -1 or dif == 1:\n",
    "        if p_dif == dif:\n",
    "          seq += 1\n",
    "        else: \n",
    "          p_dif = dif\n",
    "          seq = 1\n",
    "        if ans < seq:\n",
    "          ans = seq\n",
    "      else:\n",
    "        seq = 0\n",
    "        p_dif = 0\n",
    "  # 下三角に対応\n",
    "  for i in range(N-1):\n",
    "    seq = 0\n",
    "    p_dif = 0\n",
    "    for j in range(N-1):\n",
    "      if not(0 <= (N-2)-i+j+1 < N):\n",
    "        break\n",
    "      dif = S[(N-2)-i+j][j]-S[(N-2)-i+j+1][j+1]\n",
    "      if dif == -1 or dif == 1:\n",
    "        if p_dif == dif:\n",
    "          seq += 1\n",
    "        else: \n",
    "          p_dif = dif\n",
    "          seq = 1\n",
    "        if ans < seq:\n",
    "          ans = seq\n",
    "      else:\n",
    "        seq = 0\n",
    "        p_dif = 0\n",
    "  return ans\n",
    "\n",
    "# 作業処理\n",
    "def sequential(N, S, ans):\n",
    "  ans = vertical(N, S, ans)\n",
    "  ans = horizontal(N, S, ans)\n",
    "  ans = diagonal(N, S, ans)\n",
    "  return ans\n",
    "\n",
    "# 主要関数\n",
    "def main():\n",
    "  N, S, ans = init()\n",
    "  # N, S, ans = init_test()\n",
    "  ans = sequential(N, S, ans)\n",
    "  print(ans+1)\n",
    "\n",
    "if __name__ == '__main__':\n",
    "  main()"
   ]
  },
  {
   "cell_type": "code",
   "execution_count": 2,
   "metadata": {},
   "outputs": [],
   "source": [
    "S = [list(input()) for _ in range(4)]"
   ]
  },
  {
   "cell_type": "code",
   "execution_count": 15,
   "metadata": {},
   "outputs": [
    {
     "name": "stdout",
     "output_type": "stream",
     "text": [
      "1\n"
     ]
    }
   ],
   "source": [
    "N = 4\n",
    "S = [[1, 3, 1, 4],\\\n",
    "      [1, 2, 1, 3],\\\n",
    "      [2, 1, 3, 4],\\\n",
    "      [3, 1, 2, 4]] \n",
    "for i in range(N):\n",
    "  seq = 0\n",
    "  ans = 0\n",
    "  for j in range(N-1):\n",
    "    dif = S[i][j]-S[i][j+1]\n",
    "    if dif == -1 or dif == 1:\n",
    "      if p_dif == dif:\n",
    "        seq += 1\n",
    "      else: \n",
    "        p_dif = dif\n",
    "        seq = 1\n",
    "      if ans < seq:\n",
    "        ans = seq\n",
    "    else:\n",
    "      seq = 0\n",
    "      p_dif = 0\n",
    "print(ans)\n"
   ]
  },
  {
   "cell_type": "code",
   "execution_count": 38,
   "metadata": {},
   "outputs": [],
   "source": [
    "S = [list(map(int, input())) for _ in range(2)]"
   ]
  },
  {
   "cell_type": "code",
   "execution_count": 39,
   "metadata": {},
   "outputs": [
    {
     "name": "stdout",
     "output_type": "stream",
     "text": [
      "[[1, 2, 3], [1, 2, 3]]\n"
     ]
    }
   ],
   "source": [
    "print(S)"
   ]
  },
  {
   "cell_type": "code",
   "execution_count": null,
   "metadata": {},
   "outputs": [],
   "source": []
  }
 ],
 "metadata": {
  "interpreter": {
   "hash": "52ce370d13d9f3e7fec0c208e08f00abccec8be27c64f36722ecec456d801487"
  },
  "kernelspec": {
   "display_name": "Python 3.8.6 64-bit ('.venv_pn': venv)",
   "name": "python3"
  },
  "language_info": {
   "codemirror_mode": {
    "name": "ipython",
    "version": 3
   },
   "file_extension": ".py",
   "mimetype": "text/x-python",
   "name": "python",
   "nbconvert_exporter": "python",
   "pygments_lexer": "ipython3",
   "version": "3.8.6"
  },
  "orig_nbformat": 4
 },
 "nbformat": 4,
 "nbformat_minor": 2
}
