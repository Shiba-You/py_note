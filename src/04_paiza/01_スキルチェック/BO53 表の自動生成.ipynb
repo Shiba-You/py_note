{
 "cells": [
  {
   "cell_type": "code",
   "execution_count": 69,
   "source": [
    "H, W = list(map(int, input().split()))\n",
    "a = [list(map(int, input().split())) for i in range(2)]"
   ],
   "outputs": [],
   "metadata": {}
  },
  {
   "cell_type": "code",
   "execution_count": 50,
   "source": [
    "ans = []\n",
    "dif_h0 = a[0][1] - a[0][0]\n",
    "dif_h1 = a[1][1] - a[1][0]\n",
    "dif_v1 = a[1][0] - a[0][0]\n",
    "\n",
    "for i in range(H):\n",
    "  for j in range(W-1):\n",
    "    print(ans)\n",
    "    if i < 2:\n",
    "      if j < 2:\n",
    "        if j == 0:\n",
    "          ans.append([a[i][j]])\n",
    "      elif i == 0:\n",
    "        ans[i].append(ans[i][j-1] + dif_h0)\n",
    "      elif i == 1:\n",
    "        ans[i].append(ans[i][j-1] + dif_h1)\n",
    "    if i != 0:\n",
    "      if j == 0:\n",
    "        ans.append([ans[i-1][0] + dif_v])\n",
    "      ans[i].append(ans[i][j] + dif_h)"
   ],
   "outputs": [
    {
     "output_type": "stream",
     "name": "stdout",
     "text": [
      "[]\n",
      "[[1]]\n",
      "[[1]]\n"
     ]
    },
    {
     "output_type": "error",
     "ename": "IndexError",
     "evalue": "list index out of range",
     "traceback": [
      "\u001b[0;31m---------------------------------------------------------------------------\u001b[0m",
      "\u001b[0;31mIndexError\u001b[0m                                Traceback (most recent call last)",
      "\u001b[0;32m<ipython-input-50-e4a09f94ce42>\u001b[0m in \u001b[0;36m<module>\u001b[0;34m\u001b[0m\n\u001b[1;32m     12\u001b[0m           \u001b[0mans\u001b[0m\u001b[0;34m.\u001b[0m\u001b[0mappend\u001b[0m\u001b[0;34m(\u001b[0m\u001b[0;34m[\u001b[0m\u001b[0ma\u001b[0m\u001b[0;34m[\u001b[0m\u001b[0mi\u001b[0m\u001b[0;34m]\u001b[0m\u001b[0;34m[\u001b[0m\u001b[0mj\u001b[0m\u001b[0;34m]\u001b[0m\u001b[0;34m]\u001b[0m\u001b[0;34m)\u001b[0m\u001b[0;34m\u001b[0m\u001b[0;34m\u001b[0m\u001b[0m\n\u001b[1;32m     13\u001b[0m       \u001b[0;32melif\u001b[0m \u001b[0mi\u001b[0m \u001b[0;34m==\u001b[0m \u001b[0;36m0\u001b[0m\u001b[0;34m:\u001b[0m\u001b[0;34m\u001b[0m\u001b[0;34m\u001b[0m\u001b[0m\n\u001b[0;32m---> 14\u001b[0;31m         \u001b[0mans\u001b[0m\u001b[0;34m[\u001b[0m\u001b[0mi\u001b[0m\u001b[0;34m]\u001b[0m\u001b[0;34m.\u001b[0m\u001b[0mappend\u001b[0m\u001b[0;34m(\u001b[0m\u001b[0mans\u001b[0m\u001b[0;34m[\u001b[0m\u001b[0mi\u001b[0m\u001b[0;34m]\u001b[0m\u001b[0;34m[\u001b[0m\u001b[0mj\u001b[0m\u001b[0;34m-\u001b[0m\u001b[0;36m1\u001b[0m\u001b[0;34m]\u001b[0m \u001b[0;34m+\u001b[0m \u001b[0mdif_h0\u001b[0m\u001b[0;34m)\u001b[0m\u001b[0;34m\u001b[0m\u001b[0;34m\u001b[0m\u001b[0m\n\u001b[0m\u001b[1;32m     15\u001b[0m       \u001b[0;32melif\u001b[0m \u001b[0mi\u001b[0m \u001b[0;34m==\u001b[0m \u001b[0;36m1\u001b[0m\u001b[0;34m:\u001b[0m\u001b[0;34m\u001b[0m\u001b[0;34m\u001b[0m\u001b[0m\n\u001b[1;32m     16\u001b[0m         \u001b[0mans\u001b[0m\u001b[0;34m[\u001b[0m\u001b[0mi\u001b[0m\u001b[0;34m]\u001b[0m\u001b[0;34m.\u001b[0m\u001b[0mappend\u001b[0m\u001b[0;34m(\u001b[0m\u001b[0mans\u001b[0m\u001b[0;34m[\u001b[0m\u001b[0mi\u001b[0m\u001b[0;34m]\u001b[0m\u001b[0;34m[\u001b[0m\u001b[0mj\u001b[0m\u001b[0;34m-\u001b[0m\u001b[0;36m1\u001b[0m\u001b[0;34m]\u001b[0m \u001b[0;34m+\u001b[0m \u001b[0mdif_h1\u001b[0m\u001b[0;34m)\u001b[0m\u001b[0;34m\u001b[0m\u001b[0;34m\u001b[0m\u001b[0m\n",
      "\u001b[0;31mIndexError\u001b[0m: list index out of range"
     ]
    }
   ],
   "metadata": {}
  },
  {
   "cell_type": "code",
   "execution_count": 70,
   "source": [
    "ans = []\n",
    "dif_h0 = a[0][1] - a[0][0]\n",
    "dif_h1 = a[1][1] - a[1][0]\n",
    "dif_v1 = a[1][0] - a[0][0]\n",
    "\n",
    "for i in range(H):\n",
    "  for j in range(W):\n",
    "    if i < 2:\n",
    "      if j < 2:\n",
    "        continue\n",
    "      a[i].append(a[i][j-1] + a[i][1] - a[i][0])\n",
    "      print(a)\n",
    "      print(i, j)\n",
    "    else:\n",
    "      if j == 0:\n",
    "        a.append([a[i-1][0] + a[1][0] - a[0][0]])\n",
    "      else:\n",
    "        a[i].append(a[i-1][j] + a[1][j] - a[0][j])"
   ],
   "outputs": [
    {
     "output_type": "stream",
     "name": "stdout",
     "text": [
      "[[1, 5, 9], [-2, 1]]\n",
      "0 2\n",
      "[[1, 5, 9, 13], [-2, 1]]\n",
      "0 3\n",
      "[[1, 5, 9, 13, 17], [-2, 1]]\n",
      "0 4\n",
      "[[1, 5, 9, 13, 17, 21], [-2, 1]]\n",
      "0 5\n",
      "[[1, 5, 9, 13, 17, 21, 25], [-2, 1]]\n",
      "0 6\n",
      "[[1, 5, 9, 13, 17, 21, 25], [-2, 1, 4]]\n",
      "1 2\n",
      "[[1, 5, 9, 13, 17, 21, 25], [-2, 1, 4, 7]]\n",
      "1 3\n",
      "[[1, 5, 9, 13, 17, 21, 25], [-2, 1, 4, 7, 10]]\n",
      "1 4\n",
      "[[1, 5, 9, 13, 17, 21, 25], [-2, 1, 4, 7, 10, 13]]\n",
      "1 5\n",
      "[[1, 5, 9, 13, 17, 21, 25], [-2, 1, 4, 7, 10, 13, 16]]\n",
      "1 6\n"
     ]
    }
   ],
   "metadata": {}
  },
  {
   "cell_type": "code",
   "execution_count": 73,
   "source": [
    "for i in range(H):\n",
    "  print(' '.join(map(str, a[i])))"
   ],
   "outputs": [
    {
     "output_type": "stream",
     "name": "stdout",
     "text": [
      "1 5 9 13 17 21 25\n",
      "-2 1 4 7 10 13 16\n",
      "-5 -3 -1 1 3 5 7\n",
      "-8 -7 -6 -5 -4 -3 -2\n",
      "-11 -11 -11 -11 -11 -11 -11\n"
     ]
    }
   ],
   "metadata": {}
  },
  {
   "cell_type": "code",
   "execution_count": null,
   "source": [],
   "outputs": [],
   "metadata": {}
  }
 ],
 "metadata": {
  "orig_nbformat": 4,
  "language_info": {
   "name": "python"
  }
 },
 "nbformat": 4,
 "nbformat_minor": 2
}