{
 "cells": [
  {
   "cell_type": "markdown",
   "source": [
    "Leet と呼ばれるインターネットスラングがあります。\n",
    "Leet ではいくつかのアルファベットをよく似た形の他の文字に置き換えて表記します。 Leet の置き換え規則はたくさんありますが、ここでは次の置き換え規則のみを考えましょう。\n",
    "\n",
    "A 4 \n",
    "E 3\n",
    "G 6\n",
    "I 1\n",
    "O 0\n",
    "S 5\n",
    "Z 2\n",
    "\n",
    "文字列が入力されるので、これを Leet に変換して出力するプログラムを書いてください。"
   ],
   "metadata": {}
  },
  {
   "cell_type": "code",
   "execution_count": 1,
   "source": [
    "s = list(input().strip())"
   ],
   "outputs": [],
   "metadata": {}
  },
  {
   "cell_type": "code",
   "execution_count": 8,
   "source": [
    "print(len(s))"
   ],
   "outputs": [
    {
     "output_type": "stream",
     "name": "stdout",
     "text": [
      "5\n"
     ]
    }
   ],
   "metadata": {}
  },
  {
   "cell_type": "code",
   "execution_count": 10,
   "source": [
    "ans = []\n",
    "leets = [[\"A\", \"4\"], [\"E\", \"3\"], [\"G\", \"6\"], [\"I\", \"1\"], [\"O\", \"0\"], [\"S\", \"5\"], [\"Z\", \"2\"]]\n",
    "for i, val in enumerate(s):\n",
    "  for leet in leets:\n",
    "    if val == leet[0]:\n",
    "      ans.append(leet[1])\n",
    "  if len(ans) == i:\n",
    "    ans.append(val)\n",
    "\n",
    "print(\"\".join(ans))"
   ],
   "outputs": [
    {
     "output_type": "stream",
     "name": "stdout",
     "text": [
      "P4124\n"
     ]
    }
   ],
   "metadata": {}
  },
  {
   "cell_type": "code",
   "execution_count": null,
   "source": [],
   "outputs": [],
   "metadata": {}
  }
 ],
 "metadata": {
  "orig_nbformat": 4,
  "language_info": {
   "name": "python",
   "version": "3.6.10",
   "mimetype": "text/x-python",
   "codemirror_mode": {
    "name": "ipython",
    "version": 3
   },
   "pygments_lexer": "ipython3",
   "nbconvert_exporter": "python",
   "file_extension": ".py"
  },
  "kernelspec": {
   "name": "python3",
   "display_name": "Python 3.6.10 64-bit ('3.6.10': pyenv)"
  },
  "interpreter": {
   "hash": "f3dd5439508917ac8dfdfb3b9d1a34752de309c813e0a39edad908e490b802ed"
  }
 },
 "nbformat": 4,
 "nbformat_minor": 2
}