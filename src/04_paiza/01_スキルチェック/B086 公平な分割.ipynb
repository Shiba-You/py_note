{
 "cells": [
  {
   "cell_type": "markdown",
   "source": [
    "あなたは 3 人の友人と一緒にパーティをしています。\n",
    "パーティも盛り上がり、メインであるイチゴのケーキを食べようとしたところ、1 つ問題が発生してしまいました。\n",
    "ケーキの上にイチゴが不規則に散らばって配置されていたのです。\n",
    "そこで、どのようにケーキを切り分ければ公平になるのか、話し合うことにしました。\n",
    "\n",
    "ケーキは縦 H 横 W の長方形の形をしているため、ケーキを以下のように 2 次元平面上で捉えてみました。\n",
    "\n",
    "・ケーキを表す長方形の左上の座標を 2 次元平面の原点 (0, 0) とします。\n",
    "・原点から y 軸方向に i だけ動き、x 軸方向に j だけ動いた座標は (i, j) です。\n",
    "・左上の座標を (i, j) とし右下の座標を (i + 1, j + 1) とする正方形の領域は 1 つの区画を表し、各区画は生クリームかイチゴのいずれかになっています。\n",
    "\n",
    "あなたは、y 座標と x 座標をそれぞれ 1 つ指定し、その座標で分割し、合計 4 個のケーキに切り分けることにしました。\n",
    "このとき、各ケーキについて満足度を\n",
    "\n",
    "・ケーキの面積 + (イチゴの個数)^2\n",
    "\n",
    "と考えることにしました。\n",
    "そして、4 個のケーキそれぞれについて満足度を計算したとき最大値が A で最小値が B ならば、その不公平度を\n",
    "\n",
    "・A - B\n",
    "と計算することにしました。\n",
    "\n",
    "あなたが知りたいのは、最も不公平度が低くなる切り分け方です。\n",
    "それを求め、ケーキを分割する座標を出力するプログラムを作成してください。\n",
    "下図は入力例 1 の様子を表しています。"
   ],
   "metadata": {}
  },
  {
   "cell_type": "markdown",
   "source": [
    "入力される値\n",
    "入力は以下のフォーマットで与えられます。\n",
    "\n",
    "H W\n",
    "C_1\n",
    "...\n",
    "C_H\n",
    "・1 行目には、ケーキの高さと幅を表す整数 H, W がこの順に半角スペース区切りで与えられます。\n",
    "・続く H 行のうちの i 行目 (1 ≦ i ≦ H) には、y 座標 i に関するケーキの様子を表す長さ W の文字列 C_i が与えられます。 C_i の j 文字目 (1 ≦ j ≦ W) は座標 (i, j) と (i+1, j+1) による区画の様子を表し、'#' ならば生クリーム、'@' ならばイチゴです。"
   ],
   "metadata": {}
  },
  {
   "cell_type": "markdown",
   "source": [
    "期待する出力\n",
    "以下の形式に従ってケーキを分割する座標を出力してください。\n",
    "a b\n",
    "・不公平度が最も低くなる切り分け方について、指定する y 座標の値 a と x 座標の値 b をこの順に 1 行に出力してください。\n",
    "・ただし、そのような切り分け方を複数考えられる場合は、 y 座標の値が最も小さいものを、それでも複数考えられる場合は、加えて x 座標が最も小さいものを出力してください。\n",
    "・出力最終行の末尾に改行を入れ、余計な文字、空行を含んではいけません。"
   ],
   "metadata": {}
  },
  {
   "cell_type": "code",
   "execution_count": 4,
   "source": [
    "a, b = list(map(int, input().split()))\n",
    "c = [list(input()) for i in range(a)]"
   ],
   "outputs": [],
   "metadata": {}
  },
  {
   "cell_type": "code",
   "execution_count": 5,
   "source": [
    "print(c)"
   ],
   "outputs": [
    {
     "output_type": "stream",
     "name": "stdout",
     "text": [
      "[['@', '#', '#', '#'], ['@', '#', '#', '#'], ['#', '@', '#', '@'], ['@', '#', '@', '@'], ['@', '@', '@', '@'], ['@', '#', '@', '@']]\n"
     ]
    }
   ],
   "metadata": {}
  },
  {
   "cell_type": "code",
   "execution_count": 21,
   "source": [
    "x = b // 2\n",
    "y = a // 2\n",
    "print(x,y)"
   ],
   "outputs": [
    {
     "output_type": "stream",
     "name": "stdout",
     "text": [
      "2 3\n"
     ]
    }
   ],
   "metadata": {}
  },
  {
   "cell_type": "code",
   "execution_count": 42,
   "source": [
    "def count(area):\n",
    "  tmp = 0\n",
    "  ichigo = 0\n",
    "  for val in area:\n",
    "    tmp += len(val)\n",
    "    ichigo += val.count(\"@\")\n",
    "  tmp += ichigo**2 \n",
    "  return tmp\n",
    "\n",
    "dif = float(\"inf\")\n",
    "x = b // 2\n",
    "y = a // 2\n",
    "\n",
    "while True:\n",
    "  \n",
    "  up = c[0:y]\n",
    "  down = c[y:a]\n",
    "\n",
    "  ul = [r[0:x] for r in up]\n",
    "  ur = [r[x:b] for r in up]\n",
    "  dl = [r[0:x] for r in down]\n",
    "  dr = [r[x:b] for r in down]\n",
    "\n",
    "  fare = []\n",
    "\n",
    "  for val in (ul, ur, dl, dr):\n",
    "    fare.append(count(val))\n",
    "  \n",
    "  if dif > max(fare) - min(fare):\n",
    "    dif = max(fare) - min(fare)\n",
    "    if (fare.index(max(fare)) == 0 or fare.index(max(fare)) == 2) and (fare.index(min(fare)) == 0 or fare.index(min(fare)) == 3):\n",
    "      x += 1\n",
    "    else\n",
    "  \n",
    "\n",
    "print(fare)"
   ],
   "outputs": [
    {
     "output_type": "stream",
     "name": "stdout",
     "text": [
      "[15, 7, 22, 42]\n"
     ]
    }
   ],
   "metadata": {}
  },
  {
   "cell_type": "code",
   "execution_count": null,
   "source": [],
   "outputs": [],
   "metadata": {}
  }
 ],
 "metadata": {
  "orig_nbformat": 4,
  "language_info": {
   "name": "python",
   "version": "3.6.10",
   "mimetype": "text/x-python",
   "codemirror_mode": {
    "name": "ipython",
    "version": 3
   },
   "pygments_lexer": "ipython3",
   "nbconvert_exporter": "python",
   "file_extension": ".py"
  },
  "kernelspec": {
   "name": "python3",
   "display_name": "Python 3.6.10 64-bit ('3.6.10': pyenv)"
  },
  "interpreter": {
   "hash": "f3dd5439508917ac8dfdfb3b9d1a34752de309c813e0a39edad908e490b802ed"
  }
 },
 "nbformat": 4,
 "nbformat_minor": 2
}