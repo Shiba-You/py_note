{
 "cells": [
  {
   "cell_type": "markdown",
   "metadata": {},
   "source": [
    "あなたの会社でカラオケ大会をすることになりました。\n",
    "課題曲を決め、カラオケの得点を出し N 人で競います。\n",
    "社長にどうしてもと頼まれて、カラオケの得点計算プログラムをあなたが書くことになりました。\n",
    "\n",
    "音楽に疎いあなたは少し勉強して、音程が Hz (ヘルツ)で表現されることを知りました。そこで、それを基準に得点を計算することにしました。\n",
    "採点は 100 点からの減点方式で 0 点を下回ることはありません。以下を参考にして、課題曲の誤差があるたびにに点数を引いていきます。\n",
    "ただし、誤差とは、ただしい音程と自分が歌った音程の差の絶対値とします。\n",
    "\n",
    "・誤差 5 Hz 以内なら減点しない\n",
    "・上記に当てはまらず、誤差 10 Hz 以内なら 1 点減点\n",
    "・上記に当てはまらず、誤差 20 Hz 以内なら 2 点減点\n",
    "・上記に当てはまらず、誤差 30 Hz 以内なら 3 点減点\n",
    "・上記に当てはまらない場合、5 点減点\n",
    "\n",
    "課題曲の正しい音程と、N 人の歌った音程が入力されるので、N 人のうちの最高得点を出力してください。"
   ]
  },
  {
   "cell_type": "code",
   "execution_count": 7,
   "metadata": {},
   "outputs": [
    {
     "name": "stdout",
     "output_type": "stream",
     "text": [
      "[400, 400, 400, 300, 300, 300]\n"
     ]
    }
   ],
   "source": [
    "N, M = 2, 3\n",
    "a = [400, 410, 420]\n",
    "h = [400, 400, 400, 300, 300, 300]"
   ]
  },
  {
   "cell_type": "code",
   "execution_count": 11,
   "metadata": {},
   "outputs": [
    {
     "name": "stdout",
     "output_type": "stream",
     "text": [
      "97\n"
     ]
    }
   ],
   "source": [
    "# 入力処理\n",
    "def init():\n",
    "  N, M = list(map(int, input().split()))\n",
    "  a = [int(input()) for _ in range(M)]\n",
    "  h = 0\n",
    "  return N, M, a, h\n",
    "\n",
    "# 点数計算\n",
    "def evalid(d):\n",
    "  if d <= 5:\n",
    "    return 0\n",
    "  elif d <= 10:\n",
    "    return 1\n",
    "  elif d <= 20:\n",
    "    return 2\n",
    "  elif d <= 30:\n",
    "    return 3\n",
    "  else:\n",
    "    return 5\n",
    "\n",
    "# 主要関数\n",
    "def main():\n",
    "  N, M, a, h = init()\n",
    "  for _ in range(N):\n",
    "    cp = 100\n",
    "    for j in range(M):\n",
    "      # 本当のHzと， 入力されたHzを比較\n",
    "      d = abs(a[j]-int(input()))\n",
    "      # 比較結果を点数に変換\n",
    "      cp -= evalid(d)\n",
    "    if h < cp:\n",
    "      # キャッシュしていたスコアよりも高かったら，更新\n",
    "      h = cp\n",
    "  print(h)\n",
    "\n",
    "if __name__ == '__main__':\n",
    "  main()"
   ]
  },
  {
   "cell_type": "code",
   "execution_count": null,
   "metadata": {},
   "outputs": [],
   "source": []
  }
 ],
 "metadata": {
  "interpreter": {
   "hash": "52ce370d13d9f3e7fec0c208e08f00abccec8be27c64f36722ecec456d801487"
  },
  "kernelspec": {
   "display_name": "Python 3.8.6 64-bit ('.venv_pn': venv)",
   "name": "python3"
  },
  "language_info": {
   "codemirror_mode": {
    "name": "ipython",
    "version": 3
   },
   "file_extension": ".py",
   "mimetype": "text/x-python",
   "name": "python",
   "nbconvert_exporter": "python",
   "pygments_lexer": "ipython3",
   "version": "3.8.6"
  },
  "orig_nbformat": 4
 },
 "nbformat": 4,
 "nbformat_minor": 2
}
