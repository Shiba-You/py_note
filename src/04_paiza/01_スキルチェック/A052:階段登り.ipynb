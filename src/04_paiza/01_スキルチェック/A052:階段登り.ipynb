{
 "cells": [
  {
   "cell_type": "markdown",
   "metadata": {},
   "source": [
    "あなたは家の階段を登るとき、A 段飛ばしもしくは B 段飛ばしで登ることにしています。\n",
    "A 段飛ばしと B 段飛ばしを混ぜて登ることもできます。\n",
    "\n",
    "ある日階段の掃除をしようと思って段をよく見てみると、全く汚れていない段があることに気がつきました。階段の段数と A, B の値が与えられるので、全く汚れていない段、すなわちどのように移動しても踏むことのない段はいくつあるか数えるプログラムを作成してください。\n",
    "ただし、あなたが現在いる段から頂上までの段数が A および B よりも小さい場合のみ、ちょうど頂上に到達するような段数だけ登ることができます。"
   ]
  },
  {
   "cell_type": "code",
   "execution_count": 4,
   "metadata": {},
   "outputs": [
    {
     "name": "stdout",
     "output_type": "stream",
     "text": [
      "8\n"
     ]
    }
   ],
   "source": [
    "from collections import deque\n",
    "\n",
    "# 入力処理\n",
    "def init():\n",
    "  N = int(input())\n",
    "  A, B = list(map(int, input().split()))\n",
    "  return N, A, B\n",
    "\n",
    "def init_test():\n",
    "  N = 8\n",
    "  A, B = 3, 5\n",
    "  return N, A, B\n",
    "\n",
    "# 移動処理\n",
    "def skip(N, A, B):\n",
    "  l = [False]*(N +max(A, B))\n",
    "  l[0] = True\n",
    "  for i in range(N):\n",
    "    if l[i]:\n",
    "      l[i+A] = True\n",
    "      l[i+B] = True\n",
    "  step = l[:N].count(False)\n",
    "  return step\n",
    "\n",
    "# 主要関数\n",
    "def main():\n",
    "  N, A, B = init()\n",
    "  # N, A, B = init_test()\n",
    "  step = skip(N, A, B)\n",
    "  print(step)\n",
    "\n",
    "if __name__ == '__main__':\n",
    "  main()"
   ]
  },
  {
   "cell_type": "code",
   "execution_count": 1,
   "metadata": {},
   "outputs": [
    {
     "name": "stdout",
     "output_type": "stream",
     "text": [
      "[False, False, False, False, False, False, False, False]\n"
     ]
    }
   ],
   "source": [
    "l = [False]*(5 +max(2, 3))\n",
    "print(l)"
   ]
  },
  {
   "cell_type": "code",
   "execution_count": null,
   "metadata": {},
   "outputs": [],
   "source": []
  }
 ],
 "metadata": {
  "interpreter": {
   "hash": "52ce370d13d9f3e7fec0c208e08f00abccec8be27c64f36722ecec456d801487"
  },
  "kernelspec": {
   "display_name": "Python 3.8.6 64-bit ('.venv_pn': venv)",
   "name": "python3"
  },
  "language_info": {
   "codemirror_mode": {
    "name": "ipython",
    "version": 3
   },
   "file_extension": ".py",
   "mimetype": "text/x-python",
   "name": "python",
   "nbconvert_exporter": "python",
   "pygments_lexer": "ipython3",
   "version": "3.8.6"
  },
  "orig_nbformat": 4
 },
 "nbformat": 4,
 "nbformat_minor": 2
}
