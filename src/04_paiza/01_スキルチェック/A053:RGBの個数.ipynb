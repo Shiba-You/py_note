{
 "cells": [
  {
   "cell_type": "markdown",
   "metadata": {},
   "source": [
    "あなたは塗り絵をしています。 この塗り絵はグリッド状のマス目を塗って楽しむものです。\n",
    "塗り絵を塗る際に赤、緑、青の 3 色しか使いません。\n",
    "あなたはあるマスを塗る時に、上下左右に隣接する同じ色のマスもまとめて 1 回で塗ります。ただし、一度塗ったところを別の色で塗ると色が混ざってしまうので上塗りすることはできません。\n",
    "\n",
    "塗り絵を塗った後になって、それぞれの色で何回ずつ塗ったか気になりました。\n",
    "赤を \"R\", 緑を \"G\", 青を \"B\" で表された、塗り終わった塗り絵が与えられます。\n",
    "赤、緑、青をそれぞれ何回ずつ塗ったかを出力するプログラムを作成してください。\n"
   ]
  },
  {
   "cell_type": "code",
   "execution_count": 30,
   "metadata": {},
   "outputs": [
    {
     "name": "stdout",
     "output_type": "stream",
     "text": [
      "2 3 1\n"
     ]
    }
   ],
   "source": [
    "from collections import deque\n",
    "\n",
    "# 入力処理\n",
    "def init():\n",
    "  H, W = list(map(int, input().split()))\n",
    "  S = [list(input()) for _ in range(H)]\n",
    "  RGB = {\"R\": 0, \"G\": 0, \"B\": 0}\n",
    "  return H, W, S, RGB\n",
    "\n",
    "def init_test():\n",
    "  H, W = 5, 5\n",
    "  S = [['R', 'R', 'R', 'G', 'G'],\\\n",
    "       ['R', 'R', 'R', 'G', 'G'],\\\n",
    "       ['B', 'B', 'B', 'B', 'B'],\\\n",
    "       ['R', 'R', 'G', 'G', 'G'],\\\n",
    "       ['G', 'R', 'G', 'G', 'G']]\n",
    "  RGB = {\"R\": 0, \"G\": 0, \"B\": 0}\n",
    "  return H, W, S, RGB\n",
    "\n",
    "\n",
    "# 隣り合う同色を探索\n",
    "def grid_search(y, x, c, H, W, S, RGB):\n",
    "  q = deque([]) \n",
    "  q.append((y,x,c))\n",
    "  RGB[c] += 1\n",
    "  # 移動可能な範囲を全探索\n",
    "  while q:\n",
    "    y, x, c = q.popleft()\n",
    "    if (0 <= y-1 < H) and (S[y-1][x] == c):\n",
    "      S[y-1][x] = \"*\"\n",
    "      q.append((y-1, x, c))\n",
    "    if (0 <= y+1 < H) and (S[y+1][x] == c):\n",
    "      S[y+1][x] = \"*\"\n",
    "      q.append((y+1, x, c))\n",
    "    if (0 <= x-1 < W) and (S[y][x-1] == c):\n",
    "      S[y][x-1] = \"*\"\n",
    "      q.append((y, x-1, c))\n",
    "    if (0 <= x+1 < W) and (S[y][x+1] == c):\n",
    "      S[y][x+1] = \"*\"\n",
    "      q.append((y, x+1, c))\n",
    "  return S, RGB\n",
    "\n",
    "# 既に調査したものは探索対象から除外する\n",
    "def gruoping(H, W, S, RGB):\n",
    "  for i in range(H):\n",
    "    for j in range(W):\n",
    "      if S[i][j] == \"*\":\n",
    "        continue\n",
    "      else:\n",
    "        S, RGB = grid_search(i, j, S[i][j], H, W, S, RGB)\n",
    "  return RGB\n",
    "\n",
    "# 主要関数\n",
    "def main():\n",
    "  H, W, S, RGB = init()\n",
    "  # H, W, S, RGB = init_test()\n",
    "  RGB = gruoping(H, W, S, RGB)\n",
    "  print(' '.join(map(str, list(RGB.values()))))\n",
    "\n",
    "\n",
    "if __name__ == '__main__':\n",
    "  main()"
   ]
  },
  {
   "cell_type": "code",
   "execution_count": 3,
   "metadata": {},
   "outputs": [
    {
     "name": "stdout",
     "output_type": "stream",
     "text": [
      "B\n"
     ]
    }
   ],
   "source": [
    "S = [['R', 'R', 'R', 'G', 'G'],\\\n",
    "       ['R', 'R', 'R', 'G', 'G'],\\\n",
    "       ['B', 'B', 'B', 'B', 'B'],\\\n",
    "       ['R', 'R', 'G', 'G', 'G'],\\\n",
    "       ['G', 'R', 'G', 'G', 'G']]\n",
    "print(S[2][1])"
   ]
  },
  {
   "cell_type": "code",
   "execution_count": 6,
   "metadata": {},
   "outputs": [
    {
     "name": "stdout",
     "output_type": "stream",
     "text": [
      "{'R': 2, 'G': 0, 'B': 0}\n"
     ]
    }
   ],
   "source": [
    "# RGB = {\"R\": 0, \"G\": 0, \"B\": 0}\n",
    "RGB[\"R\"] += 1\n",
    "print(RGB)"
   ]
  }
 ],
 "metadata": {
  "interpreter": {
   "hash": "52ce370d13d9f3e7fec0c208e08f00abccec8be27c64f36722ecec456d801487"
  },
  "kernelspec": {
   "display_name": "Python 3.8.6 64-bit ('.venv_pn': venv)",
   "name": "python3"
  },
  "language_info": {
   "codemirror_mode": {
    "name": "ipython",
    "version": 3
   },
   "file_extension": ".py",
   "mimetype": "text/x-python",
   "name": "python",
   "nbconvert_exporter": "python",
   "pygments_lexer": "ipython3",
   "version": "3.8.6"
  },
  "orig_nbformat": 4
 },
 "nbformat": 4,
 "nbformat_minor": 2
}
