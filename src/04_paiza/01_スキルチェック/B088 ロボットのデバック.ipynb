{
 "cells": [
  {
   "cell_type": "markdown",
   "source": [
    "あなたはマス目状の迷路を走るロボットを作りました。迷路は通路マスと壁マスから構成されており、ロボットは以下の仕様で動作します。\n",
    "3\n",
    "1. ロボットは進行先のマスが通ったことのない通路マスであれば進行方向に進む\n",
    "2. 1.の条件が満たされないとき、ロボットは進行方向に対して右のマスが通ったことのない通路マスであれば、進行方向に対して右に進む\n",
    "3. 1.と2.の条件が満たされないとき、ロボットは進行方向に対して左のマスが通ったことのない通路マスであれば、進行方向に対して左に進む\n",
    "4. 1.から3.の条件が満たされないとき、ロボットは停止する\n",
    "\n",
    "迷路はマスで区切られており、マスは ( 横の番号, 縦の番号 ) で指定することができるようになっています。その際、( 横の番号, 縦の番号) は 左上のマスを ( 0, 0 ) とし、右のマス、および、下のマスに移動するごとに 1 ずつ大きくなります。\n",
    "\n",
    "はじめに、あなたのロボットは ( 0, 0 ) の位置におり、( 1, 0 )のマスに向かうようにおいてあります。その地点からロボットを始動させた場合、どのマスで止まるでしょうか。ただし、迷路は壁で囲まれているものとします。\n",
    "\n",
    "入力例 1 の場合、座標 ( 0, 0 ) からスタートしたあと、ロボットははじめに、( 2, 0 ) の壁を認識して、( 1, 0 ) で右折します。その後、( 1, 2 )、( 0, 2 )、( 0, 4 )、( 3, 4 ) で道なりに進みます。ここで、( 3, 1 ) で進行方向に対して、左右に道のある分かれ道に差し掛かります。ロボットは右折することしかできないので、右折し、( 4, 1 ) で行き止まりになるので、ここで止まります。\n"
   ],
   "metadata": {}
  },
  {
   "cell_type": "code",
   "execution_count": 1,
   "source": [
    "import sys\n",
    "sys.setrecursionlimit(10**7) #再帰関数の呼び出し制限\n",
    "H, W = map(int,input().split())\n",
    "s = [list(input()) for i in range(H)]\n",
    "\n",
    "def dfs(x, y, p):\n",
    "    if not(0 <= x < H) or not(0 <= y < W) or s[x][y] == \"#\": # 壁に当たったり、探索範囲外になった場合はreturn\n",
    "      if (not(0 <= x+1 < H) or s[x+1][y] == \"#\") and \\\n",
    "      (not(0 <= x-1 < H) or s[x-1][y] == \"#\") and \\\n",
    "      (not(0 <= y+1 < W) or s[x][y+1] == \"#\") and \\\n",
    "      (not(0 <= x-1 < W) or s[x][y-1] == \"#\"):\n",
    "        print(x, y)\n",
    "        sys.exit()\n",
    "      return\n",
    "    s[x][y] = \"#\" #探索済みを示すためのマーキング\n",
    "\n",
    "    if p == \"r\":\n",
    "      dfs(x+1, y, p=\"r\")\n",
    "      dfs(x, y+1, p=\"d\")\n",
    "      dfs(x-1, y, p=\"l\")\n",
    "      dfs(x, y-1, p=\"u\")\n",
    "    elif p == \"d\":\n",
    "      dfs(x, y+1, p=\"d\")\n",
    "      dfs(x-1, y, p=\"l\")\n",
    "      dfs(x, y-1, p=\"u\")\n",
    "      dfs(x+1, y, p=\"r\")\n",
    "    elif p == \"l\":\n",
    "      dfs(x-1, y, p=\"l\")\n",
    "      dfs(x, y-1, p=\"u\")\n",
    "      dfs(x+1, y, p=\"r\")\n",
    "      dfs(x, y+1, p=\"d\")\n",
    "    elif p == \"u\":\n",
    "      dfs(x, y-1, p=\"u\")\n",
    "      dfs(x+1, y, p=\"r\")\n",
    "      dfs(x, y+1, p=\"d\")\n",
    "      dfs(x-1, y, p=\"l\")\n",
    "            \n",
    "dfs(0, 0, p=\"r\")"
   ],
   "outputs": [
    {
     "output_type": "error",
     "ename": "TypeError",
     "evalue": "dfs() missing 1 required positional argument: 'p'",
     "traceback": [
      "\u001b[0;31m---------------------------------------------------------------------------\u001b[0m",
      "\u001b[0;31mTypeError\u001b[0m                                 Traceback (most recent call last)",
      "\u001b[0;32m<ipython-input-1-d646255f4490>\u001b[0m in \u001b[0;36m<module>\u001b[0;34m\u001b[0m\n\u001b[1;32m     34\u001b[0m       \u001b[0mdfs\u001b[0m\u001b[0;34m(\u001b[0m\u001b[0mx\u001b[0m\u001b[0;34m-\u001b[0m\u001b[0;36m1\u001b[0m\u001b[0;34m,\u001b[0m \u001b[0my\u001b[0m\u001b[0;34m,\u001b[0m \u001b[0mp\u001b[0m\u001b[0;34m=\u001b[0m\u001b[0;34m\"l\"\u001b[0m\u001b[0;34m)\u001b[0m\u001b[0;34m\u001b[0m\u001b[0;34m\u001b[0m\u001b[0m\n\u001b[1;32m     35\u001b[0m \u001b[0;34m\u001b[0m\u001b[0m\n\u001b[0;32m---> 36\u001b[0;31m \u001b[0mdfs\u001b[0m\u001b[0;34m(\u001b[0m\u001b[0;36m0\u001b[0m\u001b[0;34m,\u001b[0m \u001b[0;36m0\u001b[0m\u001b[0;34m)\u001b[0m\u001b[0;34m\u001b[0m\u001b[0;34m\u001b[0m\u001b[0m\n\u001b[0m\u001b[1;32m     37\u001b[0m \u001b[0mprint\u001b[0m\u001b[0;34m(\u001b[0m\u001b[0;34m\"No\"\u001b[0m\u001b[0;34m)\u001b[0m\u001b[0;34m\u001b[0m\u001b[0;34m\u001b[0m\u001b[0m\n",
      "\u001b[0;31mTypeError\u001b[0m: dfs() missing 1 required positional argument: 'p'"
     ]
    }
   ],
   "metadata": {}
  },
  {
   "cell_type": "code",
   "execution_count": null,
   "source": [],
   "outputs": [],
   "metadata": {}
  }
 ],
 "metadata": {
  "orig_nbformat": 4,
  "language_info": {
   "name": "python",
   "version": "3.6.10",
   "mimetype": "text/x-python",
   "codemirror_mode": {
    "name": "ipython",
    "version": 3
   },
   "pygments_lexer": "ipython3",
   "nbconvert_exporter": "python",
   "file_extension": ".py"
  },
  "kernelspec": {
   "name": "python3",
   "display_name": "Python 3.6.10 64-bit ('3.6.10': pyenv)"
  },
  "interpreter": {
   "hash": "f3dd5439508917ac8dfdfb3b9d1a34752de309c813e0a39edad908e490b802ed"
  }
 },
 "nbformat": 4,
 "nbformat_minor": 2
}