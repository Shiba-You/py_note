{
 "cells": [
  {
   "cell_type": "code",
   "execution_count": 49,
   "source": [
    "s = input().split()\n",
    "pair = s[0] + s[1]"
   ],
   "outputs": [],
   "metadata": {}
  },
  {
   "cell_type": "code",
   "execution_count": 50,
   "source": [
    "print(pair)"
   ],
   "outputs": [
    {
     "output_type": "stream",
     "name": "stdout",
     "text": [
      "izapa\n"
     ]
    }
   ],
   "metadata": {}
  },
  {
   "cell_type": "code",
   "execution_count": 51,
   "source": [
    "vals = []\n",
    "for val in pair:\n",
    "  ord_val = ord(val)\n",
    "  vals.append(ord_val - ord(\"a\") + 1)\n",
    "print(len(vals))\n",
    "print(range(len(vals)))"
   ],
   "outputs": [
    {
     "output_type": "stream",
     "name": "stdout",
     "text": [
      "5\n",
      "range(0, 5)\n"
     ]
    }
   ],
   "metadata": {}
  },
  {
   "cell_type": "code",
   "execution_count": 52,
   "source": [
    "j = 0\n",
    "while len(vals) > 1:\n",
    "  tmp = []\n",
    "  for i in range(len(vals) - 1):\n",
    "    v = vals[i] + vals[i+1]\n",
    "    if v > 101:\n",
    "      v -= 101\n",
    "    tmp.append(v)\n",
    "  vals = tmp\n",
    "\n",
    "print(vals[0])"
   ],
   "outputs": [
    {
     "output_type": "stream",
     "name": "stdout",
     "text": [
      "83\n"
     ]
    }
   ],
   "metadata": {}
  },
  {
   "cell_type": "code",
   "execution_count": null,
   "source": [],
   "outputs": [],
   "metadata": {}
  }
 ],
 "metadata": {
  "orig_nbformat": 4,
  "language_info": {
   "name": "python"
  }
 },
 "nbformat": 4,
 "nbformat_minor": 2
}