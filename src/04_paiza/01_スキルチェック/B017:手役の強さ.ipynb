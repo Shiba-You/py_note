{
 "cells": [
  {
   "cell_type": "markdown",
   "metadata": {},
   "source": [
    "あなたはあるカードゲームを楽しんでいましたが、 ある時、いい手役ができていることに気づかず、 勝てるはずのゲームで負けていることに気づきました。\n",
    "とても悔しかったあなたは、 手役を判定するプログラムを作成しようと考えています。\n",
    "\n",
    "このゲームでは、 A から Z のアルファベット、あるいは、 「*」 が書かれたカードが４枚配られ、 この４枚を使って手役を作ります。\n",
    "手役には以下のものがあります。\n",
    "\n",
    "・ノーペア (NoPair)\n",
    "・1 ペア (OnePair)\n",
    "・2 ペア (TwoPair)\n",
    "・3 カード (ThreeCard)\n",
    "・4 カード (FourCard)\n",
    "\n",
    "手役の強さは、下の手役の方が強く、上の手役の方が弱くなっています。\n",
    "(\"FourCard\" ＞ \"ThreeCard\" ＞ \"TwoPair\" ＞ \"OnePair\" ＞ \"NoPair\")\n",
    "\n",
    "A から Z の他にも 「*」 が書かれたカードが配られることもあります。\n",
    "このカードはワイルドカードと呼ばれ、 好きなアルファベットとして使うことができます。\n",
    "\n",
    "配られた 4 枚のカードが入力として与えられるので、 その 4 枚でできる最も強い手役の名前を出力して下さい。"
   ]
  },
  {
   "cell_type": "code",
   "execution_count": 34,
   "metadata": {},
   "outputs": [],
   "source": [
    "# テストケース\n",
    "import random\n",
    "def test():\n",
    "  UPPER_CHARA = ['A', 'B', 'C', 'D', 'E', 'F', 'G', 'H', 'I', 'J', 'K', 'L', 'M', 'N', 'O', 'P', 'Q', 'R', 'S', 'T', 'U', 'V', 'W', 'X', 'Y', 'Z', '*']\n",
    "  test = random.choices(UPPER_CHARA, k=4)\n",
    "  str_test = \"\".join(test)\n",
    "  return str_test"
   ]
  },
  {
   "cell_type": "code",
   "execution_count": 47,
   "metadata": {},
   "outputs": [
    {
     "name": "stdout",
     "output_type": "stream",
     "text": [
      "[2, 1, 1, 1]\n",
      "OnePair\n"
     ]
    }
   ],
   "source": [
    "# 入力処理\n",
    "def init():\n",
    "  s = input()\n",
    "  # s = test()\n",
    "  l = [0] * 4\n",
    "  return s, l\n",
    "\n",
    "# 全体のカウントを行う\n",
    "def count_pair(s, l, i):\n",
    "  if s[i] == \"*\":\n",
    "    l = list(map(lambda x: x+1, l))\n",
    "  else:\n",
    "    l[i] += s.count(s[i])\n",
    "  return l\n",
    "\n",
    "# 手役をチェック\n",
    "def check_hand(l):\n",
    "  if 4 in l:\n",
    "    print(\"FourCard\")\n",
    "  elif 3 in l:\n",
    "    print(\"ThreeCard\")\n",
    "  elif 2 in l:\n",
    "    if l.count(2) == 4:\n",
    "      print(\"TwoPair\")\n",
    "    elif l.count(2) >= 2:\n",
    "      print(\"OnePair\")\n",
    "  else:\n",
    "    print(\"NoPair\")\n",
    "\n",
    "# 主要処理\n",
    "def main():\n",
    "  s, l = init()\n",
    "  for i in range(4):\n",
    "    l = count_pair(s, l, i)\n",
    "  check_hand(l)\n",
    "  \n",
    "if __name__ == \"__main__\":\n",
    "  main()"
   ]
  },
  {
   "cell_type": "code",
   "execution_count": 38,
   "metadata": {},
   "outputs": [
    {
     "name": "stdout",
     "output_type": "stream",
     "text": [
      "VQHW  NoPair\n",
      "XPKN  NoPair\n",
      "KDKQ  OnePair\n",
      "KHRM  NoPair\n",
      "SYVY  OnePair\n",
      "JAQ*  LAMS  NoPair\n",
      "GGZK  OnePair\n",
      "XPFQ  NoPair\n",
      "CCXZ  OnePair\n"
     ]
    }
   ],
   "source": [
    "for i in range(10):\n",
    "  main()"
   ]
  },
  {
   "cell_type": "code",
   "execution_count": null,
   "metadata": {},
   "outputs": [],
   "source": []
  }
 ],
 "metadata": {
  "interpreter": {
   "hash": "52ce370d13d9f3e7fec0c208e08f00abccec8be27c64f36722ecec456d801487"
  },
  "kernelspec": {
   "display_name": "Python 3.8.6 64-bit ('.venv_pn': venv)",
   "name": "python3"
  },
  "language_info": {
   "codemirror_mode": {
    "name": "ipython",
    "version": 3
   },
   "file_extension": ".py",
   "mimetype": "text/x-python",
   "name": "python",
   "nbconvert_exporter": "python",
   "pygments_lexer": "ipython3",
   "version": "3.8.6"
  },
  "orig_nbformat": 4
 },
 "nbformat": 4,
 "nbformat_minor": 2
}
