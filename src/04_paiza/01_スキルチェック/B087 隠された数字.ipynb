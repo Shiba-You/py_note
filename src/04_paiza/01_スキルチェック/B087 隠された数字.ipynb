{
 "cells": [
  {
   "cell_type": "markdown",
   "source": [
    "あなたは、格子状に区切られたマス目を見つけました。\n",
    "各マスには 1 から 9 の数字がちょうど 1 つだけ書かれているようです。\n",
    "\n",
    "あなたは、このマス目からある 1 つの数を探すゲームを思いつきました。\n",
    "探す数は以下の条件を満たす最大の数です。その条件は以下の 2 つとなります。\n",
    "\n",
    "・ちょうど k 桁である。 k はゲーム開始時に与えられる。\n",
    "・マス目の中で、上から下に連続する数字を並べたもの、または左から右へ連続する数字を並べたものである。\n",
    "\n",
    "あなたは、コンピュータの力を借りて、このゲームに挑戦することにしました。\n",
    "マス目の情報と桁数 k が与えられたとき、条件に当てはまる数を見つけ出すプログラムを書いてください。\n",
    "以下は、入力例 1 を説明する図です。"
   ],
   "metadata": {}
  },
  {
   "cell_type": "markdown",
   "source": [
    "### 要するに\n",
    "$ n \\times m $ のグリッド上の横一列 or 縦一列にk個連続する数字で一番大きいものは？"
   ],
   "metadata": {}
  },
  {
   "cell_type": "code",
   "execution_count": 49,
   "source": [
    "h, w, k = list(map(int, input().split()))\n",
    "table = [list(input()) for i in range(h)] "
   ],
   "outputs": [],
   "metadata": {}
  },
  {
   "cell_type": "code",
   "execution_count": 50,
   "source": [
    "print(table)"
   ],
   "outputs": [
    {
     "output_type": "stream",
     "name": "stdout",
     "text": [
      "[['1', '5', '6'], ['8', '2', '7'], ['3', '4', '9']]\n"
     ]
    }
   ],
   "metadata": {}
  },
  {
   "cell_type": "code",
   "execution_count": 53,
   "source": [
    "ans = []\n",
    "for t in reversed(range(10)):\n",
    "  for j, val in enumerate(table):\n",
    "    for i, x in enumerate(val):\n",
    "      if x == str(t):\n",
    "        if w >= j + k:\n",
    "          p = \"\"\n",
    "          for m in range(k):\n",
    "            p = p + table[j+m][i]\n",
    "          ans.append(p)\n",
    "        if h >= i + k:\n",
    "          p = \"\"\n",
    "          for m in range(k):\n",
    "            p = p + table[j][i+m]\n",
    "          ans.append(p)\n",
    "  if ans != []:\n",
    "    break\n",
    "print(max(ans))\n",
    "        "
   ],
   "outputs": [
    {
     "output_type": "stream",
     "name": "stdout",
     "text": [
      "83\n"
     ]
    }
   ],
   "metadata": {}
  },
  {
   "cell_type": "code",
   "execution_count": null,
   "source": [],
   "outputs": [],
   "metadata": {}
  }
 ],
 "metadata": {
  "orig_nbformat": 4,
  "language_info": {
   "name": "python",
   "version": "3.6.10",
   "mimetype": "text/x-python",
   "codemirror_mode": {
    "name": "ipython",
    "version": 3
   },
   "pygments_lexer": "ipython3",
   "nbconvert_exporter": "python",
   "file_extension": ".py"
  },
  "kernelspec": {
   "name": "python3",
   "display_name": "Python 3.6.10 64-bit ('3.6.10': pyenv)"
  },
  "interpreter": {
   "hash": "f3dd5439508917ac8dfdfb3b9d1a34752de309c813e0a39edad908e490b802ed"
  }
 },
 "nbformat": 4,
 "nbformat_minor": 2
}