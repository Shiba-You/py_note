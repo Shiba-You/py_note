{
 "cells": [
  {
   "cell_type": "markdown",
   "metadata": {},
   "source": [
    "今日は PAIZA 市で選挙がおこなわれます。 PAIZA 市には N 個の政党があり、今回は、各政党が議席を獲得するための選挙です。\n",
    "\n",
    "あなたは、得票数に応じて各政党がいくつずつ議席を獲得したかを出力するプログラムを作成する仕事を任されました。\n",
    "\n",
    "PAIZA 市の選挙では以下のようなルールを導入しています。\n",
    "\n",
    "・各政党の得票数を 1, 2, 3,... と整数で割り、その答えの大きい順番に定数 K まで議席を配分します。ただし割り算の際、小数点以下は切り捨てます。\n",
    "・第 K 位が複数あった場合、これまでに獲得した議席数が多い政党に議席が配分されます。\n",
    "\n",
    "以上のルールに従って、各政党が獲得した議席数を出力するプログラムを作成してください。\n",
    "ただし 2 つ目のルールにおいて、\"これまでに獲得した議席数\" も等しくなるような入力はなく、考える必要はありません。\n",
    "\n",
    "入力例 1 は以下のようになります。"
   ]
  },
  {
   "cell_type": "code",
   "execution_count": 22,
   "metadata": {},
   "outputs": [
    {
     "ename": "ValueError",
     "evalue": "not enough values to unpack (expected 2, got 0)",
     "output_type": "error",
     "traceback": [
      "\u001b[0;31m---------------------------------------------------------------------------\u001b[0m",
      "\u001b[0;31mValueError\u001b[0m                                Traceback (most recent call last)",
      "\u001b[0;32m/var/folders/l7/dnzbj6q943sgblf4l8v6kmfc0000gn/T/ipykernel_3913/3179966233.py\u001b[0m in \u001b[0;36m<module>\u001b[0;34m\u001b[0m\n\u001b[1;32m     40\u001b[0m \u001b[0;34m\u001b[0m\u001b[0m\n\u001b[1;32m     41\u001b[0m \u001b[0;32mif\u001b[0m \u001b[0m__name__\u001b[0m \u001b[0;34m==\u001b[0m \u001b[0;34m'__main__'\u001b[0m\u001b[0;34m:\u001b[0m\u001b[0;34m\u001b[0m\u001b[0;34m\u001b[0m\u001b[0m\n\u001b[0;32m---> 42\u001b[0;31m   \u001b[0mmain\u001b[0m\u001b[0;34m(\u001b[0m\u001b[0;34m)\u001b[0m\u001b[0;34m\u001b[0m\u001b[0;34m\u001b[0m\u001b[0m\n\u001b[0m",
      "\u001b[0;32m/var/folders/l7/dnzbj6q943sgblf4l8v6kmfc0000gn/T/ipykernel_3913/3179966233.py\u001b[0m in \u001b[0;36mmain\u001b[0;34m()\u001b[0m\n\u001b[1;32m     22\u001b[0m \u001b[0;31m# 主要関数\u001b[0m\u001b[0;34m\u001b[0m\u001b[0;34m\u001b[0m\u001b[0;34m\u001b[0m\u001b[0m\n\u001b[1;32m     23\u001b[0m \u001b[0;32mdef\u001b[0m \u001b[0mmain\u001b[0m\u001b[0;34m(\u001b[0m\u001b[0;34m)\u001b[0m\u001b[0;34m:\u001b[0m\u001b[0;34m\u001b[0m\u001b[0;34m\u001b[0m\u001b[0m\n\u001b[0;32m---> 24\u001b[0;31m   \u001b[0mN\u001b[0m\u001b[0;34m,\u001b[0m \u001b[0mK\u001b[0m\u001b[0;34m,\u001b[0m \u001b[0mx\u001b[0m\u001b[0;34m,\u001b[0m \u001b[0mn\u001b[0m \u001b[0;34m=\u001b[0m \u001b[0minit\u001b[0m\u001b[0;34m(\u001b[0m\u001b[0;34m)\u001b[0m\u001b[0;34m\u001b[0m\u001b[0;34m\u001b[0m\u001b[0m\n\u001b[0m\u001b[1;32m     25\u001b[0m   \u001b[0;31m# N, K, x, n = init_test()\u001b[0m\u001b[0;34m\u001b[0m\u001b[0;34m\u001b[0m\u001b[0;34m\u001b[0m\u001b[0m\n\u001b[1;32m     26\u001b[0m   \u001b[0;32mfor\u001b[0m \u001b[0mi\u001b[0m \u001b[0;32min\u001b[0m \u001b[0mrange\u001b[0m\u001b[0;34m(\u001b[0m\u001b[0mK\u001b[0m\u001b[0;34m)\u001b[0m\u001b[0;34m:\u001b[0m\u001b[0;34m\u001b[0m\u001b[0;34m\u001b[0m\u001b[0m\n",
      "\u001b[0;32m/var/folders/l7/dnzbj6q943sgblf4l8v6kmfc0000gn/T/ipykernel_3913/3179966233.py\u001b[0m in \u001b[0;36minit\u001b[0;34m()\u001b[0m\n\u001b[1;32m      1\u001b[0m \u001b[0;31m# 入力処理\u001b[0m\u001b[0;34m\u001b[0m\u001b[0;34m\u001b[0m\u001b[0;34m\u001b[0m\u001b[0m\n\u001b[1;32m      2\u001b[0m \u001b[0;32mdef\u001b[0m \u001b[0minit\u001b[0m\u001b[0;34m(\u001b[0m\u001b[0;34m)\u001b[0m\u001b[0;34m:\u001b[0m\u001b[0;34m\u001b[0m\u001b[0;34m\u001b[0m\u001b[0m\n\u001b[0;32m----> 3\u001b[0;31m   \u001b[0mN\u001b[0m\u001b[0;34m,\u001b[0m \u001b[0mK\u001b[0m \u001b[0;34m=\u001b[0m \u001b[0mlist\u001b[0m\u001b[0;34m(\u001b[0m\u001b[0mmap\u001b[0m\u001b[0;34m(\u001b[0m\u001b[0mint\u001b[0m\u001b[0;34m,\u001b[0m \u001b[0minput\u001b[0m\u001b[0;34m(\u001b[0m\u001b[0;34m)\u001b[0m\u001b[0;34m.\u001b[0m\u001b[0msplit\u001b[0m\u001b[0;34m(\u001b[0m\u001b[0;34m)\u001b[0m\u001b[0;34m)\u001b[0m\u001b[0;34m)\u001b[0m\u001b[0;34m\u001b[0m\u001b[0;34m\u001b[0m\u001b[0m\n\u001b[0m\u001b[1;32m      4\u001b[0m   \u001b[0mx\u001b[0m \u001b[0;34m=\u001b[0m \u001b[0;34m[\u001b[0m\u001b[0mint\u001b[0m\u001b[0;34m(\u001b[0m\u001b[0minput\u001b[0m\u001b[0;34m(\u001b[0m\u001b[0;34m)\u001b[0m\u001b[0;34m)\u001b[0m \u001b[0;32mfor\u001b[0m \u001b[0m_\u001b[0m \u001b[0;32min\u001b[0m \u001b[0mrange\u001b[0m\u001b[0;34m(\u001b[0m\u001b[0mN\u001b[0m\u001b[0;34m)\u001b[0m\u001b[0;34m]\u001b[0m\u001b[0;34m\u001b[0m\u001b[0;34m\u001b[0m\u001b[0m\n\u001b[1;32m      5\u001b[0m   \u001b[0mn\u001b[0m \u001b[0;34m=\u001b[0m \u001b[0;34m[\u001b[0m\u001b[0;36m0\u001b[0m\u001b[0;34m]\u001b[0m\u001b[0;34m*\u001b[0m\u001b[0mN\u001b[0m\u001b[0;34m\u001b[0m\u001b[0;34m\u001b[0m\u001b[0m\n",
      "\u001b[0;31mValueError\u001b[0m: not enough values to unpack (expected 2, got 0)"
     ]
    }
   ],
   "source": [
    "# 入力処理\n",
    "def init():\n",
    "  N, K = list(map(int, input().split()))\n",
    "  x = [int(input()) for _ in range(N)]\n",
    "  n = [0]*N\n",
    "  return N, K, x, n\n",
    "\n",
    "def init_test():\n",
    "  N, K = 4, 5\n",
    "  x = [2100, 1200, 600, 300]\n",
    "  n = [0]*N\n",
    "  return N, K, x, n\n",
    "\n",
    "# 重複を許す最大値のインデックス取得\n",
    "'''\n",
    "l : list : 配列\n",
    "x : int  : 知りたい値（今回は最大値を引数とする）\n",
    "'''\n",
    "def index_max(l, x):\n",
    "  return [i for i, _x in enumerate(l) if _x == x]\n",
    "\n",
    "# 主要関数\n",
    "def main():\n",
    "  N, K, x, n = init()\n",
    "  # N, K, x, n = init_test()\n",
    "  for i in range(K):\n",
    "    ml = index_max(x, max(x))\n",
    "    k = -1\n",
    "    # print(ml, x)\n",
    "    for j in ml:\n",
    "      # print(k, i, n[i])\n",
    "      if k < n[j]:\n",
    "        k = j\n",
    "    x[k] = x[k]*(n[k]+1)/(n[k]+2)\n",
    "    n[k] += 1\n",
    "    # print(n)\n",
    "  for k in n:\n",
    "    print(k)\n",
    "\n",
    "\n",
    "if __name__ == '__main__':\n",
    "  main()"
   ]
  },
  {
   "cell_type": "code",
   "execution_count": 1,
   "metadata": {},
   "outputs": [
    {
     "name": "stdout",
     "output_type": "stream",
     "text": [
      "[1, 2, 3]\n"
     ]
    }
   ],
   "source": [
    "# 入力処理\n",
    "def init():\n",
    "  N, K = list(map(int, input().split()))\n",
    "  x = [int(input()) for _ in range(N)]\n",
    "  n = [0]*N\n",
    "  return N, K, x, n\n",
    "\n",
    "# 重複を許す最大値のインデックス取得\n",
    "def index_max(l, x):\n",
    "  return [i for i, _x in enumerate(l) if _x == x]\n",
    "\n",
    "# 主要関数\n",
    "def main():\n",
    "  N, K, x, n = init()\n",
    "  for i in range(K):\n",
    "    ml = index_max(x, max(x))\n",
    "    k = -1\n",
    "    for j in ml:\n",
    "      if k < n[j]:\n",
    "        k = j\n",
    "    x[k] = x[k]*(n[k]+1)/(n[k]+2)\n",
    "    n[k] += 1\n",
    "  for k in n:\n",
    "    print(k)\n",
    "\n",
    "\n",
    "if __name__ == '__main__':\n",
    "  main()"
   ]
  },
  {
   "cell_type": "code",
   "execution_count": null,
   "metadata": {},
   "outputs": [],
   "source": []
  }
 ],
 "metadata": {
  "interpreter": {
   "hash": "52ce370d13d9f3e7fec0c208e08f00abccec8be27c64f36722ecec456d801487"
  },
  "kernelspec": {
   "display_name": "Python 3.8.6 64-bit ('.venv_pn': venv)",
   "name": "python3"
  },
  "language_info": {
   "codemirror_mode": {
    "name": "ipython",
    "version": 3
   },
   "file_extension": ".py",
   "mimetype": "text/x-python",
   "name": "python",
   "nbconvert_exporter": "python",
   "pygments_lexer": "ipython3",
   "version": "3.8.6"
  },
  "orig_nbformat": 4
 },
 "nbformat": 4,
 "nbformat_minor": 2
}
