{
 "cells": [
  {
   "cell_type": "code",
   "execution_count": 15,
   "source": [
    "a, b, c = list(map(int, input().split()))\n",
    "N = int(input()) \n",
    "tt = [list(map(int, input().split())) for i in range(N)] "
   ],
   "outputs": [],
   "metadata": {}
  },
  {
   "cell_type": "code",
   "execution_count": 20,
   "source": [
    "a, b, c = 25, 30, 30\n",
    "N = 2\n",
    "tt = [[7, 20], [8, 0]]\n",
    "\n",
    "print(a, b, c)\n",
    "print(N)\n",
    "print(tt)"
   ],
   "outputs": [
    {
     "output_type": "stream",
     "name": "stdout",
     "text": [
      "25 30 30\n",
      "2\n",
      "[[7, 20], [8, 0]]\n"
     ]
    }
   ],
   "metadata": {}
  },
  {
   "cell_type": "code",
   "execution_count": 21,
   "source": [
    "for k in reversed(tt):\n",
    "  tmp = [k[0], k[1]]\n",
    "  tmp[1] = k[1] + b + c\n",
    "  print(tmp)\n",
    "  if tmp[1] >= 60:\n",
    "    tmp[0] += 1\n",
    "    tmp[1] -= 60\n",
    "    print(\"if tmp[1] > 60: \", tmp)\n",
    "  if tmp[0] < 9:\n",
    "    k[1] -= a\n",
    "    if k[1] < 0:\n",
    "      k[0] -= 1\n",
    "      k[1] += 60\n",
    "    print(\"{}:{}\".format(str(k[0]).zfill(2), str(k[1]).zfill(2)))\n",
    "    break"
   ],
   "outputs": [
    {
     "output_type": "stream",
     "name": "stdout",
     "text": [
      "[8, 60]\n",
      "if tmp[1] > 60:  [9, 0]\n",
      "[7, 80]\n",
      "if tmp[1] > 60:  [8, 20]\n",
      "06:55\n"
     ]
    }
   ],
   "metadata": {}
  },
  {
   "cell_type": "code",
   "execution_count": null,
   "source": [],
   "outputs": [],
   "metadata": {}
  }
 ],
 "metadata": {
  "orig_nbformat": 4,
  "language_info": {
   "name": "python",
   "version": "3.6.10",
   "mimetype": "text/x-python",
   "codemirror_mode": {
    "name": "ipython",
    "version": 3
   },
   "pygments_lexer": "ipython3",
   "nbconvert_exporter": "python",
   "file_extension": ".py"
  },
  "kernelspec": {
   "name": "python3",
   "display_name": "Python 3.6.10 64-bit ('3.6.10': pyenv)"
  },
  "interpreter": {
   "hash": "f3dd5439508917ac8dfdfb3b9d1a34752de309c813e0a39edad908e490b802ed"
  }
 },
 "nbformat": 4,
 "nbformat_minor": 2
}