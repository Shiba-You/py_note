{
 "cells": [
  {
   "cell_type": "markdown",
   "metadata": {},
   "source": [
    "### 母音を取り出す"
   ]
  },
  {
   "cell_type": "code",
   "execution_count": null,
   "metadata": {},
   "outputs": [],
   "source": [
    "def anti_vowel(text):\n",
    "  new_text = \"\"\n",
    "  vowels = \"aeiouAEIOU\"\n",
    "  for i in text:\n",
    "    if i not in vowels:\n",
    "      new_text += i\n",
    "  return new_text"
   ]
  },
  {
   "cell_type": "markdown",
   "metadata": {},
   "source": []
  },
  {
   "cell_type": "markdown",
   "metadata": {},
   "source": [
    "### 配列を一行ずつ文字列として表示"
   ]
  },
  {
   "cell_type": "code",
   "execution_count": 1,
   "metadata": {},
   "outputs": [
    {
     "name": "stdout",
     "output_type": "stream",
     "text": [
      "# . .\n",
      ". # .\n",
      ". . #\n"
     ]
    }
   ],
   "source": [
    "H = 3\n",
    "a = [[\"#\", \".\", \".\"],[\".\", \"#\", \".\"],[\".\", \".\", \"#\"]]\n",
    "for i in range(H):\n",
    "  print(' '.join(map(str, a[i])))"
   ]
  },
  {
   "cell_type": "code",
   "execution_count": 1,
   "metadata": {},
   "outputs": [
    {
     "name": "stdout",
     "output_type": "stream",
     "text": [
      "['#', '.', '.']\n",
      "['.', '#', '.']\n",
      "['.', '.', '#']\n"
     ]
    }
   ],
   "source": [
    "a = [[\"#\", \".\", \".\"],[\".\", \"#\", \".\"],[\".\", \".\", \"#\"]]\n",
    "print(*a, sep='\\n')"
   ]
  },
  {
   "cell_type": "markdown",
   "metadata": {},
   "source": [
    "### 要素の追加が繰り返される配列で，最小値・最大値を取り出したい時"
   ]
  },
  {
   "cell_type": "code",
   "execution_count": 3,
   "metadata": {},
   "outputs": [
    {
     "name": "stdout",
     "output_type": "stream",
     "text": [
      "[-12, 10, 5, 30, 25]\n",
      "-12\n"
     ]
    }
   ],
   "source": [
    "import heapq\n",
    "\n",
    "a = [10, 30, 5, -12, 25]\n",
    "\n",
    "'''\n",
    "子ノードが必ず親ノードより大きくなるという制約がかかった2分木となるので，必ず先頭は最小になる\n",
    "heapq     : O(N)\n",
    "普通のsort : O(1)\n",
    "'''\n",
    "heapq.heapify(a)\n",
    "\n",
    "print(a)\n",
    "print(a[0])"
   ]
  },
  {
   "cell_type": "markdown",
   "metadata": {},
   "source": [
    "## nCr"
   ]
  },
  {
   "cell_type": "code",
   "execution_count": null,
   "metadata": {},
   "outputs": [],
   "source": [
    "def nCr(n,r):\n",
    "  res = 1\n",
    "  # nCr の分子計算\n",
    "  for x in range(n,n-r,-1):\n",
    "    res *= x\n",
    "  # nCr の分母計算\n",
    "  for x in range(2,r+1):\n",
    "    res //= x\n",
    "  return res  "
   ]
  }
 ],
 "metadata": {
  "interpreter": {
   "hash": "b8d03bcec018b7435948b94e52deb3af8023643e69f263ff8688b007108bcdb9"
  },
  "kernelspec": {
   "display_name": "Python 3.8.6 64-bit ('.venv_pn': venv)",
   "name": "python3"
  },
  "language_info": {
   "codemirror_mode": {
    "name": "ipython",
    "version": 3
   },
   "file_extension": ".py",
   "mimetype": "text/x-python",
   "name": "python",
   "nbconvert_exporter": "python",
   "pygments_lexer": "ipython3",
   "version": "3.8.6"
  },
  "orig_nbformat": 4
 },
 "nbformat": 4,
 "nbformat_minor": 2
}
