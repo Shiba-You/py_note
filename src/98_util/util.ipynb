{
 "cells": [
  {
   "cell_type": "markdown",
   "metadata": {},
   "source": [
    "### 母音を取り出す"
   ]
  },
  {
   "cell_type": "code",
   "execution_count": null,
   "metadata": {},
   "outputs": [],
   "source": [
    "def anti_vowel(text):\n",
    "  new_text = \"\"\n",
    "  vowels = \"aeiouAEIOU\"\n",
    "  for i in text:\n",
    "    if i not in vowels:\n",
    "      new_text += i\n",
    "  return new_text"
   ]
  },
  {
   "cell_type": "markdown",
   "metadata": {},
   "source": []
  },
  {
   "cell_type": "markdown",
   "metadata": {},
   "source": [
    "### 配列を一行ずつ文字列として表示"
   ]
  },
  {
   "cell_type": "code",
   "execution_count": 1,
   "metadata": {},
   "outputs": [
    {
     "name": "stdout",
     "output_type": "stream",
     "text": [
      "# . .\n",
      ". # .\n",
      ". . #\n"
     ]
    }
   ],
   "source": [
    "H = 3\n",
    "a = [[\"#\", \".\", \".\"],[\".\", \"#\", \".\"],[\".\", \".\", \"#\"]]\n",
    "for i in range(H):\n",
    "  print(' '.join(map(str, a[i])))"
   ]
  },
  {
   "cell_type": "code",
   "execution_count": 1,
   "metadata": {},
   "outputs": [
    {
     "name": "stdout",
     "output_type": "stream",
     "text": [
      "['#', '.', '.']\n",
      "['.', '#', '.']\n",
      "['.', '.', '#']\n"
     ]
    }
   ],
   "source": [
    "a = [[\"#\", \".\", \".\"],[\".\", \"#\", \".\"],[\".\", \".\", \"#\"]]\n",
    "print(*a, sep='\\n')"
   ]
  },
  {
   "cell_type": "code",
   "execution_count": null,
   "metadata": {},
   "outputs": [],
   "source": []
  }
 ],
 "metadata": {
  "interpreter": {
   "hash": "b8d03bcec018b7435948b94e52deb3af8023643e69f263ff8688b007108bcdb9"
  },
  "kernelspec": {
   "display_name": "Python 3.8.6 64-bit ('.venv_pn': venv)",
   "name": "python3"
  },
  "language_info": {
   "codemirror_mode": {
    "name": "ipython",
    "version": 3
   },
   "file_extension": ".py",
   "mimetype": "text/x-python",
   "name": "python",
   "nbconvert_exporter": "python",
   "pygments_lexer": "ipython3",
   "version": "3.8.6"
  },
  "orig_nbformat": 4
 },
 "nbformat": 4,
 "nbformat_minor": 2
}
