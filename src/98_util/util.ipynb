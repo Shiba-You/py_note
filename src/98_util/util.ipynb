{
 "cells": [
  {
   "cell_type": "markdown",
   "metadata": {},
   "source": [
    "### 母音を取り出す"
   ]
  },
  {
   "cell_type": "code",
   "execution_count": null,
   "metadata": {},
   "outputs": [],
   "source": [
    "def anti_vowel(text):\n",
    "  new_text = \"\"\n",
    "  vowels = \"aeiouAEIOU\"\n",
    "  for i in text:\n",
    "    if i not in vowels:\n",
    "      new_text += i\n",
    "  return new_text"
   ]
  },
  {
   "cell_type": "markdown",
   "metadata": {},
   "source": []
  },
  {
   "cell_type": "markdown",
   "metadata": {},
   "source": [
    "### 配列を一行ずつ文字列として表示"
   ]
  },
  {
   "cell_type": "code",
   "execution_count": 1,
   "metadata": {},
   "outputs": [
    {
     "name": "stdout",
     "output_type": "stream",
     "text": [
      "# . .\n",
      ". # .\n",
      ". . #\n"
     ]
    }
   ],
   "source": [
    "H = 3\n",
    "a = [[\"#\", \".\", \".\"],[\".\", \"#\", \".\"],[\".\", \".\", \"#\"]]\n",
    "for i in range(H):\n",
    "  print(' '.join(map(str, a[i])))"
   ]
  },
  {
   "cell_type": "code",
   "execution_count": 1,
   "metadata": {},
   "outputs": [
    {
     "name": "stdout",
     "output_type": "stream",
     "text": [
      "['#', '.', '.']\n",
      "['.', '#', '.']\n",
      "['.', '.', '#']\n"
     ]
    }
   ],
   "source": [
    "a = [[\"#\", \".\", \".\"],[\".\", \"#\", \".\"],[\".\", \".\", \"#\"]]\n",
    "print(*a, sep='\\n')"
   ]
  },
  {
   "cell_type": "markdown",
   "metadata": {},
   "source": [
    "### 要素の追加が繰り返される配列で，最小値・最大値を取り出したい時"
   ]
  },
  {
   "cell_type": "code",
   "execution_count": 3,
   "metadata": {},
   "outputs": [
    {
     "name": "stdout",
     "output_type": "stream",
     "text": [
      "[-12, 10, 5, 30, 25]\n",
      "-12\n"
     ]
    }
   ],
   "source": [
    "import heapq\n",
    "\n",
    "a = [10, 30, 5, -12, 25]\n",
    "\n",
    "'''\n",
    "子ノードが必ず親ノードより大きくなるという制約がかかった2分木となるので，必ず先頭は最小になる\n",
    "heapq     : O(N)\n",
    "普通のsort : O(1)\n",
    "'''\n",
    "heapq.heapify(a)\n",
    "\n",
    "print(a)\n",
    "print(a[0])"
   ]
  },
  {
   "cell_type": "markdown",
   "metadata": {},
   "source": [
    "## nCr"
   ]
  },
  {
   "cell_type": "code",
   "execution_count": null,
   "metadata": {},
   "outputs": [],
   "source": [
    "#! n個の中からr個選ぶ \n",
    "def nCr(n: int,r: int) -> int:\n",
    "  res = 1\n",
    "  # nCr の分子計算\n",
    "  for x in range(n,n-r,-1):\n",
    "    res *= x\n",
    "  # nCr の分母計算\n",
    "  for x in range(2,r+1):\n",
    "    res //= x\n",
    "  return res  # res は通り数"
   ]
  },
  {
   "cell_type": "markdown",
   "metadata": {},
   "source": [
    "# 素因数分解"
   ]
  },
  {
   "cell_type": "code",
   "execution_count": 2,
   "metadata": {},
   "outputs": [
    {
     "name": "stdout",
     "output_type": "stream",
     "text": [
      "[2] 50\n",
      "[2] 25\n",
      "[5] 5\n",
      "Counter({2: 2, 5: 2})\n"
     ]
    }
   ],
   "source": [
    "#! nを素因数分解した時の配列が返る\n",
    "def factorize(n: int) -> Array[int]:\n",
    "  for i in range(2,int(n**0.5)+1):\n",
    "    if n%i==0:\n",
    "      return [i]+factorize(n//i)  \n",
    "  return [n]\n",
    "\n",
    "from collections import Counter\n",
    "n = factorize(100)\n",
    "cnt = Counter(n)\n",
    "print(cnt) #> Counter({2: 2, 5: 2}) {要素：配列に何個入っているか}"
   ]
  },
  {
   "cell_type": "code",
   "execution_count": null,
   "metadata": {},
   "outputs": [],
   "source": []
  }
 ],
 "metadata": {
  "interpreter": {
   "hash": "b8d03bcec018b7435948b94e52deb3af8023643e69f263ff8688b007108bcdb9"
  },
  "kernelspec": {
   "display_name": "Python 3.8.6 64-bit ('.venv_pn': venv)",
   "name": "python3"
  },
  "language_info": {
   "codemirror_mode": {
    "name": "ipython",
    "version": 3
   },
   "file_extension": ".py",
   "mimetype": "text/x-python",
   "name": "python",
   "nbconvert_exporter": "python",
   "pygments_lexer": "ipython3",
   "version": "3.8.6"
  },
  "orig_nbformat": 4
 },
 "nbformat": 4,
 "nbformat_minor": 2
}
