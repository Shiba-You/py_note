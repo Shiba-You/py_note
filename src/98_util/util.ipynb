{
 "cells": [
  {
   "cell_type": "markdown",
   "source": [
    "### 母音を取り出す"
   ],
   "metadata": {}
  },
  {
   "cell_type": "code",
   "execution_count": null,
   "source": [
    "def anti_vowel(text):\n",
    "  new_text = \"\"\n",
    "  vowels = \"aeiouAEIOU\"\n",
    "  for i in text:\n",
    "    if i not in vowels:\n",
    "      new_text += i\n",
    "  return new_text"
   ],
   "outputs": [],
   "metadata": {}
  },
  {
   "cell_type": "markdown",
   "source": [],
   "metadata": {}
  },
  {
   "cell_type": "markdown",
   "source": [
    "### 配列を一行ずつ文字列として表示"
   ],
   "metadata": {}
  },
  {
   "cell_type": "code",
   "execution_count": 1,
   "source": [
    "H = 3\n",
    "a = [[\"#\", \".\", \".\"],[\".\", \"#\", \".\"],[\".\", \".\", \"#\"]]\n",
    "for i in range(H):\n",
    "  print(' '.join(map(str, a[i])))"
   ],
   "outputs": [
    {
     "output_type": "stream",
     "name": "stdout",
     "text": [
      "# . .\n",
      ". # .\n",
      ". . #\n"
     ]
    }
   ],
   "metadata": {}
  },
  {
   "cell_type": "code",
   "execution_count": null,
   "source": [],
   "outputs": [],
   "metadata": {}
  }
 ],
 "metadata": {
  "orig_nbformat": 4,
  "language_info": {
   "name": "python",
   "version": "3.8.6",
   "mimetype": "text/x-python",
   "codemirror_mode": {
    "name": "ipython",
    "version": 3
   },
   "pygments_lexer": "ipython3",
   "nbconvert_exporter": "python",
   "file_extension": ".py"
  },
  "kernelspec": {
   "name": "python3",
   "display_name": "Python 3.8.6 64-bit ('.venv_pn': venv)"
  },
  "interpreter": {
   "hash": "b8d03bcec018b7435948b94e52deb3af8023643e69f263ff8688b007108bcdb9"
  }
 },
 "nbformat": 4,
 "nbformat_minor": 2
}